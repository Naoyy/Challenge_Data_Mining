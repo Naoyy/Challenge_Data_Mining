{
 "cells": [
  {
   "cell_type": "markdown",
   "metadata": {},
   "source": [
    "# Import + Chargement des données"
   ]
  },
  {
   "cell_type": "code",
   "execution_count": 1,
   "metadata": {},
   "outputs": [],
   "source": [
    "import numpy as np\n",
    "import pandas as pd\n",
    "import seaborn as sns\n",
    "from src.preprocessing import display_missing_values\n",
    "import matplotlib.pyplot as plt\n",
    "pd.set_option('display.max_columns', None)\n",
    "pd.set_option('display.float_format', '{:.2f}'.format)\n",
    "sns.set_theme(style=\"ticks\", palette=\"pastel\")"
   ]
  },
  {
   "cell_type": "code",
   "execution_count": 2,
   "metadata": {},
   "outputs": [],
   "source": [
    "from sklearn.impute import SimpleImputer\n",
    "mean_imputer=SimpleImputer(missing_values=np.nan, strategy=\"mean\")\n",
    "median_imputer=SimpleImputer(missing_values=np.nan, strategy=\"median\",)"
   ]
  },
  {
   "cell_type": "code",
   "execution_count": null,
   "metadata": {},
   "outputs": [],
   "source": []
  },
  {
   "cell_type": "code",
   "execution_count": 3,
   "metadata": {},
   "outputs": [],
   "source": [
    "df= pd.read_csv( \"data/train.csv\", sep=\",\",low_memory=False)"
   ]
  },
  {
   "cell_type": "markdown",
   "metadata": {},
   "source": [
    "# General Analysis\n",
    "## Observations + columns"
   ]
  },
  {
   "cell_type": "code",
   "execution_count": 4,
   "metadata": {},
   "outputs": [
    {
     "name": "stdout",
     "output_type": "stream",
     "text": [
      "on compte 7571649 observations et 37 colonnes\n",
      "\n",
      "les colonnes sont:\n",
      "\n",
      " Index(['ID', 'Country', 'VFN', 'Mp', 'Mh', 'Man', 'MMS', 'Tan', 'T', 'Va',\n",
      "       'Ve', 'Mk', 'Cn', 'Ct', 'Cr', 'r', 'm (kg)', 'Mt', 'Enedc (g/km)',\n",
      "       'Ewltp (g/km)', 'W (mm)', 'At1 (mm)', 'At2 (mm)', 'Ft', 'Fm',\n",
      "       'ec (cm3)', 'ep (KW)', 'z (Wh/km)', 'IT', 'Ernedc (g/km)',\n",
      "       'Erwltp (g/km)', 'De', 'Vf', 'Status', 'Date of registration',\n",
      "       'Fuel consumption ', 'Electric range (km)'],\n",
      "      dtype='object')\n"
     ]
    }
   ],
   "source": [
    "print(f\"on compte {df.shape[0]} observations et {df.shape[1]} colonnes\\n\")\n",
    "print(f\"les colonnes sont:\\n\\n {df.columns}\")"
   ]
  },
  {
   "cell_type": "code",
   "execution_count": 5,
   "metadata": {},
   "outputs": [],
   "source": [
    "target ='Ewltp (g/km)'"
   ]
  },
  {
   "cell_type": "code",
   "execution_count": null,
   "metadata": {},
   "outputs": [],
   "source": [
    "df.head()"
   ]
  },
  {
   "cell_type": "code",
   "execution_count": null,
   "metadata": {},
   "outputs": [],
   "source": [
    "col_categoricals = df.select_dtypes(include=\"object\").columns.tolist()\n",
    "\n",
    "# Puis les numériques\n",
    "col_numericals = [col for col in df.columns if col not in col_categoricals]\n",
    "\n",
    "\n",
    "print(f\"Liste des colonnes catégorielles :\\n{col_categoricals}\")\n",
    "print(f\"\\nListe des colonnes numériques :\\n{col_numericals}\")"
   ]
  },
  {
   "cell_type": "markdown",
   "metadata": {},
   "source": [
    "## Doublons impurs (hors ID, Target et Date of registration)\n",
    "\n",
    "6M de doublons impurs"
   ]
  },
  {
   "cell_type": "code",
   "execution_count": null,
   "metadata": {},
   "outputs": [],
   "source": [
    "selected_columns = [col for col in df.columns if col not in ['ID','Ewltp (g/km)','Date of registration']]\n",
    "\n",
    "duplicate_count = df.duplicated(subset=selected_columns).sum()\n",
    "\n",
    "print(f\"Il y a {duplicate_count} individus qui présentent exactement les mêmes caractéristiques (hors colonne 'ID', target et Date of Registration).\")\n"
   ]
  },
  {
   "cell_type": "code",
   "execution_count": null,
   "metadata": {},
   "outputs": [],
   "source": [
    "df.drop_duplicates(subset=selected_columns).shape"
   ]
  },
  {
   "cell_type": "markdown",
   "metadata": {},
   "source": [
    "## Pré traitement pour meilleur analyse \n",
    "\n",
    "drop des doublons"
   ]
  },
  {
   "cell_type": "code",
   "execution_count": null,
   "metadata": {},
   "outputs": [],
   "source": [
    "selected_columns = [col for col in df.columns if col not in ['ID','Ewltp (g/km)','Date of registration']]\n",
    "\n",
    "df.drop_duplicates(subset=selected_columns, inplace=True)"
   ]
  },
  {
   "cell_type": "code",
   "execution_count": null,
   "metadata": {},
   "outputs": [],
   "source": [
    "df.shape"
   ]
  },
  {
   "cell_type": "markdown",
   "metadata": {},
   "source": [
    "## NaN and Unique values"
   ]
  },
  {
   "cell_type": "code",
   "execution_count": null,
   "metadata": {},
   "outputs": [],
   "source": [
    "display_missing_values(df)"
   ]
  },
  {
   "cell_type": "code",
   "execution_count": 6,
   "metadata": {},
   "outputs": [],
   "source": [
    "valeurs_uniques = {}\n",
    "nombre_val_unique={}\n",
    "for col in df.columns:\n",
    "    valeurs_uniques[col]=df[col].unique().tolist()\n",
    "    nombre_val_unique[col]=df[col].nunique()"
   ]
  },
  {
   "cell_type": "code",
   "execution_count": 7,
   "metadata": {},
   "outputs": [
    {
     "name": "stdout",
     "output_type": "stream",
     "text": [
      "r 1\n",
      "Status 1\n"
     ]
    }
   ],
   "source": [
    "for element in nombre_val_unique:\n",
    "    if nombre_val_unique[element]==1:\n",
    "        print(element, nombre_val_unique[element])"
   ]
  },
  {
   "cell_type": "code",
   "execution_count": 8,
   "metadata": {},
   "outputs": [
    {
     "name": "stdout",
     "output_type": "stream",
     "text": [
      "La colonne ID a 7571649 uniques\n",
      "La colonne Country a 29 uniques\n",
      "La colonne VFN a 8456 uniques\n",
      "La colonne Mp a 10 uniques\n",
      "La colonne Mh a 95 uniques\n",
      "La colonne Man a 104 uniques\n",
      "La colonne MMS a 0 uniques\n",
      "La colonne Tan a 6318 uniques\n",
      "La colonne T a 1506 uniques\n",
      "La colonne Va a 5413 uniques\n",
      "La colonne Ve a 25570 uniques\n",
      "La colonne Mk a 694 uniques\n",
      "La colonne Cn a 8323 uniques\n",
      "La colonne Ct a 5 uniques\n",
      "La colonne Cr a 3 uniques\n",
      "La colonne r a 1 uniques\n",
      "La colonne m (kg) a 2238 uniques\n",
      "La colonne Mt a 2180 uniques\n",
      "La colonne Enedc (g/km) a 39 uniques\n",
      "La colonne Ewltp (g/km) a 7571649 uniques\n",
      "La colonne W (mm) a 614 uniques\n",
      "La colonne At1 (mm) a 1016 uniques\n",
      "La colonne At2 (mm) a 1018 uniques\n",
      "La colonne Ft a 11 uniques\n",
      "La colonne Fm a 6 uniques\n",
      "La colonne ec (cm3) a 265 uniques\n",
      "La colonne ep (KW) a 399 uniques\n",
      "La colonne z (Wh/km) a 343 uniques\n",
      "La colonne IT a 487 uniques\n",
      "La colonne Ernedc (g/km) a 0 uniques\n",
      "La colonne Erwltp (g/km) a 204 uniques\n",
      "La colonne De a 0 uniques\n",
      "La colonne Vf a 0 uniques\n",
      "La colonne Status a 1 uniques\n",
      "La colonne Date of registration a 365 uniques\n",
      "La colonne Fuel consumption  a 292 uniques\n",
      "La colonne Electric range (km) a 670 uniques\n"
     ]
    }
   ],
   "source": [
    "for cle,valeur in nombre_val_unique.items():\n",
    "    print(f\"La colonne {cle} a {valeur} uniques\")"
   ]
  },
  {
   "cell_type": "code",
   "execution_count": 14,
   "metadata": {},
   "outputs": [
    {
     "data": {
      "text/plain": [
       "array(['FORD', 'VOLKSWAGEN', 'KIA', 'MERCEDES-BENZ',\n",
       "       'RENAULT-NISSAN-MITSUBISHI', 'STELLANTIS',\n",
       "       'MAZDA-SUBARU-SUZUKI-TOYOTA', 'TESLA-HONDA-JLR', nan, 'BMW',\n",
       "       'HYUNDAI MOTOR EUROPE'], dtype=object)"
      ]
     },
     "execution_count": 14,
     "metadata": {},
     "output_type": "execute_result"
    }
   ],
   "source": [
    "df[\"Mp\"].unique()"
   ]
  },
  {
   "cell_type": "code",
   "execution_count": 21,
   "metadata": {},
   "outputs": [
    {
     "data": {
      "image/png": "[encoded data removed]",
      "text/plain": [
       "<Figure size 1200x600 with 1 Axes>"
      ]
     },
     "metadata": {},
     "output_type": "display_data"
    }
   ],
   "source": [
    "plt.figure(figsize=(12, 6))\n",
    "sns.boxplot(x='Mp', y='Ewltp (g/km)', data=df)\n",
    "plt.title('Boxplot de Ewltp (g/km) par Mp')\n",
    "plt.xticks(rotation=45, ha='right')\n",
    "plt.show()"
   ]
  },
  {
   "cell_type": "code",
   "execution_count": 45,
   "metadata": {},
   "outputs": [
    {
     "name": "stdout",
     "output_type": "stream",
     "text": [
      "Résultats de l'ANOVA :\n",
      "Statistique F = 38120.504737963885\n",
      "p-valeur = 0.0\n"
     ]
    }
   ],
   "source": [
    "from scipy.stats import f_oneway\n",
    "# Effectuer l'ANOVA\n",
    "anova_result = f_oneway(*[df.loc[df['Mp'] == mp,'Ewltp (g/km)'] for mp in df['Mp'].unique() if type(mp)!=float])\n",
    "\n",
    "# Afficher les résultats de l'ANOVA\n",
    "print(\"Résultats de l'ANOVA :\")\n",
    "print(\"Statistique F =\", anova_result.statistic)\n",
    "print(\"p-valeur =\", anova_result.pvalue)"
   ]
  },
  {
   "cell_type": "code",
   "execution_count": 32,
   "metadata": {},
   "outputs": [
    {
     "data": {
      "text/plain": [
       "2731      425.53\n",
       "2740      567.24\n",
       "2899      454.11\n",
       "3181      593.18\n",
       "17862     514.15\n",
       "           ...  \n",
       "7570126   439.64\n",
       "7570128   400.24\n",
       "7570135   393.99\n",
       "7570518   399.17\n",
       "7570521   432.47\n",
       "Name: Ewltp (g/km), Length: 508747, dtype: float64"
      ]
     },
     "execution_count": 32,
     "metadata": {},
     "output_type": "execute_result"
    }
   ],
   "source": [
    "df.loc[df['Mp'] == \"BMW\",'Ewltp (g/km)']"
   ]
  },
  {
   "cell_type": "code",
   "execution_count": 35,
   "metadata": {},
   "outputs": [
    {
     "data": {
      "text/plain": [
       "array(['FORD', 'VOLKSWAGEN', 'KIA', 'MERCEDES-BENZ',\n",
       "       'RENAULT-NISSAN-MITSUBISHI', 'STELLANTIS',\n",
       "       'MAZDA-SUBARU-SUZUKI-TOYOTA', 'TESLA-HONDA-JLR', nan, 'BMW',\n",
       "       'HYUNDAI MOTOR EUROPE'], dtype=object)"
      ]
     },
     "execution_count": 35,
     "metadata": {},
     "output_type": "execute_result"
    }
   ],
   "source": [
    "df[\"Mp\"].unique()"
   ]
  },
  {
   "cell_type": "code",
   "execution_count": 44,
   "metadata": {},
   "outputs": [
    {
     "data": {
      "text/plain": [
       "[325314,\n",
       " 1873570,\n",
       " 346401,\n",
       " 443200,\n",
       " 983252,\n",
       " 1471084,\n",
       " 577047,\n",
       " 210769,\n",
       " 508747,\n",
       " 346701]"
      ]
     },
     "execution_count": 44,
     "metadata": {},
     "output_type": "execute_result"
    }
   ],
   "source": [
    "[df.loc[df['Mp'] == mp,'Ewltp (g/km)'].shape[0] for mp in df['Mp'].unique().tolist() if type(mp)!=float]"
   ]
  },
  {
   "cell_type": "code",
   "execution_count": 42,
   "metadata": {},
   "outputs": [
    {
     "name": "stdout",
     "output_type": "stream",
     "text": [
      "<class 'str'>\n",
      "<class 'str'>\n",
      "<class 'str'>\n",
      "<class 'str'>\n",
      "<class 'str'>\n",
      "<class 'str'>\n",
      "<class 'str'>\n",
      "<class 'str'>\n",
      "<class 'float'>\n",
      "<class 'str'>\n",
      "<class 'str'>\n"
     ]
    }
   ],
   "source": [
    "for name in df[\"Mp\"].unique():\n",
    "    print(type(name))"
   ]
  },
  {
   "cell_type": "code",
   "execution_count": 20,
   "metadata": {},
   "outputs": [
    {
     "data": {
      "text/plain": [
       "array(['TOYOTA MOTOR CORPORATION', 'AA-IVA', 'VOLVO', 'SSANGYONG', 'DFSK',\n",
       "       'DUPLICATE', 'MASERATI', 'RENAULT TRUCKS', 'OUT OF SCOPE',\n",
       "       'NEXT EGO MOBILE', 'ALPINA', 'FERRARI', 'MCLAREN',\n",
       "       'GENERAL MOTORS HOLDINGS', 'POLESTAR', 'ASTON MARTIN', 'GEELY',\n",
       "       'SAIC MOTOR CORPORATION', 'ANHUI', 'JIANGXI JIANGLING', 'SECMA',\n",
       "       'CATERHAM', 'LOTUS', 'JIANGLING MOTOR', 'MORGAN', 'DR AUTOMOBILES',\n",
       "       'NANJING GOLDEN DRAGON', 'LEEH', 'SAIC MAXUS', 'PAGANI',\n",
       "       'MAHINDRA', 'AA-NSS', 'BYD', 'GREAT WALL MOTOR', 'ZHAOQING', 'NIO',\n",
       "       'LANZHOU', 'BRILLIANCE SHINERAY', 'CHINA FAW', 'UNKNOWN', 'HAIMA',\n",
       "       'EURASIA', 'LUCID USA', 'DALLARA', 'HENAN SUDA', 'SMART',\n",
       "       'LEAPMOTOR', 'DONKERVOORT', 'BUGATTI RIMAC', 'LEVC', 'BUGATTI'],\n",
       "      dtype=object)"
      ]
     },
     "execution_count": 20,
     "metadata": {},
     "output_type": "execute_result"
    }
   ],
   "source": [
    "df.loc[df[\"Mp\"].isna(),\"Mh\"].unique()"
   ]
  },
  {
   "cell_type": "markdown",
   "metadata": {},
   "source": [
    "## Correlation"
   ]
  },
  {
   "cell_type": "code",
   "execution_count": null,
   "metadata": {},
   "outputs": [],
   "source": [
    "sns.heatmap(df[col_numericals].corr())\n",
    "plt.show()"
   ]
  },
  {
   "cell_type": "markdown",
   "metadata": {},
   "source": [
    "# Target Analysis\n",
    "\n",
    "## Histogram"
   ]
  },
  {
   "cell_type": "code",
   "execution_count": null,
   "metadata": {},
   "outputs": [],
   "source": [
    "sns.histplot(df,x='Ewltp (g/km)')\n",
    "plt.show()"
   ]
  },
  {
   "cell_type": "markdown",
   "metadata": {},
   "source": [
    "## Boxplot\n"
   ]
  },
  {
   "cell_type": "code",
   "execution_count": null,
   "metadata": {},
   "outputs": [],
   "source": [
    "plt.figure(figsize=(8, 6))\n",
    "sns.boxplot(y=df['Ewltp (g/km)'])\n",
    "plt.show()"
   ]
  },
  {
   "cell_type": "markdown",
   "metadata": {},
   "source": [
    "## Describe of Target"
   ]
  },
  {
   "cell_type": "code",
   "execution_count": null,
   "metadata": {},
   "outputs": [],
   "source": [
    "df['Ewltp (g/km)'].describe()"
   ]
  },
  {
   "cell_type": "markdown",
   "metadata": {},
   "source": [
    "## Outliers Analysis"
   ]
  },
  {
   "cell_type": "code",
   "execution_count": null,
   "metadata": {},
   "outputs": [],
   "source": [
    "print(f\"On compte près de {df[df['Ewltp (g/km)']<0].shape[0]} individus avec une WLTP inférieur à 0 ce qui est anormal\")"
   ]
  },
  {
   "cell_type": "code",
   "execution_count": null,
   "metadata": {},
   "outputs": [],
   "source": [
    "df_avec_target_negative = df[df['Ewltp (g/km)']<0]"
   ]
  },
  {
   "cell_type": "markdown",
   "metadata": {},
   "source": [
    "### Doublons purs"
   ]
  },
  {
   "cell_type": "code",
   "execution_count": null,
   "metadata": {},
   "outputs": [],
   "source": [
    "print(f\" il y a {df_avec_target_negative.duplicated().sum()} doublons purs\")\n"
   ]
  },
  {
   "cell_type": "markdown",
   "metadata": {},
   "source": [
    "### Doublons impurs\n",
    "Regarder la donnée à première vue."
   ]
  },
  {
   "cell_type": "code",
   "execution_count": null,
   "metadata": {},
   "outputs": [],
   "source": [
    "df_avec_target_negative.head()"
   ]
  },
  {
   "cell_type": "code",
   "execution_count": null,
   "metadata": {},
   "outputs": [],
   "source": [
    "selected_columns = [col for col in df_avec_target_negative.columns if col not in ['ID','Ewltp (g/km)','Date of registration']]\n",
    "\n",
    "duplicate_count = df_avec_target_negative.duplicated(subset=selected_columns).sum()\n",
    "\n",
    "print(f\"Il y a {duplicate_count} individus qui présentent exactement les mêmes caractéristiques (hors colonne 'ID', target et Date of Registration).\")\n"
   ]
  },
  {
   "cell_type": "markdown",
   "metadata": {},
   "source": [
    "# Analyse par variable des régresseurs\n",
    "## Mp - Manufacturer Pooling\n",
    "\n",
    "D'après GPT\n",
    "\n",
    "le \"Manufacturer Pooling\" est une stratégie qui permet aux constructeurs automobiles de travailler ensemble pour respecter les réglementations sur les émissions de CO2 en combinant leurs émissions et en partageant les avantages liés à la conformité.\n",
    "\n",
    "**GARDER**"
   ]
  },
  {
   "cell_type": "code",
   "execution_count": null,
   "metadata": {},
   "outputs": [],
   "source": [
    "valeurs_uniques['Mp']"
   ]
  },
  {
   "cell_type": "code",
   "execution_count": null,
   "metadata": {},
   "outputs": [],
   "source": [
    "df[df['Mp'].isna()].head()"
   ]
  },
  {
   "cell_type": "markdown",
   "metadata": {},
   "source": [
    "**Comment s'occupe-t-on des valeurs manquantes ?**\n",
    "\n",
    "On voit que les NaN sont récupérables pour certains avec la colonne `Mh` ou encore `Man`. En fait je sais pas trop, parce qu'il est aussi possible que ça soit déclaré NaN parce que justement il n'apparait pas dedans...\n",
    "\n",
    "Ex de récupération possible: pour ID 894 on peut voir que Mh= Toyota donc sûrement que Mp = 'MAZDA-SUBARU-SUZUKI-TOYOTA'"
   ]
  },
  {
   "cell_type": "code",
   "execution_count": null,
   "metadata": {},
   "outputs": [],
   "source": [
    "print(f\"On compte {df['Mp'].isna().sum()} valeurs manquantes pour 'Mp' \")"
   ]
  },
  {
   "cell_type": "markdown",
   "metadata": {},
   "source": [
    "## VFN - Vehicle family identification number\n",
    "\n",
    "D'après ce que j'ai compris c'est un espèce de code d'indentification et de suivi en interne pour les voitures. On peut y trouver comme info: fabricant, le modèle, l'année de fabrication, le pays d'origine, le type de moteur, etc.\n",
    "\n",
    "Le problème c'est qe je ne vois aps comment on décode ça, puisque généralement c'est interne ou alors propre à chaque marque ? Faudrait creuser mais il est possible que ça puisse nous aider à remplir les NaN qu'on possède\n",
    "\n",
    "**mon avis**: aucune idée de quoi faire de cette variable, pour l'instant j'en vois pas l'utilité surtout qu'il faut savoir décoder à quoi correspond les codes mdr\n",
    "\n",
    "**GARDER**: Jynaldo feature extraction (pour l'année)"
   ]
  },
  {
   "cell_type": "code",
   "execution_count": null,
   "metadata": {},
   "outputs": [],
   "source": [
    "nombre_val_unique['VFN']"
   ]
  },
  {
   "cell_type": "code",
   "execution_count": null,
   "metadata": {},
   "outputs": [],
   "source": [
    "valeurs_uniques['VFN'][:10]"
   ]
  },
  {
   "cell_type": "code",
   "execution_count": null,
   "metadata": {},
   "outputs": [],
   "source": [
    "df[df['VFN'].isna()].shape"
   ]
  },
  {
   "cell_type": "markdown",
   "metadata": {},
   "source": [
    "## Mh -Manufacturer name EU standard denomination\n",
    "D'après GPT\n",
    "\n",
    "L'utilisation de cette désignation normalisée aide à garantir la clarté et la cohérence dans la documentation et les réglementations relatives aux véhicules automobiles au sein de l'UE, où de nombreuses marques et fabricants opèrent sur un marché unique.\n",
    "\n",
    "Chaque fabricant a son propre code \"Mh\" attribué, de sorte que ces codes sont spécifiques à chaque entreprise et permettent une identification précise des fabricants de véhicules.\n",
    "\n",
    "**Mon avis**: On garde, 0 NaN, et peut nous aider dans les var catégorielles. A voir ce qu'on en fait plus tard.\n",
    "\n",
    "**GARDER** (important pour les marques car 0 NaN) pour K means"
   ]
  },
  {
   "cell_type": "code",
   "execution_count": null,
   "metadata": {},
   "outputs": [],
   "source": [
    "nombre_val_unique['Mh']"
   ]
  },
  {
   "cell_type": "code",
   "execution_count": null,
   "metadata": {},
   "outputs": [],
   "source": [
    "valeurs_uniques['Mh'][:10]"
   ]
  },
  {
   "cell_type": "code",
   "execution_count": null,
   "metadata": {},
   "outputs": [],
   "source": [
    "df[df['Mh'].isna()].shape"
   ]
  },
  {
   "cell_type": "markdown",
   "metadata": {},
   "source": [
    "## Man - Manufacturer name OEM declaration\n",
    "\n",
    "Pareil 0 Nan on peut garder à mon avis, à voir ce qu'on en fait évidemment.\n",
    "\n",
    "**GARDER** pour K means"
   ]
  },
  {
   "cell_type": "code",
   "execution_count": null,
   "metadata": {},
   "outputs": [],
   "source": [
    "print(f\"On compte {nombre_val_unique['Man']} valeurs uniques et {df[df['Man'].isna()].shape[0]} NaN, quelques exemples de valeurs de Man:\\n\\n{valeurs_uniques['Man'][:5]}\")"
   ]
  },
  {
   "cell_type": "markdown",
   "metadata": {},
   "source": [
    "## TAN - Type approval number\n",
    "D'après GPT\n",
    "\n",
    "Le \"Type Approval Number\" est un numéro attribué à un produit, généralement dans le domaine de l'automobile, pour indiquer qu'il est conforme aux réglementations et normes spécifiques. Cela garantit sa qualité et sa sécurité pour une utilisation conforme aux normes établies.\n",
    "\n",
    "l'absence d'un TAN (Type Approval Number) sur un véhicule peut indiquer qu'il n'est pas homologué ou qu'il ne répond pas aux normes réglementaires requises pour être utilisé sur la route. Le TAN est un identifiant qui atteste que le véhicule a été soumis aux tests, vérifications et certifications nécessaires pour garantir sa conformité aux normes de sécurité et d'émissions.\n",
    "\n",
    "Cependant, il est essentiel de noter que la réglementation peut varier d'un pays à l'autre, et dans certains cas, il peut y avoir des exemptions ou des situations particulières où un véhicule spécifique n'a pas besoin d'un TAN pour être utilisé légalement\n",
    "\n",
    "**mon avis**: peut-être que les TAN manquant (valeur = NaN) signifient que les véhicules ne sont pas homologués (ils n'ont pas passé les test de conformité). On pourrait peut être aussi créer une colonne \"conforme aux normes\" avec 0 si non conforme et 1 si conforme (c'est juste une idée)\n",
    "\n",
    "**GARDER**: faire FE pour créer la colonne `conforme` = 1 si conforme 0 sinon\n",
    "peut être faire analyse de variance pour voir si corrélation entre conforme et emission."
   ]
  },
  {
   "cell_type": "code",
   "execution_count": null,
   "metadata": {},
   "outputs": [],
   "source": [
    "print(f\"On compte {nombre_val_unique['Tan']} valeurs uniques et {df[df['Tan'].isna()].shape[0]} NaN, quelques exemples de valeurs de Tan:\\n\\n{valeurs_uniques['Tan'][:5]}\")"
   ]
  },
  {
   "cell_type": "markdown",
   "metadata": {},
   "source": [
    "## T - Type\n",
    "GPT\n",
    "\n",
    "Le Type T (ou \"Type de modèle\") est une classification qui permet d'identifier différents modèles de voitures au sein d'une même marque ou d'un même constructeur. Ces codes permettent aux constructeurs automobiles et aux autorités de suivre et d'identifier clairement chaque modèle de voiture.\n",
    "\n",
    "Pour connaître la signification d'un code de Type T spécifique, vous devrez généralement consulter les documents officiels du constructeur, tels que les manuels du propriétaire, les sites Web du constructeur, les informations sur les véhicules spécifiques ou contacter directement le service client du constructeur\n",
    "\n",
    "**GARDER** (pour l'instant regarder en dernier)"
   ]
  },
  {
   "cell_type": "code",
   "execution_count": null,
   "metadata": {},
   "outputs": [],
   "source": [
    "print(f\"On compte {nombre_val_unique['T']} valeurs uniques et {df[df['T'].isna()].shape[0]} NaN, quelques exemples de valeurs de T:\\n\\n{valeurs_uniques['T'][:5]}\")"
   ]
  },
  {
   "cell_type": "code",
   "execution_count": null,
   "metadata": {},
   "outputs": [],
   "source": [
    "df['T'].values.tolist()"
   ]
  },
  {
   "cell_type": "markdown",
   "metadata": {},
   "source": [
    "## Va - Variant\n",
    "\n",
    "Le code \"Va - Variant\" pour une voiture se réfère généralement à une variante ou une version spécifique d'un modèle de véhicule. Par exemple, un modèle de base peut avoir plusieurs variantes telles qu'une version de base, une version haut de gamme avec des équipements supplémentaires, une version sportive avec un moteur plus puissant, etc. \n",
    "\n",
    "**JETTE**"
   ]
  },
  {
   "cell_type": "code",
   "execution_count": null,
   "metadata": {},
   "outputs": [],
   "source": [
    "print(f\"On compte {nombre_val_unique['Va']} valeurs uniques et {df[df['Va'].isna()].shape[0]} NaN, quelques exemples de valeurs de Va:\\n\\n{valeurs_uniques['Va'][:5]}\")"
   ]
  },
  {
   "cell_type": "markdown",
   "metadata": {},
   "source": [
    "## Ve - Version\n",
    "\n",
    "Le code \"Ve - Version\" pour une voiture se réfère généralement à la version spécifique ou à la configuration particulière d'un modèle de véhicule. Les codes de version permettent de catégoriser et d'identifier les différentes versions d'un modèle dans les systèmes de gestion des véhicules. Par exemple, un constructeur automobile peut utiliser un code \"Ve\" pour indiquer une version de base, tandis qu'un autre code \"Ve\" peut être associé à une version haut de gamme avec des caractéristiques supplémentaires.\n",
    "\n",
    "**JETTE**"
   ]
  },
  {
   "cell_type": "code",
   "execution_count": null,
   "metadata": {},
   "outputs": [],
   "source": [
    "print(f\"On compte {nombre_val_unique['Ve']} valeurs uniques et {df[df['Ve'].isna()].shape[0]} NaN, quelques exemples de valeurs de Ve:\\n\\n{valeurs_uniques['Ve'][:5]}\")"
   ]
  },
  {
   "cell_type": "markdown",
   "metadata": {},
   "source": [
    "## Mk - Make\n",
    "\n",
    "Make fait référence au fabricant ou au constructeur de la voiture. C'est essentiellement le nom de la marque qui produit le véhicule.\n",
    "\n",
    "A voir ce qu'on en fait c'est une variable catégorielle\n",
    "\n",
    "**GARDER** pour K means"
   ]
  },
  {
   "cell_type": "code",
   "execution_count": null,
   "metadata": {},
   "outputs": [],
   "source": [
    "print(f\"On compte {nombre_val_unique['Mk']} valeurs uniques et {df[df['Mk'].isna()].shape[0]} NaN, quelques exemples de valeurs de Mk:\\n\\n{valeurs_uniques['Mk'][:5]}\")"
   ]
  },
  {
   "cell_type": "markdown",
   "metadata": {},
   "source": [
    "## Cn - Commercial name\n",
    "\n",
    "**GARDER** pour K means"
   ]
  },
  {
   "cell_type": "code",
   "execution_count": null,
   "metadata": {},
   "outputs": [],
   "source": [
    "print(f\"On compte {nombre_val_unique['Cn']} valeurs uniques et {df[df['Cn'].isna()].shape[0]} NaN, quelques exemples de valeurs de Cn:\\n\\n{valeurs_uniques['Cn'][:5]}\")"
   ]
  },
  {
   "cell_type": "markdown",
   "metadata": {},
   "source": [
    "## Ct - Category of the vehicle type approved\n",
    "\n",
    "Ct fait référence à la catégorie dans laquelle un type de véhicule particulier a été homologué ou certifié pour être conforme aux normes réglementaires spécifiques. Par exemple, un code \"Ct\" indiquant \"Passenger Car\" (voiture particulière) signifie que le véhicule est homologué en tant que voiture particulière, tandis qu'un code \"Ct\" indiquant \"Light Commercial Vehicle\" (véhicule utilitaire léger) indiquerait que le véhicule est homologué en tant que tel. Cela peut influencer diverses réglementations et taxes qui s'appliquent aux véhicules en fonction de leur catégorie.\n",
    "\n",
    "**mon avis**: On pourrait en faire une variable encodée facilement\n",
    "\n",
    "selon les réglementations de l'Union européenne. Voici quelques exemples de ces codes :\n",
    "\n",
    "- M1 : Voiture particulière.\n",
    "- M1G : Voiture particulière écologique.\n",
    "- M2 : Véhicule de transport de personnes avec plus de 8 places assises.\n",
    "- M2G : Véhicule de transport de personnes avec plus de 8 places assises, écologique.\n",
    "- M3 : Véhicule de transport de personnes avec plus de 8 places assises.\n",
    "- N1 : Véhicule utilitaire léger (camionnette).\n",
    "- N1G : Véhicule utilitaire léger (camionnette) écologique.\n",
    "- N2 : Véhicule utilitaire.\n",
    "- N2G : Véhicule utilitaire écologique.\n",
    "- N3 : Véhicule utilitaire.\n",
    "- L : Deux-roues à moteur.\n",
    "- L3e : Deux-roues à moteur, catégorie 3 roues.\n",
    "- L4e : Deux-roues à moteur, catégorie 4 roues.\n",
    "- L5e : Deux-roues à moteur, catégorie 5 roues.\n",
    "- L7e : Deux-roues à moteur, catégorie 7 roues.\n",
    "- L9e : Deux-roues à moteur, catégorie 9 roues.\n",
    "- L2e : Deux-roues à moteur électriques.\n",
    "\n",
    "**GARDER**: OHE après traitement des NaN imputation par le mode ou autre chose comme KNN "
   ]
  },
  {
   "cell_type": "code",
   "execution_count": null,
   "metadata": {},
   "outputs": [],
   "source": [
    "print(f\"On compte {nombre_val_unique['Ct']} valeurs uniques et {df[df['Ct'].isna()].shape[0]} NaN, quelques exemples de valeurs de Ct:\\n\\n{valeurs_uniques['Ct'][:5]}\")"
   ]
  },
  {
   "cell_type": "code",
   "execution_count": null,
   "metadata": {},
   "outputs": [],
   "source": [
    "df[df['Ct'].isna()].head()"
   ]
  },
  {
   "cell_type": "markdown",
   "metadata": {},
   "source": [
    "## Cr - Category of the vehicle registered\n",
    "\n",
    "Cr est la catégorie du véhicule tel qu'il est enregistré ou immatriculé auprès des autorités locales ou nationales. Cette catégorie est utilisée pour identifier le type de véhicule tel qu'il est effectivement utilisé sur la route et immatriculé par son propriétaire. Elle peut varier en fonction de la législation et des normes d'immatriculation du pays ou de la région.\n",
    "\n",
    "**mon avis**: Il faudrait trouver comment ranger dans l'ordre ces codes et on pourra en faire une variable label encodée (ordinal encodée)\n",
    "\n",
    "Chat GPT m'a donné ça(a vérifier):\n",
    "\n",
    "- M1 - Véhicules automobiles conçus et construits pour le transport de passagers et de leurs bagages, ayant au maximum huit places assises en plus du siège du conducteur. Il s'agit généralement des voitures particulières.\n",
    "\n",
    "- M1G - Ce code spécifique \"G\" peut indiquer une sous-catégorie des véhicules M1. Par exemple, il peut être utilisé pour différencier les véhicules M1G équipés de moteurs au gaz.\n",
    "\n",
    "- M1S - Ce code spécifique \"S\" peut également indiquer une sous-catégorie des véhicules M1. Il est souvent utilisé pour identifier les véhicules M1S équipés de moteurs électriques ou hybrides.\n",
    "\n",
    "**GARDER**: OHE et vérifier les significations des codes pour Ct et Cr "
   ]
  },
  {
   "cell_type": "code",
   "execution_count": null,
   "metadata": {},
   "outputs": [],
   "source": [
    "print(f\"On compte {nombre_val_unique['Cr']} valeurs uniques et {df[df['Cr'].isna()].shape[0]} NaN, quelques exemples de valeurs de Cr:\\n\\n{valeurs_uniques['Cr'][:5]}\")"
   ]
  },
  {
   "cell_type": "markdown",
   "metadata": {},
   "source": [
    "## m (kg) - Mass in running order Completed/complete vehicle\n",
    "\n",
    "Le terme \"m (kg) - Mass in running order Completed/complete vehicle\" se réfère au poids d'un véhicule complet et prêt à être utilisé, y compris tous les équipements, les fluides (comme l'huile, le carburant, le liquide de refroidissement, etc.), et d'autres composants nécessaires pour qu'il puisse fonctionner sur la route. Cela inclut également le poids de tout équipement optionnel installé en usine.\n",
    "\n",
    "**mon avis**: regarder le max, sans doute un outlier\n",
    "\n",
    "**GARDER**: \n",
    "1. Détection outlier\n",
    "2. Imputation par la médiane\n"
   ]
  },
  {
   "cell_type": "code",
   "execution_count": null,
   "metadata": {},
   "outputs": [],
   "source": [
    "print(f\"On compte {nombre_val_unique['m (kg)']} valeurs uniques et {df[df['m (kg)'].isna()].shape[0]} NaN, quelques exemples de valeurs de m (kg):\\n\\n{valeurs_uniques['m (kg)'][:5]}\")"
   ]
  },
  {
   "cell_type": "code",
   "execution_count": null,
   "metadata": {},
   "outputs": [],
   "source": [
    "df['m (kg)'].describe()"
   ]
  },
  {
   "cell_type": "code",
   "execution_count": null,
   "metadata": {},
   "outputs": [],
   "source": [
    "sns.histplot(df,x='m (kg)')\n",
    "plt.show()"
   ]
  },
  {
   "cell_type": "code",
   "execution_count": null,
   "metadata": {},
   "outputs": [],
   "source": [
    "filtered_df = df[df[\"m (kg)\"] > df[\"m (kg)\"].quantile(0.75)]\n",
    "\n",
    "plt.figure(figsize=(10, 6))\n",
    "plt.scatter(filtered_df[\"ID\"], filtered_df[\"m (kg)\"], c='b', marker='o', label=\"m (kg)\")\n",
    "plt.xlabel(\"ID\")\n",
    "plt.ylabel(\"m (kg)\")\n",
    "plt.title(\"Scatter Plot de m (kg) pour les valeurs supérieures au 3e quartile\")\n",
    "plt.grid(True)\n",
    "plt.legend()\n",
    "plt.show()"
   ]
  },
  {
   "cell_type": "code",
   "execution_count": null,
   "metadata": {},
   "outputs": [],
   "source": [
    "df[df['m (kg)']>3500].shape"
   ]
  },
  {
   "cell_type": "markdown",
   "metadata": {},
   "source": [
    "## Enedc (g/km) - Specific CO2 Emissions (NEDC)\n",
    "\n",
    "Le NEDC est un protocole de test standardisé qui était largement utilisé en Europe pour évaluer les émissions de CO2 et la consommation de carburant des véhicules. Il consiste en une série de cycles de conduite en laboratoire qui simulent différentes conditions de conduite, telles que la conduite en ville, sur autoroute, etc. De nombreux pays ont progressivement abandonné le cycle de conduite NEDC au profit du cycle de conduite WLTP . Par conséquent, les valeurs d'émissions de CO2 mesurées en utilisant le cycle NEDC peuvent être obsolètes pour de nombreux véhicules récents.\n",
    "\n",
    "\n",
    "**avis**: trop de NaN, et aussi risque de séparabilité parfaite du au fait que NEDC était la norme qui précédait la norme WLTP\n",
    "\n",
    "**JETTER**"
   ]
  },
  {
   "cell_type": "code",
   "execution_count": null,
   "metadata": {},
   "outputs": [],
   "source": [
    "print(f\"On compte {nombre_val_unique['Enedc (g/km)']} valeurs uniques et {df[df['Enedc (g/km)'].isna()].shape[0]} NaN, quelques exemples de valeurs de Enedc (g/km):\\n\\n{valeurs_uniques['Enedc (g/km)'][:5]}\")"
   ]
  },
  {
   "cell_type": "markdown",
   "metadata": {},
   "source": [
    "## Mt - WLTP test mass\n",
    "\n",
    "le \"Mt - WLTP test mass\" est la masse du véhicule telle qu'elle est utilisée lors des tests de conformité WLTP, et elle est conçue pour garantir des résultats de test cohérents et comparables entre les différents véhicules.\n",
    "\n",
    "La masse de test WLTP est généralement supérieure à la masse en ordre de marche complété (M1) du véhicule, car elle inclut divers équipements de test et charges supplémentaires pour simuler différentes conditions de conduite. Elle est utilisée pour mesurer les émissions de dioxyde de carbone (CO2) et la consommation de carburant d'une manière normalisée et reproductible, de manière à permettre des comparaisons équitables entre différents véhicules.\n",
    "\n",
    "**mon avis**: peut être important mais grande corrélation avec la variable précédente `m (kg)` Attention aux NaN\n",
    "\n",
    "**GARDER**: créer une nouvelle colonne en combiannt avec `m (kg)` faire des scatter plot et regarder si c'est une droite etc. Garder pour croiser les sources entre cette variable et la variable précédente.\n",
    "\n",
    "Pas de traitement individuel pour l'instant (traiter les 2 ensembles )"
   ]
  },
  {
   "cell_type": "code",
   "execution_count": null,
   "metadata": {},
   "outputs": [],
   "source": [
    "print(f\"On compte {nombre_val_unique['Mt']} valeurs uniques et {df[df['Mt'].isna()].shape[0]} NaN, quelques exemples de valeurs de Mt:\\n\\n{valeurs_uniques['Mt'][:5]}\")"
   ]
  },
  {
   "cell_type": "code",
   "execution_count": null,
   "metadata": {},
   "outputs": [],
   "source": [
    "df['Mt'].describe()"
   ]
  },
  {
   "cell_type": "code",
   "execution_count": null,
   "metadata": {},
   "outputs": [],
   "source": [
    "sns.histplot(df,x='Mt')\n",
    "plt.show()"
   ]
  },
  {
   "cell_type": "markdown",
   "metadata": {},
   "source": [
    "## W (mm) - Wheel Base\n",
    "\n",
    "\"W (mm) - Wheel Base\" est la mesure en millimètres de la distance entre les essieux avant et arrière d'un véhicule, et elle a un impact sur le comportement de conduite et d'autres caractéristiques du véhicule.\n",
    "\n",
    "Une base de roues plus longue tend à offrir une meilleure stabilité à haute vitesse, tandis qu'une base de roues plus courte peut permettre une maniabilité accrue, ce qui est utile dans certaines applications, comme les véhicules utilitaires légers.\n",
    "\n",
    "**avis**: Attention Outliers\n",
    "\n",
    "**GARDER**: C'est une pproximation de la longueur du véhicule, on peut l'utiliser pour calculer l'aire du véhicule (FE) on va créer la colonne `surface`\n",
    "1. Imputation par la médiane"
   ]
  },
  {
   "cell_type": "code",
   "execution_count": null,
   "metadata": {},
   "outputs": [],
   "source": [
    "print(f\"On compte {nombre_val_unique['W (mm)']} valeurs uniques et {df[df['W (mm)'].isna()].shape[0]} NaN, quelques exemples de valeurs de W (mm):\\n\\n{valeurs_uniques['W (mm)'][:5]}\")"
   ]
  },
  {
   "cell_type": "code",
   "execution_count": null,
   "metadata": {},
   "outputs": [],
   "source": [
    "df['W (mm)'].describe()"
   ]
  },
  {
   "cell_type": "code",
   "execution_count": null,
   "metadata": {},
   "outputs": [],
   "source": [
    "sns.histplot(df,x='W (mm)')\n",
    "plt.show()"
   ]
  },
  {
   "cell_type": "markdown",
   "metadata": {},
   "source": [
    "## At1 (mm) - Axle width steering axle\n",
    "\n",
    "\"At1 (mm)\" est la mesure en millimètres de la largeur de l'essieu avant de direction d'un véhicule, ce qui a un impact sur sa maniabilité et sa stabilité. Une largeur d'essieu avant appropriée est essentielle pour permettre au véhicule de tourner efficacement tout en maintenant sa stabilité à différentes vitesses.\n",
    "\n",
    "**avis**: a voir ce qu'on fera de cette variable, je doute qu'elle soit utile mais bon\n",
    "\n",
    "**GARDER**: On calcule surface du véhicule avec\n",
    "1. imputation par la moyenne\n",
    "Pas besoin de traiter outliers (à priori)"
   ]
  },
  {
   "cell_type": "code",
   "execution_count": null,
   "metadata": {},
   "outputs": [],
   "source": [
    "print(f\"On compte {nombre_val_unique['At1 (mm)']} valeurs uniques et {df[df['At1 (mm)'].isna()].shape[0]} NaN, quelques exemples de valeurs de At1 (mm):\\n\\n{valeurs_uniques['At1 (mm)'][:5]}\")"
   ]
  },
  {
   "cell_type": "code",
   "execution_count": null,
   "metadata": {},
   "outputs": [],
   "source": [
    "df['At1 (mm)'].describe()"
   ]
  },
  {
   "cell_type": "code",
   "execution_count": null,
   "metadata": {},
   "outputs": [],
   "source": [
    "sns.histplot(df,x='At1 (mm)')\n",
    "plt.show()"
   ]
  },
  {
   "cell_type": "markdown",
   "metadata": {},
   "source": [
    "## At2 (mm) - Axle width other axle\n",
    "\n",
    "Skip c'est pareil\n",
    "\n",
    "**GARDER** calculer la surface avec \n",
    "1. Imputation par la moyenne\n",
    "2. Pas d'outliers à traiter "
   ]
  },
  {
   "cell_type": "code",
   "execution_count": null,
   "metadata": {},
   "outputs": [],
   "source": [
    "print(f\"On compte {nombre_val_unique['At2 (mm)']} valeurs uniques et {df[df['At2 (mm)'].isna()].shape[0]} NaN, quelques exemples de valeurs de At2 (mm):\\n\\n{valeurs_uniques['At2 (mm)'][:5]}\")"
   ]
  },
  {
   "cell_type": "code",
   "execution_count": null,
   "metadata": {},
   "outputs": [],
   "source": [
    "df['At2 (mm)'].describe()"
   ]
  },
  {
   "cell_type": "code",
   "execution_count": null,
   "metadata": {},
   "outputs": [],
   "source": [
    "sns.histplot(df,x='At2 (mm)')\n",
    "plt.show()"
   ]
  },
  {
   "cell_type": "code",
   "execution_count": null,
   "metadata": {},
   "outputs": [],
   "source": [
    "print(f\"on compte {sum(df['At1 (mm)']==df['At2 (mm)'])} individus avec At1 = At2. \\nJe sais pas comment interpréter\")"
   ]
  },
  {
   "cell_type": "code",
   "execution_count": null,
   "metadata": {},
   "outputs": [],
   "source": [
    "#exemple\n",
    "display(df[df['At1 (mm)']==df['At2 (mm)']].iloc[:3])"
   ]
  },
  {
   "cell_type": "markdown",
   "metadata": {},
   "source": [
    "## Ft - Fuel type\n",
    "\n",
    "**avis**: Facile a label encoder. Pas besoin de plus de précisions. Attention aux Unknown\n",
    "\n",
    "**GARDER**: Voir comment s'occuper de 'UNKNOWN' ( déclarer en tant que NaN puis imputation par le mode ?)\n",
    "\n",
    "regroupper:\n",
    "1. Electrique\n",
    "2. Hybride ('PETROL/ELECTRIC', 'DIESEL/ELECTRIC')\n",
    "3. Essence\n",
    "4. Diesel ('DIESEL')\n",
    "5. Biocarburant ('NG-BIOMETHANE', 'HYDROGEN', 'NG','E85')"
   ]
  },
  {
   "cell_type": "code",
   "execution_count": null,
   "metadata": {},
   "outputs": [],
   "source": [
    "print(f\"On compte {nombre_val_unique['Ft']} valeurs uniques et {df[df['Ft'].isna()].shape[0]} NaN, quelques exemples de valeurs de Ft:\\n\\n{valeurs_uniques['Ft'][:11]}\")"
   ]
  },
  {
   "cell_type": "code",
   "execution_count": null,
   "metadata": {},
   "outputs": [],
   "source": [
    "df[df['Ft']=='UNKNOWN'].iloc[:10]"
   ]
  },
  {
   "cell_type": "code",
   "execution_count": null,
   "metadata": {},
   "outputs": [],
   "source": [
    "df[df['Ft']=='UNKNOWN'].shape"
   ]
  },
  {
   "cell_type": "markdown",
   "metadata": {},
   "source": [
    "## Fm - Fuel mode\n",
    "Fm c'est le mode de fonctionnement du moteur d'un véhicule en ce qui concerne le type de carburant ou d'énergie qu'il utilise. Le mode de carburant détermine la source d'énergie principale qui alimente le moteur. Voici la signification des codes couramment utilisés pour décrire différents modes de carburant :\n",
    "\n",
    "- 'H' - Hydrogène : Le véhicule fonctionne à l'aide d'hydrogène, généralement dans une pile à combustible, produisant de l'électricité pour alimenter le moteur électrique.\n",
    "\n",
    "- 'M' - Moteur à combustion interne (essence ou diesel) : Le véhicule utilise un moteur à combustion interne qui brûle de l'essence (Moteur à essence, \"M\") ou du diesel (Moteur diesel, \"D\").\n",
    "\n",
    "- 'P' - Hybride essence/électrique : Le véhicule dispose d'un moteur à essence et d'un moteur électrique, utilisés en combinaison pour améliorer l'efficacité énergétique.\n",
    "\n",
    "- 'B' - Hybride diesel/électrique : C'est similaire à l'hybride essence/électrique, mais avec un moteur diesel au lieu d'un moteur à essence.\n",
    "\n",
    "- 'E' - Électrique : Le véhicule fonctionne entièrement à l'électricité, alimenté par des batteries rechargeables.\n",
    "\n",
    "- 'F' - Gaz naturel comprimé (CNG - Compressed Natural Gas) : Le véhicule utilise du gaz naturel comprimé comme carburant pour propulser le véhicule. C'est une alternative plus respectueuse de l'environnement par rapport aux carburants fossiles traditionnels.\n",
    "\n",
    "**avis**: facile à encoder. Attention Chat GPT me donne des trucs bizarre concernant la lettre F, il s'enmêle les pinceaux avec F = Hydrogène et H= Hydrogène. Il faudrait creuser avant d'attribuer des valeurs en encodant\n",
    "\n",
    "**GARDER** analyse bivariés ? Pour voir si hydrogen dans une variable est bien hydrogène dans l'autre variable.\n",
    "Label encoding"
   ]
  },
  {
   "cell_type": "code",
   "execution_count": null,
   "metadata": {},
   "outputs": [],
   "source": [
    "print(f\"On compte {nombre_val_unique['Fm']} valeurs uniques et {df[df['Fm'].isna()].shape[0]} NaN, quelques exemples de valeurs de Fm:\\n\\n{valeurs_uniques['Fm'][:6]}\")"
   ]
  },
  {
   "cell_type": "code",
   "execution_count": null,
   "metadata": {},
   "outputs": [],
   "source": [
    "df[df['Fm'].isna()].iloc[:2]"
   ]
  },
  {
   "cell_type": "markdown",
   "metadata": {},
   "source": [
    "## ec (cm3) - Engine capacity\n",
    "\n",
    "ec (cm3) c'est la cylindrée. La cylindrée du moteur est un indicateur important de la taille du moteur et de sa puissance potentielle. Plus la cylindrée est grande, plus le moteur a la capacité de brûler davantage de carburant et de générer plus de puissance. Cependant, une plus grande cylindrée peut également entraîner une consommation de carburant plus élevée.\n",
    "\n",
    "**mon avis**: gaffe aux outliers. Var numérique intéressante\n",
    "\n",
    "**GARDER**: Aussi peut être NaN = voiture électrique possiblement imputer par 0 si c'est électrique"
   ]
  },
  {
   "cell_type": "code",
   "execution_count": null,
   "metadata": {},
   "outputs": [],
   "source": [
    "print(f\"On compte {nombre_val_unique['ec (cm3)']} valeurs uniques et {df[df['ec (cm3)'].isna()].shape[0]} NaN, quelques exemples de valeurs de ec (cm3):\\n\\n{valeurs_uniques['ec (cm3)'][:5]}\")"
   ]
  },
  {
   "cell_type": "code",
   "execution_count": null,
   "metadata": {},
   "outputs": [],
   "source": [
    "df['ec (cm3)'].describe()"
   ]
  },
  {
   "cell_type": "code",
   "execution_count": null,
   "metadata": {},
   "outputs": [],
   "source": [
    "sns.histplot(df, x='ec (cm3)')\n",
    "plt.show()"
   ]
  },
  {
   "cell_type": "markdown",
   "metadata": {},
   "source": [
    "## ep (KW) - Engine power\n",
    "\n",
    "Engine power c'est la puissance du moteur du véhicule. Cette puissance est généralement mesurée en kilowatts (KW). Elle représente la capacité du moteur à produire de la puissance mécanique, ce qui est essentiel pour propulser le véhicule. Une puissance moteur plus élevée est généralement associée à de meilleures performances, mais elle peut également entraîner une consommation de carburant plus élevée.\n",
    "\n",
    "**mon avis** attention aux outliers (en haut et en bas)\n",
    "\n",
    "**GARDER**: traitement des outliers et imputation par la médiane"
   ]
  },
  {
   "cell_type": "code",
   "execution_count": null,
   "metadata": {},
   "outputs": [],
   "source": [
    "print(f\"On compte {nombre_val_unique['ep (KW)']} valeurs uniques et {df[df['ep (KW)'].isna()].shape[0]} NaN, quelques exemples de valeurs de ep (KW):\\n\\n{valeurs_uniques['ep (KW)'][:5]}\")"
   ]
  },
  {
   "cell_type": "code",
   "execution_count": null,
   "metadata": {},
   "outputs": [],
   "source": [
    "df['ep (KW)'].describe()"
   ]
  },
  {
   "cell_type": "code",
   "execution_count": null,
   "metadata": {},
   "outputs": [],
   "source": [
    "sns.histplot(df, x='ep (KW)')\n",
    "plt.show()"
   ]
  },
  {
   "cell_type": "code",
   "execution_count": null,
   "metadata": {},
   "outputs": [],
   "source": [
    "filtered_df = df[df[\"ep (KW)\"] > df[\"ep (KW)\"].quantile(0.75)]\n",
    "\n",
    "plt.figure(figsize=(10, 6))\n",
    "plt.scatter(filtered_df[\"ID\"], filtered_df[\"ep (KW)\"], c='b', marker='o', label=\"ep (KW)\")\n",
    "plt.xlabel(\"ID\")\n",
    "plt.ylabel(\"ep (KW)\")\n",
    "plt.title(\"Scatter Plot de ep (KW) pour les valeurs supérieures au 3e quartile\")\n",
    "plt.grid(True)\n",
    "plt.legend()\n",
    "plt.show()"
   ]
  },
  {
   "cell_type": "markdown",
   "metadata": {},
   "source": [
    "## z (Wh/km) - Electric energy consumption\n",
    "\n",
    "Consomation électrique des véhicules.\n",
    "\n",
    "**comment traiter**: on peut se mettre d'accord et dire qu'on attribue la valeur 0 aux véhicules à essence puisqu'ils ne consomment pas d'électricité (on a 5M de NaN). Aussi attention aux outliers (cf scatter plot)\n",
    "\n",
    "**GARDER**: Mettre a 0 les NaN. Outliers \n",
    "\n",
    "    if not hybrid or electric and z= NaN then z=0 else: z= moyenne"
   ]
  },
  {
   "cell_type": "code",
   "execution_count": null,
   "metadata": {},
   "outputs": [],
   "source": [
    "print(f\"On compte {nombre_val_unique['z (Wh/km)']} valeurs uniques et {df[df['z (Wh/km)'].isna()].shape[0]} NaN, quelques exemples de valeurs de z (Wh/km):\\n\\n{valeurs_uniques['z (Wh/km)'][:5]}\")"
   ]
  },
  {
   "cell_type": "code",
   "execution_count": null,
   "metadata": {},
   "outputs": [],
   "source": [
    "df['z (Wh/km)'].describe()"
   ]
  },
  {
   "cell_type": "code",
   "execution_count": null,
   "metadata": {},
   "outputs": [],
   "source": [
    "sns.histplot(df, x='z (Wh/km)')\n",
    "plt.show()"
   ]
  },
  {
   "cell_type": "code",
   "execution_count": null,
   "metadata": {},
   "outputs": [],
   "source": [
    "filtered_df = df[df[\"z (Wh/km)\"] > df[\"z (Wh/km)\"].quantile(0.75)]\n",
    "\n",
    "plt.figure(figsize=(10, 6))\n",
    "plt.scatter(filtered_df[\"ID\"], filtered_df[\"z (Wh/km)\"], c='b', marker='o', label=\"z (Wh/km)\")\n",
    "plt.xlabel(\"ID\")\n",
    "plt.ylabel(\"z (Wh/km)\")\n",
    "plt.title(\"Scatter Plot de z (Wh/km) pour les valeurs supérieures au 3e quartile\")\n",
    "plt.grid(True)\n",
    "plt.legend()\n",
    "plt.show()"
   ]
  },
  {
   "cell_type": "markdown",
   "metadata": {},
   "source": [
    "## IT - Innovative technology or group of innovative technologies\n",
    "\n",
    "Innovative technology: cette désignation est utilisée pour indiquer que le véhicule est équipé de nouvelles technologies ou de solutions innovantes qui peuvent améliorer la sécurité, l'efficacité énergétique, le confort ou d'autres aspects de la conduite.\n",
    "\n",
    "**mon avis**: on ne capte rien mdr, je propose carrément de supprimer cette colonne je vois pas comment on pourrait l'utiliser et on a pas le temps de décoder/ chercher à quoi correspond chaque code. Pas la peine d'essayer d'encoder non plus.\n",
    "\n",
    "**JETER**"
   ]
  },
  {
   "cell_type": "code",
   "execution_count": null,
   "metadata": {},
   "outputs": [],
   "source": [
    "print(f\"On compte {nombre_val_unique['IT']} valeurs uniques et {df[df['IT'].isna()].shape[0]} NaN, quelques exemples de valeurs de IT:\\n\\n{valeurs_uniques['IT'][:5]}\")"
   ]
  },
  {
   "cell_type": "markdown",
   "metadata": {},
   "source": [
    "## Erwltp (g/km) - Emissions reduction through innovative technologies (WLTP)\n",
    "\n",
    "L'indicateur Erwltp mesure la **réduction** des émissions de CO2 par rapport à une ligne de base établie grâce à l'incorporation de technologies plus propres, plus efficaces et plus respectueuses de l'environnement dans la conception et la fabrication du véhicule. Cette réduction des émissions est exprimée en grammes par kilomètre (g/km) et indique l'efficacité environnementale du véhicule en termes de réduction des émissions de CO2 lorsqu'il est testé selon le cycle de conduite WLTP.\n",
    "\n",
    "**avis**: jsp quoi en penser\n",
    "\n",
    "**METTRE DE COTE**"
   ]
  },
  {
   "cell_type": "code",
   "execution_count": null,
   "metadata": {},
   "outputs": [],
   "source": [
    "print(f\"On compte {nombre_val_unique['Erwltp (g/km)']} valeurs uniques et {df[df['Erwltp (g/km)'].isna()].shape[0]} NaN, quelques exemples de valeurs de Erwltp (g/km):\\n\\n{valeurs_uniques['Erwltp (g/km)'][:5]}\")"
   ]
  },
  {
   "cell_type": "markdown",
   "metadata": {},
   "source": [
    "## Country\n",
    "\n",
    "**JETER**"
   ]
  },
  {
   "cell_type": "code",
   "execution_count": null,
   "metadata": {},
   "outputs": [],
   "source": [
    "print(f\"On compte {nombre_val_unique['Country']} valeurs uniques et {df[df['Country'].isna()].shape[0]} NaN, quelques exemples de valeurs de Country:\\n\\n{valeurs_uniques['Country'][:5]}\")"
   ]
  },
  {
   "cell_type": "markdown",
   "metadata": {},
   "source": [
    "## Date of registration\n",
    "\n",
    "**avis**: aucune idée de ce qu'on en fait. Je pense qu'on peut les jeter, à cause de ça on a plein de doublons qui devraient être impurs et qui ne le sont pas car la date diffère\n",
    "\n",
    "**Jeter**"
   ]
  },
  {
   "cell_type": "code",
   "execution_count": null,
   "metadata": {},
   "outputs": [],
   "source": [
    "print(f\"On compte {nombre_val_unique['Date of registration']} valeurs uniques et {df[df['Date of registration'].isna()].shape[0]} NaN, quelques exemples de valeurs de Date of registration:\\n\\n{valeurs_uniques['Date of registration'][:5]}\")"
   ]
  },
  {
   "cell_type": "markdown",
   "metadata": {},
   "source": [
    "## \"Fuel consumption \"\n",
    "\n",
    "Attention il y a un espace a la fin..\n",
    "\n",
    "\n",
    "**GARDER**: if non (hybrid ou essence ou diesel) then: 0. Else: imputation par la moyenne.\n",
    "\n",
    "Attention outliers"
   ]
  },
  {
   "cell_type": "code",
   "execution_count": null,
   "metadata": {},
   "outputs": [],
   "source": [
    "print(f\"On compte {nombre_val_unique['Fuel consumption ']} valeurs uniques et {df[df['Fuel consumption '].isna()].shape[0]} NaN, quelques exemples de valeurs de Fuel consumption :\\n\\n{valeurs_uniques['Fuel consumption '][:5]}\")"
   ]
  },
  {
   "cell_type": "code",
   "execution_count": null,
   "metadata": {},
   "outputs": [],
   "source": [
    "df[\"Fuel consumption \"].describe()"
   ]
  },
  {
   "cell_type": "code",
   "execution_count": null,
   "metadata": {},
   "outputs": [],
   "source": [
    "filtered_df = df[df[\"Fuel consumption \"] > df[\"Fuel consumption \"].quantile(0.75)]\n",
    "\n",
    "plt.figure(figsize=(10, 6))\n",
    "plt.scatter(filtered_df[\"ID\"], filtered_df[\"Fuel consumption \"], c='b', marker='o', label=\"Fuel consumption \")\n",
    "plt.xlabel(\"ID\")\n",
    "plt.ylabel(\"Fuel consumption \")\n",
    "plt.title(\"Scatter Plot de Fuel consumption  pour les valeurs supérieures au 3e quartile\")\n",
    "plt.grid(True)\n",
    "plt.legend()\n",
    "plt.show()"
   ]
  },
  {
   "cell_type": "markdown",
   "metadata": {},
   "source": [
    "## Electric range (km)\n",
    "\n",
    "L'Electric Range (km) en automobile fait référence à l'autonomie d'un véhicule électrique, c'est-à-dire à la distance maximale que le véhicule peut parcourir en utilisant uniquement sa batterie électrique sans recourir à un moteur à combustion interne ou à un autre moyen de propulsion.\n",
    "\n",
    "**mon avis**: faire attention car on a 2 variables electric range (une en Wh/km et une en km)\n",
    "\n",
    "**GARDER**:  if non (hybrid ou essence ou diesel) then: 0. Else: imputation par la *médiane*."
   ]
  },
  {
   "cell_type": "code",
   "execution_count": null,
   "metadata": {},
   "outputs": [],
   "source": [
    "print(f\"On compte {nombre_val_unique['Electric range (km)']} valeurs uniques et {df[df['Electric range (km)'].isna()].shape[0]} NaN, quelques exemples de valeurs de Electric range (km):\\n\\n{valeurs_uniques['Electric range (km)'][:5]}\")"
   ]
  },
  {
   "cell_type": "code",
   "execution_count": null,
   "metadata": {},
   "outputs": [],
   "source": [
    "df['Electric range (km)'].describe()"
   ]
  },
  {
   "cell_type": "code",
   "execution_count": null,
   "metadata": {},
   "outputs": [],
   "source": [
    "filtered_df = df[df[\"Electric range (km)\"] > df[\"Electric range (km)\"].quantile(0.75)]\n",
    "\n",
    "plt.figure(figsize=(10, 6))\n",
    "plt.scatter(filtered_df[\"ID\"], filtered_df[\"Electric range (km)\"], c='b', marker='o', label=\"Electric range (km)\")\n",
    "plt.xlabel(\"ID\")\n",
    "plt.ylabel(\"Electric range (km)\")\n",
    "plt.title(\"Scatter Plot de Electric range (km) pour les valeurs supérieures au 3e quartile\")\n",
    "plt.grid(True)\n",
    "plt.legend()\n",
    "plt.show()"
   ]
  },
  {
   "cell_type": "code",
   "execution_count": null,
   "metadata": {},
   "outputs": [],
   "source": []
  }
 ],
 "metadata": {
  "kernelspec": {
   "display_name": "mining_venv",
   "language": "python",
   "name": "python3"
  },
  "language_info": {
   "codemirror_mode": {
    "name": "ipython",
    "version": 3
   },
   "file_extension": ".py",
   "mimetype": "text/x-python",
   "name": "python",
   "nbconvert_exporter": "python",
   "pygments_lexer": "ipython3",
   "version": "3.10.0"
  },
  "orig_nbformat": 4
 },
 "nbformat": 4,
 "nbformat_minor": 2
}
