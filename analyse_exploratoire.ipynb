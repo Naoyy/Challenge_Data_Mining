{
 "cells": [
  {
   "cell_type": "markdown",
   "metadata": {},
   "source": [
    "# Import + Chargement des données"
   ]
  },
  {
   "cell_type": "code",
   "execution_count": 1,
   "metadata": {},
   "outputs": [],
   "source": [
    "import numpy as np\n",
    "import pandas as pd\n",
    "import seaborn as sns\n",
    "from src.preprocessing import display_missing_values\n",
    "import matplotlib.pyplot as plt\n",
    "pd.set_option('display.max_columns', None)\n",
    "pd.set_option('display.float_format', '{:.2f}'.format)\n",
    "sns.set_theme(style=\"ticks\", palette=\"pastel\")"
   ]
  },
  {
   "cell_type": "code",
   "execution_count": 2,
   "metadata": {},
   "outputs": [],
   "source": [
    "from sklearn.impute import SimpleImputer\n",
    "mean_imputer=SimpleImputer(missing_values=np.nan, strategy=\"mean\")\n",
    "median_imputer=SimpleImputer(missing_values=np.nan, strategy=\"median\",)"
   ]
  },
  {
   "cell_type": "code",
   "execution_count": null,
   "metadata": {},
   "outputs": [],
   "source": []
  },
  {
   "cell_type": "code",
   "execution_count": 3,
   "metadata": {},
   "outputs": [],
   "source": [
    "df= pd.read_csv( \"data/train.csv\", sep=\",\",low_memory=False)"
   ]
  },
  {
   "cell_type": "markdown",
   "metadata": {},
   "source": [
    "# General Analysis\n",
    "## Observations + columns"
   ]
  },
  {
   "cell_type": "code",
   "execution_count": 4,
   "metadata": {},
   "outputs": [
    {
     "name": "stdout",
     "output_type": "stream",
     "text": [
      "on compte 7571649 observations et 37 colonnes\n",
      "\n",
      "les colonnes sont:\n",
      "\n",
      " Index(['ID', 'Country', 'VFN', 'Mp', 'Mh', 'Man', 'MMS', 'Tan', 'T', 'Va',\n",
      "       'Ve', 'Mk', 'Cn', 'Ct', 'Cr', 'r', 'm (kg)', 'Mt', 'Enedc (g/km)',\n",
      "       'Ewltp (g/km)', 'W (mm)', 'At1 (mm)', 'At2 (mm)', 'Ft', 'Fm',\n",
      "       'ec (cm3)', 'ep (KW)', 'z (Wh/km)', 'IT', 'Ernedc (g/km)',\n",
      "       'Erwltp (g/km)', 'De', 'Vf', 'Status', 'Date of registration',\n",
      "       'Fuel consumption ', 'Electric range (km)'],\n",
      "      dtype='object')\n"
     ]
    }
   ],
   "source": [
    "print(f\"on compte {df.shape[0]} observations et {df.shape[1]} colonnes\\n\")\n",
    "print(f\"les colonnes sont:\\n\\n {df.columns}\")"
   ]
  },
  {
   "cell_type": "code",
   "execution_count": 5,
   "metadata": {},
   "outputs": [],
   "source": [
    "target ='Ewltp (g/km)'"
   ]
  },
  {
   "cell_type": "code",
   "execution_count": 6,
   "metadata": {},
   "outputs": [
    {
     "data": {
      "text/html": [
       "<div>\n",
       "<style scoped>\n",
       "    .dataframe tbody tr th:only-of-type {\n",
       "        vertical-align: middle;\n",
       "    }\n",
       "\n",
       "    .dataframe tbody tr th {\n",
       "        vertical-align: top;\n",
       "    }\n",
       "\n",
       "    .dataframe thead th {\n",
       "        text-align: right;\n",
       "    }\n",
       "</style>\n",
       "<table border=\"1\" class=\"dataframe\">\n",
       "  <thead>\n",
       "    <tr style=\"text-align: right;\">\n",
       "      <th></th>\n",
       "      <th>ID</th>\n",
       "      <th>Country</th>\n",
       "      <th>VFN</th>\n",
       "      <th>Mp</th>\n",
       "      <th>Mh</th>\n",
       "      <th>Man</th>\n",
       "      <th>MMS</th>\n",
       "      <th>Tan</th>\n",
       "      <th>T</th>\n",
       "      <th>Va</th>\n",
       "      <th>Ve</th>\n",
       "      <th>Mk</th>\n",
       "      <th>Cn</th>\n",
       "      <th>Ct</th>\n",
       "      <th>Cr</th>\n",
       "      <th>r</th>\n",
       "      <th>m (kg)</th>\n",
       "      <th>Mt</th>\n",
       "      <th>Enedc (g/km)</th>\n",
       "      <th>Ewltp (g/km)</th>\n",
       "      <th>W (mm)</th>\n",
       "      <th>At1 (mm)</th>\n",
       "      <th>At2 (mm)</th>\n",
       "      <th>Ft</th>\n",
       "      <th>Fm</th>\n",
       "      <th>ec (cm3)</th>\n",
       "      <th>ep (KW)</th>\n",
       "      <th>z (Wh/km)</th>\n",
       "      <th>IT</th>\n",
       "      <th>Ernedc (g/km)</th>\n",
       "      <th>Erwltp (g/km)</th>\n",
       "      <th>De</th>\n",
       "      <th>Vf</th>\n",
       "      <th>Status</th>\n",
       "      <th>Date of registration</th>\n",
       "      <th>Fuel consumption</th>\n",
       "      <th>Electric range (km)</th>\n",
       "    </tr>\n",
       "  </thead>\n",
       "  <tbody>\n",
       "    <tr>\n",
       "      <th>0</th>\n",
       "      <td>0</td>\n",
       "      <td>DE</td>\n",
       "      <td>IP-C519_2022_00008-WF0-1</td>\n",
       "      <td>FORD</td>\n",
       "      <td>FORD WERKE GMBH</td>\n",
       "      <td>FORD WERKE GMBH</td>\n",
       "      <td>NaN</td>\n",
       "      <td>e13*2007/46*1911*15</td>\n",
       "      <td>DEH</td>\n",
       "      <td>R0DB1NX</td>\n",
       "      <td>5BSCENA5JBS</td>\n",
       "      <td>FORD</td>\n",
       "      <td>FOCUS</td>\n",
       "      <td>M1</td>\n",
       "      <td>M1</td>\n",
       "      <td>1</td>\n",
       "      <td>1387.00</td>\n",
       "      <td>1534.00</td>\n",
       "      <td>NaN</td>\n",
       "      <td>401.05</td>\n",
       "      <td>2700.00</td>\n",
       "      <td>1571.00</td>\n",
       "      <td>1576.00</td>\n",
       "      <td>PETROL</td>\n",
       "      <td>H</td>\n",
       "      <td>999.00</td>\n",
       "      <td>92.00</td>\n",
       "      <td>NaN</td>\n",
       "      <td>e13 32 37</td>\n",
       "      <td>NaN</td>\n",
       "      <td>2.30</td>\n",
       "      <td>NaN</td>\n",
       "      <td>NaN</td>\n",
       "      <td>P</td>\n",
       "      <td>2022-08-29</td>\n",
       "      <td>5.60</td>\n",
       "      <td>NaN</td>\n",
       "    </tr>\n",
       "    <tr>\n",
       "      <th>1</th>\n",
       "      <td>1</td>\n",
       "      <td>FR</td>\n",
       "      <td>IP-MQB27ZZ_A2_0529-WVW-1</td>\n",
       "      <td>VOLKSWAGEN</td>\n",
       "      <td>VOLKSWAGEN</td>\n",
       "      <td>VOLKSWAGEN AG</td>\n",
       "      <td>NaN</td>\n",
       "      <td>e1*2007/46*1783*29</td>\n",
       "      <td>AW</td>\n",
       "      <td>ABDLAC</td>\n",
       "      <td>FM5FM5DF008N3VR24BI1CA0I</td>\n",
       "      <td>VOLKSWAGEN</td>\n",
       "      <td>POLO</td>\n",
       "      <td>M1</td>\n",
       "      <td>M1</td>\n",
       "      <td>1</td>\n",
       "      <td>1172.00</td>\n",
       "      <td>1337.00</td>\n",
       "      <td>NaN</td>\n",
       "      <td>394.68</td>\n",
       "      <td>2552.00</td>\n",
       "      <td>1500.00</td>\n",
       "      <td>1483.00</td>\n",
       "      <td>PETROL</td>\n",
       "      <td>M</td>\n",
       "      <td>999.00</td>\n",
       "      <td>70.00</td>\n",
       "      <td>NaN</td>\n",
       "      <td>e1 29</td>\n",
       "      <td>NaN</td>\n",
       "      <td>1.14</td>\n",
       "      <td>NaN</td>\n",
       "      <td>NaN</td>\n",
       "      <td>P</td>\n",
       "      <td>2022-02-22</td>\n",
       "      <td>5.50</td>\n",
       "      <td>NaN</td>\n",
       "    </tr>\n",
       "    <tr>\n",
       "      <th>2</th>\n",
       "      <td>2</td>\n",
       "      <td>FR</td>\n",
       "      <td>IP-MQB27ZZ_A1_0533-WVW-1</td>\n",
       "      <td>VOLKSWAGEN</td>\n",
       "      <td>VOLKSWAGEN</td>\n",
       "      <td>VOLKSWAGEN AG</td>\n",
       "      <td>NaN</td>\n",
       "      <td>e1*2007/46*1783*29</td>\n",
       "      <td>AW</td>\n",
       "      <td>ABDLAC</td>\n",
       "      <td>FD7FD7CW005N2VR24BI1AA0I</td>\n",
       "      <td>VOLKSWAGEN</td>\n",
       "      <td>POLO</td>\n",
       "      <td>M1</td>\n",
       "      <td>M1</td>\n",
       "      <td>1</td>\n",
       "      <td>1204.00</td>\n",
       "      <td>1335.00</td>\n",
       "      <td>NaN</td>\n",
       "      <td>398.56</td>\n",
       "      <td>2552.00</td>\n",
       "      <td>1500.00</td>\n",
       "      <td>1483.00</td>\n",
       "      <td>PETROL</td>\n",
       "      <td>M</td>\n",
       "      <td>999.00</td>\n",
       "      <td>70.00</td>\n",
       "      <td>NaN</td>\n",
       "      <td>e1 29</td>\n",
       "      <td>NaN</td>\n",
       "      <td>1.14</td>\n",
       "      <td>NaN</td>\n",
       "      <td>NaN</td>\n",
       "      <td>P</td>\n",
       "      <td>2022-03-26</td>\n",
       "      <td>5.60</td>\n",
       "      <td>NaN</td>\n",
       "    </tr>\n",
       "    <tr>\n",
       "      <th>3</th>\n",
       "      <td>3</td>\n",
       "      <td>DE</td>\n",
       "      <td>IP-04-U5Y-2018-1137</td>\n",
       "      <td>KIA</td>\n",
       "      <td>KIA SLOVAKIA</td>\n",
       "      <td>KIA SLOVAKIA SRO</td>\n",
       "      <td>NaN</td>\n",
       "      <td>e4*2007/46*1299*18</td>\n",
       "      <td>CD</td>\n",
       "      <td>BAP71</td>\n",
       "      <td>D73F12</td>\n",
       "      <td>KIA</td>\n",
       "      <td>PROCEED</td>\n",
       "      <td>M1</td>\n",
       "      <td>M1</td>\n",
       "      <td>1</td>\n",
       "      <td>1438.00</td>\n",
       "      <td>1588.00</td>\n",
       "      <td>NaN</td>\n",
       "      <td>479.47</td>\n",
       "      <td>2650.00</td>\n",
       "      <td>1555.00</td>\n",
       "      <td>1563.00</td>\n",
       "      <td>PETROL</td>\n",
       "      <td>M</td>\n",
       "      <td>1591.00</td>\n",
       "      <td>150.00</td>\n",
       "      <td>NaN</td>\n",
       "      <td>e4 28</td>\n",
       "      <td>NaN</td>\n",
       "      <td>0.80</td>\n",
       "      <td>NaN</td>\n",
       "      <td>NaN</td>\n",
       "      <td>P</td>\n",
       "      <td>2022-09-01</td>\n",
       "      <td>6.80</td>\n",
       "      <td>NaN</td>\n",
       "    </tr>\n",
       "    <tr>\n",
       "      <th>4</th>\n",
       "      <td>4</td>\n",
       "      <td>FR</td>\n",
       "      <td>IP-MQB27ZZ_B2_0534-WVW-1</td>\n",
       "      <td>VOLKSWAGEN</td>\n",
       "      <td>VOLKSWAGEN</td>\n",
       "      <td>VOLKSWAGEN AG</td>\n",
       "      <td>NaN</td>\n",
       "      <td>e1*2007/46*1783*29</td>\n",
       "      <td>AW</td>\n",
       "      <td>ABDLAA</td>\n",
       "      <td>FD7FD7CW005N2VR24BI1CB0I</td>\n",
       "      <td>VOLKSWAGEN</td>\n",
       "      <td>POLO</td>\n",
       "      <td>M1</td>\n",
       "      <td>M1</td>\n",
       "      <td>1</td>\n",
       "      <td>1207.00</td>\n",
       "      <td>1350.00</td>\n",
       "      <td>NaN</td>\n",
       "      <td>421.85</td>\n",
       "      <td>2552.00</td>\n",
       "      <td>1500.00</td>\n",
       "      <td>1483.00</td>\n",
       "      <td>PETROL</td>\n",
       "      <td>M</td>\n",
       "      <td>999.00</td>\n",
       "      <td>81.00</td>\n",
       "      <td>NaN</td>\n",
       "      <td>e1 29</td>\n",
       "      <td>NaN</td>\n",
       "      <td>1.14</td>\n",
       "      <td>NaN</td>\n",
       "      <td>NaN</td>\n",
       "      <td>P</td>\n",
       "      <td>2022-01-21</td>\n",
       "      <td>5.90</td>\n",
       "      <td>NaN</td>\n",
       "    </tr>\n",
       "  </tbody>\n",
       "</table>\n",
       "</div>"
      ],
      "text/plain": [
       "   ID Country                       VFN          Mp               Mh  \\\n",
       "0   0      DE  IP-C519_2022_00008-WF0-1        FORD  FORD WERKE GMBH   \n",
       "1   1      FR  IP-MQB27ZZ_A2_0529-WVW-1  VOLKSWAGEN       VOLKSWAGEN   \n",
       "2   2      FR  IP-MQB27ZZ_A1_0533-WVW-1  VOLKSWAGEN       VOLKSWAGEN   \n",
       "3   3      DE       IP-04-U5Y-2018-1137         KIA     KIA SLOVAKIA   \n",
       "4   4      FR  IP-MQB27ZZ_B2_0534-WVW-1  VOLKSWAGEN       VOLKSWAGEN   \n",
       "\n",
       "                Man  MMS                  Tan    T       Va  \\\n",
       "0   FORD WERKE GMBH  NaN  e13*2007/46*1911*15  DEH  R0DB1NX   \n",
       "1     VOLKSWAGEN AG  NaN   e1*2007/46*1783*29   AW   ABDLAC   \n",
       "2     VOLKSWAGEN AG  NaN   e1*2007/46*1783*29   AW   ABDLAC   \n",
       "3  KIA SLOVAKIA SRO  NaN   e4*2007/46*1299*18   CD    BAP71   \n",
       "4     VOLKSWAGEN AG  NaN   e1*2007/46*1783*29   AW   ABDLAA   \n",
       "\n",
       "                         Ve          Mk       Cn  Ct  Cr  r  m (kg)      Mt  \\\n",
       "0               5BSCENA5JBS        FORD    FOCUS  M1  M1  1 1387.00 1534.00   \n",
       "1  FM5FM5DF008N3VR24BI1CA0I  VOLKSWAGEN     POLO  M1  M1  1 1172.00 1337.00   \n",
       "2  FD7FD7CW005N2VR24BI1AA0I  VOLKSWAGEN     POLO  M1  M1  1 1204.00 1335.00   \n",
       "3                    D73F12         KIA  PROCEED  M1  M1  1 1438.00 1588.00   \n",
       "4  FD7FD7CW005N2VR24BI1CB0I  VOLKSWAGEN     POLO  M1  M1  1 1207.00 1350.00   \n",
       "\n",
       "   Enedc (g/km)  Ewltp (g/km)  W (mm)  At1 (mm)  At2 (mm)      Ft Fm  \\\n",
       "0           NaN        401.05 2700.00   1571.00   1576.00  PETROL  H   \n",
       "1           NaN        394.68 2552.00   1500.00   1483.00  PETROL  M   \n",
       "2           NaN        398.56 2552.00   1500.00   1483.00  PETROL  M   \n",
       "3           NaN        479.47 2650.00   1555.00   1563.00  PETROL  M   \n",
       "4           NaN        421.85 2552.00   1500.00   1483.00  PETROL  M   \n",
       "\n",
       "   ec (cm3)  ep (KW)  z (Wh/km)         IT  Ernedc (g/km)  Erwltp (g/km)  De  \\\n",
       "0    999.00    92.00        NaN  e13 32 37            NaN           2.30 NaN   \n",
       "1    999.00    70.00        NaN      e1 29            NaN           1.14 NaN   \n",
       "2    999.00    70.00        NaN      e1 29            NaN           1.14 NaN   \n",
       "3   1591.00   150.00        NaN      e4 28            NaN           0.80 NaN   \n",
       "4    999.00    81.00        NaN      e1 29            NaN           1.14 NaN   \n",
       "\n",
       "   Vf Status Date of registration  Fuel consumption   Electric range (km)  \n",
       "0 NaN      P           2022-08-29               5.60                  NaN  \n",
       "1 NaN      P           2022-02-22               5.50                  NaN  \n",
       "2 NaN      P           2022-03-26               5.60                  NaN  \n",
       "3 NaN      P           2022-09-01               6.80                  NaN  \n",
       "4 NaN      P           2022-01-21               5.90                  NaN  "
      ]
     },
     "execution_count": 6,
     "metadata": {},
     "output_type": "execute_result"
    }
   ],
   "source": [
    "df.head()"
   ]
  },
  {
   "cell_type": "code",
   "execution_count": 7,
   "metadata": {},
   "outputs": [
    {
     "name": "stdout",
     "output_type": "stream",
     "text": [
      "Liste des colonnes catégorielles :\n",
      "['Country', 'VFN', 'Mp', 'Mh', 'Man', 'Tan', 'T', 'Va', 'Ve', 'Mk', 'Cn', 'Ct', 'Cr', 'Ft', 'Fm', 'IT', 'Status', 'Date of registration']\n",
      "\n",
      "Liste des colonnes numériques :\n",
      "['ID', 'MMS', 'r', 'm (kg)', 'Mt', 'Enedc (g/km)', 'Ewltp (g/km)', 'W (mm)', 'At1 (mm)', 'At2 (mm)', 'ec (cm3)', 'ep (KW)', 'z (Wh/km)', 'Ernedc (g/km)', 'Erwltp (g/km)', 'De', 'Vf', 'Fuel consumption ', 'Electric range (km)']\n"
     ]
    }
   ],
   "source": [
    "col_categoricals = df.select_dtypes(include=\"object\").columns.tolist()\n",
    "\n",
    "# Puis les numériques\n",
    "col_numericals = [col for col in df.columns if col not in col_categoricals]\n",
    "\n",
    "\n",
    "print(f\"Liste des colonnes catégorielles :\\n{col_categoricals}\")\n",
    "print(f\"\\nListe des colonnes numériques :\\n{col_numericals}\")"
   ]
  },
  {
   "cell_type": "markdown",
   "metadata": {},
   "source": [
    "## Doublons impurs (hors ID, Target et Date of registration)\n",
    "\n",
    "6M de doublons impurs"
   ]
  },
  {
   "cell_type": "code",
   "execution_count": 8,
   "metadata": {},
   "outputs": [
    {
     "name": "stdout",
     "output_type": "stream",
     "text": [
      "Il y a 6082711 individus qui présentent exactement les mêmes caractéristiques (hors colonne 'ID', target et Date of Registration).\n"
     ]
    }
   ],
   "source": [
    "selected_columns = [col for col in df.columns if col not in ['ID','Ewltp (g/km)','Date of registration']]\n",
    "\n",
    "duplicate_count = df.duplicated(subset=selected_columns).sum()\n",
    "\n",
    "print(f\"Il y a {duplicate_count} individus qui présentent exactement les mêmes caractéristiques (hors colonne 'ID', target et Date of Registration).\")\n"
   ]
  },
  {
   "cell_type": "code",
   "execution_count": 9,
   "metadata": {},
   "outputs": [
    {
     "data": {
      "text/plain": [
       "(1488938, 37)"
      ]
     },
     "execution_count": 9,
     "metadata": {},
     "output_type": "execute_result"
    }
   ],
   "source": [
    "df.drop_duplicates(subset=selected_columns).shape"
   ]
  },
  {
   "cell_type": "markdown",
   "metadata": {},
   "source": [
    "## Pré traitement pour meilleur analyse \n",
    "\n",
    "drop des doublons"
   ]
  },
  {
   "cell_type": "code",
   "execution_count": 10,
   "metadata": {},
   "outputs": [],
   "source": [
    "selected_columns = [col for col in df.columns if col not in ['ID','Ewltp (g/km)','Date of registration']]\n",
    "\n",
    "df.drop_duplicates(subset=selected_columns, inplace=True)"
   ]
  },
  {
   "cell_type": "code",
   "execution_count": 11,
   "metadata": {},
   "outputs": [
    {
     "data": {
      "text/plain": [
       "(1488938, 37)"
      ]
     },
     "execution_count": 11,
     "metadata": {},
     "output_type": "execute_result"
    }
   ],
   "source": [
    "df.shape"
   ]
  },
  {
   "cell_type": "markdown",
   "metadata": {},
   "source": [
    "## NaN and Unique values"
   ]
  },
  {
   "cell_type": "code",
   "execution_count": 12,
   "metadata": {},
   "outputs": [
    {
     "data": {
      "text/html": [
       "<div>\n",
       "<style scoped>\n",
       "    .dataframe tbody tr th:only-of-type {\n",
       "        vertical-align: middle;\n",
       "    }\n",
       "\n",
       "    .dataframe tbody tr th {\n",
       "        vertical-align: top;\n",
       "    }\n",
       "\n",
       "    .dataframe thead th {\n",
       "        text-align: right;\n",
       "    }\n",
       "</style>\n",
       "<table border=\"1\" class=\"dataframe\">\n",
       "  <thead>\n",
       "    <tr style=\"text-align: right;\">\n",
       "      <th></th>\n",
       "      <th>Colonne</th>\n",
       "      <th>pourcentage manquant</th>\n",
       "      <th>nombre</th>\n",
       "    </tr>\n",
       "  </thead>\n",
       "  <tbody>\n",
       "    <tr>\n",
       "      <th>0</th>\n",
       "      <td>MMS</td>\n",
       "      <td>100.00</td>\n",
       "      <td>1488938</td>\n",
       "    </tr>\n",
       "    <tr>\n",
       "      <th>1</th>\n",
       "      <td>Ernedc (g/km)</td>\n",
       "      <td>100.00</td>\n",
       "      <td>1488938</td>\n",
       "    </tr>\n",
       "    <tr>\n",
       "      <th>2</th>\n",
       "      <td>De</td>\n",
       "      <td>100.00</td>\n",
       "      <td>1488938</td>\n",
       "    </tr>\n",
       "    <tr>\n",
       "      <th>3</th>\n",
       "      <td>Vf</td>\n",
       "      <td>100.00</td>\n",
       "      <td>1488938</td>\n",
       "    </tr>\n",
       "    <tr>\n",
       "      <th>4</th>\n",
       "      <td>Enedc (g/km)</td>\n",
       "      <td>87.35</td>\n",
       "      <td>1300573</td>\n",
       "    </tr>\n",
       "    <tr>\n",
       "      <th>5</th>\n",
       "      <td>Electric range (km)</td>\n",
       "      <td>84.26</td>\n",
       "      <td>1254625</td>\n",
       "    </tr>\n",
       "    <tr>\n",
       "      <th>6</th>\n",
       "      <td>z (Wh/km)</td>\n",
       "      <td>79.27</td>\n",
       "      <td>1180349</td>\n",
       "    </tr>\n",
       "    <tr>\n",
       "      <th>7</th>\n",
       "      <td>Erwltp (g/km)</td>\n",
       "      <td>47.11</td>\n",
       "      <td>701413</td>\n",
       "    </tr>\n",
       "    <tr>\n",
       "      <th>8</th>\n",
       "      <td>IT</td>\n",
       "      <td>39.19</td>\n",
       "      <td>583511</td>\n",
       "    </tr>\n",
       "    <tr>\n",
       "      <th>9</th>\n",
       "      <td>Fuel consumption</td>\n",
       "      <td>16.63</td>\n",
       "      <td>247562</td>\n",
       "    </tr>\n",
       "    <tr>\n",
       "      <th>10</th>\n",
       "      <td>ec (cm3)</td>\n",
       "      <td>9.08</td>\n",
       "      <td>135129</td>\n",
       "    </tr>\n",
       "    <tr>\n",
       "      <th>11</th>\n",
       "      <td>VFN</td>\n",
       "      <td>6.81</td>\n",
       "      <td>101337</td>\n",
       "    </tr>\n",
       "    <tr>\n",
       "      <th>12</th>\n",
       "      <td>Mp</td>\n",
       "      <td>4.46</td>\n",
       "      <td>66348</td>\n",
       "    </tr>\n",
       "    <tr>\n",
       "      <th>13</th>\n",
       "      <td>Mt</td>\n",
       "      <td>4.01</td>\n",
       "      <td>59646</td>\n",
       "    </tr>\n",
       "    <tr>\n",
       "      <th>14</th>\n",
       "      <td>At2 (mm)</td>\n",
       "      <td>3.51</td>\n",
       "      <td>52290</td>\n",
       "    </tr>\n",
       "    <tr>\n",
       "      <th>15</th>\n",
       "      <td>At1 (mm)</td>\n",
       "      <td>3.46</td>\n",
       "      <td>51464</td>\n",
       "    </tr>\n",
       "    <tr>\n",
       "      <th>16</th>\n",
       "      <td>Date of registration</td>\n",
       "      <td>1.76</td>\n",
       "      <td>26222</td>\n",
       "    </tr>\n",
       "    <tr>\n",
       "      <th>17</th>\n",
       "      <td>Cn</td>\n",
       "      <td>1.40</td>\n",
       "      <td>20909</td>\n",
       "    </tr>\n",
       "    <tr>\n",
       "      <th>18</th>\n",
       "      <td>Ve</td>\n",
       "      <td>0.93</td>\n",
       "      <td>13810</td>\n",
       "    </tr>\n",
       "    <tr>\n",
       "      <th>19</th>\n",
       "      <td>ep (KW)</td>\n",
       "      <td>0.31</td>\n",
       "      <td>4589</td>\n",
       "    </tr>\n",
       "    <tr>\n",
       "      <th>20</th>\n",
       "      <td>W (mm)</td>\n",
       "      <td>0.22</td>\n",
       "      <td>3269</td>\n",
       "    </tr>\n",
       "    <tr>\n",
       "      <th>21</th>\n",
       "      <td>Tan</td>\n",
       "      <td>0.21</td>\n",
       "      <td>3068</td>\n",
       "    </tr>\n",
       "    <tr>\n",
       "      <th>22</th>\n",
       "      <td>Va</td>\n",
       "      <td>0.17</td>\n",
       "      <td>2517</td>\n",
       "    </tr>\n",
       "    <tr>\n",
       "      <th>23</th>\n",
       "      <td>Ct</td>\n",
       "      <td>0.06</td>\n",
       "      <td>952</td>\n",
       "    </tr>\n",
       "    <tr>\n",
       "      <th>24</th>\n",
       "      <td>T</td>\n",
       "      <td>0.04</td>\n",
       "      <td>670</td>\n",
       "    </tr>\n",
       "    <tr>\n",
       "      <th>25</th>\n",
       "      <td>Mk</td>\n",
       "      <td>0.01</td>\n",
       "      <td>83</td>\n",
       "    </tr>\n",
       "    <tr>\n",
       "      <th>26</th>\n",
       "      <td>m (kg)</td>\n",
       "      <td>0.00</td>\n",
       "      <td>47</td>\n",
       "    </tr>\n",
       "    <tr>\n",
       "      <th>27</th>\n",
       "      <td>Fm</td>\n",
       "      <td>0.00</td>\n",
       "      <td>14</td>\n",
       "    </tr>\n",
       "    <tr>\n",
       "      <th>28</th>\n",
       "      <td>ID</td>\n",
       "      <td>0.00</td>\n",
       "      <td>0</td>\n",
       "    </tr>\n",
       "    <tr>\n",
       "      <th>29</th>\n",
       "      <td>Country</td>\n",
       "      <td>0.00</td>\n",
       "      <td>0</td>\n",
       "    </tr>\n",
       "    <tr>\n",
       "      <th>30</th>\n",
       "      <td>Mh</td>\n",
       "      <td>0.00</td>\n",
       "      <td>0</td>\n",
       "    </tr>\n",
       "    <tr>\n",
       "      <th>31</th>\n",
       "      <td>Man</td>\n",
       "      <td>0.00</td>\n",
       "      <td>0</td>\n",
       "    </tr>\n",
       "    <tr>\n",
       "      <th>32</th>\n",
       "      <td>Cr</td>\n",
       "      <td>0.00</td>\n",
       "      <td>0</td>\n",
       "    </tr>\n",
       "    <tr>\n",
       "      <th>33</th>\n",
       "      <td>r</td>\n",
       "      <td>0.00</td>\n",
       "      <td>0</td>\n",
       "    </tr>\n",
       "    <tr>\n",
       "      <th>34</th>\n",
       "      <td>Ewltp (g/km)</td>\n",
       "      <td>0.00</td>\n",
       "      <td>0</td>\n",
       "    </tr>\n",
       "    <tr>\n",
       "      <th>35</th>\n",
       "      <td>Ft</td>\n",
       "      <td>0.00</td>\n",
       "      <td>0</td>\n",
       "    </tr>\n",
       "    <tr>\n",
       "      <th>36</th>\n",
       "      <td>Status</td>\n",
       "      <td>0.00</td>\n",
       "      <td>0</td>\n",
       "    </tr>\n",
       "  </tbody>\n",
       "</table>\n",
       "</div>"
      ],
      "text/plain": [
       "                 Colonne  pourcentage manquant   nombre\n",
       "0                    MMS                100.00  1488938\n",
       "1          Ernedc (g/km)                100.00  1488938\n",
       "2                     De                100.00  1488938\n",
       "3                     Vf                100.00  1488938\n",
       "4           Enedc (g/km)                 87.35  1300573\n",
       "5    Electric range (km)                 84.26  1254625\n",
       "6              z (Wh/km)                 79.27  1180349\n",
       "7          Erwltp (g/km)                 47.11   701413\n",
       "8                     IT                 39.19   583511\n",
       "9      Fuel consumption                  16.63   247562\n",
       "10              ec (cm3)                  9.08   135129\n",
       "11                   VFN                  6.81   101337\n",
       "12                    Mp                  4.46    66348\n",
       "13                    Mt                  4.01    59646\n",
       "14              At2 (mm)                  3.51    52290\n",
       "15              At1 (mm)                  3.46    51464\n",
       "16  Date of registration                  1.76    26222\n",
       "17                    Cn                  1.40    20909\n",
       "18                    Ve                  0.93    13810\n",
       "19               ep (KW)                  0.31     4589\n",
       "20                W (mm)                  0.22     3269\n",
       "21                   Tan                  0.21     3068\n",
       "22                    Va                  0.17     2517\n",
       "23                    Ct                  0.06      952\n",
       "24                     T                  0.04      670\n",
       "25                    Mk                  0.01       83\n",
       "26                m (kg)                  0.00       47\n",
       "27                    Fm                  0.00       14\n",
       "28                    ID                  0.00        0\n",
       "29               Country                  0.00        0\n",
       "30                    Mh                  0.00        0\n",
       "31                   Man                  0.00        0\n",
       "32                    Cr                  0.00        0\n",
       "33                     r                  0.00        0\n",
       "34          Ewltp (g/km)                  0.00        0\n",
       "35                    Ft                  0.00        0\n",
       "36                Status                  0.00        0"
      ]
     },
     "execution_count": 12,
     "metadata": {},
     "output_type": "execute_result"
    }
   ],
   "source": [
    "display_missing_values(df)"
   ]
  },
  {
   "cell_type": "code",
   "execution_count": 13,
   "metadata": {},
   "outputs": [],
   "source": [
    "valeurs_uniques = {}\n",
    "nombre_val_unique={}\n",
    "for col in df.columns:\n",
    "    valeurs_uniques[col]=df[col].unique().tolist()\n",
    "    nombre_val_unique[col]=df[col].nunique()"
   ]
  },
  {
   "cell_type": "code",
   "execution_count": 14,
   "metadata": {},
   "outputs": [
    {
     "name": "stdout",
     "output_type": "stream",
     "text": [
      "r 1\n",
      "Status 1\n"
     ]
    }
   ],
   "source": [
    "for element in nombre_val_unique:\n",
    "    if nombre_val_unique[element]==1:\n",
    "        print(element, nombre_val_unique[element])"
   ]
  },
  {
   "cell_type": "code",
   "execution_count": 15,
   "metadata": {},
   "outputs": [
    {
     "name": "stdout",
     "output_type": "stream",
     "text": [
      "La colonne ID a 1488938 uniques\n",
      "La colonne Country a 29 uniques\n",
      "La colonne VFN a 8456 uniques\n",
      "La colonne Mp a 10 uniques\n",
      "La colonne Mh a 95 uniques\n",
      "La colonne Man a 104 uniques\n",
      "La colonne MMS a 0 uniques\n",
      "La colonne Tan a 6318 uniques\n",
      "La colonne T a 1506 uniques\n",
      "La colonne Va a 5413 uniques\n",
      "La colonne Ve a 25570 uniques\n",
      "La colonne Mk a 694 uniques\n",
      "La colonne Cn a 8323 uniques\n",
      "La colonne Ct a 5 uniques\n",
      "La colonne Cr a 3 uniques\n",
      "La colonne r a 1 uniques\n",
      "La colonne m (kg) a 2238 uniques\n",
      "La colonne Mt a 2180 uniques\n",
      "La colonne Enedc (g/km) a 39 uniques\n",
      "La colonne Ewltp (g/km) a 1488938 uniques\n",
      "La colonne W (mm) a 614 uniques\n",
      "La colonne At1 (mm) a 1016 uniques\n",
      "La colonne At2 (mm) a 1018 uniques\n",
      "La colonne Ft a 11 uniques\n",
      "La colonne Fm a 6 uniques\n",
      "La colonne ec (cm3) a 265 uniques\n",
      "La colonne ep (KW) a 399 uniques\n",
      "La colonne z (Wh/km) a 343 uniques\n",
      "La colonne IT a 487 uniques\n",
      "La colonne Ernedc (g/km) a 0 uniques\n",
      "La colonne Erwltp (g/km) a 204 uniques\n",
      "La colonne De a 0 uniques\n",
      "La colonne Vf a 0 uniques\n",
      "La colonne Status a 1 uniques\n",
      "La colonne Date of registration a 365 uniques\n",
      "La colonne Fuel consumption  a 292 uniques\n",
      "La colonne Electric range (km) a 670 uniques\n"
     ]
    }
   ],
   "source": [
    "for cle,valeur in nombre_val_unique.items():\n",
    "    print(f\"La colonne {cle} a {valeur} uniques\")"
   ]
  },
  {
   "cell_type": "code",
   "execution_count": 16,
   "metadata": {},
   "outputs": [
    {
     "data": {
      "text/plain": [
       "array(['FORD', 'VOLKSWAGEN', 'KIA', 'MERCEDES-BENZ',\n",
       "       'RENAULT-NISSAN-MITSUBISHI', 'STELLANTIS',\n",
       "       'MAZDA-SUBARU-SUZUKI-TOYOTA', 'TESLA-HONDA-JLR', nan, 'BMW',\n",
       "       'HYUNDAI MOTOR EUROPE'], dtype=object)"
      ]
     },
     "execution_count": 16,
     "metadata": {},
     "output_type": "execute_result"
    }
   ],
   "source": [
    "df[\"Mp\"].unique()"
   ]
  },
  {
   "cell_type": "code",
   "execution_count": 17,
   "metadata": {},
   "outputs": [
    {
     "data": {
      "image/png": "[encoded data removed]",
      "text/plain": [
       "<Figure size 1200x600 with 1 Axes>"
      ]
     },
     "metadata": {},
     "output_type": "display_data"
    }
   ],
   "source": [
    "plt.figure(figsize=(12, 6))\n",
    "sns.boxplot(x='Mp', y='Ewltp (g/km)', data=df)\n",
    "plt.title('Boxplot de Ewltp (g/km) par Mp')\n",
    "plt.xticks(rotation=45, ha='right')\n",
    "plt.show()"
   ]
  },
  {
   "cell_type": "code",
   "execution_count": 18,
   "metadata": {},
   "outputs": [
    {
     "name": "stdout",
     "output_type": "stream",
     "text": [
      "Résultats de l'ANOVA :\n",
      "Statistique F = 1841.8911243806347\n",
      "p-valeur = 0.0\n"
     ]
    }
   ],
   "source": [
    "from scipy.stats import f_oneway\n",
    "# Effectuer l'ANOVA\n",
    "anova_result = f_oneway(*[df.loc[df['Mp'] == mp,'Ewltp (g/km)'] for mp in df['Mp'].unique() if type(mp)!=float])\n",
    "\n",
    "# Afficher les résultats de l'ANOVA\n",
    "print(\"Résultats de l'ANOVA :\")\n",
    "print(\"Statistique F =\", anova_result.statistic)\n",
    "print(\"p-valeur =\", anova_result.pvalue)"
   ]
  },
  {
   "cell_type": "code",
   "execution_count": 19,
   "metadata": {},
   "outputs": [
    {
     "data": {
      "text/plain": [
       "2731      425.53\n",
       "2740      567.24\n",
       "2899      454.11\n",
       "3181      593.18\n",
       "17862     514.15\n",
       "           ...  \n",
       "7569015   458.89\n",
       "7569036   403.48\n",
       "7569076   403.59\n",
       "7569105   515.78\n",
       "7570126   439.64\n",
       "Name: Ewltp (g/km), Length: 213023, dtype: float64"
      ]
     },
     "execution_count": 19,
     "metadata": {},
     "output_type": "execute_result"
    }
   ],
   "source": [
    "df.loc[df['Mp'] == \"BMW\",'Ewltp (g/km)']"
   ]
  },
  {
   "cell_type": "code",
   "execution_count": 20,
   "metadata": {},
   "outputs": [
    {
     "data": {
      "text/plain": [
       "array(['FORD', 'VOLKSWAGEN', 'KIA', 'MERCEDES-BENZ',\n",
       "       'RENAULT-NISSAN-MITSUBISHI', 'STELLANTIS',\n",
       "       'MAZDA-SUBARU-SUZUKI-TOYOTA', 'TESLA-HONDA-JLR', nan, 'BMW',\n",
       "       'HYUNDAI MOTOR EUROPE'], dtype=object)"
      ]
     },
     "execution_count": 20,
     "metadata": {},
     "output_type": "execute_result"
    }
   ],
   "source": [
    "df[\"Mp\"].unique()"
   ]
  },
  {
   "cell_type": "code",
   "execution_count": 21,
   "metadata": {},
   "outputs": [
    {
     "data": {
      "text/plain": [
       "[42486, 633376, 16366, 214568, 75760, 147990, 34105, 22954, 213023, 21962]"
      ]
     },
     "execution_count": 21,
     "metadata": {},
     "output_type": "execute_result"
    }
   ],
   "source": [
    "[df.loc[df['Mp'] == mp,'Ewltp (g/km)'].shape[0] for mp in df['Mp'].unique().tolist() if type(mp)!=float]"
   ]
  },
  {
   "cell_type": "code",
   "execution_count": 22,
   "metadata": {},
   "outputs": [
    {
     "name": "stdout",
     "output_type": "stream",
     "text": [
      "<class 'str'>\n",
      "<class 'str'>\n",
      "<class 'str'>\n",
      "<class 'str'>\n",
      "<class 'str'>\n",
      "<class 'str'>\n",
      "<class 'str'>\n",
      "<class 'str'>\n",
      "<class 'float'>\n",
      "<class 'str'>\n",
      "<class 'str'>\n"
     ]
    }
   ],
   "source": [
    "for name in df[\"Mp\"].unique():\n",
    "    print(type(name))"
   ]
  },
  {
   "cell_type": "code",
   "execution_count": 23,
   "metadata": {},
   "outputs": [
    {
     "data": {
      "text/plain": [
       "array(['TOYOTA MOTOR CORPORATION', 'AA-IVA', 'VOLVO', 'SSANGYONG', 'DFSK',\n",
       "       'DUPLICATE', 'MASERATI', 'RENAULT TRUCKS', 'OUT OF SCOPE',\n",
       "       'NEXT EGO MOBILE', 'ALPINA', 'FERRARI', 'MCLAREN',\n",
       "       'GENERAL MOTORS HOLDINGS', 'POLESTAR', 'ASTON MARTIN', 'GEELY',\n",
       "       'SAIC MOTOR CORPORATION', 'ANHUI', 'JIANGXI JIANGLING', 'SECMA',\n",
       "       'CATERHAM', 'LOTUS', 'JIANGLING MOTOR', 'MORGAN', 'DR AUTOMOBILES',\n",
       "       'NANJING GOLDEN DRAGON', 'LEEH', 'SAIC MAXUS', 'PAGANI',\n",
       "       'MAHINDRA', 'AA-NSS', 'BYD', 'GREAT WALL MOTOR', 'ZHAOQING', 'NIO',\n",
       "       'LANZHOU', 'BRILLIANCE SHINERAY', 'CHINA FAW', 'UNKNOWN', 'HAIMA',\n",
       "       'EURASIA', 'LUCID USA', 'DALLARA', 'HENAN SUDA', 'SMART',\n",
       "       'LEAPMOTOR', 'DONKERVOORT', 'BUGATTI RIMAC', 'LEVC', 'BUGATTI'],\n",
       "      dtype=object)"
      ]
     },
     "execution_count": 23,
     "metadata": {},
     "output_type": "execute_result"
    }
   ],
   "source": [
    "df.loc[df[\"Mp\"].isna(),\"Mh\"].unique()"
   ]
  },
  {
   "cell_type": "markdown",
   "metadata": {},
   "source": [
    "## Correlation"
   ]
  },
  {
   "cell_type": "code",
   "execution_count": 24,
   "metadata": {},
   "outputs": [
    {
     "data": {
      "image/png": "[encoded data removed]",
      "text/plain": [
       "<Figure size 640x480 with 2 Axes>"
      ]
     },
     "metadata": {},
     "output_type": "display_data"
    }
   ],
   "source": [
    "sns.heatmap(df[col_numericals].corr())\n",
    "plt.show()"
   ]
  },
  {
   "cell_type": "markdown",
   "metadata": {},
   "source": [
    "# Target Analysis\n",
    "\n",
    "## Histogram"
   ]
  },
  {
   "cell_type": "code",
   "execution_count": 25,
   "metadata": {},
   "outputs": [
    {
     "data": {
      "image/png": "[encoded data removed]",
      "text/plain": [
       "<Figure size 640x480 with 1 Axes>"
      ]
     },
     "metadata": {},
     "output_type": "display_data"
    }
   ],
   "source": [
    "sns.histplot(df,x='Ewltp (g/km)')\n",
    "plt.show()"
   ]
  },
  {
   "cell_type": "markdown",
   "metadata": {},
   "source": [
    "## Boxplot\n"
   ]
  },
  {
   "cell_type": "code",
   "execution_count": 26,
   "metadata": {},
   "outputs": [
    {
     "data": {
      "image/png": "[encoded data removed]",
      "text/plain": [
       "<Figure size 800x600 with 1 Axes>"
      ]
     },
     "metadata": {},
     "output_type": "display_data"
    }
   ],
   "source": [
    "plt.figure(figsize=(8, 6))\n",
    "sns.boxplot(y=df['Ewltp (g/km)'])\n",
    "plt.show()"
   ]
  },
  {
   "cell_type": "markdown",
   "metadata": {},
   "source": [
    "## Describe of Target"
   ]
  },
  {
   "cell_type": "code",
   "execution_count": 27,
   "metadata": {},
   "outputs": [
    {
     "data": {
      "text/plain": [
       "count   1488938.00\n",
       "mean        393.72\n",
       "std         201.42\n",
       "min         -15.31\n",
       "25%         364.30\n",
       "50%         426.78\n",
       "75%         496.26\n",
       "max        1797.01\n",
       "Name: Ewltp (g/km), dtype: float64"
      ]
     },
     "execution_count": 27,
     "metadata": {},
     "output_type": "execute_result"
    }
   ],
   "source": [
    "df['Ewltp (g/km)'].describe()"
   ]
  },
  {
   "cell_type": "markdown",
   "metadata": {},
   "source": [
    "## Outliers Analysis"
   ]
  },
  {
   "cell_type": "code",
   "execution_count": 28,
   "metadata": {},
   "outputs": [
    {
     "name": "stdout",
     "output_type": "stream",
     "text": [
      "On compte près de 67622 individus avec une WLTP inférieur à 0 ce qui est anormal\n"
     ]
    }
   ],
   "source": [
    "print(f\"On compte près de {df[df['Ewltp (g/km)']<0].shape[0]} individus avec une WLTP inférieur à 0 ce qui est anormal\")"
   ]
  },
  {
   "cell_type": "code",
   "execution_count": 29,
   "metadata": {},
   "outputs": [],
   "source": [
    "df_avec_target_negative = df[df['Ewltp (g/km)']<0]"
   ]
  },
  {
   "cell_type": "markdown",
   "metadata": {},
   "source": [
    "### Doublons purs"
   ]
  },
  {
   "cell_type": "code",
   "execution_count": 30,
   "metadata": {},
   "outputs": [
    {
     "name": "stdout",
     "output_type": "stream",
     "text": [
      " il y a 0 doublons purs\n"
     ]
    }
   ],
   "source": [
    "print(f\" il y a {df_avec_target_negative.duplicated().sum()} doublons purs\")\n"
   ]
  },
  {
   "cell_type": "markdown",
   "metadata": {},
   "source": [
    "### Doublons impurs\n",
    "Regarder la donnée à première vue."
   ]
  },
  {
   "cell_type": "code",
   "execution_count": 31,
   "metadata": {},
   "outputs": [
    {
     "data": {
      "text/html": [
       "<div>\n",
       "<style scoped>\n",
       "    .dataframe tbody tr th:only-of-type {\n",
       "        vertical-align: middle;\n",
       "    }\n",
       "\n",
       "    .dataframe tbody tr th {\n",
       "        vertical-align: top;\n",
       "    }\n",
       "\n",
       "    .dataframe thead th {\n",
       "        text-align: right;\n",
       "    }\n",
       "</style>\n",
       "<table border=\"1\" class=\"dataframe\">\n",
       "  <thead>\n",
       "    <tr style=\"text-align: right;\">\n",
       "      <th></th>\n",
       "      <th>ID</th>\n",
       "      <th>Country</th>\n",
       "      <th>VFN</th>\n",
       "      <th>Mp</th>\n",
       "      <th>Mh</th>\n",
       "      <th>Man</th>\n",
       "      <th>MMS</th>\n",
       "      <th>Tan</th>\n",
       "      <th>T</th>\n",
       "      <th>Va</th>\n",
       "      <th>Ve</th>\n",
       "      <th>Mk</th>\n",
       "      <th>Cn</th>\n",
       "      <th>Ct</th>\n",
       "      <th>Cr</th>\n",
       "      <th>r</th>\n",
       "      <th>m (kg)</th>\n",
       "      <th>Mt</th>\n",
       "      <th>Enedc (g/km)</th>\n",
       "      <th>Ewltp (g/km)</th>\n",
       "      <th>W (mm)</th>\n",
       "      <th>At1 (mm)</th>\n",
       "      <th>At2 (mm)</th>\n",
       "      <th>Ft</th>\n",
       "      <th>Fm</th>\n",
       "      <th>ec (cm3)</th>\n",
       "      <th>ep (KW)</th>\n",
       "      <th>z (Wh/km)</th>\n",
       "      <th>IT</th>\n",
       "      <th>Ernedc (g/km)</th>\n",
       "      <th>Erwltp (g/km)</th>\n",
       "      <th>De</th>\n",
       "      <th>Vf</th>\n",
       "      <th>Status</th>\n",
       "      <th>Date of registration</th>\n",
       "      <th>Fuel consumption</th>\n",
       "      <th>Electric range (km)</th>\n",
       "    </tr>\n",
       "  </thead>\n",
       "  <tbody>\n",
       "    <tr>\n",
       "      <th>17336</th>\n",
       "      <td>17336</td>\n",
       "      <td>DE</td>\n",
       "      <td>IP-2021_4023-W1K-1</td>\n",
       "      <td>MERCEDES-BENZ</td>\n",
       "      <td>MERCEDES-BENZ AG</td>\n",
       "      <td>MERCEDES-BENZ AG</td>\n",
       "      <td>NaN</td>\n",
       "      <td>e1*2018/858*00036*01</td>\n",
       "      <td>E2EQEW</td>\n",
       "      <td>51ECA0</td>\n",
       "      <td>ZZAM050B</td>\n",
       "      <td>MERCEDES-BENZ</td>\n",
       "      <td>EQE 350+</td>\n",
       "      <td>M1</td>\n",
       "      <td>M1</td>\n",
       "      <td>1</td>\n",
       "      <td>2355.00</td>\n",
       "      <td>2536.00</td>\n",
       "      <td>0.00</td>\n",
       "      <td>-2.68</td>\n",
       "      <td>3120.00</td>\n",
       "      <td>1634.00</td>\n",
       "      <td>1645.00</td>\n",
       "      <td>ELECTRIC</td>\n",
       "      <td>E</td>\n",
       "      <td>NaN</td>\n",
       "      <td>215.00</td>\n",
       "      <td>169.00</td>\n",
       "      <td>NaN</td>\n",
       "      <td>NaN</td>\n",
       "      <td>NaN</td>\n",
       "      <td>NaN</td>\n",
       "      <td>NaN</td>\n",
       "      <td>P</td>\n",
       "      <td>2022-06-03</td>\n",
       "      <td>NaN</td>\n",
       "      <td>NaN</td>\n",
       "    </tr>\n",
       "    <tr>\n",
       "      <th>17388</th>\n",
       "      <td>17388</td>\n",
       "      <td>DE</td>\n",
       "      <td>IP-2021_4023-W1K-1</td>\n",
       "      <td>MERCEDES-BENZ</td>\n",
       "      <td>MERCEDES-BENZ AG</td>\n",
       "      <td>MERCEDES-BENZ AG</td>\n",
       "      <td>NaN</td>\n",
       "      <td>e1*2018/858*00036*01</td>\n",
       "      <td>E2EQEW</td>\n",
       "      <td>51ECA0</td>\n",
       "      <td>ZZAA050B</td>\n",
       "      <td>MERCEDES-BENZ</td>\n",
       "      <td>EQE 350+</td>\n",
       "      <td>M1</td>\n",
       "      <td>M1</td>\n",
       "      <td>1</td>\n",
       "      <td>2355.00</td>\n",
       "      <td>2500.00</td>\n",
       "      <td>0.00</td>\n",
       "      <td>-1.81</td>\n",
       "      <td>3120.00</td>\n",
       "      <td>1634.00</td>\n",
       "      <td>1645.00</td>\n",
       "      <td>ELECTRIC</td>\n",
       "      <td>E</td>\n",
       "      <td>NaN</td>\n",
       "      <td>215.00</td>\n",
       "      <td>165.00</td>\n",
       "      <td>NaN</td>\n",
       "      <td>NaN</td>\n",
       "      <td>NaN</td>\n",
       "      <td>NaN</td>\n",
       "      <td>NaN</td>\n",
       "      <td>P</td>\n",
       "      <td>2022-05-23</td>\n",
       "      <td>NaN</td>\n",
       "      <td>NaN</td>\n",
       "    </tr>\n",
       "    <tr>\n",
       "      <th>17433</th>\n",
       "      <td>17433</td>\n",
       "      <td>DE</td>\n",
       "      <td>IP-2021_4023-W1K-1</td>\n",
       "      <td>MERCEDES-BENZ</td>\n",
       "      <td>MERCEDES-BENZ AG</td>\n",
       "      <td>MERCEDES-BENZ AG</td>\n",
       "      <td>NaN</td>\n",
       "      <td>e1*2018/858*00036*01</td>\n",
       "      <td>E2EQEW</td>\n",
       "      <td>51ECA0</td>\n",
       "      <td>ZZAL050B</td>\n",
       "      <td>MERCEDES-BENZ</td>\n",
       "      <td>EQE 350+</td>\n",
       "      <td>M1</td>\n",
       "      <td>M1</td>\n",
       "      <td>1</td>\n",
       "      <td>2355.00</td>\n",
       "      <td>2519.00</td>\n",
       "      <td>0.00</td>\n",
       "      <td>-0.87</td>\n",
       "      <td>3120.00</td>\n",
       "      <td>1634.00</td>\n",
       "      <td>1645.00</td>\n",
       "      <td>ELECTRIC</td>\n",
       "      <td>E</td>\n",
       "      <td>NaN</td>\n",
       "      <td>215.00</td>\n",
       "      <td>167.00</td>\n",
       "      <td>NaN</td>\n",
       "      <td>NaN</td>\n",
       "      <td>NaN</td>\n",
       "      <td>NaN</td>\n",
       "      <td>NaN</td>\n",
       "      <td>P</td>\n",
       "      <td>2022-06-28</td>\n",
       "      <td>NaN</td>\n",
       "      <td>NaN</td>\n",
       "    </tr>\n",
       "    <tr>\n",
       "      <th>17438</th>\n",
       "      <td>17438</td>\n",
       "      <td>DE</td>\n",
       "      <td>IP-2021_4023-W1K-1</td>\n",
       "      <td>MERCEDES-BENZ</td>\n",
       "      <td>MERCEDES-BENZ AG</td>\n",
       "      <td>MERCEDES-BENZ AG</td>\n",
       "      <td>NaN</td>\n",
       "      <td>e1*2018/858*00036*01</td>\n",
       "      <td>E2EQEW</td>\n",
       "      <td>51ECA0</td>\n",
       "      <td>ZZAL050B</td>\n",
       "      <td>MERCEDES-BENZ</td>\n",
       "      <td>EQE 350+</td>\n",
       "      <td>M1</td>\n",
       "      <td>M1</td>\n",
       "      <td>1</td>\n",
       "      <td>2355.00</td>\n",
       "      <td>2514.00</td>\n",
       "      <td>0.00</td>\n",
       "      <td>-4.09</td>\n",
       "      <td>3120.00</td>\n",
       "      <td>1634.00</td>\n",
       "      <td>1645.00</td>\n",
       "      <td>ELECTRIC</td>\n",
       "      <td>E</td>\n",
       "      <td>NaN</td>\n",
       "      <td>215.00</td>\n",
       "      <td>170.00</td>\n",
       "      <td>NaN</td>\n",
       "      <td>NaN</td>\n",
       "      <td>NaN</td>\n",
       "      <td>NaN</td>\n",
       "      <td>NaN</td>\n",
       "      <td>P</td>\n",
       "      <td>2022-05-16</td>\n",
       "      <td>NaN</td>\n",
       "      <td>NaN</td>\n",
       "    </tr>\n",
       "    <tr>\n",
       "      <th>17449</th>\n",
       "      <td>17449</td>\n",
       "      <td>DE</td>\n",
       "      <td>IP-2021_4023-W1K-1</td>\n",
       "      <td>MERCEDES-BENZ</td>\n",
       "      <td>MERCEDES-BENZ AG</td>\n",
       "      <td>MERCEDES-BENZ AG</td>\n",
       "      <td>NaN</td>\n",
       "      <td>e1*2018/858*00036*01</td>\n",
       "      <td>E2EQEW</td>\n",
       "      <td>51ECA0</td>\n",
       "      <td>ZZAA050B</td>\n",
       "      <td>MERCEDES-BENZ</td>\n",
       "      <td>EQE 350+</td>\n",
       "      <td>M1</td>\n",
       "      <td>M1</td>\n",
       "      <td>1</td>\n",
       "      <td>2355.00</td>\n",
       "      <td>2508.00</td>\n",
       "      <td>0.00</td>\n",
       "      <td>-0.28</td>\n",
       "      <td>3120.00</td>\n",
       "      <td>1634.00</td>\n",
       "      <td>1645.00</td>\n",
       "      <td>ELECTRIC</td>\n",
       "      <td>E</td>\n",
       "      <td>NaN</td>\n",
       "      <td>215.00</td>\n",
       "      <td>170.00</td>\n",
       "      <td>NaN</td>\n",
       "      <td>NaN</td>\n",
       "      <td>NaN</td>\n",
       "      <td>NaN</td>\n",
       "      <td>NaN</td>\n",
       "      <td>P</td>\n",
       "      <td>2022-05-10</td>\n",
       "      <td>NaN</td>\n",
       "      <td>NaN</td>\n",
       "    </tr>\n",
       "  </tbody>\n",
       "</table>\n",
       "</div>"
      ],
      "text/plain": [
       "          ID Country                 VFN             Mp                Mh  \\\n",
       "17336  17336      DE  IP-2021_4023-W1K-1  MERCEDES-BENZ  MERCEDES-BENZ AG   \n",
       "17388  17388      DE  IP-2021_4023-W1K-1  MERCEDES-BENZ  MERCEDES-BENZ AG   \n",
       "17433  17433      DE  IP-2021_4023-W1K-1  MERCEDES-BENZ  MERCEDES-BENZ AG   \n",
       "17438  17438      DE  IP-2021_4023-W1K-1  MERCEDES-BENZ  MERCEDES-BENZ AG   \n",
       "17449  17449      DE  IP-2021_4023-W1K-1  MERCEDES-BENZ  MERCEDES-BENZ AG   \n",
       "\n",
       "                    Man  MMS                   Tan       T      Va        Ve  \\\n",
       "17336  MERCEDES-BENZ AG  NaN  e1*2018/858*00036*01  E2EQEW  51ECA0  ZZAM050B   \n",
       "17388  MERCEDES-BENZ AG  NaN  e1*2018/858*00036*01  E2EQEW  51ECA0  ZZAA050B   \n",
       "17433  MERCEDES-BENZ AG  NaN  e1*2018/858*00036*01  E2EQEW  51ECA0  ZZAL050B   \n",
       "17438  MERCEDES-BENZ AG  NaN  e1*2018/858*00036*01  E2EQEW  51ECA0  ZZAL050B   \n",
       "17449  MERCEDES-BENZ AG  NaN  e1*2018/858*00036*01  E2EQEW  51ECA0  ZZAA050B   \n",
       "\n",
       "                  Mk        Cn  Ct  Cr  r  m (kg)      Mt  Enedc (g/km)  \\\n",
       "17336  MERCEDES-BENZ  EQE 350+  M1  M1  1 2355.00 2536.00          0.00   \n",
       "17388  MERCEDES-BENZ  EQE 350+  M1  M1  1 2355.00 2500.00          0.00   \n",
       "17433  MERCEDES-BENZ  EQE 350+  M1  M1  1 2355.00 2519.00          0.00   \n",
       "17438  MERCEDES-BENZ  EQE 350+  M1  M1  1 2355.00 2514.00          0.00   \n",
       "17449  MERCEDES-BENZ  EQE 350+  M1  M1  1 2355.00 2508.00          0.00   \n",
       "\n",
       "       Ewltp (g/km)  W (mm)  At1 (mm)  At2 (mm)        Ft Fm  ec (cm3)  \\\n",
       "17336         -2.68 3120.00   1634.00   1645.00  ELECTRIC  E       NaN   \n",
       "17388         -1.81 3120.00   1634.00   1645.00  ELECTRIC  E       NaN   \n",
       "17433         -0.87 3120.00   1634.00   1645.00  ELECTRIC  E       NaN   \n",
       "17438         -4.09 3120.00   1634.00   1645.00  ELECTRIC  E       NaN   \n",
       "17449         -0.28 3120.00   1634.00   1645.00  ELECTRIC  E       NaN   \n",
       "\n",
       "       ep (KW)  z (Wh/km)   IT  Ernedc (g/km)  Erwltp (g/km)  De  Vf Status  \\\n",
       "17336   215.00     169.00  NaN            NaN            NaN NaN NaN      P   \n",
       "17388   215.00     165.00  NaN            NaN            NaN NaN NaN      P   \n",
       "17433   215.00     167.00  NaN            NaN            NaN NaN NaN      P   \n",
       "17438   215.00     170.00  NaN            NaN            NaN NaN NaN      P   \n",
       "17449   215.00     170.00  NaN            NaN            NaN NaN NaN      P   \n",
       "\n",
       "      Date of registration  Fuel consumption   Electric range (km)  \n",
       "17336           2022-06-03                NaN                  NaN  \n",
       "17388           2022-05-23                NaN                  NaN  \n",
       "17433           2022-06-28                NaN                  NaN  \n",
       "17438           2022-05-16                NaN                  NaN  \n",
       "17449           2022-05-10                NaN                  NaN  "
      ]
     },
     "execution_count": 31,
     "metadata": {},
     "output_type": "execute_result"
    }
   ],
   "source": [
    "df_avec_target_negative.head()"
   ]
  },
  {
   "cell_type": "code",
   "execution_count": 32,
   "metadata": {},
   "outputs": [
    {
     "name": "stdout",
     "output_type": "stream",
     "text": [
      "Il y a 0 individus qui présentent exactement les mêmes caractéristiques (hors colonne 'ID', target et Date of Registration).\n"
     ]
    }
   ],
   "source": [
    "selected_columns = [col for col in df_avec_target_negative.columns if col not in ['ID','Ewltp (g/km)','Date of registration']]\n",
    "\n",
    "duplicate_count = df_avec_target_negative.duplicated(subset=selected_columns).sum()\n",
    "\n",
    "print(f\"Il y a {duplicate_count} individus qui présentent exactement les mêmes caractéristiques (hors colonne 'ID', target et Date of Registration).\")\n"
   ]
  },
  {
   "cell_type": "markdown",
   "metadata": {},
   "source": [
    "# Analyse par variable des régresseurs\n",
    "## Mp - Manufacturer Pooling\n",
    "\n",
    "D'après GPT\n",
    "\n",
    "le \"Manufacturer Pooling\" est une stratégie qui permet aux constructeurs automobiles de travailler ensemble pour respecter les réglementations sur les émissions de CO2 en combinant leurs émissions et en partageant les avantages liés à la conformité.\n",
    "\n",
    "**GARDER**"
   ]
  },
  {
   "cell_type": "code",
   "execution_count": 33,
   "metadata": {},
   "outputs": [
    {
     "data": {
      "text/plain": [
       "['FORD',\n",
       " 'VOLKSWAGEN',\n",
       " 'KIA',\n",
       " 'MERCEDES-BENZ',\n",
       " 'RENAULT-NISSAN-MITSUBISHI',\n",
       " 'STELLANTIS',\n",
       " 'MAZDA-SUBARU-SUZUKI-TOYOTA',\n",
       " 'TESLA-HONDA-JLR',\n",
       " nan,\n",
       " 'BMW',\n",
       " 'HYUNDAI MOTOR EUROPE']"
      ]
     },
     "execution_count": 33,
     "metadata": {},
     "output_type": "execute_result"
    }
   ],
   "source": [
    "valeurs_uniques['Mp']"
   ]
  },
  {
   "cell_type": "code",
   "execution_count": 34,
   "metadata": {},
   "outputs": [
    {
     "data": {
      "text/html": [
       "<div>\n",
       "<style scoped>\n",
       "    .dataframe tbody tr th:only-of-type {\n",
       "        vertical-align: middle;\n",
       "    }\n",
       "\n",
       "    .dataframe tbody tr th {\n",
       "        vertical-align: top;\n",
       "    }\n",
       "\n",
       "    .dataframe thead th {\n",
       "        text-align: right;\n",
       "    }\n",
       "</style>\n",
       "<table border=\"1\" class=\"dataframe\">\n",
       "  <thead>\n",
       "    <tr style=\"text-align: right;\">\n",
       "      <th></th>\n",
       "      <th>ID</th>\n",
       "      <th>Country</th>\n",
       "      <th>VFN</th>\n",
       "      <th>Mp</th>\n",
       "      <th>Mh</th>\n",
       "      <th>Man</th>\n",
       "      <th>MMS</th>\n",
       "      <th>Tan</th>\n",
       "      <th>T</th>\n",
       "      <th>Va</th>\n",
       "      <th>Ve</th>\n",
       "      <th>Mk</th>\n",
       "      <th>Cn</th>\n",
       "      <th>Ct</th>\n",
       "      <th>Cr</th>\n",
       "      <th>r</th>\n",
       "      <th>m (kg)</th>\n",
       "      <th>Mt</th>\n",
       "      <th>Enedc (g/km)</th>\n",
       "      <th>Ewltp (g/km)</th>\n",
       "      <th>W (mm)</th>\n",
       "      <th>At1 (mm)</th>\n",
       "      <th>At2 (mm)</th>\n",
       "      <th>Ft</th>\n",
       "      <th>Fm</th>\n",
       "      <th>ec (cm3)</th>\n",
       "      <th>ep (KW)</th>\n",
       "      <th>z (Wh/km)</th>\n",
       "      <th>IT</th>\n",
       "      <th>Ernedc (g/km)</th>\n",
       "      <th>Erwltp (g/km)</th>\n",
       "      <th>De</th>\n",
       "      <th>Vf</th>\n",
       "      <th>Status</th>\n",
       "      <th>Date of registration</th>\n",
       "      <th>Fuel consumption</th>\n",
       "      <th>Electric range (km)</th>\n",
       "    </tr>\n",
       "  </thead>\n",
       "  <tbody>\n",
       "    <tr>\n",
       "      <th>894</th>\n",
       "      <td>894</td>\n",
       "      <td>CZ</td>\n",
       "      <td>IP-0153-JT1-1</td>\n",
       "      <td>NaN</td>\n",
       "      <td>TOYOTA MOTOR CORPORATION</td>\n",
       "      <td>TOYOTA MOTOR CORPORATION</td>\n",
       "      <td>NaN</td>\n",
       "      <td>e6*2018/858*00013*00</td>\n",
       "      <td>XPB1F(M)</td>\n",
       "      <td>MXPJ10(H)</td>\n",
       "      <td>MXPJ10L-BHXGBW(1A)</td>\n",
       "      <td>TOYOTA</td>\n",
       "      <td>YARIS CROSS</td>\n",
       "      <td>M1</td>\n",
       "      <td>M1</td>\n",
       "      <td>1</td>\n",
       "      <td>1290.00</td>\n",
       "      <td>1391.00</td>\n",
       "      <td>NaN</td>\n",
       "      <td>351.48</td>\n",
       "      <td>2560.00</td>\n",
       "      <td>NaN</td>\n",
       "      <td>NaN</td>\n",
       "      <td>PETROL</td>\n",
       "      <td>H</td>\n",
       "      <td>1490.00</td>\n",
       "      <td>68.00</td>\n",
       "      <td>NaN</td>\n",
       "      <td>e6 37</td>\n",
       "      <td>NaN</td>\n",
       "      <td>0.70</td>\n",
       "      <td>NaN</td>\n",
       "      <td>NaN</td>\n",
       "      <td>P</td>\n",
       "      <td>2022-01-05</td>\n",
       "      <td>5.00</td>\n",
       "      <td>NaN</td>\n",
       "    </tr>\n",
       "    <tr>\n",
       "      <th>898</th>\n",
       "      <td>898</td>\n",
       "      <td>CZ</td>\n",
       "      <td>IP-0153-JT1-1</td>\n",
       "      <td>NaN</td>\n",
       "      <td>TOYOTA MOTOR CORPORATION</td>\n",
       "      <td>TOYOTA MOTOR CORPORATION</td>\n",
       "      <td>NaN</td>\n",
       "      <td>e6*2018/858*00013*00</td>\n",
       "      <td>XPB1F(M)</td>\n",
       "      <td>MXPJ10(H)</td>\n",
       "      <td>MXPJ10L-BHXGBW(1A)</td>\n",
       "      <td>TOYOTA</td>\n",
       "      <td>YARIS CROSS</td>\n",
       "      <td>M1</td>\n",
       "      <td>M1</td>\n",
       "      <td>1</td>\n",
       "      <td>1290.00</td>\n",
       "      <td>1402.00</td>\n",
       "      <td>NaN</td>\n",
       "      <td>350.09</td>\n",
       "      <td>2560.00</td>\n",
       "      <td>NaN</td>\n",
       "      <td>NaN</td>\n",
       "      <td>PETROL</td>\n",
       "      <td>H</td>\n",
       "      <td>1490.00</td>\n",
       "      <td>68.00</td>\n",
       "      <td>NaN</td>\n",
       "      <td>e6 37</td>\n",
       "      <td>NaN</td>\n",
       "      <td>0.70</td>\n",
       "      <td>NaN</td>\n",
       "      <td>NaN</td>\n",
       "      <td>P</td>\n",
       "      <td>2022-01-26</td>\n",
       "      <td>5.00</td>\n",
       "      <td>NaN</td>\n",
       "    </tr>\n",
       "    <tr>\n",
       "      <th>919</th>\n",
       "      <td>919</td>\n",
       "      <td>DE</td>\n",
       "      <td>NaN</td>\n",
       "      <td>NaN</td>\n",
       "      <td>AA-IVA</td>\n",
       "      <td>AA-IVA</td>\n",
       "      <td>NaN</td>\n",
       "      <td>NaN</td>\n",
       "      <td>F2CLA</td>\n",
       "      <td>NaN</td>\n",
       "      <td>NaN</td>\n",
       "      <td>MERCEDES-BENZ</td>\n",
       "      <td>AMG CLA 45 S</td>\n",
       "      <td>M1</td>\n",
       "      <td>M1</td>\n",
       "      <td>1</td>\n",
       "      <td>1715.00</td>\n",
       "      <td>NaN</td>\n",
       "      <td>NaN</td>\n",
       "      <td>670.29</td>\n",
       "      <td>NaN</td>\n",
       "      <td>NaN</td>\n",
       "      <td>NaN</td>\n",
       "      <td>PETROL</td>\n",
       "      <td>M</td>\n",
       "      <td>1991.00</td>\n",
       "      <td>310.00</td>\n",
       "      <td>NaN</td>\n",
       "      <td>NaN</td>\n",
       "      <td>NaN</td>\n",
       "      <td>NaN</td>\n",
       "      <td>NaN</td>\n",
       "      <td>NaN</td>\n",
       "      <td>P</td>\n",
       "      <td>2022-08-18</td>\n",
       "      <td>NaN</td>\n",
       "      <td>NaN</td>\n",
       "    </tr>\n",
       "    <tr>\n",
       "      <th>957</th>\n",
       "      <td>957</td>\n",
       "      <td>CZ</td>\n",
       "      <td>IP-0154-JT1-1</td>\n",
       "      <td>NaN</td>\n",
       "      <td>TOYOTA MOTOR CORPORATION</td>\n",
       "      <td>TOYOTA MOTOR CORPORATION</td>\n",
       "      <td>NaN</td>\n",
       "      <td>e6*2018/858*00013*00</td>\n",
       "      <td>XPB1F(M)</td>\n",
       "      <td>MXPJ15(H)</td>\n",
       "      <td>MXPJ15L-BHXGBW(5A)</td>\n",
       "      <td>TOYOTA</td>\n",
       "      <td>YARIS CROSS</td>\n",
       "      <td>M1</td>\n",
       "      <td>M1</td>\n",
       "      <td>1</td>\n",
       "      <td>1375.00</td>\n",
       "      <td>1469.00</td>\n",
       "      <td>NaN</td>\n",
       "      <td>357.22</td>\n",
       "      <td>2560.00</td>\n",
       "      <td>NaN</td>\n",
       "      <td>NaN</td>\n",
       "      <td>PETROL</td>\n",
       "      <td>H</td>\n",
       "      <td>1490.00</td>\n",
       "      <td>68.00</td>\n",
       "      <td>NaN</td>\n",
       "      <td>e6 37</td>\n",
       "      <td>NaN</td>\n",
       "      <td>0.80</td>\n",
       "      <td>NaN</td>\n",
       "      <td>NaN</td>\n",
       "      <td>P</td>\n",
       "      <td>2022-01-03</td>\n",
       "      <td>5.00</td>\n",
       "      <td>NaN</td>\n",
       "    </tr>\n",
       "    <tr>\n",
       "      <th>958</th>\n",
       "      <td>958</td>\n",
       "      <td>CZ</td>\n",
       "      <td>IP-0154-JT1-1</td>\n",
       "      <td>NaN</td>\n",
       "      <td>TOYOTA MOTOR CORPORATION</td>\n",
       "      <td>TOYOTA MOTOR CORPORATION</td>\n",
       "      <td>NaN</td>\n",
       "      <td>e6*2018/858*00013*00</td>\n",
       "      <td>XPB1F(M)</td>\n",
       "      <td>MXPJ15(H)</td>\n",
       "      <td>MXPJ15L-BHXGBW(5A)</td>\n",
       "      <td>TOYOTA</td>\n",
       "      <td>YARIS CROSS</td>\n",
       "      <td>M1</td>\n",
       "      <td>M1</td>\n",
       "      <td>1</td>\n",
       "      <td>1375.00</td>\n",
       "      <td>1466.00</td>\n",
       "      <td>NaN</td>\n",
       "      <td>355.50</td>\n",
       "      <td>2560.00</td>\n",
       "      <td>NaN</td>\n",
       "      <td>NaN</td>\n",
       "      <td>PETROL</td>\n",
       "      <td>H</td>\n",
       "      <td>1490.00</td>\n",
       "      <td>68.00</td>\n",
       "      <td>NaN</td>\n",
       "      <td>e6 37</td>\n",
       "      <td>NaN</td>\n",
       "      <td>0.80</td>\n",
       "      <td>NaN</td>\n",
       "      <td>NaN</td>\n",
       "      <td>P</td>\n",
       "      <td>2022-01-03</td>\n",
       "      <td>5.00</td>\n",
       "      <td>NaN</td>\n",
       "    </tr>\n",
       "  </tbody>\n",
       "</table>\n",
       "</div>"
      ],
      "text/plain": [
       "      ID Country            VFN   Mp                        Mh  \\\n",
       "894  894      CZ  IP-0153-JT1-1  NaN  TOYOTA MOTOR CORPORATION   \n",
       "898  898      CZ  IP-0153-JT1-1  NaN  TOYOTA MOTOR CORPORATION   \n",
       "919  919      DE            NaN  NaN                    AA-IVA   \n",
       "957  957      CZ  IP-0154-JT1-1  NaN  TOYOTA MOTOR CORPORATION   \n",
       "958  958      CZ  IP-0154-JT1-1  NaN  TOYOTA MOTOR CORPORATION   \n",
       "\n",
       "                          Man  MMS                   Tan         T         Va  \\\n",
       "894  TOYOTA MOTOR CORPORATION  NaN  e6*2018/858*00013*00  XPB1F(M)  MXPJ10(H)   \n",
       "898  TOYOTA MOTOR CORPORATION  NaN  e6*2018/858*00013*00  XPB1F(M)  MXPJ10(H)   \n",
       "919                    AA-IVA  NaN                   NaN     F2CLA        NaN   \n",
       "957  TOYOTA MOTOR CORPORATION  NaN  e6*2018/858*00013*00  XPB1F(M)  MXPJ15(H)   \n",
       "958  TOYOTA MOTOR CORPORATION  NaN  e6*2018/858*00013*00  XPB1F(M)  MXPJ15(H)   \n",
       "\n",
       "                     Ve             Mk            Cn  Ct  Cr  r  m (kg)  \\\n",
       "894  MXPJ10L-BHXGBW(1A)         TOYOTA   YARIS CROSS  M1  M1  1 1290.00   \n",
       "898  MXPJ10L-BHXGBW(1A)         TOYOTA   YARIS CROSS  M1  M1  1 1290.00   \n",
       "919                 NaN  MERCEDES-BENZ  AMG CLA 45 S  M1  M1  1 1715.00   \n",
       "957  MXPJ15L-BHXGBW(5A)         TOYOTA   YARIS CROSS  M1  M1  1 1375.00   \n",
       "958  MXPJ15L-BHXGBW(5A)         TOYOTA   YARIS CROSS  M1  M1  1 1375.00   \n",
       "\n",
       "         Mt  Enedc (g/km)  Ewltp (g/km)  W (mm)  At1 (mm)  At2 (mm)      Ft  \\\n",
       "894 1391.00           NaN        351.48 2560.00       NaN       NaN  PETROL   \n",
       "898 1402.00           NaN        350.09 2560.00       NaN       NaN  PETROL   \n",
       "919     NaN           NaN        670.29     NaN       NaN       NaN  PETROL   \n",
       "957 1469.00           NaN        357.22 2560.00       NaN       NaN  PETROL   \n",
       "958 1466.00           NaN        355.50 2560.00       NaN       NaN  PETROL   \n",
       "\n",
       "    Fm  ec (cm3)  ep (KW)  z (Wh/km)     IT  Ernedc (g/km)  Erwltp (g/km)  De  \\\n",
       "894  H   1490.00    68.00        NaN  e6 37            NaN           0.70 NaN   \n",
       "898  H   1490.00    68.00        NaN  e6 37            NaN           0.70 NaN   \n",
       "919  M   1991.00   310.00        NaN    NaN            NaN            NaN NaN   \n",
       "957  H   1490.00    68.00        NaN  e6 37            NaN           0.80 NaN   \n",
       "958  H   1490.00    68.00        NaN  e6 37            NaN           0.80 NaN   \n",
       "\n",
       "     Vf Status Date of registration  Fuel consumption   Electric range (km)  \n",
       "894 NaN      P           2022-01-05               5.00                  NaN  \n",
       "898 NaN      P           2022-01-26               5.00                  NaN  \n",
       "919 NaN      P           2022-08-18                NaN                  NaN  \n",
       "957 NaN      P           2022-01-03               5.00                  NaN  \n",
       "958 NaN      P           2022-01-03               5.00                  NaN  "
      ]
     },
     "execution_count": 34,
     "metadata": {},
     "output_type": "execute_result"
    }
   ],
   "source": [
    "df[df['Mp'].isna()].head()"
   ]
  },
  {
   "cell_type": "markdown",
   "metadata": {},
   "source": [
    "**Comment s'occupe-t-on des valeurs manquantes ?**\n",
    "\n",
    "On voit que les NaN sont récupérables pour certains avec la colonne `Mh` ou encore `Man`. En fait je sais pas trop, parce qu'il est aussi possible que ça soit déclaré NaN parce que justement il n'apparait pas dedans...\n",
    "\n",
    "Ex de récupération possible: pour ID 894 on peut voir que Mh= Toyota donc sûrement que Mp = 'MAZDA-SUBARU-SUZUKI-TOYOTA'"
   ]
  },
  {
   "cell_type": "code",
   "execution_count": 35,
   "metadata": {},
   "outputs": [
    {
     "name": "stdout",
     "output_type": "stream",
     "text": [
      "On compte 66348 valeurs manquantes pour 'Mp' \n"
     ]
    }
   ],
   "source": [
    "print(f\"On compte {df['Mp'].isna().sum()} valeurs manquantes pour 'Mp' \")"
   ]
  },
  {
   "cell_type": "markdown",
   "metadata": {},
   "source": [
    "## VFN - Vehicle family identification number\n",
    "\n",
    "D'après ce que j'ai compris c'est un espèce de code d'indentification et de suivi en interne pour les voitures. On peut y trouver comme info: fabricant, le modèle, l'année de fabrication, le pays d'origine, le type de moteur, etc.\n",
    "\n",
    "Le problème c'est qe je ne vois aps comment on décode ça, puisque généralement c'est interne ou alors propre à chaque marque ? Faudrait creuser mais il est possible que ça puisse nous aider à remplir les NaN qu'on possède\n",
    "\n",
    "**mon avis**: aucune idée de quoi faire de cette variable, pour l'instant j'en vois pas l'utilité surtout qu'il faut savoir décoder à quoi correspond les codes mdr\n",
    "\n",
    "**GARDER**: Jynaldo feature extraction (pour l'année)"
   ]
  },
  {
   "cell_type": "code",
   "execution_count": 36,
   "metadata": {},
   "outputs": [
    {
     "data": {
      "text/plain": [
       "8456"
      ]
     },
     "execution_count": 36,
     "metadata": {},
     "output_type": "execute_result"
    }
   ],
   "source": [
    "nombre_val_unique['VFN']"
   ]
  },
  {
   "cell_type": "code",
   "execution_count": 37,
   "metadata": {},
   "outputs": [
    {
     "data": {
      "text/plain": [
       "['IP-C519_2022_00008-WF0-1',\n",
       " 'IP-MQB27ZZ_A2_0529-WVW-1',\n",
       " 'IP-MQB27ZZ_A1_0533-WVW-1',\n",
       " 'IP-04-U5Y-2018-1137',\n",
       " 'IP-MQB27ZZ_B2_0534-WVW-1',\n",
       " 'IP-MQB27ZZ_A0_1019-TMB-1',\n",
       " 'IP-2021_0416-W1K-1',\n",
       " 'IP-2021_0421-W1K-1',\n",
       " 'IP-2021_0422-W1K-1',\n",
       " 'IP-MQB27ZZ_A0_1005-TMB-1']"
      ]
     },
     "execution_count": 37,
     "metadata": {},
     "output_type": "execute_result"
    }
   ],
   "source": [
    "valeurs_uniques['VFN'][:10]"
   ]
  },
  {
   "cell_type": "code",
   "execution_count": 38,
   "metadata": {},
   "outputs": [
    {
     "data": {
      "text/plain": [
       "(101337, 37)"
      ]
     },
     "execution_count": 38,
     "metadata": {},
     "output_type": "execute_result"
    }
   ],
   "source": [
    "df[df['VFN'].isna()].shape"
   ]
  },
  {
   "cell_type": "markdown",
   "metadata": {},
   "source": [
    "## Mh -Manufacturer name EU standard denomination\n",
    "D'après GPT\n",
    "\n",
    "L'utilisation de cette désignation normalisée aide à garantir la clarté et la cohérence dans la documentation et les réglementations relatives aux véhicules automobiles au sein de l'UE, où de nombreuses marques et fabricants opèrent sur un marché unique.\n",
    "\n",
    "Chaque fabricant a son propre code \"Mh\" attribué, de sorte que ces codes sont spécifiques à chaque entreprise et permettent une identification précise des fabricants de véhicules.\n",
    "\n",
    "**Mon avis**: On garde, 0 NaN, et peut nous aider dans les var catégorielles. A voir ce qu'on en fait plus tard.\n",
    "\n",
    "**GARDER** (important pour les marques car 0 NaN) pour K means"
   ]
  },
  {
   "cell_type": "code",
   "execution_count": 39,
   "metadata": {},
   "outputs": [
    {
     "data": {
      "text/plain": [
       "95"
      ]
     },
     "execution_count": 39,
     "metadata": {},
     "output_type": "execute_result"
    }
   ],
   "source": [
    "nombre_val_unique['Mh']"
   ]
  },
  {
   "cell_type": "code",
   "execution_count": 40,
   "metadata": {},
   "outputs": [
    {
     "data": {
      "text/plain": [
       "['FORD WERKE GMBH',\n",
       " 'VOLKSWAGEN',\n",
       " 'KIA SLOVAKIA',\n",
       " 'SKODA',\n",
       " 'MERCEDES-BENZ AG',\n",
       " 'NISSAN AUTOMOTIVE EUROPE',\n",
       " 'PORSCHE',\n",
       " 'FIAT GROUP',\n",
       " 'TOYOTA',\n",
       " 'AUDI AG']"
      ]
     },
     "execution_count": 40,
     "metadata": {},
     "output_type": "execute_result"
    }
   ],
   "source": [
    "valeurs_uniques['Mh'][:10]"
   ]
  },
  {
   "cell_type": "code",
   "execution_count": 41,
   "metadata": {},
   "outputs": [
    {
     "data": {
      "text/plain": [
       "(0, 37)"
      ]
     },
     "execution_count": 41,
     "metadata": {},
     "output_type": "execute_result"
    }
   ],
   "source": [
    "df[df['Mh'].isna()].shape"
   ]
  },
  {
   "cell_type": "markdown",
   "metadata": {},
   "source": [
    "## Man - Manufacturer name OEM declaration\n",
    "\n",
    "Pareil 0 Nan on peut garder à mon avis, à voir ce qu'on en fait évidemment.\n",
    "\n",
    "**GARDER** pour K means"
   ]
  },
  {
   "cell_type": "code",
   "execution_count": 42,
   "metadata": {},
   "outputs": [
    {
     "name": "stdout",
     "output_type": "stream",
     "text": [
      "On compte 104 valeurs uniques et 0 NaN, quelques exemples de valeurs de Man:\n",
      "\n",
      "['FORD WERKE GMBH', 'VOLKSWAGEN AG', 'KIA SLOVAKIA SRO', 'SKODA AUTO AS', 'MERCEDES-BENZ AG']\n"
     ]
    }
   ],
   "source": [
    "print(f\"On compte {nombre_val_unique['Man']} valeurs uniques et {df[df['Man'].isna()].shape[0]} NaN, quelques exemples de valeurs de Man:\\n\\n{valeurs_uniques['Man'][:5]}\")"
   ]
  },
  {
   "cell_type": "markdown",
   "metadata": {},
   "source": [
    "## TAN - Type approval number\n",
    "D'après GPT\n",
    "\n",
    "Le \"Type Approval Number\" est un numéro attribué à un produit, généralement dans le domaine de l'automobile, pour indiquer qu'il est conforme aux réglementations et normes spécifiques. Cela garantit sa qualité et sa sécurité pour une utilisation conforme aux normes établies.\n",
    "\n",
    "l'absence d'un TAN (Type Approval Number) sur un véhicule peut indiquer qu'il n'est pas homologué ou qu'il ne répond pas aux normes réglementaires requises pour être utilisé sur la route. Le TAN est un identifiant qui atteste que le véhicule a été soumis aux tests, vérifications et certifications nécessaires pour garantir sa conformité aux normes de sécurité et d'émissions.\n",
    "\n",
    "Cependant, il est essentiel de noter que la réglementation peut varier d'un pays à l'autre, et dans certains cas, il peut y avoir des exemptions ou des situations particulières où un véhicule spécifique n'a pas besoin d'un TAN pour être utilisé légalement\n",
    "\n",
    "**mon avis**: peut-être que les TAN manquant (valeur = NaN) signifient que les véhicules ne sont pas homologués (ils n'ont pas passé les test de conformité). On pourrait peut être aussi créer une colonne \"conforme aux normes\" avec 0 si non conforme et 1 si conforme (c'est juste une idée)\n",
    "\n",
    "**GARDER**: faire FE pour créer la colonne `conforme` = 1 si conforme 0 sinon\n",
    "peut être faire analyse de variance pour voir si corrélation entre conforme et emission."
   ]
  },
  {
   "cell_type": "code",
   "execution_count": 43,
   "metadata": {},
   "outputs": [
    {
     "name": "stdout",
     "output_type": "stream",
     "text": [
      "On compte 6318 valeurs uniques et 3068 NaN, quelques exemples de valeurs de Tan:\n",
      "\n",
      "['e13*2007/46*1911*15', 'e1*2007/46*1783*29', 'e4*2007/46*1299*18', 'e8*2018/858*00014*01', 'e1*2007/46*1912*18']\n"
     ]
    }
   ],
   "source": [
    "print(f\"On compte {nombre_val_unique['Tan']} valeurs uniques et {df[df['Tan'].isna()].shape[0]} NaN, quelques exemples de valeurs de Tan:\\n\\n{valeurs_uniques['Tan'][:5]}\")"
   ]
  },
  {
   "cell_type": "markdown",
   "metadata": {},
   "source": [
    "## T - Type\n",
    "GPT\n",
    "\n",
    "Le Type T (ou \"Type de modèle\") est une classification qui permet d'identifier différents modèles de voitures au sein d'une même marque ou d'un même constructeur. Ces codes permettent aux constructeurs automobiles et aux autorités de suivre et d'identifier clairement chaque modèle de voiture.\n",
    "\n",
    "Pour connaître la signification d'un code de Type T spécifique, vous devrez généralement consulter les documents officiels du constructeur, tels que les manuels du propriétaire, les sites Web du constructeur, les informations sur les véhicules spécifiques ou contacter directement le service client du constructeur\n",
    "\n",
    "**GARDER** (pour l'instant regarder en dernier)"
   ]
  },
  {
   "cell_type": "code",
   "execution_count": 44,
   "metadata": {},
   "outputs": [
    {
     "name": "stdout",
     "output_type": "stream",
     "text": [
      "On compte 1506 valeurs uniques et 670 NaN, quelques exemples de valeurs de T:\n",
      "\n",
      "['DEH', 'AW', 'CD', 'PJ', 'F2CLA']\n"
     ]
    }
   ],
   "source": [
    "print(f\"On compte {nombre_val_unique['T']} valeurs uniques et {df[df['T'].isna()].shape[0]} NaN, quelques exemples de valeurs de T:\\n\\n{valeurs_uniques['T'][:5]}\")"
   ]
  },
  {
   "cell_type": "code",
   "execution_count": 45,
   "metadata": {},
   "outputs": [
    {
     "data": {
      "text/plain": [
       "['DEH',\n",
       " 'AW',\n",
       " 'AW',\n",
       " 'CD',\n",
       " 'AW',\n",
       " 'PJ',\n",
       " 'AW',\n",
       " 'PJ',\n",
       " 'F2CLA',\n",
       " 'PJ',\n",
       " 'F2CLA',\n",
       " 'AW',\n",
       " 'F2CLA',\n",
       " 'AW',\n",
       " 'PJ',\n",
       " 'F2CLA',\n",
       " 'AW',\n",
       " 'PJ',\n",
       " 'PJ',\n",
       " 'F2CLA',\n",
       " 'F2CLA',\n",
       " 'CD',\n",
       " 'PJ',\n",
       " 'F2CLA',\n",
       " 'F2CLA',\n",
       " 'PJ',\n",
       " 'F2CLA',\n",
       " 'PJ',\n",
       " 'F2CLA',\n",
       " 'F2CLA',\n",
       " 'F2CLA',\n",
       " 'F2CLA',\n",
       " 'F2CLA',\n",
       " 'PJ',\n",
       " 'AW',\n",
       " 'AW',\n",
       " 'AW',\n",
       " 'AW',\n",
       " 'F2CLA',\n",
       " 'F2CLA',\n",
       " 'F2CLA',\n",
       " 'AW',\n",
       " 'PJ',\n",
       " 'F2CLA',\n",
       " 'F2CLA',\n",
       " 'PJ',\n",
       " 'F2CLA',\n",
       " 'AW',\n",
       " 'AW',\n",
       " 'PJ',\n",
       " 'AW',\n",
       " 'AW',\n",
       " 'AW',\n",
       " 'AW',\n",
       " 'PJ',\n",
       " 'F2CLA',\n",
       " 'AW',\n",
       " 'F2CLA',\n",
       " 'F2CLA',\n",
       " 'PJ',\n",
       " 'F2CLA',\n",
       " 'PJ',\n",
       " 'PJ',\n",
       " 'F2CLA',\n",
       " 'AW',\n",
       " 'F2CLA',\n",
       " 'AW',\n",
       " 'AW',\n",
       " 'F2CLA',\n",
       " 'AW',\n",
       " 'AW',\n",
       " 'F2CLA',\n",
       " 'F2CLA',\n",
       " 'NX',\n",
       " 'F2CLA',\n",
       " 'AW',\n",
       " '5J',\n",
       " '5J',\n",
       " 'F2CLA',\n",
       " 'F2CLA',\n",
       " 'AW',\n",
       " 'F2CLA',\n",
       " 'F2CLA',\n",
       " 'F2CLA',\n",
       " 'AW',\n",
       " '5J',\n",
       " '5J',\n",
       " '5J',\n",
       " '5J',\n",
       " '5J',\n",
       " '5J',\n",
       " '5J',\n",
       " '5J',\n",
       " '5J',\n",
       " 'J12',\n",
       " '5J',\n",
       " '5J',\n",
       " '5J',\n",
       " '5J',\n",
       " 'J12',\n",
       " 'AW',\n",
       " '5J',\n",
       " '95B',\n",
       " '5J',\n",
       " '5J',\n",
       " 'AW',\n",
       " 'J12',\n",
       " 'F2CLA',\n",
       " 'F2CLA',\n",
       " 'NX',\n",
       " 'PJ',\n",
       " 'PJ',\n",
       " 'PJ',\n",
       " 'AW',\n",
       " 'PJ',\n",
       " 'AW',\n",
       " 'AW',\n",
       " 'AW',\n",
       " 'AW',\n",
       " 'AW',\n",
       " 'F2CLA',\n",
       " 'AW',\n",
       " 'F2CLA',\n",
       " 'PJ',\n",
       " 'J12',\n",
       " 'F2CLA',\n",
       " 'F2CLA',\n",
       " 'PJ',\n",
       " 'AW',\n",
       " 'F2CLA',\n",
       " 'F2CLA',\n",
       " 'AW',\n",
       " 'PJ',\n",
       " 'PJ',\n",
       " 'PJ',\n",
       " 'AW',\n",
       " 'F2CLA',\n",
       " 'F2CLA',\n",
       " 'F2CLA',\n",
       " 'PJ',\n",
       " 'AW',\n",
       " 'PJ',\n",
       " 'AW',\n",
       " 'PJ',\n",
       " 'AW',\n",
       " 'F2CLA',\n",
       " 'PJ',\n",
       " 'AW',\n",
       " 'PJ',\n",
       " 'AW',\n",
       " 'F2CLA',\n",
       " 'F2CLA',\n",
       " 'AW',\n",
       " 'AW',\n",
       " 'PJ',\n",
       " 'F2CLA',\n",
       " 'AW',\n",
       " 'PJ',\n",
       " 'AW',\n",
       " 'PJ',\n",
       " 'F2CLA',\n",
       " 'F2CLA',\n",
       " 'F2CLA',\n",
       " 'AW',\n",
       " 'F2CLA',\n",
       " 'PJ',\n",
       " 'AW',\n",
       " 'F2CLA',\n",
       " 'F2CLA',\n",
       " 'F2CLA',\n",
       " 'PJ',\n",
       " 'F2CLA',\n",
       " 'PJ',\n",
       " 'F2CLA',\n",
       " 'MP',\n",
       " 'MP',\n",
       " 'AW',\n",
       " 'AW',\n",
       " 'F2CLA',\n",
       " 'AW',\n",
       " 'F2CLA',\n",
       " 'AW',\n",
       " 'MP',\n",
       " 'AW',\n",
       " 'AW',\n",
       " 'AW',\n",
       " 'F2CLA',\n",
       " 'AW',\n",
       " 'F2CLA',\n",
       " 'F2CLA',\n",
       " 'PJ',\n",
       " 'F2CLA',\n",
       " 'PJ',\n",
       " 'F2CLA',\n",
       " 'AW',\n",
       " 'PJ',\n",
       " 'AW',\n",
       " 'AW',\n",
       " 'F2CLA',\n",
       " 'MP',\n",
       " 'AW',\n",
       " 'AW',\n",
       " 'V',\n",
       " 'AW',\n",
       " 'F2CLA',\n",
       " 'NU',\n",
       " 'F2CLA',\n",
       " 'NU',\n",
       " 'AW',\n",
       " '250',\n",
       " 'AW',\n",
       " 'AW',\n",
       " 'F2CLA',\n",
       " 'PJ',\n",
       " 'PJ',\n",
       " 'AW',\n",
       " 'PJ',\n",
       " 'AW',\n",
       " 'AW',\n",
       " 'AW',\n",
       " 'J12',\n",
       " 'AW',\n",
       " 'XZ1L(EU.M)',\n",
       " 'F2CLA',\n",
       " 'F2CLA',\n",
       " 'F2CLA',\n",
       " 'F2CLA',\n",
       " 'V',\n",
       " 'F2CLA',\n",
       " 'F2CLA',\n",
       " 'F2CLA',\n",
       " 'AW',\n",
       " '3T',\n",
       " '5J',\n",
       " 'F2CLA',\n",
       " 'PJ',\n",
       " 'F2CLA',\n",
       " 'F2CLA',\n",
       " 'PJ',\n",
       " 'PJ',\n",
       " 'F2CLA',\n",
       " 'PJ',\n",
       " 'F2CLA',\n",
       " 'F2CLA',\n",
       " 'AW',\n",
       " 'F2CLA',\n",
       " 'PJ',\n",
       " 'PJ',\n",
       " 'PJ',\n",
       " 'F2CLA',\n",
       " 'AW',\n",
       " 'PJ',\n",
       " 'F2CLA',\n",
       " 'PJ',\n",
       " 'F2CLA',\n",
       " 'F2CLA',\n",
       " 'F2CLA',\n",
       " 'GY',\n",
       " 'B-K',\n",
       " 'GY',\n",
       " 'F2CLA',\n",
       " '5J',\n",
       " '5J',\n",
       " 'F2CLA',\n",
       " 'GY',\n",
       " '5J',\n",
       " '5J',\n",
       " 'F2CLA',\n",
       " 'GY',\n",
       " 'GY',\n",
       " 'NU',\n",
       " 'NX',\n",
       " 'F2CLA',\n",
       " 'NX',\n",
       " 'F2CLA',\n",
       " 'F2CLA',\n",
       " 'NX',\n",
       " '5J',\n",
       " '5J',\n",
       " 'NX',\n",
       " '5J',\n",
       " 'GY',\n",
       " '5J',\n",
       " '5J',\n",
       " '5J',\n",
       " 'E',\n",
       " 'E',\n",
       " '5J',\n",
       " 'GY',\n",
       " '5J',\n",
       " 'GY',\n",
       " 'GY',\n",
       " '5J',\n",
       " 'NX',\n",
       " '5J',\n",
       " 'NX',\n",
       " 'NX',\n",
       " 'F2CLA',\n",
       " 'GY',\n",
       " '5J',\n",
       " 'NX',\n",
       " 'F2CLA',\n",
       " 'NX',\n",
       " 'F2CLA',\n",
       " 'GY',\n",
       " 'F2CLA',\n",
       " 'F2CLA',\n",
       " '5J',\n",
       " 'F2CLA',\n",
       " '5J',\n",
       " 'GY',\n",
       " 'NX',\n",
       " 'NX',\n",
       " 'NX',\n",
       " 'NX',\n",
       " 'NX',\n",
       " 'F2CLA',\n",
       " 'F2CLA',\n",
       " '5J',\n",
       " 'F2CLA',\n",
       " 'AW',\n",
       " '5J',\n",
       " 'F2CLA',\n",
       " 'AW',\n",
       " 'AW',\n",
       " '5J',\n",
       " 'NX',\n",
       " 'AW',\n",
       " 'AW',\n",
       " 'AW',\n",
       " 'F2CLA',\n",
       " 'NX',\n",
       " 'F2CLA',\n",
       " 'F2CLA',\n",
       " '5J',\n",
       " 'B-K',\n",
       " 'F2CLA',\n",
       " '5J',\n",
       " 'F2CLA',\n",
       " 'NU',\n",
       " 'F2CLA',\n",
       " 'P7 MONOCAB C',\n",
       " 'F2CLA',\n",
       " 'GY',\n",
       " 'GY',\n",
       " 'NX',\n",
       " '5J',\n",
       " 'NX',\n",
       " 'F2CLA',\n",
       " 'GY',\n",
       " 'NX',\n",
       " 'GY',\n",
       " 'F2CLA',\n",
       " 'NX',\n",
       " 'F2CLA',\n",
       " 'GY',\n",
       " 'GY',\n",
       " 'NX',\n",
       " '5J',\n",
       " 'F2CLA',\n",
       " 'GY',\n",
       " 'F2CLA',\n",
       " 'GY',\n",
       " '5J',\n",
       " 'GY',\n",
       " 'GY',\n",
       " '5J',\n",
       " '5J',\n",
       " '5J',\n",
       " 'GY',\n",
       " 'GY',\n",
       " 'GY',\n",
       " '5J',\n",
       " 'AL2(EU.M)',\n",
       " '5J',\n",
       " '5J',\n",
       " '5J',\n",
       " 'F2CLA',\n",
       " '5J',\n",
       " 'GY',\n",
       " '5J',\n",
       " 'AL2(EU.M)',\n",
       " 'F2CLA',\n",
       " '5J',\n",
       " 'GY',\n",
       " 'GY',\n",
       " 'GY',\n",
       " 'GY',\n",
       " 'GY',\n",
       " 'J15TM',\n",
       " 'J15TM',\n",
       " 'GY',\n",
       " 'F2CLA',\n",
       " 'F2CLA',\n",
       " 'E',\n",
       " 'E',\n",
       " 'NW',\n",
       " 'GY',\n",
       " '5J',\n",
       " 'NX',\n",
       " 'NX',\n",
       " 'NW',\n",
       " 'GY',\n",
       " '5J',\n",
       " 'GY',\n",
       " 'F16',\n",
       " 'V',\n",
       " 'F2CLA',\n",
       " '5J',\n",
       " 'GY',\n",
       " 'P7 MONOCAB C',\n",
       " 'GY',\n",
       " 'GY',\n",
       " 'P7 MONOCAB C',\n",
       " 'Z',\n",
       " 'F2CLA',\n",
       " 'P7 MONOCAB C',\n",
       " 'P7 MONOCAB C',\n",
       " '5J',\n",
       " 'GY',\n",
       " '5J',\n",
       " '5J',\n",
       " 'F2CLA',\n",
       " '5J',\n",
       " '5J',\n",
       " '5J',\n",
       " '5J',\n",
       " 'F2CLA',\n",
       " 'GY',\n",
       " '5J',\n",
       " 'GY',\n",
       " 'GY',\n",
       " 'F2CLA',\n",
       " 'GY',\n",
       " 'GY',\n",
       " 'F2CLA',\n",
       " '5J',\n",
       " 'F2CLA',\n",
       " 'GY',\n",
       " 'NU',\n",
       " 'F2CLA',\n",
       " 'NS',\n",
       " 'F2CLA',\n",
       " 'F2CLA',\n",
       " 'NX',\n",
       " 'F2CLA',\n",
       " 'NW',\n",
       " '5J',\n",
       " 'GY',\n",
       " 'F2CLA',\n",
       " 'NX',\n",
       " 'F2CLA',\n",
       " 'V',\n",
       " 'GY',\n",
       " 'AW',\n",
       " 'AW',\n",
       " 'U',\n",
       " 'U',\n",
       " 'F2CLA',\n",
       " 'AW',\n",
       " 'F2CLA',\n",
       " 'F2CLA',\n",
       " 'AW',\n",
       " 'F2CLA',\n",
       " 'V',\n",
       " 'V',\n",
       " '5J',\n",
       " 'AL2(EU.M)',\n",
       " '3T',\n",
       " '5J',\n",
       " 'AW',\n",
       " 'PJ',\n",
       " '5J',\n",
       " 'F2CLA',\n",
       " 'J12',\n",
       " 'F2CLA',\n",
       " 'J15TM',\n",
       " '199',\n",
       " '199',\n",
       " 'F2CLA',\n",
       " '3T',\n",
       " '5J',\n",
       " 'GR',\n",
       " '5J',\n",
       " '5J',\n",
       " '3T',\n",
       " '5J',\n",
       " '5J',\n",
       " 'AW',\n",
       " '5J',\n",
       " 'F2CLA',\n",
       " 'AW',\n",
       " '5J',\n",
       " '5J',\n",
       " 'V',\n",
       " 'AW',\n",
       " 'F2CLA',\n",
       " 'XPB1F(M)',\n",
       " 'AW',\n",
       " '5J',\n",
       " 'XPB1F(M)',\n",
       " '312',\n",
       " '5J',\n",
       " 'F16',\n",
       " '5J',\n",
       " 'NX',\n",
       " '3T',\n",
       " '5J',\n",
       " 'NU',\n",
       " 'F2CLA',\n",
       " 'F2CLA',\n",
       " '5J',\n",
       " 'Z-B',\n",
       " 'Z-B',\n",
       " '3T',\n",
       " '3T',\n",
       " 'F2CLA',\n",
       " 'F2CLA',\n",
       " '5J',\n",
       " 'NX',\n",
       " 'F2CLA',\n",
       " 'NX',\n",
       " 'F2CLA',\n",
       " 'XPB1F(M)',\n",
       " 'XPB1F(M)',\n",
       " '5J',\n",
       " '5J',\n",
       " 'AW',\n",
       " 'F2CLA',\n",
       " 'XPB1F(M)',\n",
       " 'F2CLA',\n",
       " 'AW',\n",
       " 'AW',\n",
       " 'AW',\n",
       " 'AW',\n",
       " '5J',\n",
       " 'AW',\n",
       " 'NX',\n",
       " '5J',\n",
       " 'F2CLA',\n",
       " '5J',\n",
       " '5J',\n",
       " '982',\n",
       " 'NX',\n",
       " 'AW',\n",
       " 'NX',\n",
       " 'AW',\n",
       " 'F2CLA',\n",
       " '5J',\n",
       " '5J',\n",
       " 'NU',\n",
       " 'F2CLA',\n",
       " 'F2CLA',\n",
       " 'AW',\n",
       " 'F2CLA',\n",
       " 'AW',\n",
       " '5J',\n",
       " 'AW',\n",
       " '5J',\n",
       " '5J',\n",
       " 'F2CLA',\n",
       " 'AW',\n",
       " 'F2CLA',\n",
       " '3T',\n",
       " 'PJ',\n",
       " 'NU',\n",
       " 'AW',\n",
       " '5J',\n",
       " '199',\n",
       " '949',\n",
       " 'F2CLA',\n",
       " 'F2CLA',\n",
       " '3T',\n",
       " '5J',\n",
       " 'AL2(EU.M)',\n",
       " 'F2CLA',\n",
       " 'AL2(EU.M)',\n",
       " 'F2CLA',\n",
       " 'U',\n",
       " 'F2CLA',\n",
       " '5J',\n",
       " 'F2CLA',\n",
       " 'NU',\n",
       " '5J',\n",
       " '5J',\n",
       " 'NU',\n",
       " '5J',\n",
       " '5J',\n",
       " 'AL2(EU.M)',\n",
       " 'F2CLA',\n",
       " 'NW',\n",
       " 'AW',\n",
       " 'CD',\n",
       " 'F2CLA',\n",
       " 'NW',\n",
       " 'CD',\n",
       " 'AW',\n",
       " 'NW',\n",
       " 'F2CLA',\n",
       " 'NX',\n",
       " 'F2CLA',\n",
       " 'AW',\n",
       " 'CD',\n",
       " 'E',\n",
       " 'CD',\n",
       " 'F2CLA',\n",
       " 'NW',\n",
       " 'NW',\n",
       " 'CD',\n",
       " 'AW',\n",
       " 'CD',\n",
       " 'CD',\n",
       " 'CD',\n",
       " 'AW',\n",
       " 'CD',\n",
       " 'CD',\n",
       " 'NX',\n",
       " 'F2CLA',\n",
       " 'CD',\n",
       " 'NW',\n",
       " 'F2CLA',\n",
       " 'F2CLA',\n",
       " 'F2CLA',\n",
       " 'F2CLA',\n",
       " 'NX',\n",
       " 'NU',\n",
       " 'NW',\n",
       " 'AW',\n",
       " 'AW',\n",
       " 'NW',\n",
       " 'NW',\n",
       " 'NW',\n",
       " 'AW',\n",
       " 'AW',\n",
       " 'AW',\n",
       " 'F2CLA',\n",
       " 'AW',\n",
       " 'F2CLA',\n",
       " 'NW',\n",
       " 'AW',\n",
       " 'NW',\n",
       " 'NW',\n",
       " 'NW',\n",
       " 'NW',\n",
       " 'NW',\n",
       " 'F2CLA',\n",
       " 'AW',\n",
       " 'NW',\n",
       " 'CD',\n",
       " 'AW',\n",
       " 'F2CLA',\n",
       " 'NW',\n",
       " 'AW',\n",
       " 'AW',\n",
       " 'NW',\n",
       " 'NW',\n",
       " 'AW',\n",
       " 'NW',\n",
       " 'AW',\n",
       " 'F2CLA',\n",
       " 'CD',\n",
       " 'AW',\n",
       " 'AW',\n",
       " 'AW',\n",
       " 'AW',\n",
       " 'CD',\n",
       " 'CD',\n",
       " 'F2CLA',\n",
       " 'PJ',\n",
       " 'AW',\n",
       " 'NX',\n",
       " 'NU',\n",
       " 'CD',\n",
       " 'PJ',\n",
       " 'F2CLA',\n",
       " 'NX',\n",
       " 'NX',\n",
       " 'F2CLA',\n",
       " 'F2CLA',\n",
       " 'F2CLA',\n",
       " 'XPB1F(M)',\n",
       " 'XPB1F(M)',\n",
       " 'XPB1F(M)',\n",
       " 'AW',\n",
       " 'NX',\n",
       " 'AW',\n",
       " 'NX',\n",
       " 'PJ',\n",
       " 'F2CLA',\n",
       " 'BU',\n",
       " 'Z-B',\n",
       " 'NS',\n",
       " 'F2CLA',\n",
       " 'F2CLA',\n",
       " 'NX',\n",
       " 'NX',\n",
       " 'NX',\n",
       " 'F2CLA',\n",
       " '3T',\n",
       " 'CD',\n",
       " 'NX',\n",
       " '3T',\n",
       " 'NX',\n",
       " 'NX',\n",
       " 'F2CLA',\n",
       " 'V',\n",
       " 'CD',\n",
       " 'CD',\n",
       " 'CD',\n",
       " 'F2CLA',\n",
       " 'F2CLA',\n",
       " 'CD',\n",
       " '3T',\n",
       " 'F2CLA',\n",
       " 'F2CLA',\n",
       " 'XPB1F(M)',\n",
       " 'AW',\n",
       " 'F2CLA',\n",
       " '312',\n",
       " 'F2CLA',\n",
       " 'F2CLA',\n",
       " 'AW',\n",
       " 'CD',\n",
       " '312',\n",
       " 'CD',\n",
       " 'F2CLA',\n",
       " 'AW',\n",
       " 'CD',\n",
       " 'NW',\n",
       " 'AW',\n",
       " 'AW',\n",
       " 'NW',\n",
       " 'F2CLA',\n",
       " 'NW',\n",
       " 'CD',\n",
       " 'F2CLA',\n",
       " 'AW',\n",
       " 'NW',\n",
       " 'NW',\n",
       " 'AW',\n",
       " 'NW',\n",
       " 'NW',\n",
       " 'CD',\n",
       " 'AW',\n",
       " 'CD',\n",
       " 'F2CLA',\n",
       " 'F2CLA',\n",
       " 'F2CLA',\n",
       " 'NW',\n",
       " 'CD',\n",
       " 'CD',\n",
       " '9YA',\n",
       " 'CD',\n",
       " 'AW',\n",
       " 'CD',\n",
       " 'NW',\n",
       " 'AW',\n",
       " 'F2CLA',\n",
       " 'NW',\n",
       " 'CD',\n",
       " 'NW',\n",
       " 'AW',\n",
       " 'CD',\n",
       " 'F2CLA',\n",
       " 'NW',\n",
       " 'NW',\n",
       " 'F2CLA',\n",
       " 'NX',\n",
       " 'F2CLA',\n",
       " 'NW',\n",
       " 'F2CLA',\n",
       " 'CD',\n",
       " 'CD',\n",
       " 'CD',\n",
       " 'NW',\n",
       " 'F2CLA',\n",
       " 'F2CLA',\n",
       " 'NW',\n",
       " 'CD',\n",
       " 'CD',\n",
       " 'CD',\n",
       " 'CD',\n",
       " 'CD',\n",
       " 'F2CLA',\n",
       " 'F2CLA',\n",
       " 'NW',\n",
       " 'NW',\n",
       " 'F2CLA',\n",
       " 'NW',\n",
       " 'AW',\n",
       " 'CD',\n",
       " 'F2CLA',\n",
       " 'CD',\n",
       " 'NW',\n",
       " 'F2CLA',\n",
       " 'CD',\n",
       " 'NW',\n",
       " 'F2CLA',\n",
       " 'NW',\n",
       " 'F2CLA',\n",
       " 'AW',\n",
       " 'AW',\n",
       " 'CD',\n",
       " 'AW',\n",
       " 'CD',\n",
       " 'AW',\n",
       " 'CD',\n",
       " 'AW',\n",
       " 'CD',\n",
       " 'CD',\n",
       " 'NW',\n",
       " 'NW',\n",
       " 'CD',\n",
       " 'AW',\n",
       " 'CD',\n",
       " 'F2CLA',\n",
       " 'F2CLA',\n",
       " 'NW',\n",
       " 'NW',\n",
       " 'CD',\n",
       " 'CD',\n",
       " 'F2CLA',\n",
       " 'AW',\n",
       " 'NW',\n",
       " 'NW',\n",
       " 'F2CLA',\n",
       " 'AW',\n",
       " 'AW',\n",
       " 'NW',\n",
       " 'AW',\n",
       " 'F2CLA',\n",
       " 'CD',\n",
       " 'F2CLA',\n",
       " 'F2CLA',\n",
       " 'F2CLA',\n",
       " 'F2CLA',\n",
       " 'F2CLA',\n",
       " 'AW',\n",
       " 'F2CLA',\n",
       " 'AW',\n",
       " 'CD',\n",
       " 'AW',\n",
       " 'XPA1F(EU.M)',\n",
       " 'AW',\n",
       " 'AW',\n",
       " 'CD',\n",
       " 'F2CLA',\n",
       " 'F2CLA',\n",
       " 'F2CLA',\n",
       " '9YA',\n",
       " 'AW',\n",
       " 'F2CLA',\n",
       " 'F2CLA',\n",
       " 'NW',\n",
       " 'AW',\n",
       " 'CD',\n",
       " 'F2CLA',\n",
       " 'F2CLA',\n",
       " 'F2CLA',\n",
       " 'F2CLA',\n",
       " 'AW',\n",
       " 'AW',\n",
       " 'AW',\n",
       " 'F2CLA',\n",
       " 'F2CLA',\n",
       " '312',\n",
       " 'CD',\n",
       " 'F2CLA',\n",
       " 'DM',\n",
       " 'F2CLA',\n",
       " 'AW',\n",
       " 'AW',\n",
       " 'CD',\n",
       " 'AW',\n",
       " 'AW',\n",
       " 'F2CLA',\n",
       " 'F2CLA',\n",
       " 'DM',\n",
       " 'AW',\n",
       " 'F2CLA',\n",
       " 'F2CLA',\n",
       " '312',\n",
       " 'XPB1F(M)',\n",
       " 'F2CLA',\n",
       " 'AW',\n",
       " 'F2CLA',\n",
       " 'AW',\n",
       " '9YA',\n",
       " 'AW',\n",
       " 'AW',\n",
       " 'PJ',\n",
       " 'AW',\n",
       " 'AW',\n",
       " 'AW',\n",
       " 'F2CLA',\n",
       " 'AW',\n",
       " 'AW',\n",
       " '312',\n",
       " 'F2CLA',\n",
       " 'F2CLA',\n",
       " 'S5',\n",
       " 'AW',\n",
       " 'AW',\n",
       " 'F2CLA',\n",
       " 'F2CLA',\n",
       " 'AW',\n",
       " 'F2CLA',\n",
       " 'S5',\n",
       " 'F2CLA',\n",
       " 'F2CLA',\n",
       " 'F2CLA',\n",
       " 'DM',\n",
       " 'J12',\n",
       " 'A00',\n",
       " 'AW',\n",
       " '9YA',\n",
       " '3T',\n",
       " 'F2CLA',\n",
       " 'F2CLA',\n",
       " 'AW',\n",
       " 'PJ',\n",
       " 'AW',\n",
       " 'PJ',\n",
       " 'F2CLA',\n",
       " 'AW',\n",
       " 'AW',\n",
       " 'F2CLA',\n",
       " 'F2CLA',\n",
       " 'F2CLA',\n",
       " 'F2CLA',\n",
       " 'AW',\n",
       " 'F2CLA',\n",
       " 'AW',\n",
       " 'F2CLA',\n",
       " 'AW',\n",
       " 'MP',\n",
       " 'F2CLA',\n",
       " 'F2CLA',\n",
       " 'MP',\n",
       " 'GH',\n",
       " 'F2CLA',\n",
       " 'F2CLA',\n",
       " 'F2CLA',\n",
       " 'F2CLA',\n",
       " 'F2CLA',\n",
       " 'AW',\n",
       " 'F2CLA',\n",
       " 'F2CLA',\n",
       " 'AW',\n",
       " 'AW',\n",
       " 'PJ',\n",
       " 'F2CLA',\n",
       " 'AW',\n",
       " 'PJ',\n",
       " 'AW',\n",
       " 'PJ',\n",
       " 'F2CLA',\n",
       " 'F2CLA',\n",
       " 'AW',\n",
       " 'F2CLA',\n",
       " 'PJ',\n",
       " 'F2CLA',\n",
       " 'F2CLA',\n",
       " 'PJ',\n",
       " 'F2CLA',\n",
       " 'F2CLA',\n",
       " 'PJ',\n",
       " 'F2CLA',\n",
       " 'PJ',\n",
       " 'NX',\n",
       " 'AW',\n",
       " 'F2CLA',\n",
       " 'F2CLA',\n",
       " 'F2CLA',\n",
       " 'F2CLA',\n",
       " 'E',\n",
       " 'AW',\n",
       " 'E',\n",
       " 'E',\n",
       " 'F2CLA',\n",
       " 'F2CLA',\n",
       " 'F2CLA',\n",
       " 'AW',\n",
       " 'XPB1F(M)',\n",
       " 'Z-B',\n",
       " 'E',\n",
       " 'NW',\n",
       " 'F2CLA',\n",
       " 'NW',\n",
       " 'F2CLA',\n",
       " 'F2CLA',\n",
       " 'F2CLA',\n",
       " 'AW',\n",
       " 'J12',\n",
       " 'Z-B',\n",
       " 'XA5(EU.M)-TMG',\n",
       " 'DM',\n",
       " 'CD',\n",
       " 'F2CLA',\n",
       " 'CD',\n",
       " ...]"
      ]
     },
     "execution_count": 45,
     "metadata": {},
     "output_type": "execute_result"
    }
   ],
   "source": [
    "df['T'].values.tolist()"
   ]
  },
  {
   "cell_type": "markdown",
   "metadata": {},
   "source": [
    "## Va - Variant\n",
    "\n",
    "Le code \"Va - Variant\" pour une voiture se réfère généralement à une variante ou une version spécifique d'un modèle de véhicule. Par exemple, un modèle de base peut avoir plusieurs variantes telles qu'une version de base, une version haut de gamme avec des équipements supplémentaires, une version sportive avec un moteur plus puissant, etc. \n",
    "\n",
    "**JETTE**"
   ]
  },
  {
   "cell_type": "code",
   "execution_count": 46,
   "metadata": {},
   "outputs": [
    {
     "name": "stdout",
     "output_type": "stream",
     "text": [
      "On compte 5413 valeurs uniques et 2517 NaN, quelques exemples de valeurs de Va:\n",
      "\n",
      "['R0DB1NX', 'ABDLAC', 'BAP71', 'ABDLAA', 'ABDLACX0']\n"
     ]
    }
   ],
   "source": [
    "print(f\"On compte {nombre_val_unique['Va']} valeurs uniques et {df[df['Va'].isna()].shape[0]} NaN, quelques exemples de valeurs de Va:\\n\\n{valeurs_uniques['Va'][:5]}\")"
   ]
  },
  {
   "cell_type": "markdown",
   "metadata": {},
   "source": [
    "## Ve - Version\n",
    "\n",
    "Le code \"Ve - Version\" pour une voiture se réfère généralement à la version spécifique ou à la configuration particulière d'un modèle de véhicule. Les codes de version permettent de catégoriser et d'identifier les différentes versions d'un modèle dans les systèmes de gestion des véhicules. Par exemple, un constructeur automobile peut utiliser un code \"Ve\" pour indiquer une version de base, tandis qu'un autre code \"Ve\" peut être associé à une version haut de gamme avec des caractéristiques supplémentaires.\n",
    "\n",
    "**JETTE**"
   ]
  },
  {
   "cell_type": "code",
   "execution_count": 47,
   "metadata": {},
   "outputs": [
    {
     "name": "stdout",
     "output_type": "stream",
     "text": [
      "On compte 25570 valeurs uniques et 13810 NaN, quelques exemples de valeurs de Ve:\n",
      "\n",
      "['5BSCENA5JBS', 'FM5FM5DF008N3VR24BI1CA0I', 'FD7FD7CW005N2VR24BI1AA0I', 'D73F12', 'FD7FD7CW005N2VR24BI1CB0I']\n"
     ]
    }
   ],
   "source": [
    "print(f\"On compte {nombre_val_unique['Ve']} valeurs uniques et {df[df['Ve'].isna()].shape[0]} NaN, quelques exemples de valeurs de Ve:\\n\\n{valeurs_uniques['Ve'][:5]}\")"
   ]
  },
  {
   "cell_type": "markdown",
   "metadata": {},
   "source": [
    "## Mk - Make\n",
    "\n",
    "Make fait référence au fabricant ou au constructeur de la voiture. C'est essentiellement le nom de la marque qui produit le véhicule.\n",
    "\n",
    "A voir ce qu'on en fait c'est une variable catégorielle\n",
    "\n",
    "**GARDER** pour K means"
   ]
  },
  {
   "cell_type": "code",
   "execution_count": 48,
   "metadata": {},
   "outputs": [
    {
     "name": "stdout",
     "output_type": "stream",
     "text": [
      "On compte 694 valeurs uniques et 83 NaN, quelques exemples de valeurs de Mk:\n",
      "\n",
      "['FORD', 'VOLKSWAGEN', 'KIA', 'SKODA', 'MERCEDES-BENZ']\n"
     ]
    }
   ],
   "source": [
    "print(f\"On compte {nombre_val_unique['Mk']} valeurs uniques et {df[df['Mk'].isna()].shape[0]} NaN, quelques exemples de valeurs de Mk:\\n\\n{valeurs_uniques['Mk'][:5]}\")"
   ]
  },
  {
   "cell_type": "markdown",
   "metadata": {},
   "source": [
    "## Cn - Commercial name\n",
    "\n",
    "**GARDER** pour K means"
   ]
  },
  {
   "cell_type": "code",
   "execution_count": 49,
   "metadata": {},
   "outputs": [
    {
     "name": "stdout",
     "output_type": "stream",
     "text": [
      "On compte 8323 valeurs uniques et 20909 NaN, quelques exemples de valeurs de Cn:\n",
      "\n",
      "['FOCUS', 'POLO', 'PROCEED', 'FABIA', 'CLA 250 E']\n"
     ]
    }
   ],
   "source": [
    "print(f\"On compte {nombre_val_unique['Cn']} valeurs uniques et {df[df['Cn'].isna()].shape[0]} NaN, quelques exemples de valeurs de Cn:\\n\\n{valeurs_uniques['Cn'][:5]}\")"
   ]
  },
  {
   "cell_type": "markdown",
   "metadata": {},
   "source": [
    "## Ct - Category of the vehicle type approved\n",
    "\n",
    "Ct fait référence à la catégorie dans laquelle un type de véhicule particulier a été homologué ou certifié pour être conforme aux normes réglementaires spécifiques. Par exemple, un code \"Ct\" indiquant \"Passenger Car\" (voiture particulière) signifie que le véhicule est homologué en tant que voiture particulière, tandis qu'un code \"Ct\" indiquant \"Light Commercial Vehicle\" (véhicule utilitaire léger) indiquerait que le véhicule est homologué en tant que tel. Cela peut influencer diverses réglementations et taxes qui s'appliquent aux véhicules en fonction de leur catégorie.\n",
    "\n",
    "**mon avis**: On pourrait en faire une variable encodée facilement\n",
    "\n",
    "selon les réglementations de l'Union européenne. Voici quelques exemples de ces codes :\n",
    "\n",
    "- M1 : Voiture particulière.\n",
    "- M1G : Voiture particulière écologique.\n",
    "- M2 : Véhicule de transport de personnes avec plus de 8 places assises.\n",
    "- M2G : Véhicule de transport de personnes avec plus de 8 places assises, écologique.\n",
    "- M3 : Véhicule de transport de personnes avec plus de 8 places assises.\n",
    "- N1 : Véhicule utilitaire léger (camionnette).\n",
    "- N1G : Véhicule utilitaire léger (camionnette) écologique.\n",
    "- N2 : Véhicule utilitaire.\n",
    "- N2G : Véhicule utilitaire écologique.\n",
    "- N3 : Véhicule utilitaire.\n",
    "- L : Deux-roues à moteur.\n",
    "- L3e : Deux-roues à moteur, catégorie 3 roues.\n",
    "- L4e : Deux-roues à moteur, catégorie 4 roues.\n",
    "- L5e : Deux-roues à moteur, catégorie 5 roues.\n",
    "- L7e : Deux-roues à moteur, catégorie 7 roues.\n",
    "- L9e : Deux-roues à moteur, catégorie 9 roues.\n",
    "- L2e : Deux-roues à moteur électriques.\n",
    "\n",
    "**GARDER**: OHE après traitement des NaN imputation par le mode ou autre chose comme KNN "
   ]
  },
  {
   "cell_type": "code",
   "execution_count": 50,
   "metadata": {},
   "outputs": [
    {
     "name": "stdout",
     "output_type": "stream",
     "text": [
      "On compte 5 valeurs uniques et 952 NaN, quelques exemples de valeurs de Ct:\n",
      "\n",
      "['M1', 'M1G', 'N1', nan, 'N2']\n"
     ]
    }
   ],
   "source": [
    "print(f\"On compte {nombre_val_unique['Ct']} valeurs uniques et {df[df['Ct'].isna()].shape[0]} NaN, quelques exemples de valeurs de Ct:\\n\\n{valeurs_uniques['Ct'][:5]}\")"
   ]
  },
  {
   "cell_type": "code",
   "execution_count": 51,
   "metadata": {},
   "outputs": [
    {
     "data": {
      "text/html": [
       "<div>\n",
       "<style scoped>\n",
       "    .dataframe tbody tr th:only-of-type {\n",
       "        vertical-align: middle;\n",
       "    }\n",
       "\n",
       "    .dataframe tbody tr th {\n",
       "        vertical-align: top;\n",
       "    }\n",
       "\n",
       "    .dataframe thead th {\n",
       "        text-align: right;\n",
       "    }\n",
       "</style>\n",
       "<table border=\"1\" class=\"dataframe\">\n",
       "  <thead>\n",
       "    <tr style=\"text-align: right;\">\n",
       "      <th></th>\n",
       "      <th>ID</th>\n",
       "      <th>Country</th>\n",
       "      <th>VFN</th>\n",
       "      <th>Mp</th>\n",
       "      <th>Mh</th>\n",
       "      <th>Man</th>\n",
       "      <th>MMS</th>\n",
       "      <th>Tan</th>\n",
       "      <th>T</th>\n",
       "      <th>Va</th>\n",
       "      <th>Ve</th>\n",
       "      <th>Mk</th>\n",
       "      <th>Cn</th>\n",
       "      <th>Ct</th>\n",
       "      <th>Cr</th>\n",
       "      <th>r</th>\n",
       "      <th>m (kg)</th>\n",
       "      <th>Mt</th>\n",
       "      <th>Enedc (g/km)</th>\n",
       "      <th>Ewltp (g/km)</th>\n",
       "      <th>W (mm)</th>\n",
       "      <th>At1 (mm)</th>\n",
       "      <th>At2 (mm)</th>\n",
       "      <th>Ft</th>\n",
       "      <th>Fm</th>\n",
       "      <th>ec (cm3)</th>\n",
       "      <th>ep (KW)</th>\n",
       "      <th>z (Wh/km)</th>\n",
       "      <th>IT</th>\n",
       "      <th>Ernedc (g/km)</th>\n",
       "      <th>Erwltp (g/km)</th>\n",
       "      <th>De</th>\n",
       "      <th>Vf</th>\n",
       "      <th>Status</th>\n",
       "      <th>Date of registration</th>\n",
       "      <th>Fuel consumption</th>\n",
       "      <th>Electric range (km)</th>\n",
       "    </tr>\n",
       "  </thead>\n",
       "  <tbody>\n",
       "    <tr>\n",
       "      <th>754419</th>\n",
       "      <td>754419</td>\n",
       "      <td>IT</td>\n",
       "      <td>NaN</td>\n",
       "      <td>NaN</td>\n",
       "      <td>DR AUTOMOBILES</td>\n",
       "      <td>DR AUTOMOBILES SRL</td>\n",
       "      <td>NaN</td>\n",
       "      <td>e3*KS07/46*0296*16</td>\n",
       "      <td>D3</td>\n",
       "      <td>J</td>\n",
       "      <td>2</td>\n",
       "      <td>DR</td>\n",
       "      <td>EVO4</td>\n",
       "      <td>NaN</td>\n",
       "      <td>M1</td>\n",
       "      <td>1</td>\n",
       "      <td>1320.00</td>\n",
       "      <td>NaN</td>\n",
       "      <td>NaN</td>\n",
       "      <td>394.34</td>\n",
       "      <td>2560.00</td>\n",
       "      <td>1480.00</td>\n",
       "      <td>NaN</td>\n",
       "      <td>LPG</td>\n",
       "      <td>B</td>\n",
       "      <td>1590.00</td>\n",
       "      <td>84.00</td>\n",
       "      <td>NaN</td>\n",
       "      <td>E1 29</td>\n",
       "      <td>NaN</td>\n",
       "      <td>NaN</td>\n",
       "      <td>NaN</td>\n",
       "      <td>NaN</td>\n",
       "      <td>P</td>\n",
       "      <td>2022-02-08</td>\n",
       "      <td>NaN</td>\n",
       "      <td>NaN</td>\n",
       "    </tr>\n",
       "    <tr>\n",
       "      <th>754423</th>\n",
       "      <td>754423</td>\n",
       "      <td>IT</td>\n",
       "      <td>NaN</td>\n",
       "      <td>VOLKSWAGEN</td>\n",
       "      <td>LAMBORGHINI</td>\n",
       "      <td>AUTOMOBILI LAMBORGHINI SPA</td>\n",
       "      <td>NaN</td>\n",
       "      <td>e3*KS07/46*0075*19</td>\n",
       "      <td>834</td>\n",
       "      <td>U</td>\n",
       "      <td>21ALC</td>\n",
       "      <td>LAMBORGHINI</td>\n",
       "      <td>AVENTADOR</td>\n",
       "      <td>NaN</td>\n",
       "      <td>M1</td>\n",
       "      <td>1</td>\n",
       "      <td>1790.00</td>\n",
       "      <td>NaN</td>\n",
       "      <td>NaN</td>\n",
       "      <td>1388.51</td>\n",
       "      <td>2700.00</td>\n",
       "      <td>1720.00</td>\n",
       "      <td>NaN</td>\n",
       "      <td>PETROL</td>\n",
       "      <td>M</td>\n",
       "      <td>6498.00</td>\n",
       "      <td>574.00</td>\n",
       "      <td>NaN</td>\n",
       "      <td>E1 29</td>\n",
       "      <td>NaN</td>\n",
       "      <td>NaN</td>\n",
       "      <td>NaN</td>\n",
       "      <td>NaN</td>\n",
       "      <td>P</td>\n",
       "      <td>2022-05-20</td>\n",
       "      <td>NaN</td>\n",
       "      <td>NaN</td>\n",
       "    </tr>\n",
       "    <tr>\n",
       "      <th>754430</th>\n",
       "      <td>754430</td>\n",
       "      <td>IT</td>\n",
       "      <td>NaN</td>\n",
       "      <td>NaN</td>\n",
       "      <td>AA-IVA</td>\n",
       "      <td>AA-IVA</td>\n",
       "      <td>NaN</td>\n",
       "      <td>e3*2007/46*0064*64</td>\n",
       "      <td>312</td>\n",
       "      <td>AYD1B</td>\n",
       "      <td>E25ACM</td>\n",
       "      <td>FIAT</td>\n",
       "      <td>FIAT 500</td>\n",
       "      <td>NaN</td>\n",
       "      <td>M1</td>\n",
       "      <td>1</td>\n",
       "      <td>1074.00</td>\n",
       "      <td>NaN</td>\n",
       "      <td>NaN</td>\n",
       "      <td>330.41</td>\n",
       "      <td>2300.00</td>\n",
       "      <td>NaN</td>\n",
       "      <td>NaN</td>\n",
       "      <td>PETROL</td>\n",
       "      <td>H</td>\n",
       "      <td>999.00</td>\n",
       "      <td>52.00</td>\n",
       "      <td>NaN</td>\n",
       "      <td>E1 29</td>\n",
       "      <td>NaN</td>\n",
       "      <td>NaN</td>\n",
       "      <td>NaN</td>\n",
       "      <td>NaN</td>\n",
       "      <td>P</td>\n",
       "      <td>2022-09-22</td>\n",
       "      <td>NaN</td>\n",
       "      <td>NaN</td>\n",
       "    </tr>\n",
       "    <tr>\n",
       "      <th>754449</th>\n",
       "      <td>754449</td>\n",
       "      <td>IT</td>\n",
       "      <td>NaN</td>\n",
       "      <td>VOLKSWAGEN</td>\n",
       "      <td>LAMBORGHINI</td>\n",
       "      <td>AUTOMOBILI LAMBORGHINI SPA</td>\n",
       "      <td>NaN</td>\n",
       "      <td>e3*2007/46*0616*03</td>\n",
       "      <td>636</td>\n",
       "      <td>ADAA</td>\n",
       "      <td>BABAADADAAA</td>\n",
       "      <td>LAMBORGHINI</td>\n",
       "      <td>URUS</td>\n",
       "      <td>NaN</td>\n",
       "      <td>M1</td>\n",
       "      <td>1</td>\n",
       "      <td>2225.00</td>\n",
       "      <td>NaN</td>\n",
       "      <td>NaN</td>\n",
       "      <td>997.58</td>\n",
       "      <td>3006.00</td>\n",
       "      <td>1711.00</td>\n",
       "      <td>NaN</td>\n",
       "      <td>PETROL</td>\n",
       "      <td>M</td>\n",
       "      <td>3996.00</td>\n",
       "      <td>490.00</td>\n",
       "      <td>NaN</td>\n",
       "      <td>E1 29</td>\n",
       "      <td>NaN</td>\n",
       "      <td>NaN</td>\n",
       "      <td>NaN</td>\n",
       "      <td>NaN</td>\n",
       "      <td>P</td>\n",
       "      <td>2022-09-29</td>\n",
       "      <td>NaN</td>\n",
       "      <td>NaN</td>\n",
       "    </tr>\n",
       "    <tr>\n",
       "      <th>754492</th>\n",
       "      <td>754492</td>\n",
       "      <td>IT</td>\n",
       "      <td>NaN</td>\n",
       "      <td>RENAULT-NISSAN-MITSUBISHI</td>\n",
       "      <td>NISSAN AUTOMOTIVE EUROPE</td>\n",
       "      <td>NISSAN AUTOMOTIVE EUROPE SAS</td>\n",
       "      <td>NaN</td>\n",
       "      <td>e9*2018/858*11042*01</td>\n",
       "      <td>J12</td>\n",
       "      <td>A</td>\n",
       "      <td>A09</td>\n",
       "      <td>NISSAN</td>\n",
       "      <td>NISSAN QASHQAI</td>\n",
       "      <td>NaN</td>\n",
       "      <td>M1</td>\n",
       "      <td>1</td>\n",
       "      <td>1473.00</td>\n",
       "      <td>NaN</td>\n",
       "      <td>NaN</td>\n",
       "      <td>475.63</td>\n",
       "      <td>2665.00</td>\n",
       "      <td>1602.00</td>\n",
       "      <td>NaN</td>\n",
       "      <td>PETROL</td>\n",
       "      <td>H</td>\n",
       "      <td>1332.00</td>\n",
       "      <td>103.00</td>\n",
       "      <td>NaN</td>\n",
       "      <td>E1 29</td>\n",
       "      <td>NaN</td>\n",
       "      <td>NaN</td>\n",
       "      <td>NaN</td>\n",
       "      <td>NaN</td>\n",
       "      <td>P</td>\n",
       "      <td>2022-03-21</td>\n",
       "      <td>NaN</td>\n",
       "      <td>NaN</td>\n",
       "    </tr>\n",
       "  </tbody>\n",
       "</table>\n",
       "</div>"
      ],
      "text/plain": [
       "            ID Country  VFN                         Mp  \\\n",
       "754419  754419      IT  NaN                        NaN   \n",
       "754423  754423      IT  NaN                 VOLKSWAGEN   \n",
       "754430  754430      IT  NaN                        NaN   \n",
       "754449  754449      IT  NaN                 VOLKSWAGEN   \n",
       "754492  754492      IT  NaN  RENAULT-NISSAN-MITSUBISHI   \n",
       "\n",
       "                              Mh                           Man  MMS  \\\n",
       "754419            DR AUTOMOBILES            DR AUTOMOBILES SRL  NaN   \n",
       "754423               LAMBORGHINI    AUTOMOBILI LAMBORGHINI SPA  NaN   \n",
       "754430                    AA-IVA                        AA-IVA  NaN   \n",
       "754449               LAMBORGHINI    AUTOMOBILI LAMBORGHINI SPA  NaN   \n",
       "754492  NISSAN AUTOMOTIVE EUROPE  NISSAN AUTOMOTIVE EUROPE SAS  NaN   \n",
       "\n",
       "                         Tan    T     Va           Ve           Mk  \\\n",
       "754419    e3*KS07/46*0296*16   D3      J            2           DR   \n",
       "754423    e3*KS07/46*0075*19  834      U        21ALC  LAMBORGHINI   \n",
       "754430    e3*2007/46*0064*64  312  AYD1B       E25ACM         FIAT   \n",
       "754449    e3*2007/46*0616*03  636   ADAA  BABAADADAAA  LAMBORGHINI   \n",
       "754492  e9*2018/858*11042*01  J12      A          A09       NISSAN   \n",
       "\n",
       "                    Cn   Ct  Cr  r  m (kg)  Mt  Enedc (g/km)  Ewltp (g/km)  \\\n",
       "754419            EVO4  NaN  M1  1 1320.00 NaN           NaN        394.34   \n",
       "754423       AVENTADOR  NaN  M1  1 1790.00 NaN           NaN       1388.51   \n",
       "754430        FIAT 500  NaN  M1  1 1074.00 NaN           NaN        330.41   \n",
       "754449            URUS  NaN  M1  1 2225.00 NaN           NaN        997.58   \n",
       "754492  NISSAN QASHQAI  NaN  M1  1 1473.00 NaN           NaN        475.63   \n",
       "\n",
       "        W (mm)  At1 (mm)  At2 (mm)      Ft Fm  ec (cm3)  ep (KW)  z (Wh/km)  \\\n",
       "754419 2560.00   1480.00       NaN     LPG  B   1590.00    84.00        NaN   \n",
       "754423 2700.00   1720.00       NaN  PETROL  M   6498.00   574.00        NaN   \n",
       "754430 2300.00       NaN       NaN  PETROL  H    999.00    52.00        NaN   \n",
       "754449 3006.00   1711.00       NaN  PETROL  M   3996.00   490.00        NaN   \n",
       "754492 2665.00   1602.00       NaN  PETROL  H   1332.00   103.00        NaN   \n",
       "\n",
       "           IT  Ernedc (g/km)  Erwltp (g/km)  De  Vf Status  \\\n",
       "754419  E1 29            NaN            NaN NaN NaN      P   \n",
       "754423  E1 29            NaN            NaN NaN NaN      P   \n",
       "754430  E1 29            NaN            NaN NaN NaN      P   \n",
       "754449  E1 29            NaN            NaN NaN NaN      P   \n",
       "754492  E1 29            NaN            NaN NaN NaN      P   \n",
       "\n",
       "       Date of registration  Fuel consumption   Electric range (km)  \n",
       "754419           2022-02-08                NaN                  NaN  \n",
       "754423           2022-05-20                NaN                  NaN  \n",
       "754430           2022-09-22                NaN                  NaN  \n",
       "754449           2022-09-29                NaN                  NaN  \n",
       "754492           2022-03-21                NaN                  NaN  "
      ]
     },
     "execution_count": 51,
     "metadata": {},
     "output_type": "execute_result"
    }
   ],
   "source": [
    "df[df['Ct'].isna()].head()"
   ]
  },
  {
   "cell_type": "markdown",
   "metadata": {},
   "source": [
    "## Cr - Category of the vehicle registered\n",
    "\n",
    "Cr est la catégorie du véhicule tel qu'il est enregistré ou immatriculé auprès des autorités locales ou nationales. Cette catégorie est utilisée pour identifier le type de véhicule tel qu'il est effectivement utilisé sur la route et immatriculé par son propriétaire. Elle peut varier en fonction de la législation et des normes d'immatriculation du pays ou de la région.\n",
    "\n",
    "**mon avis**: Il faudrait trouver comment ranger dans l'ordre ces codes et on pourra en faire une variable label encodée (ordinal encodée)\n",
    "\n",
    "Chat GPT m'a donné ça(a vérifier):\n",
    "\n",
    "- M1 - Véhicules automobiles conçus et construits pour le transport de passagers et de leurs bagages, ayant au maximum huit places assises en plus du siège du conducteur. Il s'agit généralement des voitures particulières.\n",
    "\n",
    "- M1G - Ce code spécifique \"G\" peut indiquer une sous-catégorie des véhicules M1. Par exemple, il peut être utilisé pour différencier les véhicules M1G équipés de moteurs au gaz.\n",
    "\n",
    "- M1S - Ce code spécifique \"S\" peut également indiquer une sous-catégorie des véhicules M1. Il est souvent utilisé pour identifier les véhicules M1S équipés de moteurs électriques ou hybrides.\n",
    "\n",
    "**GARDER**: OHE et vérifier les significations des codes pour Ct et Cr "
   ]
  },
  {
   "cell_type": "code",
   "execution_count": 52,
   "metadata": {},
   "outputs": [
    {
     "name": "stdout",
     "output_type": "stream",
     "text": [
      "On compte 3 valeurs uniques et 0 NaN, quelques exemples de valeurs de Cr:\n",
      "\n",
      "['M1', 'M1G', 'M1S']\n"
     ]
    }
   ],
   "source": [
    "print(f\"On compte {nombre_val_unique['Cr']} valeurs uniques et {df[df['Cr'].isna()].shape[0]} NaN, quelques exemples de valeurs de Cr:\\n\\n{valeurs_uniques['Cr'][:5]}\")"
   ]
  },
  {
   "cell_type": "markdown",
   "metadata": {},
   "source": [
    "## m (kg) - Mass in running order Completed/complete vehicle\n",
    "\n",
    "Le terme \"m (kg) - Mass in running order Completed/complete vehicle\" se réfère au poids d'un véhicule complet et prêt à être utilisé, y compris tous les équipements, les fluides (comme l'huile, le carburant, le liquide de refroidissement, etc.), et d'autres composants nécessaires pour qu'il puisse fonctionner sur la route. Cela inclut également le poids de tout équipement optionnel installé en usine.\n",
    "\n",
    "**mon avis**: regarder le max, sans doute un outlier\n",
    "\n",
    "**GARDER**: \n",
    "1. Détection outlier\n",
    "2. Imputation par la médiane\n"
   ]
  },
  {
   "cell_type": "code",
   "execution_count": 53,
   "metadata": {},
   "outputs": [
    {
     "name": "stdout",
     "output_type": "stream",
     "text": [
      "On compte 2238 valeurs uniques et 47 NaN, quelques exemples de valeurs de m (kg):\n",
      "\n",
      "[1387.0, 1172.0, 1204.0, 1438.0, 1207.0]\n"
     ]
    }
   ],
   "source": [
    "print(f\"On compte {nombre_val_unique['m (kg)']} valeurs uniques et {df[df['m (kg)'].isna()].shape[0]} NaN, quelques exemples de valeurs de m (kg):\\n\\n{valeurs_uniques['m (kg)'][:5]}\")"
   ]
  },
  {
   "cell_type": "code",
   "execution_count": 54,
   "metadata": {},
   "outputs": [
    {
     "data": {
      "text/plain": [
       "count   1488891.00\n",
       "mean       1705.16\n",
       "std         361.45\n",
       "min         570.00\n",
       "25%        1436.00\n",
       "50%        1645.00\n",
       "75%        1920.00\n",
       "max        4427.00\n",
       "Name: m (kg), dtype: float64"
      ]
     },
     "execution_count": 54,
     "metadata": {},
     "output_type": "execute_result"
    }
   ],
   "source": [
    "df['m (kg)'].describe()"
   ]
  },
  {
   "cell_type": "code",
   "execution_count": 55,
   "metadata": {},
   "outputs": [
    {
     "data": {
      "image/png": "[encoded data removed]",
      "text/plain": [
       "<Figure size 640x480 with 1 Axes>"
      ]
     },
     "metadata": {},
     "output_type": "display_data"
    }
   ],
   "source": [
    "sns.histplot(df,x='m (kg)')\n",
    "plt.show()"
   ]
  },
  {
   "cell_type": "code",
   "execution_count": 56,
   "metadata": {},
   "outputs": [
    {
     "data": {
      "image/png": "[encoded data removed]",
      "text/plain": [
       "<Figure size 1000x600 with 1 Axes>"
      ]
     },
     "metadata": {},
     "output_type": "display_data"
    }
   ],
   "source": [
    "filtered_df = df[df[\"m (kg)\"] > df[\"m (kg)\"].quantile(0.75)]\n",
    "\n",
    "plt.figure(figsize=(10, 6))\n",
    "plt.scatter(filtered_df[\"ID\"], filtered_df[\"m (kg)\"], c='b', marker='o', label=\"m (kg)\")\n",
    "plt.xlabel(\"ID\")\n",
    "plt.ylabel(\"m (kg)\")\n",
    "plt.title(\"Scatter Plot de m (kg) pour les valeurs supérieures au 3e quartile\")\n",
    "plt.grid(True)\n",
    "plt.legend()\n",
    "plt.show()"
   ]
  },
  {
   "cell_type": "code",
   "execution_count": 57,
   "metadata": {},
   "outputs": [
    {
     "data": {
      "text/plain": [
       "(9, 37)"
      ]
     },
     "execution_count": 57,
     "metadata": {},
     "output_type": "execute_result"
    }
   ],
   "source": [
    "df[df['m (kg)']>3500].shape"
   ]
  },
  {
   "cell_type": "markdown",
   "metadata": {},
   "source": [
    "## Enedc (g/km) - Specific CO2 Emissions (NEDC)\n",
    "\n",
    "Le NEDC est un protocole de test standardisé qui était largement utilisé en Europe pour évaluer les émissions de CO2 et la consommation de carburant des véhicules. Il consiste en une série de cycles de conduite en laboratoire qui simulent différentes conditions de conduite, telles que la conduite en ville, sur autoroute, etc. De nombreux pays ont progressivement abandonné le cycle de conduite NEDC au profit du cycle de conduite WLTP . Par conséquent, les valeurs d'émissions de CO2 mesurées en utilisant le cycle NEDC peuvent être obsolètes pour de nombreux véhicules récents.\n",
    "\n",
    "\n",
    "**avis**: trop de NaN, et aussi risque de séparabilité parfaite du au fait que NEDC était la norme qui précédait la norme WLTP\n",
    "\n",
    "**JETTER**"
   ]
  },
  {
   "cell_type": "code",
   "execution_count": 58,
   "metadata": {},
   "outputs": [
    {
     "name": "stdout",
     "output_type": "stream",
     "text": [
      "On compte 39 valeurs uniques et 1300573 NaN, quelques exemples de valeurs de Enedc (g/km):\n",
      "\n",
      "[nan, 0.0, 45.0, 31.0, 19.0]\n"
     ]
    }
   ],
   "source": [
    "print(f\"On compte {nombre_val_unique['Enedc (g/km)']} valeurs uniques et {df[df['Enedc (g/km)'].isna()].shape[0]} NaN, quelques exemples de valeurs de Enedc (g/km):\\n\\n{valeurs_uniques['Enedc (g/km)'][:5]}\")"
   ]
  },
  {
   "cell_type": "markdown",
   "metadata": {},
   "source": [
    "## Mt - WLTP test mass\n",
    "\n",
    "le \"Mt - WLTP test mass\" est la masse du véhicule telle qu'elle est utilisée lors des tests de conformité WLTP, et elle est conçue pour garantir des résultats de test cohérents et comparables entre les différents véhicules.\n",
    "\n",
    "La masse de test WLTP est généralement supérieure à la masse en ordre de marche complété (M1) du véhicule, car elle inclut divers équipements de test et charges supplémentaires pour simuler différentes conditions de conduite. Elle est utilisée pour mesurer les émissions de dioxyde de carbone (CO2) et la consommation de carburant d'une manière normalisée et reproductible, de manière à permettre des comparaisons équitables entre différents véhicules.\n",
    "\n",
    "**mon avis**: peut être important mais grande corrélation avec la variable précédente `m (kg)` Attention aux NaN\n",
    "\n",
    "**GARDER**: créer une nouvelle colonne en combiannt avec `m (kg)` faire des scatter plot et regarder si c'est une droite etc. Garder pour croiser les sources entre cette variable et la variable précédente.\n",
    "\n",
    "Pas de traitement individuel pour l'instant (traiter les 2 ensembles )"
   ]
  },
  {
   "cell_type": "code",
   "execution_count": 59,
   "metadata": {},
   "outputs": [
    {
     "name": "stdout",
     "output_type": "stream",
     "text": [
      "On compte 2180 valeurs uniques et 59646 NaN, quelques exemples de valeurs de Mt:\n",
      "\n",
      "[1534.0, 1337.0, 1335.0, 1588.0, 1350.0]\n"
     ]
    }
   ],
   "source": [
    "print(f\"On compte {nombre_val_unique['Mt']} valeurs uniques et {df[df['Mt'].isna()].shape[0]} NaN, quelques exemples de valeurs de Mt:\\n\\n{valeurs_uniques['Mt'][:5]}\")"
   ]
  },
  {
   "cell_type": "code",
   "execution_count": 60,
   "metadata": {},
   "outputs": [
    {
     "data": {
      "text/plain": [
       "count   1429292.00\n",
       "mean       1838.18\n",
       "std         381.76\n",
       "min         611.00\n",
       "25%        1552.00\n",
       "50%        1776.00\n",
       "75%        2061.00\n",
       "max        4711.00\n",
       "Name: Mt, dtype: float64"
      ]
     },
     "execution_count": 60,
     "metadata": {},
     "output_type": "execute_result"
    }
   ],
   "source": [
    "df['Mt'].describe()"
   ]
  },
  {
   "cell_type": "code",
   "execution_count": 61,
   "metadata": {},
   "outputs": [
    {
     "data": {
      "image/png": "[encoded data removed]",
      "text/plain": [
       "<Figure size 640x480 with 1 Axes>"
      ]
     },
     "metadata": {},
     "output_type": "display_data"
    }
   ],
   "source": [
    "sns.histplot(df,x='Mt')\n",
    "plt.show()"
   ]
  },
  {
   "cell_type": "markdown",
   "metadata": {},
   "source": [
    "## W (mm) - Wheel Base\n",
    "\n",
    "\"W (mm) - Wheel Base\" est la mesure en millimètres de la distance entre les essieux avant et arrière d'un véhicule, et elle a un impact sur le comportement de conduite et d'autres caractéristiques du véhicule.\n",
    "\n",
    "Une base de roues plus longue tend à offrir une meilleure stabilité à haute vitesse, tandis qu'une base de roues plus courte peut permettre une maniabilité accrue, ce qui est utile dans certaines applications, comme les véhicules utilitaires légers.\n",
    "\n",
    "**avis**: Attention Outliers\n",
    "\n",
    "**GARDER**: C'est une pproximation de la longueur du véhicule, on peut l'utiliser pour calculer l'aire du véhicule (FE) on va créer la colonne `surface`\n",
    "1. Imputation par la médiane"
   ]
  },
  {
   "cell_type": "code",
   "execution_count": 62,
   "metadata": {},
   "outputs": [
    {
     "name": "stdout",
     "output_type": "stream",
     "text": [
      "On compte 614 valeurs uniques et 3269 NaN, quelques exemples de valeurs de W (mm):\n",
      "\n",
      "[2700.0, 2552.0, 2650.0, 2729.0, 2667.0]\n"
     ]
    }
   ],
   "source": [
    "print(f\"On compte {nombre_val_unique['W (mm)']} valeurs uniques et {df[df['W (mm)'].isna()].shape[0]} NaN, quelques exemples de valeurs de W (mm):\\n\\n{valeurs_uniques['W (mm)'][:5]}\")"
   ]
  },
  {
   "cell_type": "code",
   "execution_count": 63,
   "metadata": {},
   "outputs": [
    {
     "data": {
      "text/plain": [
       "count   1485669.00\n",
       "mean       2760.47\n",
       "std         182.63\n",
       "min         600.00\n",
       "25%        2640.00\n",
       "50%        2729.00\n",
       "75%        2857.00\n",
       "max        5234.00\n",
       "Name: W (mm), dtype: float64"
      ]
     },
     "execution_count": 63,
     "metadata": {},
     "output_type": "execute_result"
    }
   ],
   "source": [
    "df['W (mm)'].describe()"
   ]
  },
  {
   "cell_type": "code",
   "execution_count": 64,
   "metadata": {},
   "outputs": [
    {
     "data": {
      "image/png": "[encoded data removed]",
      "text/plain": [
       "<Figure size 640x480 with 1 Axes>"
      ]
     },
     "metadata": {},
     "output_type": "display_data"
    }
   ],
   "source": [
    "sns.histplot(df,x='W (mm)')\n",
    "plt.show()"
   ]
  },
  {
   "cell_type": "markdown",
   "metadata": {},
   "source": [
    "## At1 (mm) - Axle width steering axle\n",
    "\n",
    "\"At1 (mm)\" est la mesure en millimètres de la largeur de l'essieu avant de direction d'un véhicule, ce qui a un impact sur sa maniabilité et sa stabilité. Une largeur d'essieu avant appropriée est essentielle pour permettre au véhicule de tourner efficacement tout en maintenant sa stabilité à différentes vitesses.\n",
    "\n",
    "**avis**: a voir ce qu'on fera de cette variable, je doute qu'elle soit utile mais bon\n",
    "\n",
    "**GARDER**: On calcule surface du véhicule avec\n",
    "1. imputation par la moyenne\n",
    "Pas besoin de traiter outliers (à priori)"
   ]
  },
  {
   "cell_type": "code",
   "execution_count": 65,
   "metadata": {},
   "outputs": [
    {
     "name": "stdout",
     "output_type": "stream",
     "text": [
      "On compte 1016 valeurs uniques et 51464 NaN, quelques exemples de valeurs de At1 (mm):\n",
      "\n",
      "[1571.0, 1500.0, 1555.0, nan, 1613.0]\n"
     ]
    }
   ],
   "source": [
    "print(f\"On compte {nombre_val_unique['At1 (mm)']} valeurs uniques et {df[df['At1 (mm)'].isna()].shape[0]} NaN, quelques exemples de valeurs de At1 (mm):\\n\\n{valeurs_uniques['At1 (mm)'][:5]}\")"
   ]
  },
  {
   "cell_type": "code",
   "execution_count": 66,
   "metadata": {},
   "outputs": [
    {
     "data": {
      "text/plain": [
       "count   1437474.00\n",
       "mean       1580.29\n",
       "std          57.98\n",
       "min         520.00\n",
       "25%        1548.00\n",
       "50%        1576.00\n",
       "75%        1613.00\n",
       "max        3000.00\n",
       "Name: At1 (mm), dtype: float64"
      ]
     },
     "execution_count": 66,
     "metadata": {},
     "output_type": "execute_result"
    }
   ],
   "source": [
    "df['At1 (mm)'].describe()"
   ]
  },
  {
   "cell_type": "code",
   "execution_count": 67,
   "metadata": {},
   "outputs": [
    {
     "data": {
      "image/png": "[encoded data removed]",
      "text/plain": [
       "<Figure size 640x480 with 1 Axes>"
      ]
     },
     "metadata": {},
     "output_type": "display_data"
    }
   ],
   "source": [
    "sns.histplot(df,x='At1 (mm)')\n",
    "plt.show()"
   ]
  },
  {
   "cell_type": "markdown",
   "metadata": {},
   "source": [
    "## At2 (mm) - Axle width other axle\n",
    "\n",
    "Skip c'est pareil\n",
    "\n",
    "**GARDER** calculer la surface avec \n",
    "1. Imputation par la moyenne\n",
    "2. Pas d'outliers à traiter "
   ]
  },
  {
   "cell_type": "code",
   "execution_count": 68,
   "metadata": {},
   "outputs": [
    {
     "name": "stdout",
     "output_type": "stream",
     "text": [
      "On compte 1018 valeurs uniques et 52290 NaN, quelques exemples de valeurs de At2 (mm):\n",
      "\n",
      "[1576.0, 1483.0, 1563.0, nan, 1613.0]\n"
     ]
    }
   ],
   "source": [
    "print(f\"On compte {nombre_val_unique['At2 (mm)']} valeurs uniques et {df[df['At2 (mm)'].isna()].shape[0]} NaN, quelques exemples de valeurs de At2 (mm):\\n\\n{valeurs_uniques['At2 (mm)'][:5]}\")"
   ]
  },
  {
   "cell_type": "code",
   "execution_count": 69,
   "metadata": {},
   "outputs": [
    {
     "data": {
      "text/plain": [
       "count   1436648.00\n",
       "mean       1584.03\n",
       "std          63.06\n",
       "min         520.00\n",
       "25%        1547.00\n",
       "50%        1578.00\n",
       "75%        1619.00\n",
       "max        3000.00\n",
       "Name: At2 (mm), dtype: float64"
      ]
     },
     "execution_count": 69,
     "metadata": {},
     "output_type": "execute_result"
    }
   ],
   "source": [
    "df['At2 (mm)'].describe()"
   ]
  },
  {
   "cell_type": "code",
   "execution_count": 70,
   "metadata": {},
   "outputs": [
    {
     "data": {
      "image/png": "[encoded data removed]",
      "text/plain": [
       "<Figure size 640x480 with 1 Axes>"
      ]
     },
     "metadata": {},
     "output_type": "display_data"
    }
   ],
   "source": [
    "sns.histplot(df,x='At2 (mm)')\n",
    "plt.show()"
   ]
  },
  {
   "cell_type": "code",
   "execution_count": 71,
   "metadata": {},
   "outputs": [
    {
     "name": "stdout",
     "output_type": "stream",
     "text": [
      "on compte 184755 individus avec At1 = At2. \n",
      "Je sais pas comment interpréter\n"
     ]
    }
   ],
   "source": [
    "print(f\"on compte {sum(df['At1 (mm)']==df['At2 (mm)'])} individus avec At1 = At2. \\nJe sais pas comment interpréter\")"
   ]
  },
  {
   "cell_type": "code",
   "execution_count": 72,
   "metadata": {},
   "outputs": [
    {
     "data": {
      "text/html": [
       "<div>\n",
       "<style scoped>\n",
       "    .dataframe tbody tr th:only-of-type {\n",
       "        vertical-align: middle;\n",
       "    }\n",
       "\n",
       "    .dataframe tbody tr th {\n",
       "        vertical-align: top;\n",
       "    }\n",
       "\n",
       "    .dataframe thead th {\n",
       "        text-align: right;\n",
       "    }\n",
       "</style>\n",
       "<table border=\"1\" class=\"dataframe\">\n",
       "  <thead>\n",
       "    <tr style=\"text-align: right;\">\n",
       "      <th></th>\n",
       "      <th>ID</th>\n",
       "      <th>Country</th>\n",
       "      <th>VFN</th>\n",
       "      <th>Mp</th>\n",
       "      <th>Mh</th>\n",
       "      <th>Man</th>\n",
       "      <th>MMS</th>\n",
       "      <th>Tan</th>\n",
       "      <th>T</th>\n",
       "      <th>Va</th>\n",
       "      <th>Ve</th>\n",
       "      <th>Mk</th>\n",
       "      <th>Cn</th>\n",
       "      <th>Ct</th>\n",
       "      <th>Cr</th>\n",
       "      <th>r</th>\n",
       "      <th>m (kg)</th>\n",
       "      <th>Mt</th>\n",
       "      <th>Enedc (g/km)</th>\n",
       "      <th>Ewltp (g/km)</th>\n",
       "      <th>W (mm)</th>\n",
       "      <th>At1 (mm)</th>\n",
       "      <th>At2 (mm)</th>\n",
       "      <th>Ft</th>\n",
       "      <th>Fm</th>\n",
       "      <th>ec (cm3)</th>\n",
       "      <th>ep (KW)</th>\n",
       "      <th>z (Wh/km)</th>\n",
       "      <th>IT</th>\n",
       "      <th>Ernedc (g/km)</th>\n",
       "      <th>Erwltp (g/km)</th>\n",
       "      <th>De</th>\n",
       "      <th>Vf</th>\n",
       "      <th>Status</th>\n",
       "      <th>Date of registration</th>\n",
       "      <th>Fuel consumption</th>\n",
       "      <th>Electric range (km)</th>\n",
       "    </tr>\n",
       "  </thead>\n",
       "  <tbody>\n",
       "    <tr>\n",
       "      <th>9</th>\n",
       "      <td>9</td>\n",
       "      <td>DE</td>\n",
       "      <td>IP-2021_0416-W1K-1</td>\n",
       "      <td>MERCEDES-BENZ</td>\n",
       "      <td>MERCEDES-BENZ AG</td>\n",
       "      <td>MERCEDES-BENZ AG</td>\n",
       "      <td>NaN</td>\n",
       "      <td>e1*2007/46*1912*18</td>\n",
       "      <td>F2CLA</td>\n",
       "      <td>338QT2</td>\n",
       "      <td>HZAA054A</td>\n",
       "      <td>MERCEDES-BENZ</td>\n",
       "      <td>CLA 250 E</td>\n",
       "      <td>M1</td>\n",
       "      <td>M1</td>\n",
       "      <td>1</td>\n",
       "      <td>1720.00</td>\n",
       "      <td>1811.00</td>\n",
       "      <td>NaN</td>\n",
       "      <td>69.73</td>\n",
       "      <td>2729.00</td>\n",
       "      <td>1613.00</td>\n",
       "      <td>1613.00</td>\n",
       "      <td>PETROL/ELECTRIC</td>\n",
       "      <td>P</td>\n",
       "      <td>1332.00</td>\n",
       "      <td>118.00</td>\n",
       "      <td>180.00</td>\n",
       "      <td>NaN</td>\n",
       "      <td>NaN</td>\n",
       "      <td>NaN</td>\n",
       "      <td>NaN</td>\n",
       "      <td>NaN</td>\n",
       "      <td>P</td>\n",
       "      <td>2022-11-25</td>\n",
       "      <td>1.00</td>\n",
       "      <td>NaN</td>\n",
       "    </tr>\n",
       "    <tr>\n",
       "      <th>12</th>\n",
       "      <td>12</td>\n",
       "      <td>DE</td>\n",
       "      <td>IP-2021_0416-W1K-1</td>\n",
       "      <td>MERCEDES-BENZ</td>\n",
       "      <td>MERCEDES-BENZ AG</td>\n",
       "      <td>MERCEDES-BENZ AG</td>\n",
       "      <td>NaN</td>\n",
       "      <td>e1*2007/46*1912*18</td>\n",
       "      <td>F2CLA</td>\n",
       "      <td>338QT2</td>\n",
       "      <td>HZAA050A</td>\n",
       "      <td>MERCEDES-BENZ</td>\n",
       "      <td>CLA 250 E</td>\n",
       "      <td>M1</td>\n",
       "      <td>M1</td>\n",
       "      <td>1</td>\n",
       "      <td>1720.00</td>\n",
       "      <td>1799.00</td>\n",
       "      <td>NaN</td>\n",
       "      <td>67.79</td>\n",
       "      <td>2729.00</td>\n",
       "      <td>1613.00</td>\n",
       "      <td>1613.00</td>\n",
       "      <td>PETROL/ELECTRIC</td>\n",
       "      <td>P</td>\n",
       "      <td>1332.00</td>\n",
       "      <td>118.00</td>\n",
       "      <td>175.00</td>\n",
       "      <td>NaN</td>\n",
       "      <td>NaN</td>\n",
       "      <td>NaN</td>\n",
       "      <td>NaN</td>\n",
       "      <td>NaN</td>\n",
       "      <td>P</td>\n",
       "      <td>2022-11-25</td>\n",
       "      <td>0.90</td>\n",
       "      <td>NaN</td>\n",
       "    </tr>\n",
       "    <tr>\n",
       "      <th>14</th>\n",
       "      <td>14</td>\n",
       "      <td>DE</td>\n",
       "      <td>IP-2021_0416-W1K-1</td>\n",
       "      <td>MERCEDES-BENZ</td>\n",
       "      <td>MERCEDES-BENZ AG</td>\n",
       "      <td>MERCEDES-BENZ AG</td>\n",
       "      <td>NaN</td>\n",
       "      <td>e1*2007/46*1912*18</td>\n",
       "      <td>F2CLA</td>\n",
       "      <td>338QT2</td>\n",
       "      <td>HZAA050A</td>\n",
       "      <td>MERCEDES-BENZ</td>\n",
       "      <td>CLA 250 E</td>\n",
       "      <td>M1</td>\n",
       "      <td>M1</td>\n",
       "      <td>1</td>\n",
       "      <td>1720.00</td>\n",
       "      <td>1805.00</td>\n",
       "      <td>NaN</td>\n",
       "      <td>66.53</td>\n",
       "      <td>2729.00</td>\n",
       "      <td>1613.00</td>\n",
       "      <td>1613.00</td>\n",
       "      <td>PETROL/ELECTRIC</td>\n",
       "      <td>P</td>\n",
       "      <td>1332.00</td>\n",
       "      <td>118.00</td>\n",
       "      <td>179.00</td>\n",
       "      <td>NaN</td>\n",
       "      <td>NaN</td>\n",
       "      <td>NaN</td>\n",
       "      <td>NaN</td>\n",
       "      <td>NaN</td>\n",
       "      <td>P</td>\n",
       "      <td>2022-11-22</td>\n",
       "      <td>1.00</td>\n",
       "      <td>NaN</td>\n",
       "    </tr>\n",
       "  </tbody>\n",
       "</table>\n",
       "</div>"
      ],
      "text/plain": [
       "    ID Country                 VFN             Mp                Mh  \\\n",
       "9    9      DE  IP-2021_0416-W1K-1  MERCEDES-BENZ  MERCEDES-BENZ AG   \n",
       "12  12      DE  IP-2021_0416-W1K-1  MERCEDES-BENZ  MERCEDES-BENZ AG   \n",
       "14  14      DE  IP-2021_0416-W1K-1  MERCEDES-BENZ  MERCEDES-BENZ AG   \n",
       "\n",
       "                 Man  MMS                 Tan      T      Va        Ve  \\\n",
       "9   MERCEDES-BENZ AG  NaN  e1*2007/46*1912*18  F2CLA  338QT2  HZAA054A   \n",
       "12  MERCEDES-BENZ AG  NaN  e1*2007/46*1912*18  F2CLA  338QT2  HZAA050A   \n",
       "14  MERCEDES-BENZ AG  NaN  e1*2007/46*1912*18  F2CLA  338QT2  HZAA050A   \n",
       "\n",
       "               Mk         Cn  Ct  Cr  r  m (kg)      Mt  Enedc (g/km)  \\\n",
       "9   MERCEDES-BENZ  CLA 250 E  M1  M1  1 1720.00 1811.00           NaN   \n",
       "12  MERCEDES-BENZ  CLA 250 E  M1  M1  1 1720.00 1799.00           NaN   \n",
       "14  MERCEDES-BENZ  CLA 250 E  M1  M1  1 1720.00 1805.00           NaN   \n",
       "\n",
       "    Ewltp (g/km)  W (mm)  At1 (mm)  At2 (mm)               Ft Fm  ec (cm3)  \\\n",
       "9          69.73 2729.00   1613.00   1613.00  PETROL/ELECTRIC  P   1332.00   \n",
       "12         67.79 2729.00   1613.00   1613.00  PETROL/ELECTRIC  P   1332.00   \n",
       "14         66.53 2729.00   1613.00   1613.00  PETROL/ELECTRIC  P   1332.00   \n",
       "\n",
       "    ep (KW)  z (Wh/km)   IT  Ernedc (g/km)  Erwltp (g/km)  De  Vf Status  \\\n",
       "9    118.00     180.00  NaN            NaN            NaN NaN NaN      P   \n",
       "12   118.00     175.00  NaN            NaN            NaN NaN NaN      P   \n",
       "14   118.00     179.00  NaN            NaN            NaN NaN NaN      P   \n",
       "\n",
       "   Date of registration  Fuel consumption   Electric range (km)  \n",
       "9            2022-11-25               1.00                  NaN  \n",
       "12           2022-11-25               0.90                  NaN  \n",
       "14           2022-11-22               1.00                  NaN  "
      ]
     },
     "metadata": {},
     "output_type": "display_data"
    }
   ],
   "source": [
    "#exemple\n",
    "display(df[df['At1 (mm)']==df['At2 (mm)']].iloc[:3])"
   ]
  },
  {
   "cell_type": "markdown",
   "metadata": {},
   "source": [
    "## Ft - Fuel type\n",
    "\n",
    "**avis**: Facile a label encoder. Pas besoin de plus de précisions. Attention aux Unknown\n",
    "\n",
    "**GARDER**: Voir comment s'occuper de 'UNKNOWN' ( déclarer en tant que NaN puis imputation par le mode ?)\n",
    "\n",
    "regroupper:\n",
    "1. Electrique\n",
    "2. Hybride ('PETROL/ELECTRIC', 'DIESEL/ELECTRIC')\n",
    "3. Essence\n",
    "4. Diesel ('DIESEL')\n",
    "5. Biocarburant ('NG-BIOMETHANE', 'HYDROGEN', 'NG','E85')"
   ]
  },
  {
   "cell_type": "code",
   "execution_count": 73,
   "metadata": {},
   "outputs": [
    {
     "name": "stdout",
     "output_type": "stream",
     "text": [
      "On compte 11 valeurs uniques et 0 NaN, quelques exemples de valeurs de Ft:\n",
      "\n",
      "['PETROL', 'PETROL/ELECTRIC', 'DIESEL', 'LPG', 'ELECTRIC', 'NG', 'E85', 'DIESEL/ELECTRIC', 'NG-BIOMETHANE', 'HYDROGEN', 'UNKNOWN']\n"
     ]
    }
   ],
   "source": [
    "print(f\"On compte {nombre_val_unique['Ft']} valeurs uniques et {df[df['Ft'].isna()].shape[0]} NaN, quelques exemples de valeurs de Ft:\\n\\n{valeurs_uniques['Ft'][:11]}\")"
   ]
  },
  {
   "cell_type": "code",
   "execution_count": 74,
   "metadata": {},
   "outputs": [
    {
     "data": {
      "text/html": [
       "<div>\n",
       "<style scoped>\n",
       "    .dataframe tbody tr th:only-of-type {\n",
       "        vertical-align: middle;\n",
       "    }\n",
       "\n",
       "    .dataframe tbody tr th {\n",
       "        vertical-align: top;\n",
       "    }\n",
       "\n",
       "    .dataframe thead th {\n",
       "        text-align: right;\n",
       "    }\n",
       "</style>\n",
       "<table border=\"1\" class=\"dataframe\">\n",
       "  <thead>\n",
       "    <tr style=\"text-align: right;\">\n",
       "      <th></th>\n",
       "      <th>ID</th>\n",
       "      <th>Country</th>\n",
       "      <th>VFN</th>\n",
       "      <th>Mp</th>\n",
       "      <th>Mh</th>\n",
       "      <th>Man</th>\n",
       "      <th>MMS</th>\n",
       "      <th>Tan</th>\n",
       "      <th>T</th>\n",
       "      <th>Va</th>\n",
       "      <th>Ve</th>\n",
       "      <th>Mk</th>\n",
       "      <th>Cn</th>\n",
       "      <th>Ct</th>\n",
       "      <th>Cr</th>\n",
       "      <th>r</th>\n",
       "      <th>m (kg)</th>\n",
       "      <th>Mt</th>\n",
       "      <th>Enedc (g/km)</th>\n",
       "      <th>Ewltp (g/km)</th>\n",
       "      <th>W (mm)</th>\n",
       "      <th>At1 (mm)</th>\n",
       "      <th>At2 (mm)</th>\n",
       "      <th>Ft</th>\n",
       "      <th>Fm</th>\n",
       "      <th>ec (cm3)</th>\n",
       "      <th>ep (KW)</th>\n",
       "      <th>z (Wh/km)</th>\n",
       "      <th>IT</th>\n",
       "      <th>Ernedc (g/km)</th>\n",
       "      <th>Erwltp (g/km)</th>\n",
       "      <th>De</th>\n",
       "      <th>Vf</th>\n",
       "      <th>Status</th>\n",
       "      <th>Date of registration</th>\n",
       "      <th>Fuel consumption</th>\n",
       "      <th>Electric range (km)</th>\n",
       "    </tr>\n",
       "  </thead>\n",
       "  <tbody>\n",
       "    <tr>\n",
       "      <th>1111214</th>\n",
       "      <td>1111214</td>\n",
       "      <td>ES</td>\n",
       "      <td>NaN</td>\n",
       "      <td>RENAULT-NISSAN-MITSUBISHI</td>\n",
       "      <td>RENAULT</td>\n",
       "      <td>RENAULT SAS</td>\n",
       "      <td>NaN</td>\n",
       "      <td>NaN</td>\n",
       "      <td>RHN</td>\n",
       "      <td>HH2</td>\n",
       "      <td>G25????00000</td>\n",
       "      <td>RENAULT</td>\n",
       "      <td>AUSTRAL</td>\n",
       "      <td>M1</td>\n",
       "      <td>M1</td>\n",
       "      <td>1</td>\n",
       "      <td>1771.00</td>\n",
       "      <td>NaN</td>\n",
       "      <td>NaN</td>\n",
       "      <td>332.97</td>\n",
       "      <td>2665.00</td>\n",
       "      <td>NaN</td>\n",
       "      <td>NaN</td>\n",
       "      <td>UNKNOWN</td>\n",
       "      <td>NaN</td>\n",
       "      <td>1199.00</td>\n",
       "      <td>96.00</td>\n",
       "      <td>NaN</td>\n",
       "      <td>NaN</td>\n",
       "      <td>NaN</td>\n",
       "      <td>NaN</td>\n",
       "      <td>NaN</td>\n",
       "      <td>NaN</td>\n",
       "      <td>P</td>\n",
       "      <td>2022-07-27</td>\n",
       "      <td>NaN</td>\n",
       "      <td>NaN</td>\n",
       "    </tr>\n",
       "    <tr>\n",
       "      <th>1126334</th>\n",
       "      <td>1126334</td>\n",
       "      <td>ES</td>\n",
       "      <td>NaN</td>\n",
       "      <td>RENAULT-NISSAN-MITSUBISHI</td>\n",
       "      <td>RENAULT</td>\n",
       "      <td>RENAULT SAS</td>\n",
       "      <td>NaN</td>\n",
       "      <td>NaN</td>\n",
       "      <td>RHN</td>\n",
       "      <td>HH1</td>\n",
       "      <td>H55????00000</td>\n",
       "      <td>RENAULT</td>\n",
       "      <td>AUSTRAL</td>\n",
       "      <td>M1</td>\n",
       "      <td>M1</td>\n",
       "      <td>1</td>\n",
       "      <td>1737.00</td>\n",
       "      <td>NaN</td>\n",
       "      <td>NaN</td>\n",
       "      <td>337.09</td>\n",
       "      <td>2665.00</td>\n",
       "      <td>NaN</td>\n",
       "      <td>NaN</td>\n",
       "      <td>UNKNOWN</td>\n",
       "      <td>NaN</td>\n",
       "      <td>1199.00</td>\n",
       "      <td>96.00</td>\n",
       "      <td>NaN</td>\n",
       "      <td>NaN</td>\n",
       "      <td>NaN</td>\n",
       "      <td>NaN</td>\n",
       "      <td>NaN</td>\n",
       "      <td>NaN</td>\n",
       "      <td>P</td>\n",
       "      <td>2022-07-27</td>\n",
       "      <td>NaN</td>\n",
       "      <td>NaN</td>\n",
       "    </tr>\n",
       "    <tr>\n",
       "      <th>1151701</th>\n",
       "      <td>1151701</td>\n",
       "      <td>ES</td>\n",
       "      <td>NaN</td>\n",
       "      <td>VOLKSWAGEN</td>\n",
       "      <td>SKODA</td>\n",
       "      <td>SKODA AUTO AS</td>\n",
       "      <td>NaN</td>\n",
       "      <td>E8*2007/46*0355*09</td>\n",
       "      <td>NX</td>\n",
       "      <td>AADFYAX0</td>\n",
       "      <td>NFD7FD7CW0024BIVL3N1A0A</td>\n",
       "      <td>SKODA</td>\n",
       "      <td>OCTAVIA</td>\n",
       "      <td>M1</td>\n",
       "      <td>M1</td>\n",
       "      <td>1</td>\n",
       "      <td>1441.00</td>\n",
       "      <td>1504.00</td>\n",
       "      <td>NaN</td>\n",
       "      <td>372.88</td>\n",
       "      <td>2669.00</td>\n",
       "      <td>1546.00</td>\n",
       "      <td>1550.00</td>\n",
       "      <td>UNKNOWN</td>\n",
       "      <td>NaN</td>\n",
       "      <td>1498.00</td>\n",
       "      <td>110.00</td>\n",
       "      <td>NaN</td>\n",
       "      <td>NaN</td>\n",
       "      <td>NaN</td>\n",
       "      <td>NaN</td>\n",
       "      <td>NaN</td>\n",
       "      <td>NaN</td>\n",
       "      <td>P</td>\n",
       "      <td>2022-01-21</td>\n",
       "      <td>3.90</td>\n",
       "      <td>NaN</td>\n",
       "    </tr>\n",
       "    <tr>\n",
       "      <th>1496776</th>\n",
       "      <td>1496776</td>\n",
       "      <td>ES</td>\n",
       "      <td>NaN</td>\n",
       "      <td>RENAULT-NISSAN-MITSUBISHI</td>\n",
       "      <td>RENAULT</td>\n",
       "      <td>RENAULT SAS</td>\n",
       "      <td>NaN</td>\n",
       "      <td>NaN</td>\n",
       "      <td>RHN</td>\n",
       "      <td>HH1</td>\n",
       "      <td>F25????00000</td>\n",
       "      <td>RENAULT</td>\n",
       "      <td>AUSTRAL</td>\n",
       "      <td>M1</td>\n",
       "      <td>M1</td>\n",
       "      <td>1</td>\n",
       "      <td>1719.00</td>\n",
       "      <td>NaN</td>\n",
       "      <td>NaN</td>\n",
       "      <td>340.79</td>\n",
       "      <td>2665.00</td>\n",
       "      <td>NaN</td>\n",
       "      <td>NaN</td>\n",
       "      <td>UNKNOWN</td>\n",
       "      <td>NaN</td>\n",
       "      <td>1199.00</td>\n",
       "      <td>96.00</td>\n",
       "      <td>NaN</td>\n",
       "      <td>NaN</td>\n",
       "      <td>NaN</td>\n",
       "      <td>NaN</td>\n",
       "      <td>NaN</td>\n",
       "      <td>NaN</td>\n",
       "      <td>P</td>\n",
       "      <td>2022-07-27</td>\n",
       "      <td>NaN</td>\n",
       "      <td>NaN</td>\n",
       "    </tr>\n",
       "    <tr>\n",
       "      <th>1660137</th>\n",
       "      <td>1660137</td>\n",
       "      <td>ES</td>\n",
       "      <td>NaN</td>\n",
       "      <td>RENAULT-NISSAN-MITSUBISHI</td>\n",
       "      <td>RENAULT</td>\n",
       "      <td>RENAULT SAS</td>\n",
       "      <td>NaN</td>\n",
       "      <td>NaN</td>\n",
       "      <td>RHN</td>\n",
       "      <td>HH1</td>\n",
       "      <td>H55????00000</td>\n",
       "      <td>RENAULT</td>\n",
       "      <td>AUSTRAL</td>\n",
       "      <td>M1</td>\n",
       "      <td>M1</td>\n",
       "      <td>1</td>\n",
       "      <td>1716.00</td>\n",
       "      <td>NaN</td>\n",
       "      <td>NaN</td>\n",
       "      <td>341.89</td>\n",
       "      <td>2665.00</td>\n",
       "      <td>NaN</td>\n",
       "      <td>NaN</td>\n",
       "      <td>UNKNOWN</td>\n",
       "      <td>NaN</td>\n",
       "      <td>1199.00</td>\n",
       "      <td>96.00</td>\n",
       "      <td>NaN</td>\n",
       "      <td>NaN</td>\n",
       "      <td>NaN</td>\n",
       "      <td>NaN</td>\n",
       "      <td>NaN</td>\n",
       "      <td>NaN</td>\n",
       "      <td>P</td>\n",
       "      <td>2022-07-27</td>\n",
       "      <td>NaN</td>\n",
       "      <td>NaN</td>\n",
       "    </tr>\n",
       "    <tr>\n",
       "      <th>3156893</th>\n",
       "      <td>3156893</td>\n",
       "      <td>ES</td>\n",
       "      <td>NaN</td>\n",
       "      <td>RENAULT-NISSAN-MITSUBISHI</td>\n",
       "      <td>RENAULT</td>\n",
       "      <td>RENAULT SAS</td>\n",
       "      <td>NaN</td>\n",
       "      <td>NaN</td>\n",
       "      <td>RHN</td>\n",
       "      <td>HG1</td>\n",
       "      <td>C25W???00000</td>\n",
       "      <td>RENAULT</td>\n",
       "      <td>AUSTRAL</td>\n",
       "      <td>M1</td>\n",
       "      <td>M1</td>\n",
       "      <td>1</td>\n",
       "      <td>1496.00</td>\n",
       "      <td>NaN</td>\n",
       "      <td>NaN</td>\n",
       "      <td>375.46</td>\n",
       "      <td>2665.00</td>\n",
       "      <td>NaN</td>\n",
       "      <td>NaN</td>\n",
       "      <td>UNKNOWN</td>\n",
       "      <td>NaN</td>\n",
       "      <td>1199.00</td>\n",
       "      <td>96.00</td>\n",
       "      <td>NaN</td>\n",
       "      <td>NaN</td>\n",
       "      <td>NaN</td>\n",
       "      <td>NaN</td>\n",
       "      <td>NaN</td>\n",
       "      <td>NaN</td>\n",
       "      <td>P</td>\n",
       "      <td>2022-07-26</td>\n",
       "      <td>NaN</td>\n",
       "      <td>NaN</td>\n",
       "    </tr>\n",
       "    <tr>\n",
       "      <th>3343172</th>\n",
       "      <td>3343172</td>\n",
       "      <td>ES</td>\n",
       "      <td>NaN</td>\n",
       "      <td>NaN</td>\n",
       "      <td>FERRARI</td>\n",
       "      <td>FERRARI SPA</td>\n",
       "      <td>NaN</td>\n",
       "      <td>E3*2007/46*0634*02</td>\n",
       "      <td>F173</td>\n",
       "      <td>HF</td>\n",
       "      <td>A</td>\n",
       "      <td>FERRARI</td>\n",
       "      <td>SF90 STRADALE</td>\n",
       "      <td>M1</td>\n",
       "      <td>M1</td>\n",
       "      <td>1</td>\n",
       "      <td>1850.00</td>\n",
       "      <td>NaN</td>\n",
       "      <td>NaN</td>\n",
       "      <td>483.38</td>\n",
       "      <td>2649.00</td>\n",
       "      <td>1679.00</td>\n",
       "      <td>1652.00</td>\n",
       "      <td>UNKNOWN</td>\n",
       "      <td>NaN</td>\n",
       "      <td>3990.00</td>\n",
       "      <td>574.00</td>\n",
       "      <td>123.00</td>\n",
       "      <td>NaN</td>\n",
       "      <td>NaN</td>\n",
       "      <td>NaN</td>\n",
       "      <td>NaN</td>\n",
       "      <td>NaN</td>\n",
       "      <td>P</td>\n",
       "      <td>2022-06-21</td>\n",
       "      <td>NaN</td>\n",
       "      <td>19.00</td>\n",
       "    </tr>\n",
       "    <tr>\n",
       "      <th>3519551</th>\n",
       "      <td>3519551</td>\n",
       "      <td>ES</td>\n",
       "      <td>NaN</td>\n",
       "      <td>MERCEDES-BENZ</td>\n",
       "      <td>MERCEDES-BENZ AG</td>\n",
       "      <td>MERCEDES-BENZ AG</td>\n",
       "      <td>NaN</td>\n",
       "      <td>E1*2001/116*0480*43</td>\n",
       "      <td>204X</td>\n",
       "      <td>R78K71</td>\n",
       "      <td>CZAA05CA</td>\n",
       "      <td>MERCEDES-BENZ</td>\n",
       "      <td>GLC 200 4MATIC</td>\n",
       "      <td>M1</td>\n",
       "      <td>M1</td>\n",
       "      <td>1</td>\n",
       "      <td>1800.00</td>\n",
       "      <td>NaN</td>\n",
       "      <td>NaN</td>\n",
       "      <td>593.70</td>\n",
       "      <td>2873.00</td>\n",
       "      <td>1618.00</td>\n",
       "      <td>1616.00</td>\n",
       "      <td>UNKNOWN</td>\n",
       "      <td>NaN</td>\n",
       "      <td>1991.00</td>\n",
       "      <td>145.00</td>\n",
       "      <td>NaN</td>\n",
       "      <td>NaN</td>\n",
       "      <td>NaN</td>\n",
       "      <td>NaN</td>\n",
       "      <td>NaN</td>\n",
       "      <td>NaN</td>\n",
       "      <td>P</td>\n",
       "      <td>2022-10-18</td>\n",
       "      <td>NaN</td>\n",
       "      <td>NaN</td>\n",
       "    </tr>\n",
       "    <tr>\n",
       "      <th>4561730</th>\n",
       "      <td>4561730</td>\n",
       "      <td>ES</td>\n",
       "      <td>NaN</td>\n",
       "      <td>RENAULT-NISSAN-MITSUBISHI</td>\n",
       "      <td>DACIA</td>\n",
       "      <td>AUTOMOBILE DACIA SA</td>\n",
       "      <td>NaN</td>\n",
       "      <td>ND</td>\n",
       "      <td>DJF</td>\n",
       "      <td>BES</td>\n",
       "      <td>M?6U??M7???</td>\n",
       "      <td>DACIA</td>\n",
       "      <td>JOGGER</td>\n",
       "      <td>M1</td>\n",
       "      <td>M1</td>\n",
       "      <td>1</td>\n",
       "      <td>1394.00</td>\n",
       "      <td>NaN</td>\n",
       "      <td>NaN</td>\n",
       "      <td>379.45</td>\n",
       "      <td>2898.00</td>\n",
       "      <td>1520.00</td>\n",
       "      <td>1520.00</td>\n",
       "      <td>UNKNOWN</td>\n",
       "      <td>NaN</td>\n",
       "      <td>999.00</td>\n",
       "      <td>69.00</td>\n",
       "      <td>NaN</td>\n",
       "      <td>NaN</td>\n",
       "      <td>NaN</td>\n",
       "      <td>NaN</td>\n",
       "      <td>NaN</td>\n",
       "      <td>NaN</td>\n",
       "      <td>P</td>\n",
       "      <td>2022-09-20</td>\n",
       "      <td>NaN</td>\n",
       "      <td>NaN</td>\n",
       "    </tr>\n",
       "    <tr>\n",
       "      <th>4572608</th>\n",
       "      <td>4572608</td>\n",
       "      <td>ES</td>\n",
       "      <td>NaN</td>\n",
       "      <td>NaN</td>\n",
       "      <td>FERRARI</td>\n",
       "      <td>FERRARI SPA</td>\n",
       "      <td>NaN</td>\n",
       "      <td>E3*2007/46*0634*02</td>\n",
       "      <td>F173</td>\n",
       "      <td>HG</td>\n",
       "      <td>B</td>\n",
       "      <td>FERRARI</td>\n",
       "      <td>SF90 SPIDER</td>\n",
       "      <td>M1</td>\n",
       "      <td>M1</td>\n",
       "      <td>1</td>\n",
       "      <td>1905.00</td>\n",
       "      <td>NaN</td>\n",
       "      <td>NaN</td>\n",
       "      <td>505.30</td>\n",
       "      <td>2649.00</td>\n",
       "      <td>1679.00</td>\n",
       "      <td>1652.00</td>\n",
       "      <td>UNKNOWN</td>\n",
       "      <td>NaN</td>\n",
       "      <td>3990.00</td>\n",
       "      <td>574.00</td>\n",
       "      <td>NaN</td>\n",
       "      <td>NaN</td>\n",
       "      <td>NaN</td>\n",
       "      <td>NaN</td>\n",
       "      <td>NaN</td>\n",
       "      <td>NaN</td>\n",
       "      <td>P</td>\n",
       "      <td>2022-08-30</td>\n",
       "      <td>NaN</td>\n",
       "      <td>NaN</td>\n",
       "    </tr>\n",
       "  </tbody>\n",
       "</table>\n",
       "</div>"
      ],
      "text/plain": [
       "              ID Country  VFN                         Mp                Mh  \\\n",
       "1111214  1111214      ES  NaN  RENAULT-NISSAN-MITSUBISHI           RENAULT   \n",
       "1126334  1126334      ES  NaN  RENAULT-NISSAN-MITSUBISHI           RENAULT   \n",
       "1151701  1151701      ES  NaN                 VOLKSWAGEN             SKODA   \n",
       "1496776  1496776      ES  NaN  RENAULT-NISSAN-MITSUBISHI           RENAULT   \n",
       "1660137  1660137      ES  NaN  RENAULT-NISSAN-MITSUBISHI           RENAULT   \n",
       "3156893  3156893      ES  NaN  RENAULT-NISSAN-MITSUBISHI           RENAULT   \n",
       "3343172  3343172      ES  NaN                        NaN           FERRARI   \n",
       "3519551  3519551      ES  NaN              MERCEDES-BENZ  MERCEDES-BENZ AG   \n",
       "4561730  4561730      ES  NaN  RENAULT-NISSAN-MITSUBISHI             DACIA   \n",
       "4572608  4572608      ES  NaN                        NaN           FERRARI   \n",
       "\n",
       "                         Man  MMS                  Tan     T        Va  \\\n",
       "1111214          RENAULT SAS  NaN                  NaN   RHN       HH2   \n",
       "1126334          RENAULT SAS  NaN                  NaN   RHN       HH1   \n",
       "1151701        SKODA AUTO AS  NaN   E8*2007/46*0355*09    NX  AADFYAX0   \n",
       "1496776          RENAULT SAS  NaN                  NaN   RHN       HH1   \n",
       "1660137          RENAULT SAS  NaN                  NaN   RHN       HH1   \n",
       "3156893          RENAULT SAS  NaN                  NaN   RHN       HG1   \n",
       "3343172          FERRARI SPA  NaN   E3*2007/46*0634*02  F173        HF   \n",
       "3519551     MERCEDES-BENZ AG  NaN  E1*2001/116*0480*43  204X    R78K71   \n",
       "4561730  AUTOMOBILE DACIA SA  NaN                   ND   DJF       BES   \n",
       "4572608          FERRARI SPA  NaN   E3*2007/46*0634*02  F173        HG   \n",
       "\n",
       "                              Ve             Mk              Cn  Ct  Cr  r  \\\n",
       "1111214             G25????00000        RENAULT         AUSTRAL  M1  M1  1   \n",
       "1126334             H55????00000        RENAULT         AUSTRAL  M1  M1  1   \n",
       "1151701  NFD7FD7CW0024BIVL3N1A0A          SKODA         OCTAVIA  M1  M1  1   \n",
       "1496776             F25????00000        RENAULT         AUSTRAL  M1  M1  1   \n",
       "1660137             H55????00000        RENAULT         AUSTRAL  M1  M1  1   \n",
       "3156893             C25W???00000        RENAULT         AUSTRAL  M1  M1  1   \n",
       "3343172                        A        FERRARI   SF90 STRADALE  M1  M1  1   \n",
       "3519551                 CZAA05CA  MERCEDES-BENZ  GLC 200 4MATIC  M1  M1  1   \n",
       "4561730              M?6U??M7???          DACIA          JOGGER  M1  M1  1   \n",
       "4572608                        B        FERRARI     SF90 SPIDER  M1  M1  1   \n",
       "\n",
       "         m (kg)      Mt  Enedc (g/km)  Ewltp (g/km)  W (mm)  At1 (mm)  \\\n",
       "1111214 1771.00     NaN           NaN        332.97 2665.00       NaN   \n",
       "1126334 1737.00     NaN           NaN        337.09 2665.00       NaN   \n",
       "1151701 1441.00 1504.00           NaN        372.88 2669.00   1546.00   \n",
       "1496776 1719.00     NaN           NaN        340.79 2665.00       NaN   \n",
       "1660137 1716.00     NaN           NaN        341.89 2665.00       NaN   \n",
       "3156893 1496.00     NaN           NaN        375.46 2665.00       NaN   \n",
       "3343172 1850.00     NaN           NaN        483.38 2649.00   1679.00   \n",
       "3519551 1800.00     NaN           NaN        593.70 2873.00   1618.00   \n",
       "4561730 1394.00     NaN           NaN        379.45 2898.00   1520.00   \n",
       "4572608 1905.00     NaN           NaN        505.30 2649.00   1679.00   \n",
       "\n",
       "         At2 (mm)       Ft   Fm  ec (cm3)  ep (KW)  z (Wh/km)   IT  \\\n",
       "1111214       NaN  UNKNOWN  NaN   1199.00    96.00        NaN  NaN   \n",
       "1126334       NaN  UNKNOWN  NaN   1199.00    96.00        NaN  NaN   \n",
       "1151701   1550.00  UNKNOWN  NaN   1498.00   110.00        NaN  NaN   \n",
       "1496776       NaN  UNKNOWN  NaN   1199.00    96.00        NaN  NaN   \n",
       "1660137       NaN  UNKNOWN  NaN   1199.00    96.00        NaN  NaN   \n",
       "3156893       NaN  UNKNOWN  NaN   1199.00    96.00        NaN  NaN   \n",
       "3343172   1652.00  UNKNOWN  NaN   3990.00   574.00     123.00  NaN   \n",
       "3519551   1616.00  UNKNOWN  NaN   1991.00   145.00        NaN  NaN   \n",
       "4561730   1520.00  UNKNOWN  NaN    999.00    69.00        NaN  NaN   \n",
       "4572608   1652.00  UNKNOWN  NaN   3990.00   574.00        NaN  NaN   \n",
       "\n",
       "         Ernedc (g/km)  Erwltp (g/km)  De  Vf Status Date of registration  \\\n",
       "1111214            NaN            NaN NaN NaN      P           2022-07-27   \n",
       "1126334            NaN            NaN NaN NaN      P           2022-07-27   \n",
       "1151701            NaN            NaN NaN NaN      P           2022-01-21   \n",
       "1496776            NaN            NaN NaN NaN      P           2022-07-27   \n",
       "1660137            NaN            NaN NaN NaN      P           2022-07-27   \n",
       "3156893            NaN            NaN NaN NaN      P           2022-07-26   \n",
       "3343172            NaN            NaN NaN NaN      P           2022-06-21   \n",
       "3519551            NaN            NaN NaN NaN      P           2022-10-18   \n",
       "4561730            NaN            NaN NaN NaN      P           2022-09-20   \n",
       "4572608            NaN            NaN NaN NaN      P           2022-08-30   \n",
       "\n",
       "         Fuel consumption   Electric range (km)  \n",
       "1111214                NaN                  NaN  \n",
       "1126334                NaN                  NaN  \n",
       "1151701               3.90                  NaN  \n",
       "1496776                NaN                  NaN  \n",
       "1660137                NaN                  NaN  \n",
       "3156893                NaN                  NaN  \n",
       "3343172                NaN                19.00  \n",
       "3519551                NaN                  NaN  \n",
       "4561730                NaN                  NaN  \n",
       "4572608                NaN                  NaN  "
      ]
     },
     "execution_count": 74,
     "metadata": {},
     "output_type": "execute_result"
    }
   ],
   "source": [
    "df[df['Ft']=='UNKNOWN'].iloc[:10]"
   ]
  },
  {
   "cell_type": "code",
   "execution_count": 75,
   "metadata": {},
   "outputs": [
    {
     "data": {
      "text/plain": [
       "(14, 37)"
      ]
     },
     "execution_count": 75,
     "metadata": {},
     "output_type": "execute_result"
    }
   ],
   "source": [
    "df[df['Ft']=='UNKNOWN'].shape"
   ]
  },
  {
   "cell_type": "markdown",
   "metadata": {},
   "source": [
    "## Fm - Fuel mode\n",
    "Fm c'est le mode de fonctionnement du moteur d'un véhicule en ce qui concerne le type de carburant ou d'énergie qu'il utilise. Le mode de carburant détermine la source d'énergie principale qui alimente le moteur. Voici la signification des codes couramment utilisés pour décrire différents modes de carburant :\n",
    "\n",
    "- 'H' - Hydrogène : Le véhicule fonctionne à l'aide d'hydrogène, généralement dans une pile à combustible, produisant de l'électricité pour alimenter le moteur électrique.\n",
    "\n",
    "- 'M' - Moteur à combustion interne (essence ou diesel) : Le véhicule utilise un moteur à combustion interne qui brûle de l'essence (Moteur à essence, \"M\") ou du diesel (Moteur diesel, \"D\").\n",
    "\n",
    "- 'P' - Hybride essence/électrique : Le véhicule dispose d'un moteur à essence et d'un moteur électrique, utilisés en combinaison pour améliorer l'efficacité énergétique.\n",
    "\n",
    "- 'B' - Hybride diesel/électrique : C'est similaire à l'hybride essence/électrique, mais avec un moteur diesel au lieu d'un moteur à essence.\n",
    "\n",
    "- 'E' - Électrique : Le véhicule fonctionne entièrement à l'électricité, alimenté par des batteries rechargeables.\n",
    "\n",
    "- 'F' - Gaz naturel comprimé (CNG - Compressed Natural Gas) : Le véhicule utilise du gaz naturel comprimé comme carburant pour propulser le véhicule. C'est une alternative plus respectueuse de l'environnement par rapport aux carburants fossiles traditionnels.\n",
    "\n",
    "**avis**: facile à encoder. Attention Chat GPT me donne des trucs bizarre concernant la lettre F, il s'enmêle les pinceaux avec F = Hydrogène et H= Hydrogène. Il faudrait creuser avant d'attribuer des valeurs en encodant\n",
    "\n",
    "**GARDER** analyse bivariés ? Pour voir si hydrogen dans une variable est bien hydrogène dans l'autre variable.\n",
    "Label encoding"
   ]
  },
  {
   "cell_type": "code",
   "execution_count": 76,
   "metadata": {},
   "outputs": [
    {
     "name": "stdout",
     "output_type": "stream",
     "text": [
      "On compte 6 valeurs uniques et 14 NaN, quelques exemples de valeurs de Fm:\n",
      "\n",
      "['H', 'M', 'P', 'B', 'E', 'F']\n"
     ]
    }
   ],
   "source": [
    "print(f\"On compte {nombre_val_unique['Fm']} valeurs uniques et {df[df['Fm'].isna()].shape[0]} NaN, quelques exemples de valeurs de Fm:\\n\\n{valeurs_uniques['Fm'][:6]}\")"
   ]
  },
  {
   "cell_type": "code",
   "execution_count": 77,
   "metadata": {},
   "outputs": [
    {
     "data": {
      "text/html": [
       "<div>\n",
       "<style scoped>\n",
       "    .dataframe tbody tr th:only-of-type {\n",
       "        vertical-align: middle;\n",
       "    }\n",
       "\n",
       "    .dataframe tbody tr th {\n",
       "        vertical-align: top;\n",
       "    }\n",
       "\n",
       "    .dataframe thead th {\n",
       "        text-align: right;\n",
       "    }\n",
       "</style>\n",
       "<table border=\"1\" class=\"dataframe\">\n",
       "  <thead>\n",
       "    <tr style=\"text-align: right;\">\n",
       "      <th></th>\n",
       "      <th>ID</th>\n",
       "      <th>Country</th>\n",
       "      <th>VFN</th>\n",
       "      <th>Mp</th>\n",
       "      <th>Mh</th>\n",
       "      <th>Man</th>\n",
       "      <th>MMS</th>\n",
       "      <th>Tan</th>\n",
       "      <th>T</th>\n",
       "      <th>Va</th>\n",
       "      <th>Ve</th>\n",
       "      <th>Mk</th>\n",
       "      <th>Cn</th>\n",
       "      <th>Ct</th>\n",
       "      <th>Cr</th>\n",
       "      <th>r</th>\n",
       "      <th>m (kg)</th>\n",
       "      <th>Mt</th>\n",
       "      <th>Enedc (g/km)</th>\n",
       "      <th>Ewltp (g/km)</th>\n",
       "      <th>W (mm)</th>\n",
       "      <th>At1 (mm)</th>\n",
       "      <th>At2 (mm)</th>\n",
       "      <th>Ft</th>\n",
       "      <th>Fm</th>\n",
       "      <th>ec (cm3)</th>\n",
       "      <th>ep (KW)</th>\n",
       "      <th>z (Wh/km)</th>\n",
       "      <th>IT</th>\n",
       "      <th>Ernedc (g/km)</th>\n",
       "      <th>Erwltp (g/km)</th>\n",
       "      <th>De</th>\n",
       "      <th>Vf</th>\n",
       "      <th>Status</th>\n",
       "      <th>Date of registration</th>\n",
       "      <th>Fuel consumption</th>\n",
       "      <th>Electric range (km)</th>\n",
       "    </tr>\n",
       "  </thead>\n",
       "  <tbody>\n",
       "    <tr>\n",
       "      <th>1111214</th>\n",
       "      <td>1111214</td>\n",
       "      <td>ES</td>\n",
       "      <td>NaN</td>\n",
       "      <td>RENAULT-NISSAN-MITSUBISHI</td>\n",
       "      <td>RENAULT</td>\n",
       "      <td>RENAULT SAS</td>\n",
       "      <td>NaN</td>\n",
       "      <td>NaN</td>\n",
       "      <td>RHN</td>\n",
       "      <td>HH2</td>\n",
       "      <td>G25????00000</td>\n",
       "      <td>RENAULT</td>\n",
       "      <td>AUSTRAL</td>\n",
       "      <td>M1</td>\n",
       "      <td>M1</td>\n",
       "      <td>1</td>\n",
       "      <td>1771.00</td>\n",
       "      <td>NaN</td>\n",
       "      <td>NaN</td>\n",
       "      <td>332.97</td>\n",
       "      <td>2665.00</td>\n",
       "      <td>NaN</td>\n",
       "      <td>NaN</td>\n",
       "      <td>UNKNOWN</td>\n",
       "      <td>NaN</td>\n",
       "      <td>1199.00</td>\n",
       "      <td>96.00</td>\n",
       "      <td>NaN</td>\n",
       "      <td>NaN</td>\n",
       "      <td>NaN</td>\n",
       "      <td>NaN</td>\n",
       "      <td>NaN</td>\n",
       "      <td>NaN</td>\n",
       "      <td>P</td>\n",
       "      <td>2022-07-27</td>\n",
       "      <td>NaN</td>\n",
       "      <td>NaN</td>\n",
       "    </tr>\n",
       "    <tr>\n",
       "      <th>1126334</th>\n",
       "      <td>1126334</td>\n",
       "      <td>ES</td>\n",
       "      <td>NaN</td>\n",
       "      <td>RENAULT-NISSAN-MITSUBISHI</td>\n",
       "      <td>RENAULT</td>\n",
       "      <td>RENAULT SAS</td>\n",
       "      <td>NaN</td>\n",
       "      <td>NaN</td>\n",
       "      <td>RHN</td>\n",
       "      <td>HH1</td>\n",
       "      <td>H55????00000</td>\n",
       "      <td>RENAULT</td>\n",
       "      <td>AUSTRAL</td>\n",
       "      <td>M1</td>\n",
       "      <td>M1</td>\n",
       "      <td>1</td>\n",
       "      <td>1737.00</td>\n",
       "      <td>NaN</td>\n",
       "      <td>NaN</td>\n",
       "      <td>337.09</td>\n",
       "      <td>2665.00</td>\n",
       "      <td>NaN</td>\n",
       "      <td>NaN</td>\n",
       "      <td>UNKNOWN</td>\n",
       "      <td>NaN</td>\n",
       "      <td>1199.00</td>\n",
       "      <td>96.00</td>\n",
       "      <td>NaN</td>\n",
       "      <td>NaN</td>\n",
       "      <td>NaN</td>\n",
       "      <td>NaN</td>\n",
       "      <td>NaN</td>\n",
       "      <td>NaN</td>\n",
       "      <td>P</td>\n",
       "      <td>2022-07-27</td>\n",
       "      <td>NaN</td>\n",
       "      <td>NaN</td>\n",
       "    </tr>\n",
       "  </tbody>\n",
       "</table>\n",
       "</div>"
      ],
      "text/plain": [
       "              ID Country  VFN                         Mp       Mh  \\\n",
       "1111214  1111214      ES  NaN  RENAULT-NISSAN-MITSUBISHI  RENAULT   \n",
       "1126334  1126334      ES  NaN  RENAULT-NISSAN-MITSUBISHI  RENAULT   \n",
       "\n",
       "                 Man  MMS  Tan    T   Va            Ve       Mk       Cn  Ct  \\\n",
       "1111214  RENAULT SAS  NaN  NaN  RHN  HH2  G25????00000  RENAULT  AUSTRAL  M1   \n",
       "1126334  RENAULT SAS  NaN  NaN  RHN  HH1  H55????00000  RENAULT  AUSTRAL  M1   \n",
       "\n",
       "         Cr  r  m (kg)  Mt  Enedc (g/km)  Ewltp (g/km)  W (mm)  At1 (mm)  \\\n",
       "1111214  M1  1 1771.00 NaN           NaN        332.97 2665.00       NaN   \n",
       "1126334  M1  1 1737.00 NaN           NaN        337.09 2665.00       NaN   \n",
       "\n",
       "         At2 (mm)       Ft   Fm  ec (cm3)  ep (KW)  z (Wh/km)   IT  \\\n",
       "1111214       NaN  UNKNOWN  NaN   1199.00    96.00        NaN  NaN   \n",
       "1126334       NaN  UNKNOWN  NaN   1199.00    96.00        NaN  NaN   \n",
       "\n",
       "         Ernedc (g/km)  Erwltp (g/km)  De  Vf Status Date of registration  \\\n",
       "1111214            NaN            NaN NaN NaN      P           2022-07-27   \n",
       "1126334            NaN            NaN NaN NaN      P           2022-07-27   \n",
       "\n",
       "         Fuel consumption   Electric range (km)  \n",
       "1111214                NaN                  NaN  \n",
       "1126334                NaN                  NaN  "
      ]
     },
     "execution_count": 77,
     "metadata": {},
     "output_type": "execute_result"
    }
   ],
   "source": [
    "df[df['Fm'].isna()].iloc[:2]"
   ]
  },
  {
   "cell_type": "markdown",
   "metadata": {},
   "source": [
    "## ec (cm3) - Engine capacity\n",
    "\n",
    "ec (cm3) c'est la cylindrée. La cylindrée du moteur est un indicateur important de la taille du moteur et de sa puissance potentielle. Plus la cylindrée est grande, plus le moteur a la capacité de brûler davantage de carburant et de générer plus de puissance. Cependant, une plus grande cylindrée peut également entraîner une consommation de carburant plus élevée.\n",
    "\n",
    "**mon avis**: gaffe aux outliers. Var numérique intéressante\n",
    "\n",
    "**GARDER**: Aussi peut être NaN = voiture électrique possiblement imputer par 0 si c'est électrique"
   ]
  },
  {
   "cell_type": "code",
   "execution_count": 78,
   "metadata": {},
   "outputs": [
    {
     "name": "stdout",
     "output_type": "stream",
     "text": [
      "On compte 265 valeurs uniques et 135129 NaN, quelques exemples de valeurs de ec (cm3):\n",
      "\n",
      "[999.0, 1591.0, 1332.0, 1968.0, 1984.0]\n"
     ]
    }
   ],
   "source": [
    "print(f\"On compte {nombre_val_unique['ec (cm3)']} valeurs uniques et {df[df['ec (cm3)'].isna()].shape[0]} NaN, quelques exemples de valeurs de ec (cm3):\\n\\n{valeurs_uniques['ec (cm3)'][:5]}\")"
   ]
  },
  {
   "cell_type": "code",
   "execution_count": 79,
   "metadata": {},
   "outputs": [
    {
     "data": {
      "text/plain": [
       "count   1353809.00\n",
       "mean       1810.27\n",
       "std         590.95\n",
       "min           4.00\n",
       "25%        1482.00\n",
       "50%        1950.00\n",
       "75%        1991.00\n",
       "max        7993.00\n",
       "Name: ec (cm3), dtype: float64"
      ]
     },
     "execution_count": 79,
     "metadata": {},
     "output_type": "execute_result"
    }
   ],
   "source": [
    "df['ec (cm3)'].describe()"
   ]
  },
  {
   "cell_type": "code",
   "execution_count": 80,
   "metadata": {},
   "outputs": [
    {
     "data": {
      "image/png": "[encoded data removed]",
      "text/plain": [
       "<Figure size 640x480 with 1 Axes>"
      ]
     },
     "metadata": {},
     "output_type": "display_data"
    }
   ],
   "source": [
    "sns.histplot(df, x='ec (cm3)')\n",
    "plt.show()"
   ]
  },
  {
   "cell_type": "markdown",
   "metadata": {},
   "source": [
    "## ep (KW) - Engine power\n",
    "\n",
    "Engine power c'est la puissance du moteur du véhicule. Cette puissance est généralement mesurée en kilowatts (KW). Elle représente la capacité du moteur à produire de la puissance mécanique, ce qui est essentiel pour propulser le véhicule. Une puissance moteur plus élevée est généralement associée à de meilleures performances, mais elle peut également entraîner une consommation de carburant plus élevée.\n",
    "\n",
    "**mon avis** attention aux outliers (en haut et en bas)\n",
    "\n",
    "**GARDER**: traitement des outliers et imputation par la médiane"
   ]
  },
  {
   "cell_type": "code",
   "execution_count": 81,
   "metadata": {},
   "outputs": [
    {
     "name": "stdout",
     "output_type": "stream",
     "text": [
      "On compte 399 valeurs uniques et 4589 NaN, quelques exemples de valeurs de ep (KW):\n",
      "\n",
      "[92.0, 70.0, 150.0, 81.0, 118.0]\n"
     ]
    }
   ],
   "source": [
    "print(f\"On compte {nombre_val_unique['ep (KW)']} valeurs uniques et {df[df['ep (KW)'].isna()].shape[0]} NaN, quelques exemples de valeurs de ep (KW):\\n\\n{valeurs_uniques['ep (KW)'][:5]}\")"
   ]
  },
  {
   "cell_type": "code",
   "execution_count": 82,
   "metadata": {},
   "outputs": [
    {
     "data": {
      "text/plain": [
       "count   1484349.00\n",
       "mean        136.28\n",
       "std          66.49\n",
       "min           5.00\n",
       "25%          96.00\n",
       "50%         110.00\n",
       "75%         150.00\n",
       "max        1177.00\n",
       "Name: ep (KW), dtype: float64"
      ]
     },
     "execution_count": 82,
     "metadata": {},
     "output_type": "execute_result"
    }
   ],
   "source": [
    "df['ep (KW)'].describe()"
   ]
  },
  {
   "cell_type": "code",
   "execution_count": 83,
   "metadata": {},
   "outputs": [
    {
     "data": {
      "image/png": "[encoded data removed]",
      "text/plain": [
       "<Figure size 640x480 with 1 Axes>"
      ]
     },
     "metadata": {},
     "output_type": "display_data"
    }
   ],
   "source": [
    "sns.histplot(df, x='ep (KW)')\n",
    "plt.show()"
   ]
  },
  {
   "cell_type": "code",
   "execution_count": 84,
   "metadata": {},
   "outputs": [
    {
     "data": {
      "image/png": "[encoded data removed]",
      "text/plain": [
       "<Figure size 1000x600 with 1 Axes>"
      ]
     },
     "metadata": {},
     "output_type": "display_data"
    }
   ],
   "source": [
    "filtered_df = df[df[\"ep (KW)\"] > df[\"ep (KW)\"].quantile(0.75)]\n",
    "\n",
    "plt.figure(figsize=(10, 6))\n",
    "plt.scatter(filtered_df[\"ID\"], filtered_df[\"ep (KW)\"], c='b', marker='o', label=\"ep (KW)\")\n",
    "plt.xlabel(\"ID\")\n",
    "plt.ylabel(\"ep (KW)\")\n",
    "plt.title(\"Scatter Plot de ep (KW) pour les valeurs supérieures au 3e quartile\")\n",
    "plt.grid(True)\n",
    "plt.legend()\n",
    "plt.show()"
   ]
  },
  {
   "cell_type": "markdown",
   "metadata": {},
   "source": [
    "## z (Wh/km) - Electric energy consumption\n",
    "\n",
    "Consomation électrique des véhicules.\n",
    "\n",
    "**comment traiter**: on peut se mettre d'accord et dire qu'on attribue la valeur 0 aux véhicules à essence puisqu'ils ne consomment pas d'électricité (on a 5M de NaN). Aussi attention aux outliers (cf scatter plot)\n",
    "\n",
    "**GARDER**: Mettre a 0 les NaN. Outliers \n",
    "\n",
    "    if not hybrid or electric and z= NaN then z=0 else: z= moyenne"
   ]
  },
  {
   "cell_type": "code",
   "execution_count": 85,
   "metadata": {},
   "outputs": [
    {
     "name": "stdout",
     "output_type": "stream",
     "text": [
      "On compte 343 valeurs uniques et 1180349 NaN, quelques exemples de valeurs de z (Wh/km):\n",
      "\n",
      "[nan, 180.0, 175.0, 179.0, 171.0]\n"
     ]
    }
   ],
   "source": [
    "print(f\"On compte {nombre_val_unique['z (Wh/km)']} valeurs uniques et {df[df['z (Wh/km)'].isna()].shape[0]} NaN, quelques exemples de valeurs de z (Wh/km):\\n\\n{valeurs_uniques['z (Wh/km)'][:5]}\")"
   ]
  },
  {
   "cell_type": "code",
   "execution_count": 86,
   "metadata": {},
   "outputs": [
    {
     "data": {
      "text/plain": [
       "count   308589.00\n",
       "mean       187.71\n",
       "std         38.50\n",
       "min         10.00\n",
       "25%        159.00\n",
       "50%        176.00\n",
       "75%        207.00\n",
       "max        999.00\n",
       "Name: z (Wh/km), dtype: float64"
      ]
     },
     "execution_count": 86,
     "metadata": {},
     "output_type": "execute_result"
    }
   ],
   "source": [
    "df['z (Wh/km)'].describe()"
   ]
  },
  {
   "cell_type": "code",
   "execution_count": 87,
   "metadata": {},
   "outputs": [
    {
     "data": {
      "image/png": "[encoded data removed]",
      "text/plain": [
       "<Figure size 640x480 with 1 Axes>"
      ]
     },
     "metadata": {},
     "output_type": "display_data"
    }
   ],
   "source": [
    "sns.histplot(df, x='z (Wh/km)')\n",
    "plt.show()"
   ]
  },
  {
   "cell_type": "code",
   "execution_count": 88,
   "metadata": {},
   "outputs": [
    {
     "data": {
      "image/png": "[encoded data removed]",
      "text/plain": [
       "<Figure size 1000x600 with 1 Axes>"
      ]
     },
     "metadata": {},
     "output_type": "display_data"
    }
   ],
   "source": [
    "filtered_df = df[df[\"z (Wh/km)\"] > df[\"z (Wh/km)\"].quantile(0.75)]\n",
    "\n",
    "plt.figure(figsize=(10, 6))\n",
    "plt.scatter(filtered_df[\"ID\"], filtered_df[\"z (Wh/km)\"], c='b', marker='o', label=\"z (Wh/km)\")\n",
    "plt.xlabel(\"ID\")\n",
    "plt.ylabel(\"z (Wh/km)\")\n",
    "plt.title(\"Scatter Plot de z (Wh/km) pour les valeurs supérieures au 3e quartile\")\n",
    "plt.grid(True)\n",
    "plt.legend()\n",
    "plt.show()"
   ]
  },
  {
   "cell_type": "markdown",
   "metadata": {},
   "source": [
    "## IT - Innovative technology or group of innovative technologies\n",
    "\n",
    "Innovative technology: cette désignation est utilisée pour indiquer que le véhicule est équipé de nouvelles technologies ou de solutions innovantes qui peuvent améliorer la sécurité, l'efficacité énergétique, le confort ou d'autres aspects de la conduite.\n",
    "\n",
    "**mon avis**: on ne capte rien mdr, je propose carrément de supprimer cette colonne je vois pas comment on pourrait l'utiliser et on a pas le temps de décoder/ chercher à quoi correspond chaque code. Pas la peine d'essayer d'encoder non plus.\n",
    "\n",
    "**JETER**"
   ]
  },
  {
   "cell_type": "code",
   "execution_count": 89,
   "metadata": {},
   "outputs": [
    {
     "name": "stdout",
     "output_type": "stream",
     "text": [
      "On compte 487 valeurs uniques et 583511 NaN, quelques exemples de valeurs de IT:\n",
      "\n",
      "['e13 32 37', 'e1 29', 'e4 28', 'e8 29 37', nan]\n"
     ]
    }
   ],
   "source": [
    "print(f\"On compte {nombre_val_unique['IT']} valeurs uniques et {df[df['IT'].isna()].shape[0]} NaN, quelques exemples de valeurs de IT:\\n\\n{valeurs_uniques['IT'][:5]}\")"
   ]
  },
  {
   "cell_type": "markdown",
   "metadata": {},
   "source": [
    "## Erwltp (g/km) - Emissions reduction through innovative technologies (WLTP)\n",
    "\n",
    "L'indicateur Erwltp mesure la **réduction** des émissions de CO2 par rapport à une ligne de base établie grâce à l'incorporation de technologies plus propres, plus efficaces et plus respectueuses de l'environnement dans la conception et la fabrication du véhicule. Cette réduction des émissions est exprimée en grammes par kilomètre (g/km) et indique l'efficacité environnementale du véhicule en termes de réduction des émissions de CO2 lorsqu'il est testé selon le cycle de conduite WLTP.\n",
    "\n",
    "**avis**: jsp quoi en penser\n",
    "\n",
    "**METTRE DE COTE**"
   ]
  },
  {
   "cell_type": "code",
   "execution_count": 90,
   "metadata": {},
   "outputs": [
    {
     "name": "stdout",
     "output_type": "stream",
     "text": [
      "On compte 204 valeurs uniques et 701413 NaN, quelques exemples de valeurs de Erwltp (g/km):\n",
      "\n",
      "[2.3, 1.14, 0.8, 2.1, nan]\n"
     ]
    }
   ],
   "source": [
    "print(f\"On compte {nombre_val_unique['Erwltp (g/km)']} valeurs uniques et {df[df['Erwltp (g/km)'].isna()].shape[0]} NaN, quelques exemples de valeurs de Erwltp (g/km):\\n\\n{valeurs_uniques['Erwltp (g/km)'][:5]}\")"
   ]
  },
  {
   "cell_type": "markdown",
   "metadata": {},
   "source": [
    "## Country\n",
    "\n",
    "**JETER**"
   ]
  },
  {
   "cell_type": "code",
   "execution_count": 91,
   "metadata": {},
   "outputs": [
    {
     "name": "stdout",
     "output_type": "stream",
     "text": [
      "On compte 29 valeurs uniques et 0 NaN, quelques exemples de valeurs de Country:\n",
      "\n",
      "['DE', 'FR', 'CZ', 'RO', 'NL']\n"
     ]
    }
   ],
   "source": [
    "print(f\"On compte {nombre_val_unique['Country']} valeurs uniques et {df[df['Country'].isna()].shape[0]} NaN, quelques exemples de valeurs de Country:\\n\\n{valeurs_uniques['Country'][:5]}\")"
   ]
  },
  {
   "cell_type": "markdown",
   "metadata": {},
   "source": [
    "## Date of registration\n",
    "\n",
    "**avis**: aucune idée de ce qu'on en fait. Je pense qu'on peut les jeter, à cause de ça on a plein de doublons qui devraient être impurs et qui ne le sont pas car la date diffère\n",
    "\n",
    "**Jeter**"
   ]
  },
  {
   "cell_type": "code",
   "execution_count": 92,
   "metadata": {},
   "outputs": [
    {
     "name": "stdout",
     "output_type": "stream",
     "text": [
      "On compte 365 valeurs uniques et 26222 NaN, quelques exemples de valeurs de Date of registration:\n",
      "\n",
      "['2022-08-29', '2022-02-22', '2022-03-26', '2022-09-01', '2022-01-21']\n"
     ]
    }
   ],
   "source": [
    "print(f\"On compte {nombre_val_unique['Date of registration']} valeurs uniques et {df[df['Date of registration'].isna()].shape[0]} NaN, quelques exemples de valeurs de Date of registration:\\n\\n{valeurs_uniques['Date of registration'][:5]}\")"
   ]
  },
  {
   "cell_type": "markdown",
   "metadata": {},
   "source": [
    "## \"Fuel consumption \"\n",
    "\n",
    "Attention il y a un espace a la fin..\n",
    "\n",
    "\n",
    "**GARDER**: if non (hybrid ou essence ou diesel) then: 0. Else: imputation par la moyenne.\n",
    "\n",
    "Attention outliers"
   ]
  },
  {
   "cell_type": "code",
   "execution_count": 93,
   "metadata": {},
   "outputs": [
    {
     "name": "stdout",
     "output_type": "stream",
     "text": [
      "On compte 292 valeurs uniques et 247562 NaN, quelques exemples de valeurs de Fuel consumption :\n",
      "\n",
      "[5.6, 5.5, 6.8, 5.9, 5.1]\n"
     ]
    }
   ],
   "source": [
    "print(f\"On compte {nombre_val_unique['Fuel consumption ']} valeurs uniques et {df[df['Fuel consumption '].isna()].shape[0]} NaN, quelques exemples de valeurs de Fuel consumption :\\n\\n{valeurs_uniques['Fuel consumption '][:5]}\")"
   ]
  },
  {
   "cell_type": "code",
   "execution_count": 94,
   "metadata": {},
   "outputs": [
    {
     "data": {
      "text/plain": [
       "count   1241376.00\n",
       "mean          5.66\n",
       "std           2.14\n",
       "min           0.50\n",
       "25%           4.90\n",
       "50%           5.70\n",
       "75%           6.70\n",
       "max          28.00\n",
       "Name: Fuel consumption , dtype: float64"
      ]
     },
     "execution_count": 94,
     "metadata": {},
     "output_type": "execute_result"
    }
   ],
   "source": [
    "df[\"Fuel consumption \"].describe()"
   ]
  },
  {
   "cell_type": "code",
   "execution_count": 95,
   "metadata": {},
   "outputs": [
    {
     "data": {
      "image/png": "[encoded data removed]",
      "text/plain": [
       "<Figure size 1000x600 with 1 Axes>"
      ]
     },
     "metadata": {},
     "output_type": "display_data"
    }
   ],
   "source": [
    "filtered_df = df[df[\"Fuel consumption \"] > df[\"Fuel consumption \"].quantile(0.75)]\n",
    "\n",
    "plt.figure(figsize=(10, 6))\n",
    "plt.scatter(filtered_df[\"ID\"], filtered_df[\"Fuel consumption \"], c='b', marker='o', label=\"Fuel consumption \")\n",
    "plt.xlabel(\"ID\")\n",
    "plt.ylabel(\"Fuel consumption \")\n",
    "plt.title(\"Scatter Plot de Fuel consumption  pour les valeurs supérieures au 3e quartile\")\n",
    "plt.grid(True)\n",
    "plt.legend()\n",
    "plt.show()"
   ]
  },
  {
   "cell_type": "markdown",
   "metadata": {},
   "source": [
    "## Electric range (km)\n",
    "\n",
    "L'Electric Range (km) en automobile fait référence à l'autonomie d'un véhicule électrique, c'est-à-dire à la distance maximale que le véhicule peut parcourir en utilisant uniquement sa batterie électrique sans recourir à un moteur à combustion interne ou à un autre moyen de propulsion.\n",
    "\n",
    "**mon avis**: faire attention car on a 2 variables electric range (une en Wh/km et une en km)\n",
    "\n",
    "**GARDER**:  if non (hybrid ou essence ou diesel) then: 0. Else: imputation par la *médiane*."
   ]
  },
  {
   "cell_type": "code",
   "execution_count": 96,
   "metadata": {},
   "outputs": [
    {
     "name": "stdout",
     "output_type": "stream",
     "text": [
      "On compte 670 valeurs uniques et 1254625 NaN, quelques exemples de valeurs de Electric range (km):\n",
      "\n",
      "[nan, 72.0, 80.0, 75.0, 76.0]\n"
     ]
    }
   ],
   "source": [
    "print(f\"On compte {nombre_val_unique['Electric range (km)']} valeurs uniques et {df[df['Electric range (km)'].isna()].shape[0]} NaN, quelques exemples de valeurs de Electric range (km):\\n\\n{valeurs_uniques['Electric range (km)'][:5]}\")"
   ]
  },
  {
   "cell_type": "code",
   "execution_count": 97,
   "metadata": {},
   "outputs": [
    {
     "data": {
      "text/plain": [
       "count   234313.00\n",
       "mean       211.03\n",
       "std        192.55\n",
       "min         13.00\n",
       "25%         58.00\n",
       "50%         77.00\n",
       "75%        413.00\n",
       "max        843.00\n",
       "Name: Electric range (km), dtype: float64"
      ]
     },
     "execution_count": 97,
     "metadata": {},
     "output_type": "execute_result"
    }
   ],
   "source": [
    "df['Electric range (km)'].describe()"
   ]
  },
  {
   "cell_type": "code",
   "execution_count": 98,
   "metadata": {},
   "outputs": [
    {
     "data": {
      "image/png": "[encoded data removed]",
      "text/plain": [
       "<Figure size 1000x600 with 1 Axes>"
      ]
     },
     "metadata": {},
     "output_type": "display_data"
    }
   ],
   "source": [
    "filtered_df = df[df[\"Electric range (km)\"] > df[\"Electric range (km)\"].quantile(0.75)]\n",
    "\n",
    "plt.figure(figsize=(10, 6))\n",
    "plt.scatter(filtered_df[\"ID\"], filtered_df[\"Electric range (km)\"], c='b', marker='o', label=\"Electric range (km)\")\n",
    "plt.xlabel(\"ID\")\n",
    "plt.ylabel(\"Electric range (km)\")\n",
    "plt.title(\"Scatter Plot de Electric range (km) pour les valeurs supérieures au 3e quartile\")\n",
    "plt.grid(True)\n",
    "plt.legend()\n",
    "plt.show()"
   ]
  }
 ],
 "metadata": {
  "kernelspec": {
   "display_name": "mining_venv",
   "language": "python",
   "name": "python3"
  },
  "language_info": {
   "codemirror_mode": {
    "name": "ipython",
    "version": 3
   },
   "file_extension": ".py",
   "mimetype": "text/x-python",
   "name": "python",
   "nbconvert_exporter": "python",
   "pygments_lexer": "ipython3",
   "version": "3.10.0"
  },
  "orig_nbformat": 4
 },
 "nbformat": 4,
 "nbformat_minor": 2
}
