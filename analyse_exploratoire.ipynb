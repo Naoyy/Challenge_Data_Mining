{
 "cells": [
  {
   "cell_type": "markdown",
   "metadata": {},
   "source": [
    "# Import + Chargement des données"
   ]
  },
  {
   "cell_type": "code",
   "execution_count": 1,
   "metadata": {},
   "outputs": [],
   "source": [
    "import numpy as np\n",
    "import pandas as pd\n",
    "import seaborn as sns\n",
    "from src.preprocessing import display_missing_values\n",
    "import matplotlib.pyplot as plt\n",
    "pd.set_option('display.max_columns', None)\n",
    "pd.set_option('display.float_format', '{:.2f}'.format)\n",
    "sns.set_theme(style=\"ticks\", palette=\"pastel\")"
   ]
  },
  {
   "cell_type": "code",
   "execution_count": 2,
   "metadata": {},
   "outputs": [],
   "source": [
    "df= pd.read_csv( \"data/train.csv\", sep=\",\",low_memory=False)"
   ]
  },
  {
   "cell_type": "markdown",
   "metadata": {},
   "source": [
    "# General Analysis\n",
    "## Observations + columns"
   ]
  },
  {
   "cell_type": "code",
   "execution_count": 3,
   "metadata": {},
   "outputs": [
    {
     "name": "stdout",
     "output_type": "stream",
     "text": [
      "on compte 7571649 observations et 37 colonnes\n",
      "\n",
      "les colonnes sont:\n",
      "\n",
      " Index(['ID', 'Country', 'VFN', 'Mp', 'Mh', 'Man', 'MMS', 'Tan', 'T', 'Va',\n",
      "       'Ve', 'Mk', 'Cn', 'Ct', 'Cr', 'r', 'm (kg)', 'Mt', 'Enedc (g/km)',\n",
      "       'Ewltp (g/km)', 'W (mm)', 'At1 (mm)', 'At2 (mm)', 'Ft', 'Fm',\n",
      "       'ec (cm3)', 'ep (KW)', 'z (Wh/km)', 'IT', 'Ernedc (g/km)',\n",
      "       'Erwltp (g/km)', 'De', 'Vf', 'Status', 'Date of registration',\n",
      "       'Fuel consumption ', 'Electric range (km)'],\n",
      "      dtype='object')\n"
     ]
    }
   ],
   "source": [
    "print(f\"on compte {df.shape[0]} observations et {df.shape[1]} colonnes\\n\")\n",
    "print(f\"les colonnes sont:\\n\\n {df.columns}\")"
   ]
  },
  {
   "cell_type": "code",
   "execution_count": 4,
   "metadata": {},
   "outputs": [],
   "source": [
    "target ='Ewltp (g/km)'"
   ]
  },
  {
   "cell_type": "code",
   "execution_count": 5,
   "metadata": {},
   "outputs": [
    {
     "data": {
      "text/html": [
       "<div>\n",
       "<style scoped>\n",
       "    .dataframe tbody tr th:only-of-type {\n",
       "        vertical-align: middle;\n",
       "    }\n",
       "\n",
       "    .dataframe tbody tr th {\n",
       "        vertical-align: top;\n",
       "    }\n",
       "\n",
       "    .dataframe thead th {\n",
       "        text-align: right;\n",
       "    }\n",
       "</style>\n",
       "<table border=\"1\" class=\"dataframe\">\n",
       "  <thead>\n",
       "    <tr style=\"text-align: right;\">\n",
       "      <th></th>\n",
       "      <th>ID</th>\n",
       "      <th>Country</th>\n",
       "      <th>VFN</th>\n",
       "      <th>Mp</th>\n",
       "      <th>Mh</th>\n",
       "      <th>Man</th>\n",
       "      <th>MMS</th>\n",
       "      <th>Tan</th>\n",
       "      <th>T</th>\n",
       "      <th>Va</th>\n",
       "      <th>Ve</th>\n",
       "      <th>Mk</th>\n",
       "      <th>Cn</th>\n",
       "      <th>Ct</th>\n",
       "      <th>Cr</th>\n",
       "      <th>r</th>\n",
       "      <th>m (kg)</th>\n",
       "      <th>Mt</th>\n",
       "      <th>Enedc (g/km)</th>\n",
       "      <th>Ewltp (g/km)</th>\n",
       "      <th>W (mm)</th>\n",
       "      <th>At1 (mm)</th>\n",
       "      <th>At2 (mm)</th>\n",
       "      <th>Ft</th>\n",
       "      <th>Fm</th>\n",
       "      <th>ec (cm3)</th>\n",
       "      <th>ep (KW)</th>\n",
       "      <th>z (Wh/km)</th>\n",
       "      <th>IT</th>\n",
       "      <th>Ernedc (g/km)</th>\n",
       "      <th>Erwltp (g/km)</th>\n",
       "      <th>De</th>\n",
       "      <th>Vf</th>\n",
       "      <th>Status</th>\n",
       "      <th>Date of registration</th>\n",
       "      <th>Fuel consumption</th>\n",
       "      <th>Electric range (km)</th>\n",
       "    </tr>\n",
       "  </thead>\n",
       "  <tbody>\n",
       "    <tr>\n",
       "      <th>0</th>\n",
       "      <td>0</td>\n",
       "      <td>DE</td>\n",
       "      <td>IP-C519_2022_00008-WF0-1</td>\n",
       "      <td>FORD</td>\n",
       "      <td>FORD WERKE GMBH</td>\n",
       "      <td>FORD WERKE GMBH</td>\n",
       "      <td>NaN</td>\n",
       "      <td>e13*2007/46*1911*15</td>\n",
       "      <td>DEH</td>\n",
       "      <td>R0DB1NX</td>\n",
       "      <td>5BSCENA5JBS</td>\n",
       "      <td>FORD</td>\n",
       "      <td>FOCUS</td>\n",
       "      <td>M1</td>\n",
       "      <td>M1</td>\n",
       "      <td>1</td>\n",
       "      <td>1387.00</td>\n",
       "      <td>1534.00</td>\n",
       "      <td>NaN</td>\n",
       "      <td>401.05</td>\n",
       "      <td>2700.00</td>\n",
       "      <td>1571.00</td>\n",
       "      <td>1576.00</td>\n",
       "      <td>PETROL</td>\n",
       "      <td>H</td>\n",
       "      <td>999.00</td>\n",
       "      <td>92.00</td>\n",
       "      <td>NaN</td>\n",
       "      <td>e13 32 37</td>\n",
       "      <td>NaN</td>\n",
       "      <td>2.30</td>\n",
       "      <td>NaN</td>\n",
       "      <td>NaN</td>\n",
       "      <td>P</td>\n",
       "      <td>2022-08-29</td>\n",
       "      <td>5.60</td>\n",
       "      <td>NaN</td>\n",
       "    </tr>\n",
       "    <tr>\n",
       "      <th>1</th>\n",
       "      <td>1</td>\n",
       "      <td>FR</td>\n",
       "      <td>IP-MQB27ZZ_A2_0529-WVW-1</td>\n",
       "      <td>VOLKSWAGEN</td>\n",
       "      <td>VOLKSWAGEN</td>\n",
       "      <td>VOLKSWAGEN AG</td>\n",
       "      <td>NaN</td>\n",
       "      <td>e1*2007/46*1783*29</td>\n",
       "      <td>AW</td>\n",
       "      <td>ABDLAC</td>\n",
       "      <td>FM5FM5DF008N3VR24BI1CA0I</td>\n",
       "      <td>VOLKSWAGEN</td>\n",
       "      <td>POLO</td>\n",
       "      <td>M1</td>\n",
       "      <td>M1</td>\n",
       "      <td>1</td>\n",
       "      <td>1172.00</td>\n",
       "      <td>1337.00</td>\n",
       "      <td>NaN</td>\n",
       "      <td>394.68</td>\n",
       "      <td>2552.00</td>\n",
       "      <td>1500.00</td>\n",
       "      <td>1483.00</td>\n",
       "      <td>PETROL</td>\n",
       "      <td>M</td>\n",
       "      <td>999.00</td>\n",
       "      <td>70.00</td>\n",
       "      <td>NaN</td>\n",
       "      <td>e1 29</td>\n",
       "      <td>NaN</td>\n",
       "      <td>1.14</td>\n",
       "      <td>NaN</td>\n",
       "      <td>NaN</td>\n",
       "      <td>P</td>\n",
       "      <td>2022-02-22</td>\n",
       "      <td>5.50</td>\n",
       "      <td>NaN</td>\n",
       "    </tr>\n",
       "    <tr>\n",
       "      <th>2</th>\n",
       "      <td>2</td>\n",
       "      <td>FR</td>\n",
       "      <td>IP-MQB27ZZ_A1_0533-WVW-1</td>\n",
       "      <td>VOLKSWAGEN</td>\n",
       "      <td>VOLKSWAGEN</td>\n",
       "      <td>VOLKSWAGEN AG</td>\n",
       "      <td>NaN</td>\n",
       "      <td>e1*2007/46*1783*29</td>\n",
       "      <td>AW</td>\n",
       "      <td>ABDLAC</td>\n",
       "      <td>FD7FD7CW005N2VR24BI1AA0I</td>\n",
       "      <td>VOLKSWAGEN</td>\n",
       "      <td>POLO</td>\n",
       "      <td>M1</td>\n",
       "      <td>M1</td>\n",
       "      <td>1</td>\n",
       "      <td>1204.00</td>\n",
       "      <td>1335.00</td>\n",
       "      <td>NaN</td>\n",
       "      <td>398.56</td>\n",
       "      <td>2552.00</td>\n",
       "      <td>1500.00</td>\n",
       "      <td>1483.00</td>\n",
       "      <td>PETROL</td>\n",
       "      <td>M</td>\n",
       "      <td>999.00</td>\n",
       "      <td>70.00</td>\n",
       "      <td>NaN</td>\n",
       "      <td>e1 29</td>\n",
       "      <td>NaN</td>\n",
       "      <td>1.14</td>\n",
       "      <td>NaN</td>\n",
       "      <td>NaN</td>\n",
       "      <td>P</td>\n",
       "      <td>2022-03-26</td>\n",
       "      <td>5.60</td>\n",
       "      <td>NaN</td>\n",
       "    </tr>\n",
       "    <tr>\n",
       "      <th>3</th>\n",
       "      <td>3</td>\n",
       "      <td>DE</td>\n",
       "      <td>IP-04-U5Y-2018-1137</td>\n",
       "      <td>KIA</td>\n",
       "      <td>KIA SLOVAKIA</td>\n",
       "      <td>KIA SLOVAKIA SRO</td>\n",
       "      <td>NaN</td>\n",
       "      <td>e4*2007/46*1299*18</td>\n",
       "      <td>CD</td>\n",
       "      <td>BAP71</td>\n",
       "      <td>D73F12</td>\n",
       "      <td>KIA</td>\n",
       "      <td>PROCEED</td>\n",
       "      <td>M1</td>\n",
       "      <td>M1</td>\n",
       "      <td>1</td>\n",
       "      <td>1438.00</td>\n",
       "      <td>1588.00</td>\n",
       "      <td>NaN</td>\n",
       "      <td>479.47</td>\n",
       "      <td>2650.00</td>\n",
       "      <td>1555.00</td>\n",
       "      <td>1563.00</td>\n",
       "      <td>PETROL</td>\n",
       "      <td>M</td>\n",
       "      <td>1591.00</td>\n",
       "      <td>150.00</td>\n",
       "      <td>NaN</td>\n",
       "      <td>e4 28</td>\n",
       "      <td>NaN</td>\n",
       "      <td>0.80</td>\n",
       "      <td>NaN</td>\n",
       "      <td>NaN</td>\n",
       "      <td>P</td>\n",
       "      <td>2022-09-01</td>\n",
       "      <td>6.80</td>\n",
       "      <td>NaN</td>\n",
       "    </tr>\n",
       "    <tr>\n",
       "      <th>4</th>\n",
       "      <td>4</td>\n",
       "      <td>FR</td>\n",
       "      <td>IP-MQB27ZZ_B2_0534-WVW-1</td>\n",
       "      <td>VOLKSWAGEN</td>\n",
       "      <td>VOLKSWAGEN</td>\n",
       "      <td>VOLKSWAGEN AG</td>\n",
       "      <td>NaN</td>\n",
       "      <td>e1*2007/46*1783*29</td>\n",
       "      <td>AW</td>\n",
       "      <td>ABDLAA</td>\n",
       "      <td>FD7FD7CW005N2VR24BI1CB0I</td>\n",
       "      <td>VOLKSWAGEN</td>\n",
       "      <td>POLO</td>\n",
       "      <td>M1</td>\n",
       "      <td>M1</td>\n",
       "      <td>1</td>\n",
       "      <td>1207.00</td>\n",
       "      <td>1350.00</td>\n",
       "      <td>NaN</td>\n",
       "      <td>421.85</td>\n",
       "      <td>2552.00</td>\n",
       "      <td>1500.00</td>\n",
       "      <td>1483.00</td>\n",
       "      <td>PETROL</td>\n",
       "      <td>M</td>\n",
       "      <td>999.00</td>\n",
       "      <td>81.00</td>\n",
       "      <td>NaN</td>\n",
       "      <td>e1 29</td>\n",
       "      <td>NaN</td>\n",
       "      <td>1.14</td>\n",
       "      <td>NaN</td>\n",
       "      <td>NaN</td>\n",
       "      <td>P</td>\n",
       "      <td>2022-01-21</td>\n",
       "      <td>5.90</td>\n",
       "      <td>NaN</td>\n",
       "    </tr>\n",
       "  </tbody>\n",
       "</table>\n",
       "</div>"
      ],
      "text/plain": [
       "   ID Country                       VFN          Mp               Mh  \\\n",
       "0   0      DE  IP-C519_2022_00008-WF0-1        FORD  FORD WERKE GMBH   \n",
       "1   1      FR  IP-MQB27ZZ_A2_0529-WVW-1  VOLKSWAGEN       VOLKSWAGEN   \n",
       "2   2      FR  IP-MQB27ZZ_A1_0533-WVW-1  VOLKSWAGEN       VOLKSWAGEN   \n",
       "3   3      DE       IP-04-U5Y-2018-1137         KIA     KIA SLOVAKIA   \n",
       "4   4      FR  IP-MQB27ZZ_B2_0534-WVW-1  VOLKSWAGEN       VOLKSWAGEN   \n",
       "\n",
       "                Man  MMS                  Tan    T       Va  \\\n",
       "0   FORD WERKE GMBH  NaN  e13*2007/46*1911*15  DEH  R0DB1NX   \n",
       "1     VOLKSWAGEN AG  NaN   e1*2007/46*1783*29   AW   ABDLAC   \n",
       "2     VOLKSWAGEN AG  NaN   e1*2007/46*1783*29   AW   ABDLAC   \n",
       "3  KIA SLOVAKIA SRO  NaN   e4*2007/46*1299*18   CD    BAP71   \n",
       "4     VOLKSWAGEN AG  NaN   e1*2007/46*1783*29   AW   ABDLAA   \n",
       "\n",
       "                         Ve          Mk       Cn  Ct  Cr  r  m (kg)      Mt  \\\n",
       "0               5BSCENA5JBS        FORD    FOCUS  M1  M1  1 1387.00 1534.00   \n",
       "1  FM5FM5DF008N3VR24BI1CA0I  VOLKSWAGEN     POLO  M1  M1  1 1172.00 1337.00   \n",
       "2  FD7FD7CW005N2VR24BI1AA0I  VOLKSWAGEN     POLO  M1  M1  1 1204.00 1335.00   \n",
       "3                    D73F12         KIA  PROCEED  M1  M1  1 1438.00 1588.00   \n",
       "4  FD7FD7CW005N2VR24BI1CB0I  VOLKSWAGEN     POLO  M1  M1  1 1207.00 1350.00   \n",
       "\n",
       "   Enedc (g/km)  Ewltp (g/km)  W (mm)  At1 (mm)  At2 (mm)      Ft Fm  \\\n",
       "0           NaN        401.05 2700.00   1571.00   1576.00  PETROL  H   \n",
       "1           NaN        394.68 2552.00   1500.00   1483.00  PETROL  M   \n",
       "2           NaN        398.56 2552.00   1500.00   1483.00  PETROL  M   \n",
       "3           NaN        479.47 2650.00   1555.00   1563.00  PETROL  M   \n",
       "4           NaN        421.85 2552.00   1500.00   1483.00  PETROL  M   \n",
       "\n",
       "   ec (cm3)  ep (KW)  z (Wh/km)         IT  Ernedc (g/km)  Erwltp (g/km)  De  \\\n",
       "0    999.00    92.00        NaN  e13 32 37            NaN           2.30 NaN   \n",
       "1    999.00    70.00        NaN      e1 29            NaN           1.14 NaN   \n",
       "2    999.00    70.00        NaN      e1 29            NaN           1.14 NaN   \n",
       "3   1591.00   150.00        NaN      e4 28            NaN           0.80 NaN   \n",
       "4    999.00    81.00        NaN      e1 29            NaN           1.14 NaN   \n",
       "\n",
       "   Vf Status Date of registration  Fuel consumption   Electric range (km)  \n",
       "0 NaN      P           2022-08-29               5.60                  NaN  \n",
       "1 NaN      P           2022-02-22               5.50                  NaN  \n",
       "2 NaN      P           2022-03-26               5.60                  NaN  \n",
       "3 NaN      P           2022-09-01               6.80                  NaN  \n",
       "4 NaN      P           2022-01-21               5.90                  NaN  "
      ]
     },
     "execution_count": 5,
     "metadata": {},
     "output_type": "execute_result"
    }
   ],
   "source": [
    "df.head()"
   ]
  },
  {
   "cell_type": "code",
   "execution_count": 6,
   "metadata": {},
   "outputs": [
    {
     "name": "stdout",
     "output_type": "stream",
     "text": [
      "Liste des colonnes catégorielles :\n",
      "['Country', 'VFN', 'Mp', 'Mh', 'Man', 'Tan', 'T', 'Va', 'Ve', 'Mk', 'Cn', 'Ct', 'Cr', 'Ft', 'Fm', 'IT', 'Status', 'Date of registration']\n",
      "\n",
      "Liste des colonnes numériques :\n",
      "['ID', 'MMS', 'r', 'm (kg)', 'Mt', 'Enedc (g/km)', 'Ewltp (g/km)', 'W (mm)', 'At1 (mm)', 'At2 (mm)', 'ec (cm3)', 'ep (KW)', 'z (Wh/km)', 'Ernedc (g/km)', 'Erwltp (g/km)', 'De', 'Vf', 'Fuel consumption ', 'Electric range (km)']\n"
     ]
    }
   ],
   "source": [
    "col_categoricals = df.select_dtypes(include=\"object\").columns.tolist()\n",
    "\n",
    "# Puis les numériques\n",
    "col_numericals = [col for col in df.columns if col not in col_categoricals]\n",
    "\n",
    "\n",
    "print(f\"Liste des colonnes catégorielles :\\n{col_categoricals}\")\n",
    "print(f\"\\nListe des colonnes numériques :\\n{col_numericals}\")"
   ]
  },
  {
   "cell_type": "markdown",
   "metadata": {},
   "source": [
    "## NaN and Unique values"
   ]
  },
  {
   "cell_type": "code",
   "execution_count": 7,
   "metadata": {},
   "outputs": [
    {
     "data": {
      "text/html": [
       "<div>\n",
       "<style scoped>\n",
       "    .dataframe tbody tr th:only-of-type {\n",
       "        vertical-align: middle;\n",
       "    }\n",
       "\n",
       "    .dataframe tbody tr th {\n",
       "        vertical-align: top;\n",
       "    }\n",
       "\n",
       "    .dataframe thead th {\n",
       "        text-align: right;\n",
       "    }\n",
       "</style>\n",
       "<table border=\"1\" class=\"dataframe\">\n",
       "  <thead>\n",
       "    <tr style=\"text-align: right;\">\n",
       "      <th></th>\n",
       "      <th>Colonne</th>\n",
       "      <th>pourcentage manquant</th>\n",
       "      <th>nombre</th>\n",
       "    </tr>\n",
       "  </thead>\n",
       "  <tbody>\n",
       "    <tr>\n",
       "      <th>0</th>\n",
       "      <td>MMS</td>\n",
       "      <td>100.00</td>\n",
       "      <td>7571649</td>\n",
       "    </tr>\n",
       "    <tr>\n",
       "      <th>1</th>\n",
       "      <td>Ernedc (g/km)</td>\n",
       "      <td>100.00</td>\n",
       "      <td>7571649</td>\n",
       "    </tr>\n",
       "    <tr>\n",
       "      <th>2</th>\n",
       "      <td>De</td>\n",
       "      <td>100.00</td>\n",
       "      <td>7571649</td>\n",
       "    </tr>\n",
       "    <tr>\n",
       "      <th>3</th>\n",
       "      <td>Vf</td>\n",
       "      <td>100.00</td>\n",
       "      <td>7571649</td>\n",
       "    </tr>\n",
       "    <tr>\n",
       "      <th>4</th>\n",
       "      <td>Enedc (g/km)</td>\n",
       "      <td>83.84</td>\n",
       "      <td>6348010</td>\n",
       "    </tr>\n",
       "    <tr>\n",
       "      <th>5</th>\n",
       "      <td>Electric range (km)</td>\n",
       "      <td>82.96</td>\n",
       "      <td>6281247</td>\n",
       "    </tr>\n",
       "    <tr>\n",
       "      <th>6</th>\n",
       "      <td>z (Wh/km)</td>\n",
       "      <td>77.98</td>\n",
       "      <td>5904329</td>\n",
       "    </tr>\n",
       "    <tr>\n",
       "      <th>7</th>\n",
       "      <td>Erwltp (g/km)</td>\n",
       "      <td>46.48</td>\n",
       "      <td>3519145</td>\n",
       "    </tr>\n",
       "    <tr>\n",
       "      <th>8</th>\n",
       "      <td>IT</td>\n",
       "      <td>37.78</td>\n",
       "      <td>2860870</td>\n",
       "    </tr>\n",
       "    <tr>\n",
       "      <th>9</th>\n",
       "      <td>Fuel consumption</td>\n",
       "      <td>23.51</td>\n",
       "      <td>1779861</td>\n",
       "    </tr>\n",
       "    <tr>\n",
       "      <th>10</th>\n",
       "      <td>ec (cm3)</td>\n",
       "      <td>13.51</td>\n",
       "      <td>1022765</td>\n",
       "    </tr>\n",
       "    <tr>\n",
       "      <th>11</th>\n",
       "      <td>Mt</td>\n",
       "      <td>11.10</td>\n",
       "      <td>840236</td>\n",
       "    </tr>\n",
       "    <tr>\n",
       "      <th>12</th>\n",
       "      <td>VFN</td>\n",
       "      <td>8.61</td>\n",
       "      <td>652232</td>\n",
       "    </tr>\n",
       "    <tr>\n",
       "      <th>13</th>\n",
       "      <td>Mp</td>\n",
       "      <td>6.41</td>\n",
       "      <td>485564</td>\n",
       "    </tr>\n",
       "    <tr>\n",
       "      <th>14</th>\n",
       "      <td>At2 (mm)</td>\n",
       "      <td>2.34</td>\n",
       "      <td>177298</td>\n",
       "    </tr>\n",
       "    <tr>\n",
       "      <th>15</th>\n",
       "      <td>At1 (mm)</td>\n",
       "      <td>2.19</td>\n",
       "      <td>165685</td>\n",
       "    </tr>\n",
       "    <tr>\n",
       "      <th>16</th>\n",
       "      <td>Date of registration</td>\n",
       "      <td>1.70</td>\n",
       "      <td>129058</td>\n",
       "    </tr>\n",
       "    <tr>\n",
       "      <th>17</th>\n",
       "      <td>Cn</td>\n",
       "      <td>1.52</td>\n",
       "      <td>115232</td>\n",
       "    </tr>\n",
       "    <tr>\n",
       "      <th>18</th>\n",
       "      <td>Ve</td>\n",
       "      <td>0.42</td>\n",
       "      <td>32077</td>\n",
       "    </tr>\n",
       "    <tr>\n",
       "      <th>19</th>\n",
       "      <td>ep (KW)</td>\n",
       "      <td>0.25</td>\n",
       "      <td>19187</td>\n",
       "    </tr>\n",
       "    <tr>\n",
       "      <th>20</th>\n",
       "      <td>Tan</td>\n",
       "      <td>0.16</td>\n",
       "      <td>12401</td>\n",
       "    </tr>\n",
       "    <tr>\n",
       "      <th>21</th>\n",
       "      <td>W (mm)</td>\n",
       "      <td>0.16</td>\n",
       "      <td>12288</td>\n",
       "    </tr>\n",
       "    <tr>\n",
       "      <th>22</th>\n",
       "      <td>Ct</td>\n",
       "      <td>0.16</td>\n",
       "      <td>11829</td>\n",
       "    </tr>\n",
       "    <tr>\n",
       "      <th>23</th>\n",
       "      <td>Va</td>\n",
       "      <td>0.16</td>\n",
       "      <td>11740</td>\n",
       "    </tr>\n",
       "    <tr>\n",
       "      <th>24</th>\n",
       "      <td>T</td>\n",
       "      <td>0.02</td>\n",
       "      <td>1399</td>\n",
       "    </tr>\n",
       "    <tr>\n",
       "      <th>25</th>\n",
       "      <td>Mk</td>\n",
       "      <td>0.00</td>\n",
       "      <td>212</td>\n",
       "    </tr>\n",
       "    <tr>\n",
       "      <th>26</th>\n",
       "      <td>m (kg)</td>\n",
       "      <td>0.00</td>\n",
       "      <td>100</td>\n",
       "    </tr>\n",
       "    <tr>\n",
       "      <th>27</th>\n",
       "      <td>Fm</td>\n",
       "      <td>0.00</td>\n",
       "      <td>23</td>\n",
       "    </tr>\n",
       "    <tr>\n",
       "      <th>28</th>\n",
       "      <td>ID</td>\n",
       "      <td>0.00</td>\n",
       "      <td>0</td>\n",
       "    </tr>\n",
       "    <tr>\n",
       "      <th>29</th>\n",
       "      <td>Country</td>\n",
       "      <td>0.00</td>\n",
       "      <td>0</td>\n",
       "    </tr>\n",
       "    <tr>\n",
       "      <th>30</th>\n",
       "      <td>Mh</td>\n",
       "      <td>0.00</td>\n",
       "      <td>0</td>\n",
       "    </tr>\n",
       "    <tr>\n",
       "      <th>31</th>\n",
       "      <td>Man</td>\n",
       "      <td>0.00</td>\n",
       "      <td>0</td>\n",
       "    </tr>\n",
       "    <tr>\n",
       "      <th>32</th>\n",
       "      <td>Cr</td>\n",
       "      <td>0.00</td>\n",
       "      <td>0</td>\n",
       "    </tr>\n",
       "    <tr>\n",
       "      <th>33</th>\n",
       "      <td>r</td>\n",
       "      <td>0.00</td>\n",
       "      <td>0</td>\n",
       "    </tr>\n",
       "    <tr>\n",
       "      <th>34</th>\n",
       "      <td>Ewltp (g/km)</td>\n",
       "      <td>0.00</td>\n",
       "      <td>0</td>\n",
       "    </tr>\n",
       "    <tr>\n",
       "      <th>35</th>\n",
       "      <td>Ft</td>\n",
       "      <td>0.00</td>\n",
       "      <td>0</td>\n",
       "    </tr>\n",
       "    <tr>\n",
       "      <th>36</th>\n",
       "      <td>Status</td>\n",
       "      <td>0.00</td>\n",
       "      <td>0</td>\n",
       "    </tr>\n",
       "  </tbody>\n",
       "</table>\n",
       "</div>"
      ],
      "text/plain": [
       "                 Colonne  pourcentage manquant   nombre\n",
       "0                    MMS                100.00  7571649\n",
       "1          Ernedc (g/km)                100.00  7571649\n",
       "2                     De                100.00  7571649\n",
       "3                     Vf                100.00  7571649\n",
       "4           Enedc (g/km)                 83.84  6348010\n",
       "5    Electric range (km)                 82.96  6281247\n",
       "6              z (Wh/km)                 77.98  5904329\n",
       "7          Erwltp (g/km)                 46.48  3519145\n",
       "8                     IT                 37.78  2860870\n",
       "9      Fuel consumption                  23.51  1779861\n",
       "10              ec (cm3)                 13.51  1022765\n",
       "11                    Mt                 11.10   840236\n",
       "12                   VFN                  8.61   652232\n",
       "13                    Mp                  6.41   485564\n",
       "14              At2 (mm)                  2.34   177298\n",
       "15              At1 (mm)                  2.19   165685\n",
       "16  Date of registration                  1.70   129058\n",
       "17                    Cn                  1.52   115232\n",
       "18                    Ve                  0.42    32077\n",
       "19               ep (KW)                  0.25    19187\n",
       "20                   Tan                  0.16    12401\n",
       "21                W (mm)                  0.16    12288\n",
       "22                    Ct                  0.16    11829\n",
       "23                    Va                  0.16    11740\n",
       "24                     T                  0.02     1399\n",
       "25                    Mk                  0.00      212\n",
       "26                m (kg)                  0.00      100\n",
       "27                    Fm                  0.00       23\n",
       "28                    ID                  0.00        0\n",
       "29               Country                  0.00        0\n",
       "30                    Mh                  0.00        0\n",
       "31                   Man                  0.00        0\n",
       "32                    Cr                  0.00        0\n",
       "33                     r                  0.00        0\n",
       "34          Ewltp (g/km)                  0.00        0\n",
       "35                    Ft                  0.00        0\n",
       "36                Status                  0.00        0"
      ]
     },
     "execution_count": 7,
     "metadata": {},
     "output_type": "execute_result"
    }
   ],
   "source": [
    "display_missing_values(df)"
   ]
  },
  {
   "cell_type": "code",
   "execution_count": 8,
   "metadata": {},
   "outputs": [],
   "source": [
    "valeurs_uniques = {}\n",
    "nombre_val_unique={}\n",
    "for col in df.columns:\n",
    "    valeurs_uniques[col]=df[col].unique().tolist()\n",
    "    nombre_val_unique[col]=df[col].nunique()"
   ]
  },
  {
   "cell_type": "code",
   "execution_count": 9,
   "metadata": {},
   "outputs": [
    {
     "name": "stdout",
     "output_type": "stream",
     "text": [
      "r 1\n",
      "Status 1\n"
     ]
    }
   ],
   "source": [
    "for element in nombre_val_unique:\n",
    "    if nombre_val_unique[element]==1:\n",
    "        print(element, nombre_val_unique[element])"
   ]
  },
  {
   "cell_type": "markdown",
   "metadata": {},
   "source": [
    "# Target Analysis\n",
    "\n",
    "## Histogram"
   ]
  },
  {
   "cell_type": "code",
   "execution_count": 10,
   "metadata": {},
   "outputs": [
    {
     "data": {
      "image/png": "[encoded data removed]",
      "text/plain": [
       "<Figure size 640x480 with 1 Axes>"
      ]
     },
     "metadata": {},
     "output_type": "display_data"
    }
   ],
   "source": [
    "sns.histplot(df,x=target)\n",
    "plt.show()"
   ]
  },
  {
   "cell_type": "markdown",
   "metadata": {},
   "source": [
    "## Boxplot\n"
   ]
  },
  {
   "cell_type": "code",
   "execution_count": 11,
   "metadata": {},
   "outputs": [
    {
     "data": {
      "image/png": "[encoded data removed]",
      "text/plain": [
       "<Figure size 800x600 with 1 Axes>"
      ]
     },
     "metadata": {},
     "output_type": "display_data"
    }
   ],
   "source": [
    "plt.figure(figsize=(8, 6))\n",
    "sns.boxplot(y=df[target])\n",
    "plt.show()"
   ]
  },
  {
   "cell_type": "markdown",
   "metadata": {},
   "source": [
    "## Describe of Target"
   ]
  },
  {
   "cell_type": "code",
   "execution_count": 12,
   "metadata": {},
   "outputs": [
    {
     "data": {
      "text/plain": [
       "count   7571649.00\n",
       "mean        340.28\n",
       "std         183.04\n",
       "min         -15.31\n",
       "25%         317.60\n",
       "50%         386.60\n",
       "75%         438.21\n",
       "max        2200.96\n",
       "Name: Ewltp (g/km), dtype: float64"
      ]
     },
     "execution_count": 12,
     "metadata": {},
     "output_type": "execute_result"
    }
   ],
   "source": [
    "df[target].describe()"
   ]
  },
  {
   "cell_type": "markdown",
   "metadata": {},
   "source": [
    "## Outliers Analysis"
   ]
  },
  {
   "cell_type": "code",
   "execution_count": 13,
   "metadata": {},
   "outputs": [
    {
     "name": "stdout",
     "output_type": "stream",
     "text": [
      "On compte près de 510998 individus avec une WLTP inférieur à 0 ce qui est anormal\n"
     ]
    }
   ],
   "source": [
    "print(f\"On compte près de {df[df[target]<0].shape[0]} individus avec une WLTP inférieur à 0 ce qui est anormal\")"
   ]
  },
  {
   "cell_type": "code",
   "execution_count": 14,
   "metadata": {},
   "outputs": [],
   "source": [
    "df_avec_target_negative = df[df[target]<0]"
   ]
  },
  {
   "cell_type": "markdown",
   "metadata": {},
   "source": [
    "### Doublons purs"
   ]
  },
  {
   "cell_type": "code",
   "execution_count": 15,
   "metadata": {},
   "outputs": [
    {
     "name": "stdout",
     "output_type": "stream",
     "text": [
      " il y a 0 doublons purs\n"
     ]
    }
   ],
   "source": [
    "print(f\" il y a {df_avec_target_negative.duplicated().sum()} doublons purs\")\n"
   ]
  },
  {
   "cell_type": "markdown",
   "metadata": {},
   "source": [
    "### Doublons impurs\n",
    "Regarder la donnée à première vue."
   ]
  },
  {
   "cell_type": "code",
   "execution_count": 16,
   "metadata": {},
   "outputs": [
    {
     "data": {
      "text/html": [
       "<div>\n",
       "<style scoped>\n",
       "    .dataframe tbody tr th:only-of-type {\n",
       "        vertical-align: middle;\n",
       "    }\n",
       "\n",
       "    .dataframe tbody tr th {\n",
       "        vertical-align: top;\n",
       "    }\n",
       "\n",
       "    .dataframe thead th {\n",
       "        text-align: right;\n",
       "    }\n",
       "</style>\n",
       "<table border=\"1\" class=\"dataframe\">\n",
       "  <thead>\n",
       "    <tr style=\"text-align: right;\">\n",
       "      <th></th>\n",
       "      <th>ID</th>\n",
       "      <th>Country</th>\n",
       "      <th>VFN</th>\n",
       "      <th>Mp</th>\n",
       "      <th>Mh</th>\n",
       "      <th>Man</th>\n",
       "      <th>MMS</th>\n",
       "      <th>Tan</th>\n",
       "      <th>T</th>\n",
       "      <th>Va</th>\n",
       "      <th>Ve</th>\n",
       "      <th>Mk</th>\n",
       "      <th>Cn</th>\n",
       "      <th>Ct</th>\n",
       "      <th>Cr</th>\n",
       "      <th>r</th>\n",
       "      <th>m (kg)</th>\n",
       "      <th>Mt</th>\n",
       "      <th>Enedc (g/km)</th>\n",
       "      <th>Ewltp (g/km)</th>\n",
       "      <th>W (mm)</th>\n",
       "      <th>At1 (mm)</th>\n",
       "      <th>At2 (mm)</th>\n",
       "      <th>Ft</th>\n",
       "      <th>Fm</th>\n",
       "      <th>ec (cm3)</th>\n",
       "      <th>ep (KW)</th>\n",
       "      <th>z (Wh/km)</th>\n",
       "      <th>IT</th>\n",
       "      <th>Ernedc (g/km)</th>\n",
       "      <th>Erwltp (g/km)</th>\n",
       "      <th>De</th>\n",
       "      <th>Vf</th>\n",
       "      <th>Status</th>\n",
       "      <th>Date of registration</th>\n",
       "      <th>Fuel consumption</th>\n",
       "      <th>Electric range (km)</th>\n",
       "    </tr>\n",
       "  </thead>\n",
       "  <tbody>\n",
       "    <tr>\n",
       "      <th>17336</th>\n",
       "      <td>17336</td>\n",
       "      <td>DE</td>\n",
       "      <td>IP-2021_4023-W1K-1</td>\n",
       "      <td>MERCEDES-BENZ</td>\n",
       "      <td>MERCEDES-BENZ AG</td>\n",
       "      <td>MERCEDES-BENZ AG</td>\n",
       "      <td>NaN</td>\n",
       "      <td>e1*2018/858*00036*01</td>\n",
       "      <td>E2EQEW</td>\n",
       "      <td>51ECA0</td>\n",
       "      <td>ZZAM050B</td>\n",
       "      <td>MERCEDES-BENZ</td>\n",
       "      <td>EQE 350+</td>\n",
       "      <td>M1</td>\n",
       "      <td>M1</td>\n",
       "      <td>1</td>\n",
       "      <td>2355.00</td>\n",
       "      <td>2536.00</td>\n",
       "      <td>0.00</td>\n",
       "      <td>-2.68</td>\n",
       "      <td>3120.00</td>\n",
       "      <td>1634.00</td>\n",
       "      <td>1645.00</td>\n",
       "      <td>ELECTRIC</td>\n",
       "      <td>E</td>\n",
       "      <td>NaN</td>\n",
       "      <td>215.00</td>\n",
       "      <td>169.00</td>\n",
       "      <td>NaN</td>\n",
       "      <td>NaN</td>\n",
       "      <td>NaN</td>\n",
       "      <td>NaN</td>\n",
       "      <td>NaN</td>\n",
       "      <td>P</td>\n",
       "      <td>2022-06-03</td>\n",
       "      <td>NaN</td>\n",
       "      <td>NaN</td>\n",
       "    </tr>\n",
       "    <tr>\n",
       "      <th>17360</th>\n",
       "      <td>17360</td>\n",
       "      <td>DE</td>\n",
       "      <td>IP-2021_4023-W1K-1</td>\n",
       "      <td>MERCEDES-BENZ</td>\n",
       "      <td>MERCEDES-BENZ AG</td>\n",
       "      <td>MERCEDES-BENZ AG</td>\n",
       "      <td>NaN</td>\n",
       "      <td>e1*2018/858*00036*01</td>\n",
       "      <td>E2EQEW</td>\n",
       "      <td>51ECA0</td>\n",
       "      <td>ZZAM050B</td>\n",
       "      <td>MERCEDES-BENZ</td>\n",
       "      <td>EQE 350+</td>\n",
       "      <td>M1</td>\n",
       "      <td>M1</td>\n",
       "      <td>1</td>\n",
       "      <td>2355.00</td>\n",
       "      <td>2536.00</td>\n",
       "      <td>0.00</td>\n",
       "      <td>-0.36</td>\n",
       "      <td>3120.00</td>\n",
       "      <td>1634.00</td>\n",
       "      <td>1645.00</td>\n",
       "      <td>ELECTRIC</td>\n",
       "      <td>E</td>\n",
       "      <td>NaN</td>\n",
       "      <td>215.00</td>\n",
       "      <td>169.00</td>\n",
       "      <td>NaN</td>\n",
       "      <td>NaN</td>\n",
       "      <td>NaN</td>\n",
       "      <td>NaN</td>\n",
       "      <td>NaN</td>\n",
       "      <td>P</td>\n",
       "      <td>2022-05-30</td>\n",
       "      <td>NaN</td>\n",
       "      <td>NaN</td>\n",
       "    </tr>\n",
       "    <tr>\n",
       "      <th>17388</th>\n",
       "      <td>17388</td>\n",
       "      <td>DE</td>\n",
       "      <td>IP-2021_4023-W1K-1</td>\n",
       "      <td>MERCEDES-BENZ</td>\n",
       "      <td>MERCEDES-BENZ AG</td>\n",
       "      <td>MERCEDES-BENZ AG</td>\n",
       "      <td>NaN</td>\n",
       "      <td>e1*2018/858*00036*01</td>\n",
       "      <td>E2EQEW</td>\n",
       "      <td>51ECA0</td>\n",
       "      <td>ZZAA050B</td>\n",
       "      <td>MERCEDES-BENZ</td>\n",
       "      <td>EQE 350+</td>\n",
       "      <td>M1</td>\n",
       "      <td>M1</td>\n",
       "      <td>1</td>\n",
       "      <td>2355.00</td>\n",
       "      <td>2500.00</td>\n",
       "      <td>0.00</td>\n",
       "      <td>-1.81</td>\n",
       "      <td>3120.00</td>\n",
       "      <td>1634.00</td>\n",
       "      <td>1645.00</td>\n",
       "      <td>ELECTRIC</td>\n",
       "      <td>E</td>\n",
       "      <td>NaN</td>\n",
       "      <td>215.00</td>\n",
       "      <td>165.00</td>\n",
       "      <td>NaN</td>\n",
       "      <td>NaN</td>\n",
       "      <td>NaN</td>\n",
       "      <td>NaN</td>\n",
       "      <td>NaN</td>\n",
       "      <td>P</td>\n",
       "      <td>2022-05-23</td>\n",
       "      <td>NaN</td>\n",
       "      <td>NaN</td>\n",
       "    </tr>\n",
       "    <tr>\n",
       "      <th>17433</th>\n",
       "      <td>17433</td>\n",
       "      <td>DE</td>\n",
       "      <td>IP-2021_4023-W1K-1</td>\n",
       "      <td>MERCEDES-BENZ</td>\n",
       "      <td>MERCEDES-BENZ AG</td>\n",
       "      <td>MERCEDES-BENZ AG</td>\n",
       "      <td>NaN</td>\n",
       "      <td>e1*2018/858*00036*01</td>\n",
       "      <td>E2EQEW</td>\n",
       "      <td>51ECA0</td>\n",
       "      <td>ZZAL050B</td>\n",
       "      <td>MERCEDES-BENZ</td>\n",
       "      <td>EQE 350+</td>\n",
       "      <td>M1</td>\n",
       "      <td>M1</td>\n",
       "      <td>1</td>\n",
       "      <td>2355.00</td>\n",
       "      <td>2519.00</td>\n",
       "      <td>0.00</td>\n",
       "      <td>-0.87</td>\n",
       "      <td>3120.00</td>\n",
       "      <td>1634.00</td>\n",
       "      <td>1645.00</td>\n",
       "      <td>ELECTRIC</td>\n",
       "      <td>E</td>\n",
       "      <td>NaN</td>\n",
       "      <td>215.00</td>\n",
       "      <td>167.00</td>\n",
       "      <td>NaN</td>\n",
       "      <td>NaN</td>\n",
       "      <td>NaN</td>\n",
       "      <td>NaN</td>\n",
       "      <td>NaN</td>\n",
       "      <td>P</td>\n",
       "      <td>2022-06-28</td>\n",
       "      <td>NaN</td>\n",
       "      <td>NaN</td>\n",
       "    </tr>\n",
       "    <tr>\n",
       "      <th>17438</th>\n",
       "      <td>17438</td>\n",
       "      <td>DE</td>\n",
       "      <td>IP-2021_4023-W1K-1</td>\n",
       "      <td>MERCEDES-BENZ</td>\n",
       "      <td>MERCEDES-BENZ AG</td>\n",
       "      <td>MERCEDES-BENZ AG</td>\n",
       "      <td>NaN</td>\n",
       "      <td>e1*2018/858*00036*01</td>\n",
       "      <td>E2EQEW</td>\n",
       "      <td>51ECA0</td>\n",
       "      <td>ZZAL050B</td>\n",
       "      <td>MERCEDES-BENZ</td>\n",
       "      <td>EQE 350+</td>\n",
       "      <td>M1</td>\n",
       "      <td>M1</td>\n",
       "      <td>1</td>\n",
       "      <td>2355.00</td>\n",
       "      <td>2514.00</td>\n",
       "      <td>0.00</td>\n",
       "      <td>-4.09</td>\n",
       "      <td>3120.00</td>\n",
       "      <td>1634.00</td>\n",
       "      <td>1645.00</td>\n",
       "      <td>ELECTRIC</td>\n",
       "      <td>E</td>\n",
       "      <td>NaN</td>\n",
       "      <td>215.00</td>\n",
       "      <td>170.00</td>\n",
       "      <td>NaN</td>\n",
       "      <td>NaN</td>\n",
       "      <td>NaN</td>\n",
       "      <td>NaN</td>\n",
       "      <td>NaN</td>\n",
       "      <td>P</td>\n",
       "      <td>2022-05-16</td>\n",
       "      <td>NaN</td>\n",
       "      <td>NaN</td>\n",
       "    </tr>\n",
       "  </tbody>\n",
       "</table>\n",
       "</div>"
      ],
      "text/plain": [
       "          ID Country                 VFN             Mp                Mh  \\\n",
       "17336  17336      DE  IP-2021_4023-W1K-1  MERCEDES-BENZ  MERCEDES-BENZ AG   \n",
       "17360  17360      DE  IP-2021_4023-W1K-1  MERCEDES-BENZ  MERCEDES-BENZ AG   \n",
       "17388  17388      DE  IP-2021_4023-W1K-1  MERCEDES-BENZ  MERCEDES-BENZ AG   \n",
       "17433  17433      DE  IP-2021_4023-W1K-1  MERCEDES-BENZ  MERCEDES-BENZ AG   \n",
       "17438  17438      DE  IP-2021_4023-W1K-1  MERCEDES-BENZ  MERCEDES-BENZ AG   \n",
       "\n",
       "                    Man  MMS                   Tan       T      Va        Ve  \\\n",
       "17336  MERCEDES-BENZ AG  NaN  e1*2018/858*00036*01  E2EQEW  51ECA0  ZZAM050B   \n",
       "17360  MERCEDES-BENZ AG  NaN  e1*2018/858*00036*01  E2EQEW  51ECA0  ZZAM050B   \n",
       "17388  MERCEDES-BENZ AG  NaN  e1*2018/858*00036*01  E2EQEW  51ECA0  ZZAA050B   \n",
       "17433  MERCEDES-BENZ AG  NaN  e1*2018/858*00036*01  E2EQEW  51ECA0  ZZAL050B   \n",
       "17438  MERCEDES-BENZ AG  NaN  e1*2018/858*00036*01  E2EQEW  51ECA0  ZZAL050B   \n",
       "\n",
       "                  Mk        Cn  Ct  Cr  r  m (kg)      Mt  Enedc (g/km)  \\\n",
       "17336  MERCEDES-BENZ  EQE 350+  M1  M1  1 2355.00 2536.00          0.00   \n",
       "17360  MERCEDES-BENZ  EQE 350+  M1  M1  1 2355.00 2536.00          0.00   \n",
       "17388  MERCEDES-BENZ  EQE 350+  M1  M1  1 2355.00 2500.00          0.00   \n",
       "17433  MERCEDES-BENZ  EQE 350+  M1  M1  1 2355.00 2519.00          0.00   \n",
       "17438  MERCEDES-BENZ  EQE 350+  M1  M1  1 2355.00 2514.00          0.00   \n",
       "\n",
       "       Ewltp (g/km)  W (mm)  At1 (mm)  At2 (mm)        Ft Fm  ec (cm3)  \\\n",
       "17336         -2.68 3120.00   1634.00   1645.00  ELECTRIC  E       NaN   \n",
       "17360         -0.36 3120.00   1634.00   1645.00  ELECTRIC  E       NaN   \n",
       "17388         -1.81 3120.00   1634.00   1645.00  ELECTRIC  E       NaN   \n",
       "17433         -0.87 3120.00   1634.00   1645.00  ELECTRIC  E       NaN   \n",
       "17438         -4.09 3120.00   1634.00   1645.00  ELECTRIC  E       NaN   \n",
       "\n",
       "       ep (KW)  z (Wh/km)   IT  Ernedc (g/km)  Erwltp (g/km)  De  Vf Status  \\\n",
       "17336   215.00     169.00  NaN            NaN            NaN NaN NaN      P   \n",
       "17360   215.00     169.00  NaN            NaN            NaN NaN NaN      P   \n",
       "17388   215.00     165.00  NaN            NaN            NaN NaN NaN      P   \n",
       "17433   215.00     167.00  NaN            NaN            NaN NaN NaN      P   \n",
       "17438   215.00     170.00  NaN            NaN            NaN NaN NaN      P   \n",
       "\n",
       "      Date of registration  Fuel consumption   Electric range (km)  \n",
       "17336           2022-06-03                NaN                  NaN  \n",
       "17360           2022-05-30                NaN                  NaN  \n",
       "17388           2022-05-23                NaN                  NaN  \n",
       "17433           2022-06-28                NaN                  NaN  \n",
       "17438           2022-05-16                NaN                  NaN  "
      ]
     },
     "execution_count": 16,
     "metadata": {},
     "output_type": "execute_result"
    }
   ],
   "source": [
    "df_avec_target_negative.head()"
   ]
  },
  {
   "cell_type": "code",
   "execution_count": 17,
   "metadata": {},
   "outputs": [
    {
     "name": "stdout",
     "output_type": "stream",
     "text": [
      "Il y a 422232 individus qui présentent exactement les mêmes caractéristiques (hors colonne 'ID', target et Date of Registration).\n"
     ]
    }
   ],
   "source": [
    "selected_columns = [col for col in df_avec_target_negative.columns if col not in ['ID','Ewltp (g/km)','Date of registration']]\n",
    "\n",
    "duplicate_count = df_avec_target_negative.duplicated(subset=selected_columns).sum()\n",
    "\n",
    "print(f\"Il y a {duplicate_count} individus qui présentent exactement les mêmes caractéristiques (hors colonne 'ID', target et Date of Registration).\")\n"
   ]
  },
  {
   "cell_type": "markdown",
   "metadata": {},
   "source": [
    "# Analyse par variable des régresseurs\n",
    "## Mp - Manufacturer Pooling\n",
    "\n",
    "D'après GPT\n",
    "\n",
    "le \"Manufacturer Pooling\" est une stratégie qui permet aux constructeurs automobiles de travailler ensemble pour respecter les réglementations sur les émissions de CO2 en combinant leurs émissions et en partageant les avantages liés à la conformité."
   ]
  },
  {
   "cell_type": "code",
   "execution_count": 18,
   "metadata": {},
   "outputs": [
    {
     "data": {
      "text/plain": [
       "['FORD',\n",
       " 'VOLKSWAGEN',\n",
       " 'KIA',\n",
       " 'MERCEDES-BENZ',\n",
       " 'RENAULT-NISSAN-MITSUBISHI',\n",
       " 'STELLANTIS',\n",
       " 'MAZDA-SUBARU-SUZUKI-TOYOTA',\n",
       " 'TESLA-HONDA-JLR',\n",
       " nan,\n",
       " 'BMW',\n",
       " 'HYUNDAI MOTOR EUROPE']"
      ]
     },
     "execution_count": 18,
     "metadata": {},
     "output_type": "execute_result"
    }
   ],
   "source": [
    "valeurs_uniques['Mp']"
   ]
  },
  {
   "cell_type": "code",
   "execution_count": 19,
   "metadata": {},
   "outputs": [
    {
     "data": {
      "text/html": [
       "<div>\n",
       "<style scoped>\n",
       "    .dataframe tbody tr th:only-of-type {\n",
       "        vertical-align: middle;\n",
       "    }\n",
       "\n",
       "    .dataframe tbody tr th {\n",
       "        vertical-align: top;\n",
       "    }\n",
       "\n",
       "    .dataframe thead th {\n",
       "        text-align: right;\n",
       "    }\n",
       "</style>\n",
       "<table border=\"1\" class=\"dataframe\">\n",
       "  <thead>\n",
       "    <tr style=\"text-align: right;\">\n",
       "      <th></th>\n",
       "      <th>ID</th>\n",
       "      <th>Country</th>\n",
       "      <th>VFN</th>\n",
       "      <th>Mp</th>\n",
       "      <th>Mh</th>\n",
       "      <th>Man</th>\n",
       "      <th>MMS</th>\n",
       "      <th>Tan</th>\n",
       "      <th>T</th>\n",
       "      <th>Va</th>\n",
       "      <th>Ve</th>\n",
       "      <th>Mk</th>\n",
       "      <th>Cn</th>\n",
       "      <th>Ct</th>\n",
       "      <th>Cr</th>\n",
       "      <th>r</th>\n",
       "      <th>m (kg)</th>\n",
       "      <th>Mt</th>\n",
       "      <th>Enedc (g/km)</th>\n",
       "      <th>Ewltp (g/km)</th>\n",
       "      <th>W (mm)</th>\n",
       "      <th>At1 (mm)</th>\n",
       "      <th>At2 (mm)</th>\n",
       "      <th>Ft</th>\n",
       "      <th>Fm</th>\n",
       "      <th>ec (cm3)</th>\n",
       "      <th>ep (KW)</th>\n",
       "      <th>z (Wh/km)</th>\n",
       "      <th>IT</th>\n",
       "      <th>Ernedc (g/km)</th>\n",
       "      <th>Erwltp (g/km)</th>\n",
       "      <th>De</th>\n",
       "      <th>Vf</th>\n",
       "      <th>Status</th>\n",
       "      <th>Date of registration</th>\n",
       "      <th>Fuel consumption</th>\n",
       "      <th>Electric range (km)</th>\n",
       "    </tr>\n",
       "  </thead>\n",
       "  <tbody>\n",
       "    <tr>\n",
       "      <th>894</th>\n",
       "      <td>894</td>\n",
       "      <td>CZ</td>\n",
       "      <td>IP-0153-JT1-1</td>\n",
       "      <td>NaN</td>\n",
       "      <td>TOYOTA MOTOR CORPORATION</td>\n",
       "      <td>TOYOTA MOTOR CORPORATION</td>\n",
       "      <td>NaN</td>\n",
       "      <td>e6*2018/858*00013*00</td>\n",
       "      <td>XPB1F(M)</td>\n",
       "      <td>MXPJ10(H)</td>\n",
       "      <td>MXPJ10L-BHXGBW(1A)</td>\n",
       "      <td>TOYOTA</td>\n",
       "      <td>YARIS CROSS</td>\n",
       "      <td>M1</td>\n",
       "      <td>M1</td>\n",
       "      <td>1</td>\n",
       "      <td>1290.00</td>\n",
       "      <td>1391.00</td>\n",
       "      <td>NaN</td>\n",
       "      <td>351.48</td>\n",
       "      <td>2560.00</td>\n",
       "      <td>NaN</td>\n",
       "      <td>NaN</td>\n",
       "      <td>PETROL</td>\n",
       "      <td>H</td>\n",
       "      <td>1490.00</td>\n",
       "      <td>68.00</td>\n",
       "      <td>NaN</td>\n",
       "      <td>e6 37</td>\n",
       "      <td>NaN</td>\n",
       "      <td>0.70</td>\n",
       "      <td>NaN</td>\n",
       "      <td>NaN</td>\n",
       "      <td>P</td>\n",
       "      <td>2022-01-05</td>\n",
       "      <td>5.00</td>\n",
       "      <td>NaN</td>\n",
       "    </tr>\n",
       "    <tr>\n",
       "      <th>898</th>\n",
       "      <td>898</td>\n",
       "      <td>CZ</td>\n",
       "      <td>IP-0153-JT1-1</td>\n",
       "      <td>NaN</td>\n",
       "      <td>TOYOTA MOTOR CORPORATION</td>\n",
       "      <td>TOYOTA MOTOR CORPORATION</td>\n",
       "      <td>NaN</td>\n",
       "      <td>e6*2018/858*00013*00</td>\n",
       "      <td>XPB1F(M)</td>\n",
       "      <td>MXPJ10(H)</td>\n",
       "      <td>MXPJ10L-BHXGBW(1A)</td>\n",
       "      <td>TOYOTA</td>\n",
       "      <td>YARIS CROSS</td>\n",
       "      <td>M1</td>\n",
       "      <td>M1</td>\n",
       "      <td>1</td>\n",
       "      <td>1290.00</td>\n",
       "      <td>1402.00</td>\n",
       "      <td>NaN</td>\n",
       "      <td>350.09</td>\n",
       "      <td>2560.00</td>\n",
       "      <td>NaN</td>\n",
       "      <td>NaN</td>\n",
       "      <td>PETROL</td>\n",
       "      <td>H</td>\n",
       "      <td>1490.00</td>\n",
       "      <td>68.00</td>\n",
       "      <td>NaN</td>\n",
       "      <td>e6 37</td>\n",
       "      <td>NaN</td>\n",
       "      <td>0.70</td>\n",
       "      <td>NaN</td>\n",
       "      <td>NaN</td>\n",
       "      <td>P</td>\n",
       "      <td>2022-01-26</td>\n",
       "      <td>5.00</td>\n",
       "      <td>NaN</td>\n",
       "    </tr>\n",
       "    <tr>\n",
       "      <th>899</th>\n",
       "      <td>899</td>\n",
       "      <td>CZ</td>\n",
       "      <td>IP-0153-JT1-1</td>\n",
       "      <td>NaN</td>\n",
       "      <td>TOYOTA MOTOR CORPORATION</td>\n",
       "      <td>TOYOTA MOTOR CORPORATION</td>\n",
       "      <td>NaN</td>\n",
       "      <td>e6*2018/858*00013*00</td>\n",
       "      <td>XPB1F(M)</td>\n",
       "      <td>MXPJ10(H)</td>\n",
       "      <td>MXPJ10L-BHXGBW(1A)</td>\n",
       "      <td>TOYOTA</td>\n",
       "      <td>YARIS CROSS</td>\n",
       "      <td>M1</td>\n",
       "      <td>M1</td>\n",
       "      <td>1</td>\n",
       "      <td>1290.00</td>\n",
       "      <td>1391.00</td>\n",
       "      <td>NaN</td>\n",
       "      <td>350.00</td>\n",
       "      <td>2560.00</td>\n",
       "      <td>NaN</td>\n",
       "      <td>NaN</td>\n",
       "      <td>PETROL</td>\n",
       "      <td>H</td>\n",
       "      <td>1490.00</td>\n",
       "      <td>68.00</td>\n",
       "      <td>NaN</td>\n",
       "      <td>e6 37</td>\n",
       "      <td>NaN</td>\n",
       "      <td>0.70</td>\n",
       "      <td>NaN</td>\n",
       "      <td>NaN</td>\n",
       "      <td>P</td>\n",
       "      <td>2022-02-02</td>\n",
       "      <td>5.00</td>\n",
       "      <td>NaN</td>\n",
       "    </tr>\n",
       "    <tr>\n",
       "      <th>900</th>\n",
       "      <td>900</td>\n",
       "      <td>CZ</td>\n",
       "      <td>IP-0153-JT1-1</td>\n",
       "      <td>NaN</td>\n",
       "      <td>TOYOTA MOTOR CORPORATION</td>\n",
       "      <td>TOYOTA MOTOR CORPORATION</td>\n",
       "      <td>NaN</td>\n",
       "      <td>e6*2018/858*00013*00</td>\n",
       "      <td>XPB1F(M)</td>\n",
       "      <td>MXPJ10(H)</td>\n",
       "      <td>MXPJ10L-BHXGBW(1A)</td>\n",
       "      <td>TOYOTA</td>\n",
       "      <td>YARIS CROSS</td>\n",
       "      <td>M1</td>\n",
       "      <td>M1</td>\n",
       "      <td>1</td>\n",
       "      <td>1290.00</td>\n",
       "      <td>1402.00</td>\n",
       "      <td>NaN</td>\n",
       "      <td>353.38</td>\n",
       "      <td>2560.00</td>\n",
       "      <td>NaN</td>\n",
       "      <td>NaN</td>\n",
       "      <td>PETROL</td>\n",
       "      <td>H</td>\n",
       "      <td>1490.00</td>\n",
       "      <td>68.00</td>\n",
       "      <td>NaN</td>\n",
       "      <td>e6 37</td>\n",
       "      <td>NaN</td>\n",
       "      <td>0.70</td>\n",
       "      <td>NaN</td>\n",
       "      <td>NaN</td>\n",
       "      <td>P</td>\n",
       "      <td>2022-01-31</td>\n",
       "      <td>5.00</td>\n",
       "      <td>NaN</td>\n",
       "    </tr>\n",
       "    <tr>\n",
       "      <th>902</th>\n",
       "      <td>902</td>\n",
       "      <td>CZ</td>\n",
       "      <td>IP-0153-JT1-1</td>\n",
       "      <td>NaN</td>\n",
       "      <td>TOYOTA MOTOR CORPORATION</td>\n",
       "      <td>TOYOTA MOTOR CORPORATION</td>\n",
       "      <td>NaN</td>\n",
       "      <td>e6*2018/858*00013*00</td>\n",
       "      <td>XPB1F(M)</td>\n",
       "      <td>MXPJ10(H)</td>\n",
       "      <td>MXPJ10L-BHXGBW(1A)</td>\n",
       "      <td>TOYOTA</td>\n",
       "      <td>YARIS CROSS</td>\n",
       "      <td>M1</td>\n",
       "      <td>M1</td>\n",
       "      <td>1</td>\n",
       "      <td>1290.00</td>\n",
       "      <td>1391.00</td>\n",
       "      <td>NaN</td>\n",
       "      <td>344.73</td>\n",
       "      <td>2560.00</td>\n",
       "      <td>NaN</td>\n",
       "      <td>NaN</td>\n",
       "      <td>PETROL</td>\n",
       "      <td>H</td>\n",
       "      <td>1490.00</td>\n",
       "      <td>68.00</td>\n",
       "      <td>NaN</td>\n",
       "      <td>e6 37</td>\n",
       "      <td>NaN</td>\n",
       "      <td>0.70</td>\n",
       "      <td>NaN</td>\n",
       "      <td>NaN</td>\n",
       "      <td>P</td>\n",
       "      <td>2022-03-23</td>\n",
       "      <td>5.00</td>\n",
       "      <td>NaN</td>\n",
       "    </tr>\n",
       "  </tbody>\n",
       "</table>\n",
       "</div>"
      ],
      "text/plain": [
       "      ID Country            VFN   Mp                        Mh  \\\n",
       "894  894      CZ  IP-0153-JT1-1  NaN  TOYOTA MOTOR CORPORATION   \n",
       "898  898      CZ  IP-0153-JT1-1  NaN  TOYOTA MOTOR CORPORATION   \n",
       "899  899      CZ  IP-0153-JT1-1  NaN  TOYOTA MOTOR CORPORATION   \n",
       "900  900      CZ  IP-0153-JT1-1  NaN  TOYOTA MOTOR CORPORATION   \n",
       "902  902      CZ  IP-0153-JT1-1  NaN  TOYOTA MOTOR CORPORATION   \n",
       "\n",
       "                          Man  MMS                   Tan         T         Va  \\\n",
       "894  TOYOTA MOTOR CORPORATION  NaN  e6*2018/858*00013*00  XPB1F(M)  MXPJ10(H)   \n",
       "898  TOYOTA MOTOR CORPORATION  NaN  e6*2018/858*00013*00  XPB1F(M)  MXPJ10(H)   \n",
       "899  TOYOTA MOTOR CORPORATION  NaN  e6*2018/858*00013*00  XPB1F(M)  MXPJ10(H)   \n",
       "900  TOYOTA MOTOR CORPORATION  NaN  e6*2018/858*00013*00  XPB1F(M)  MXPJ10(H)   \n",
       "902  TOYOTA MOTOR CORPORATION  NaN  e6*2018/858*00013*00  XPB1F(M)  MXPJ10(H)   \n",
       "\n",
       "                     Ve      Mk           Cn  Ct  Cr  r  m (kg)      Mt  \\\n",
       "894  MXPJ10L-BHXGBW(1A)  TOYOTA  YARIS CROSS  M1  M1  1 1290.00 1391.00   \n",
       "898  MXPJ10L-BHXGBW(1A)  TOYOTA  YARIS CROSS  M1  M1  1 1290.00 1402.00   \n",
       "899  MXPJ10L-BHXGBW(1A)  TOYOTA  YARIS CROSS  M1  M1  1 1290.00 1391.00   \n",
       "900  MXPJ10L-BHXGBW(1A)  TOYOTA  YARIS CROSS  M1  M1  1 1290.00 1402.00   \n",
       "902  MXPJ10L-BHXGBW(1A)  TOYOTA  YARIS CROSS  M1  M1  1 1290.00 1391.00   \n",
       "\n",
       "     Enedc (g/km)  Ewltp (g/km)  W (mm)  At1 (mm)  At2 (mm)      Ft Fm  \\\n",
       "894           NaN        351.48 2560.00       NaN       NaN  PETROL  H   \n",
       "898           NaN        350.09 2560.00       NaN       NaN  PETROL  H   \n",
       "899           NaN        350.00 2560.00       NaN       NaN  PETROL  H   \n",
       "900           NaN        353.38 2560.00       NaN       NaN  PETROL  H   \n",
       "902           NaN        344.73 2560.00       NaN       NaN  PETROL  H   \n",
       "\n",
       "     ec (cm3)  ep (KW)  z (Wh/km)     IT  Ernedc (g/km)  Erwltp (g/km)  De  \\\n",
       "894   1490.00    68.00        NaN  e6 37            NaN           0.70 NaN   \n",
       "898   1490.00    68.00        NaN  e6 37            NaN           0.70 NaN   \n",
       "899   1490.00    68.00        NaN  e6 37            NaN           0.70 NaN   \n",
       "900   1490.00    68.00        NaN  e6 37            NaN           0.70 NaN   \n",
       "902   1490.00    68.00        NaN  e6 37            NaN           0.70 NaN   \n",
       "\n",
       "     Vf Status Date of registration  Fuel consumption   Electric range (km)  \n",
       "894 NaN      P           2022-01-05               5.00                  NaN  \n",
       "898 NaN      P           2022-01-26               5.00                  NaN  \n",
       "899 NaN      P           2022-02-02               5.00                  NaN  \n",
       "900 NaN      P           2022-01-31               5.00                  NaN  \n",
       "902 NaN      P           2022-03-23               5.00                  NaN  "
      ]
     },
     "execution_count": 19,
     "metadata": {},
     "output_type": "execute_result"
    }
   ],
   "source": [
    "df[df['Mp'].isna()].head()"
   ]
  },
  {
   "cell_type": "markdown",
   "metadata": {},
   "source": [
    "**Comment s'occupe-t-on des valeurs manquantes ?**\n",
    "\n",
    "On voit que les NaN sont récupérables pour certains avec la colonne `Mh` ou encore `Man`. En fait je sais pas trop, parce qu'il est aussi possible que ça soit déclaré NaN parce que justement il n'apparait pas dedans...\n",
    "\n",
    "Ex de récupération possible: pour ID 894 on peut voir que Mh= Toyota donc sûrement que Mp = 'MAZDA-SUBARU-SUZUKI-TOYOTA'"
   ]
  },
  {
   "cell_type": "code",
   "execution_count": 20,
   "metadata": {},
   "outputs": [
    {
     "name": "stdout",
     "output_type": "stream",
     "text": [
      "On compte 485564 valeurs manquantes pour 'Mp' \n"
     ]
    }
   ],
   "source": [
    "print(f\"On compte {df['Mp'].isna().sum()} valeurs manquantes pour 'Mp' \")"
   ]
  },
  {
   "cell_type": "markdown",
   "metadata": {},
   "source": [
    "## VFN - Vehicle family identification number\n",
    "\n",
    "D'après ce que j'ai compris c'est un espèce de code d'indentification et de suivi en interne pour les voitures. On peut y trouver comme info: fabricant, le modèle, l'année de fabrication, le pays d'origine, le type de moteur, etc.\n",
    "\n",
    "Le problème c'est qe je ne vois aps comment on décode ça, puisque généralement c'est interne ou alors propre à chaque marque ? Faudrait creuser mais il est possible que ça puisse nous aider à remplir les NaN qu'on possède\n",
    "\n",
    "**mon avis**: aucune idée de quoi faire de cette variable, pour l'instant j'en vois pas l'utilité surtout qu'il faut savoir décoder à quoi correspond les codes mdr"
   ]
  },
  {
   "cell_type": "code",
   "execution_count": 21,
   "metadata": {},
   "outputs": [
    {
     "data": {
      "text/plain": [
       "8456"
      ]
     },
     "execution_count": 21,
     "metadata": {},
     "output_type": "execute_result"
    }
   ],
   "source": [
    "nombre_val_unique['VFN']"
   ]
  },
  {
   "cell_type": "code",
   "execution_count": 22,
   "metadata": {},
   "outputs": [
    {
     "data": {
      "text/plain": [
       "['IP-C519_2022_00008-WF0-1',\n",
       " 'IP-MQB27ZZ_A2_0529-WVW-1',\n",
       " 'IP-MQB27ZZ_A1_0533-WVW-1',\n",
       " 'IP-04-U5Y-2018-1137',\n",
       " 'IP-MQB27ZZ_B2_0534-WVW-1',\n",
       " 'IP-MQB27ZZ_A0_1019-TMB-1',\n",
       " 'IP-2021_0416-W1K-1',\n",
       " 'IP-2021_0421-W1K-1',\n",
       " 'IP-2021_0422-W1K-1',\n",
       " 'IP-MQB27ZZ_A0_1005-TMB-1']"
      ]
     },
     "execution_count": 22,
     "metadata": {},
     "output_type": "execute_result"
    }
   ],
   "source": [
    "valeurs_uniques['VFN'][:10]"
   ]
  },
  {
   "cell_type": "code",
   "execution_count": 23,
   "metadata": {},
   "outputs": [
    {
     "data": {
      "text/plain": [
       "(652232, 37)"
      ]
     },
     "execution_count": 23,
     "metadata": {},
     "output_type": "execute_result"
    }
   ],
   "source": [
    "df[df['VFN'].isna()].shape"
   ]
  },
  {
   "cell_type": "markdown",
   "metadata": {},
   "source": [
    "## Mh -Manufacturer name EU standard denomination\n",
    "D'après GPT\n",
    "\n",
    "L'utilisation de cette désignation normalisée aide à garantir la clarté et la cohérence dans la documentation et les réglementations relatives aux véhicules automobiles au sein de l'UE, où de nombreuses marques et fabricants opèrent sur un marché unique.\n",
    "\n",
    "Chaque fabricant a son propre code \"Mh\" attribué, de sorte que ces codes sont spécifiques à chaque entreprise et permettent une identification précise des fabricants de véhicules.\n",
    "\n",
    "**Mon avis**: On garde, 0 NaN, et peut nous aider dans les var catégorielles. A voir ce qu'on en fait plus tard."
   ]
  },
  {
   "cell_type": "code",
   "execution_count": 24,
   "metadata": {},
   "outputs": [
    {
     "data": {
      "text/plain": [
       "95"
      ]
     },
     "execution_count": 24,
     "metadata": {},
     "output_type": "execute_result"
    }
   ],
   "source": [
    "nombre_val_unique['Mh']"
   ]
  },
  {
   "cell_type": "code",
   "execution_count": 25,
   "metadata": {},
   "outputs": [
    {
     "data": {
      "text/plain": [
       "['FORD WERKE GMBH',\n",
       " 'VOLKSWAGEN',\n",
       " 'KIA SLOVAKIA',\n",
       " 'SKODA',\n",
       " 'MERCEDES-BENZ AG',\n",
       " 'NISSAN AUTOMOTIVE EUROPE',\n",
       " 'PORSCHE',\n",
       " 'FIAT GROUP',\n",
       " 'TOYOTA',\n",
       " 'AUDI AG']"
      ]
     },
     "execution_count": 25,
     "metadata": {},
     "output_type": "execute_result"
    }
   ],
   "source": [
    "valeurs_uniques['Mh'][:10]"
   ]
  },
  {
   "cell_type": "code",
   "execution_count": 26,
   "metadata": {},
   "outputs": [
    {
     "data": {
      "text/plain": [
       "(0, 37)"
      ]
     },
     "execution_count": 26,
     "metadata": {},
     "output_type": "execute_result"
    }
   ],
   "source": [
    "df[df['Mh'].isna()].shape"
   ]
  },
  {
   "cell_type": "markdown",
   "metadata": {},
   "source": [
    "## Man - Manufacturer name OEM declaration\n",
    "\n",
    "Pareil 0 Nan on peut garder à mon avis, à voir ce qu'on en fait évidemment."
   ]
  },
  {
   "cell_type": "code",
   "execution_count": 27,
   "metadata": {},
   "outputs": [
    {
     "name": "stdout",
     "output_type": "stream",
     "text": [
      "On compte 104 valeurs uniques et 0 NaN, quelques exemples de valeurs de Man:\n",
      "\n",
      "['FORD WERKE GMBH', 'VOLKSWAGEN AG', 'KIA SLOVAKIA SRO', 'SKODA AUTO AS', 'MERCEDES-BENZ AG']\n"
     ]
    }
   ],
   "source": [
    "print(f\"On compte {nombre_val_unique['Man']} valeurs uniques et {df[df['Man'].isna()].shape[0]} NaN, quelques exemples de valeurs de Man:\\n\\n{valeurs_uniques['Man'][:5]}\")"
   ]
  },
  {
   "cell_type": "markdown",
   "metadata": {},
   "source": [
    "## TAN - Type approval number\n",
    "D'après GPT\n",
    "\n",
    "Le \"Type Approval Number\" est un numéro attribué à un produit, généralement dans le domaine de l'automobile, pour indiquer qu'il est conforme aux réglementations et normes spécifiques. Cela garantit sa qualité et sa sécurité pour une utilisation conforme aux normes établies.\n",
    "\n",
    "l'absence d'un TAN (Type Approval Number) sur un véhicule peut indiquer qu'il n'est pas homologué ou qu'il ne répond pas aux normes réglementaires requises pour être utilisé sur la route. Le TAN est un identifiant qui atteste que le véhicule a été soumis aux tests, vérifications et certifications nécessaires pour garantir sa conformité aux normes de sécurité et d'émissions.\n",
    "\n",
    "Cependant, il est essentiel de noter que la réglementation peut varier d'un pays à l'autre, et dans certains cas, il peut y avoir des exemptions ou des situations particulières où un véhicule spécifique n'a pas besoin d'un TAN pour être utilisé légalement\n",
    "\n",
    "**mon avis**: peut-être que les TAN manquant (valeur = NaN) signifient que les véhicules ne sont pas homologués (ils n'ont pas passé les test de conformité). On pourrait peut être aussi créer une colonne \"conforme aux normes\" avec 0 si non conforme et 1 si conforme (c'est juste une idée)"
   ]
  },
  {
   "cell_type": "code",
   "execution_count": 28,
   "metadata": {},
   "outputs": [
    {
     "name": "stdout",
     "output_type": "stream",
     "text": [
      "On compte 6318 valeurs uniques et 12401 NaN, quelques exemples de valeurs de Tan:\n",
      "\n",
      "['e13*2007/46*1911*15', 'e1*2007/46*1783*29', 'e4*2007/46*1299*18', 'e8*2018/858*00014*01', 'e1*2007/46*1912*18']\n"
     ]
    }
   ],
   "source": [
    "print(f\"On compte {nombre_val_unique['Tan']} valeurs uniques et {df[df['Tan'].isna()].shape[0]} NaN, quelques exemples de valeurs de Tan:\\n\\n{valeurs_uniques['Tan'][:5]}\")"
   ]
  },
  {
   "cell_type": "markdown",
   "metadata": {},
   "source": [
    "## T - Type\n",
    "GPT\n",
    "\n",
    "Le Type T (ou \"Type de modèle\") est une classification qui permet d'identifier différents modèles de voitures au sein d'une même marque ou d'un même constructeur. Ces codes permettent aux constructeurs automobiles et aux autorités de suivre et d'identifier clairement chaque modèle de voiture.\n",
    "\n",
    "Pour connaître la signification d'un code de Type T spécifique, vous devrez généralement consulter les documents officiels du constructeur, tels que les manuels du propriétaire, les sites Web du constructeur, les informations sur les véhicules spécifiques ou contacter directement le service client du constructeur"
   ]
  },
  {
   "cell_type": "code",
   "execution_count": 29,
   "metadata": {},
   "outputs": [
    {
     "name": "stdout",
     "output_type": "stream",
     "text": [
      "On compte 1506 valeurs uniques et 1399 NaN, quelques exemples de valeurs de T:\n",
      "\n",
      "['DEH', 'AW', 'CD', 'PJ', 'F2CLA']\n"
     ]
    }
   ],
   "source": [
    "print(f\"On compte {nombre_val_unique['T']} valeurs uniques et {df[df['T'].isna()].shape[0]} NaN, quelques exemples de valeurs de T:\\n\\n{valeurs_uniques['T'][:5]}\")"
   ]
  },
  {
   "cell_type": "markdown",
   "metadata": {},
   "source": [
    "## Va - Variant\n",
    "\n",
    "Le code \"Va - Variant\" pour une voiture se réfère généralement à une variante ou une version spécifique d'un modèle de véhicule. Par exemple, un modèle de base peut avoir plusieurs variantes telles qu'une version de base, une version haut de gamme avec des équipements supplémentaires, une version sportive avec un moteur plus puissant, etc. "
   ]
  },
  {
   "cell_type": "code",
   "execution_count": 30,
   "metadata": {},
   "outputs": [
    {
     "name": "stdout",
     "output_type": "stream",
     "text": [
      "On compte 5413 valeurs uniques et 11740 NaN, quelques exemples de valeurs de Va:\n",
      "\n",
      "['R0DB1NX', 'ABDLAC', 'BAP71', 'ABDLAA', 'ABDLACX0']\n"
     ]
    }
   ],
   "source": [
    "print(f\"On compte {nombre_val_unique['Va']} valeurs uniques et {df[df['Va'].isna()].shape[0]} NaN, quelques exemples de valeurs de Va:\\n\\n{valeurs_uniques['Va'][:5]}\")"
   ]
  },
  {
   "cell_type": "markdown",
   "metadata": {},
   "source": [
    "## Ve - Version\n",
    "\n",
    "Le code \"Ve - Version\" pour une voiture se réfère généralement à la version spécifique ou à la configuration particulière d'un modèle de véhicule. Les codes de version permettent de catégoriser et d'identifier les différentes versions d'un modèle dans les systèmes de gestion des véhicules. Par exemple, un constructeur automobile peut utiliser un code \"Ve\" pour indiquer une version de base, tandis qu'un autre code \"Ve\" peut être associé à une version haut de gamme avec des caractéristiques supplémentaires."
   ]
  },
  {
   "cell_type": "code",
   "execution_count": 31,
   "metadata": {},
   "outputs": [
    {
     "name": "stdout",
     "output_type": "stream",
     "text": [
      "On compte 25570 valeurs uniques et 32077 NaN, quelques exemples de valeurs de Ve:\n",
      "\n",
      "['5BSCENA5JBS', 'FM5FM5DF008N3VR24BI1CA0I', 'FD7FD7CW005N2VR24BI1AA0I', 'D73F12', 'FD7FD7CW005N2VR24BI1CB0I']\n"
     ]
    }
   ],
   "source": [
    "print(f\"On compte {nombre_val_unique['Ve']} valeurs uniques et {df[df['Ve'].isna()].shape[0]} NaN, quelques exemples de valeurs de Ve:\\n\\n{valeurs_uniques['Ve'][:5]}\")"
   ]
  },
  {
   "cell_type": "markdown",
   "metadata": {},
   "source": [
    "## Mk - Make\n",
    "\n",
    "Make fait référence au fabricant ou au constructeur de la voiture. C'est essentiellement le nom de la marque qui produit le véhicule.\n",
    "\n",
    "A voir ce qu'on en fait c'est une variable catégorielle"
   ]
  },
  {
   "cell_type": "code",
   "execution_count": 32,
   "metadata": {},
   "outputs": [
    {
     "name": "stdout",
     "output_type": "stream",
     "text": [
      "On compte 694 valeurs uniques et 212 NaN, quelques exemples de valeurs de Mk:\n",
      "\n",
      "['FORD', 'VOLKSWAGEN', 'KIA', 'SKODA', 'MERCEDES-BENZ']\n"
     ]
    }
   ],
   "source": [
    "print(f\"On compte {nombre_val_unique['Mk']} valeurs uniques et {df[df['Mk'].isna()].shape[0]} NaN, quelques exemples de valeurs de Mk:\\n\\n{valeurs_uniques['Mk'][:5]}\")"
   ]
  },
  {
   "cell_type": "markdown",
   "metadata": {},
   "source": [
    "## Cn - Commercial name"
   ]
  },
  {
   "cell_type": "code",
   "execution_count": 33,
   "metadata": {},
   "outputs": [
    {
     "name": "stdout",
     "output_type": "stream",
     "text": [
      "On compte 8323 valeurs uniques et 115232 NaN, quelques exemples de valeurs de Cn:\n",
      "\n",
      "['FOCUS', 'POLO', 'PROCEED', 'FABIA', 'CLA 250 E']\n"
     ]
    }
   ],
   "source": [
    "print(f\"On compte {nombre_val_unique['Cn']} valeurs uniques et {df[df['Cn'].isna()].shape[0]} NaN, quelques exemples de valeurs de Cn:\\n\\n{valeurs_uniques['Cn'][:5]}\")"
   ]
  },
  {
   "cell_type": "markdown",
   "metadata": {},
   "source": [
    "## Ct - Category of the vehicle type approved\n",
    "\n",
    "Ct fait référence à la catégorie dans laquelle un type de véhicule particulier a été homologué ou certifié pour être conforme aux normes réglementaires spécifiques. Par exemple, un code \"Ct\" indiquant \"Passenger Car\" (voiture particulière) signifie que le véhicule est homologué en tant que voiture particulière, tandis qu'un code \"Ct\" indiquant \"Light Commercial Vehicle\" (véhicule utilitaire léger) indiquerait que le véhicule est homologué en tant que tel. Cela peut influencer diverses réglementations et taxes qui s'appliquent aux véhicules en fonction de leur catégorie.\n",
    "\n",
    "**mon avis**: On pourrait en faire une variable encodée facilement\n",
    "\n",
    "selon les réglementations de l'Union européenne. Voici quelques exemples de ces codes :\n",
    "\n",
    "- M1 : Voiture particulière.\n",
    "- M1G : Voiture particulière écologique.\n",
    "- M2 : Véhicule de transport de personnes avec plus de 8 places assises.\n",
    "- M2G : Véhicule de transport de personnes avec plus de 8 places assises, écologique.\n",
    "- M3 : Véhicule de transport de personnes avec plus de 8 places assises.\n",
    "- N1 : Véhicule utilitaire léger (camionnette).\n",
    "- N1G : Véhicule utilitaire léger (camionnette) écologique.\n",
    "- N2 : Véhicule utilitaire.\n",
    "- N2G : Véhicule utilitaire écologique.\n",
    "- N3 : Véhicule utilitaire.\n",
    "- L : Deux-roues à moteur.\n",
    "- L3e : Deux-roues à moteur, catégorie 3 roues.\n",
    "- L4e : Deux-roues à moteur, catégorie 4 roues.\n",
    "- L5e : Deux-roues à moteur, catégorie 5 roues.\n",
    "- L7e : Deux-roues à moteur, catégorie 7 roues.\n",
    "- L9e : Deux-roues à moteur, catégorie 9 roues.\n",
    "- L2e : Deux-roues à moteur électriques."
   ]
  },
  {
   "cell_type": "code",
   "execution_count": 34,
   "metadata": {},
   "outputs": [
    {
     "name": "stdout",
     "output_type": "stream",
     "text": [
      "On compte 5 valeurs uniques et 11829 NaN, quelques exemples de valeurs de Ct:\n",
      "\n",
      "['M1', 'M1G', 'N1', nan, 'N2']\n"
     ]
    }
   ],
   "source": [
    "print(f\"On compte {nombre_val_unique['Ct']} valeurs uniques et {df[df['Ct'].isna()].shape[0]} NaN, quelques exemples de valeurs de Ct:\\n\\n{valeurs_uniques['Ct'][:5]}\")"
   ]
  },
  {
   "cell_type": "code",
   "execution_count": 35,
   "metadata": {},
   "outputs": [
    {
     "data": {
      "text/html": [
       "<div>\n",
       "<style scoped>\n",
       "    .dataframe tbody tr th:only-of-type {\n",
       "        vertical-align: middle;\n",
       "    }\n",
       "\n",
       "    .dataframe tbody tr th {\n",
       "        vertical-align: top;\n",
       "    }\n",
       "\n",
       "    .dataframe thead th {\n",
       "        text-align: right;\n",
       "    }\n",
       "</style>\n",
       "<table border=\"1\" class=\"dataframe\">\n",
       "  <thead>\n",
       "    <tr style=\"text-align: right;\">\n",
       "      <th></th>\n",
       "      <th>ID</th>\n",
       "      <th>Country</th>\n",
       "      <th>VFN</th>\n",
       "      <th>Mp</th>\n",
       "      <th>Mh</th>\n",
       "      <th>Man</th>\n",
       "      <th>MMS</th>\n",
       "      <th>Tan</th>\n",
       "      <th>T</th>\n",
       "      <th>Va</th>\n",
       "      <th>Ve</th>\n",
       "      <th>Mk</th>\n",
       "      <th>Cn</th>\n",
       "      <th>Ct</th>\n",
       "      <th>Cr</th>\n",
       "      <th>r</th>\n",
       "      <th>m (kg)</th>\n",
       "      <th>Mt</th>\n",
       "      <th>Enedc (g/km)</th>\n",
       "      <th>Ewltp (g/km)</th>\n",
       "      <th>W (mm)</th>\n",
       "      <th>At1 (mm)</th>\n",
       "      <th>At2 (mm)</th>\n",
       "      <th>Ft</th>\n",
       "      <th>Fm</th>\n",
       "      <th>ec (cm3)</th>\n",
       "      <th>ep (KW)</th>\n",
       "      <th>z (Wh/km)</th>\n",
       "      <th>IT</th>\n",
       "      <th>Ernedc (g/km)</th>\n",
       "      <th>Erwltp (g/km)</th>\n",
       "      <th>De</th>\n",
       "      <th>Vf</th>\n",
       "      <th>Status</th>\n",
       "      <th>Date of registration</th>\n",
       "      <th>Fuel consumption</th>\n",
       "      <th>Electric range (km)</th>\n",
       "    </tr>\n",
       "  </thead>\n",
       "  <tbody>\n",
       "    <tr>\n",
       "      <th>754419</th>\n",
       "      <td>754419</td>\n",
       "      <td>IT</td>\n",
       "      <td>NaN</td>\n",
       "      <td>NaN</td>\n",
       "      <td>DR AUTOMOBILES</td>\n",
       "      <td>DR AUTOMOBILES SRL</td>\n",
       "      <td>NaN</td>\n",
       "      <td>e3*KS07/46*0296*16</td>\n",
       "      <td>D3</td>\n",
       "      <td>J</td>\n",
       "      <td>2</td>\n",
       "      <td>DR</td>\n",
       "      <td>EVO4</td>\n",
       "      <td>NaN</td>\n",
       "      <td>M1</td>\n",
       "      <td>1</td>\n",
       "      <td>1320.00</td>\n",
       "      <td>NaN</td>\n",
       "      <td>NaN</td>\n",
       "      <td>394.34</td>\n",
       "      <td>2560.00</td>\n",
       "      <td>1480.00</td>\n",
       "      <td>NaN</td>\n",
       "      <td>LPG</td>\n",
       "      <td>B</td>\n",
       "      <td>1590.00</td>\n",
       "      <td>84.00</td>\n",
       "      <td>NaN</td>\n",
       "      <td>E1 29</td>\n",
       "      <td>NaN</td>\n",
       "      <td>NaN</td>\n",
       "      <td>NaN</td>\n",
       "      <td>NaN</td>\n",
       "      <td>P</td>\n",
       "      <td>2022-02-08</td>\n",
       "      <td>NaN</td>\n",
       "      <td>NaN</td>\n",
       "    </tr>\n",
       "    <tr>\n",
       "      <th>754423</th>\n",
       "      <td>754423</td>\n",
       "      <td>IT</td>\n",
       "      <td>NaN</td>\n",
       "      <td>VOLKSWAGEN</td>\n",
       "      <td>LAMBORGHINI</td>\n",
       "      <td>AUTOMOBILI LAMBORGHINI SPA</td>\n",
       "      <td>NaN</td>\n",
       "      <td>e3*KS07/46*0075*19</td>\n",
       "      <td>834</td>\n",
       "      <td>U</td>\n",
       "      <td>21ALC</td>\n",
       "      <td>LAMBORGHINI</td>\n",
       "      <td>AVENTADOR</td>\n",
       "      <td>NaN</td>\n",
       "      <td>M1</td>\n",
       "      <td>1</td>\n",
       "      <td>1790.00</td>\n",
       "      <td>NaN</td>\n",
       "      <td>NaN</td>\n",
       "      <td>1388.51</td>\n",
       "      <td>2700.00</td>\n",
       "      <td>1720.00</td>\n",
       "      <td>NaN</td>\n",
       "      <td>PETROL</td>\n",
       "      <td>M</td>\n",
       "      <td>6498.00</td>\n",
       "      <td>574.00</td>\n",
       "      <td>NaN</td>\n",
       "      <td>E1 29</td>\n",
       "      <td>NaN</td>\n",
       "      <td>NaN</td>\n",
       "      <td>NaN</td>\n",
       "      <td>NaN</td>\n",
       "      <td>P</td>\n",
       "      <td>2022-05-20</td>\n",
       "      <td>NaN</td>\n",
       "      <td>NaN</td>\n",
       "    </tr>\n",
       "    <tr>\n",
       "      <th>754425</th>\n",
       "      <td>754425</td>\n",
       "      <td>IT</td>\n",
       "      <td>NaN</td>\n",
       "      <td>VOLKSWAGEN</td>\n",
       "      <td>LAMBORGHINI</td>\n",
       "      <td>AUTOMOBILI LAMBORGHINI SPA</td>\n",
       "      <td>NaN</td>\n",
       "      <td>e3*KS07/46*0075*19</td>\n",
       "      <td>834</td>\n",
       "      <td>U</td>\n",
       "      <td>21ALC</td>\n",
       "      <td>LAMBORGHINI</td>\n",
       "      <td>AVENTADOR</td>\n",
       "      <td>NaN</td>\n",
       "      <td>M1</td>\n",
       "      <td>1</td>\n",
       "      <td>1790.00</td>\n",
       "      <td>NaN</td>\n",
       "      <td>NaN</td>\n",
       "      <td>1387.01</td>\n",
       "      <td>2700.00</td>\n",
       "      <td>1720.00</td>\n",
       "      <td>NaN</td>\n",
       "      <td>PETROL</td>\n",
       "      <td>M</td>\n",
       "      <td>6498.00</td>\n",
       "      <td>574.00</td>\n",
       "      <td>NaN</td>\n",
       "      <td>E1 29</td>\n",
       "      <td>NaN</td>\n",
       "      <td>NaN</td>\n",
       "      <td>NaN</td>\n",
       "      <td>NaN</td>\n",
       "      <td>P</td>\n",
       "      <td>2022-06-22</td>\n",
       "      <td>NaN</td>\n",
       "      <td>NaN</td>\n",
       "    </tr>\n",
       "    <tr>\n",
       "      <th>754430</th>\n",
       "      <td>754430</td>\n",
       "      <td>IT</td>\n",
       "      <td>NaN</td>\n",
       "      <td>NaN</td>\n",
       "      <td>AA-IVA</td>\n",
       "      <td>AA-IVA</td>\n",
       "      <td>NaN</td>\n",
       "      <td>e3*2007/46*0064*64</td>\n",
       "      <td>312</td>\n",
       "      <td>AYD1B</td>\n",
       "      <td>E25ACM</td>\n",
       "      <td>FIAT</td>\n",
       "      <td>FIAT 500</td>\n",
       "      <td>NaN</td>\n",
       "      <td>M1</td>\n",
       "      <td>1</td>\n",
       "      <td>1074.00</td>\n",
       "      <td>NaN</td>\n",
       "      <td>NaN</td>\n",
       "      <td>330.41</td>\n",
       "      <td>2300.00</td>\n",
       "      <td>NaN</td>\n",
       "      <td>NaN</td>\n",
       "      <td>PETROL</td>\n",
       "      <td>H</td>\n",
       "      <td>999.00</td>\n",
       "      <td>52.00</td>\n",
       "      <td>NaN</td>\n",
       "      <td>E1 29</td>\n",
       "      <td>NaN</td>\n",
       "      <td>NaN</td>\n",
       "      <td>NaN</td>\n",
       "      <td>NaN</td>\n",
       "      <td>P</td>\n",
       "      <td>2022-09-22</td>\n",
       "      <td>NaN</td>\n",
       "      <td>NaN</td>\n",
       "    </tr>\n",
       "    <tr>\n",
       "      <th>754436</th>\n",
       "      <td>754436</td>\n",
       "      <td>IT</td>\n",
       "      <td>NaN</td>\n",
       "      <td>NaN</td>\n",
       "      <td>DR AUTOMOBILES</td>\n",
       "      <td>DR AUTOMOBILES SRL</td>\n",
       "      <td>NaN</td>\n",
       "      <td>e3*KS07/46*0296*16</td>\n",
       "      <td>D3</td>\n",
       "      <td>J</td>\n",
       "      <td>2</td>\n",
       "      <td>DR</td>\n",
       "      <td>EVO4</td>\n",
       "      <td>NaN</td>\n",
       "      <td>M1</td>\n",
       "      <td>1</td>\n",
       "      <td>1320.00</td>\n",
       "      <td>NaN</td>\n",
       "      <td>NaN</td>\n",
       "      <td>400.10</td>\n",
       "      <td>2560.00</td>\n",
       "      <td>1480.00</td>\n",
       "      <td>NaN</td>\n",
       "      <td>LPG</td>\n",
       "      <td>B</td>\n",
       "      <td>1590.00</td>\n",
       "      <td>84.00</td>\n",
       "      <td>NaN</td>\n",
       "      <td>E1 29</td>\n",
       "      <td>NaN</td>\n",
       "      <td>NaN</td>\n",
       "      <td>NaN</td>\n",
       "      <td>NaN</td>\n",
       "      <td>P</td>\n",
       "      <td>2022-05-27</td>\n",
       "      <td>NaN</td>\n",
       "      <td>NaN</td>\n",
       "    </tr>\n",
       "  </tbody>\n",
       "</table>\n",
       "</div>"
      ],
      "text/plain": [
       "            ID Country  VFN          Mp              Mh  \\\n",
       "754419  754419      IT  NaN         NaN  DR AUTOMOBILES   \n",
       "754423  754423      IT  NaN  VOLKSWAGEN     LAMBORGHINI   \n",
       "754425  754425      IT  NaN  VOLKSWAGEN     LAMBORGHINI   \n",
       "754430  754430      IT  NaN         NaN          AA-IVA   \n",
       "754436  754436      IT  NaN         NaN  DR AUTOMOBILES   \n",
       "\n",
       "                               Man  MMS                 Tan    T     Va  \\\n",
       "754419          DR AUTOMOBILES SRL  NaN  e3*KS07/46*0296*16   D3      J   \n",
       "754423  AUTOMOBILI LAMBORGHINI SPA  NaN  e3*KS07/46*0075*19  834      U   \n",
       "754425  AUTOMOBILI LAMBORGHINI SPA  NaN  e3*KS07/46*0075*19  834      U   \n",
       "754430                      AA-IVA  NaN  e3*2007/46*0064*64  312  AYD1B   \n",
       "754436          DR AUTOMOBILES SRL  NaN  e3*KS07/46*0296*16   D3      J   \n",
       "\n",
       "            Ve           Mk         Cn   Ct  Cr  r  m (kg)  Mt  Enedc (g/km)  \\\n",
       "754419       2           DR       EVO4  NaN  M1  1 1320.00 NaN           NaN   \n",
       "754423   21ALC  LAMBORGHINI  AVENTADOR  NaN  M1  1 1790.00 NaN           NaN   \n",
       "754425   21ALC  LAMBORGHINI  AVENTADOR  NaN  M1  1 1790.00 NaN           NaN   \n",
       "754430  E25ACM         FIAT   FIAT 500  NaN  M1  1 1074.00 NaN           NaN   \n",
       "754436       2           DR       EVO4  NaN  M1  1 1320.00 NaN           NaN   \n",
       "\n",
       "        Ewltp (g/km)  W (mm)  At1 (mm)  At2 (mm)      Ft Fm  ec (cm3)  \\\n",
       "754419        394.34 2560.00   1480.00       NaN     LPG  B   1590.00   \n",
       "754423       1388.51 2700.00   1720.00       NaN  PETROL  M   6498.00   \n",
       "754425       1387.01 2700.00   1720.00       NaN  PETROL  M   6498.00   \n",
       "754430        330.41 2300.00       NaN       NaN  PETROL  H    999.00   \n",
       "754436        400.10 2560.00   1480.00       NaN     LPG  B   1590.00   \n",
       "\n",
       "        ep (KW)  z (Wh/km)     IT  Ernedc (g/km)  Erwltp (g/km)  De  Vf  \\\n",
       "754419    84.00        NaN  E1 29            NaN            NaN NaN NaN   \n",
       "754423   574.00        NaN  E1 29            NaN            NaN NaN NaN   \n",
       "754425   574.00        NaN  E1 29            NaN            NaN NaN NaN   \n",
       "754430    52.00        NaN  E1 29            NaN            NaN NaN NaN   \n",
       "754436    84.00        NaN  E1 29            NaN            NaN NaN NaN   \n",
       "\n",
       "       Status Date of registration  Fuel consumption   Electric range (km)  \n",
       "754419      P           2022-02-08                NaN                  NaN  \n",
       "754423      P           2022-05-20                NaN                  NaN  \n",
       "754425      P           2022-06-22                NaN                  NaN  \n",
       "754430      P           2022-09-22                NaN                  NaN  \n",
       "754436      P           2022-05-27                NaN                  NaN  "
      ]
     },
     "execution_count": 35,
     "metadata": {},
     "output_type": "execute_result"
    }
   ],
   "source": [
    "df[df['Ct'].isna()].head()"
   ]
  },
  {
   "cell_type": "markdown",
   "metadata": {},
   "source": [
    "## Cr - Category of the vehicle registered\n",
    "\n",
    "Cr est la catégorie du véhicule tel qu'il est enregistré ou immatriculé auprès des autorités locales ou nationales. Cette catégorie est utilisée pour identifier le type de véhicule tel qu'il est effectivement utilisé sur la route et immatriculé par son propriétaire. Elle peut varier en fonction de la législation et des normes d'immatriculation du pays ou de la région.\n",
    "\n",
    "**mon avis**: Il faudrait trouver comment ranger dans l'ordre ces codes et on pourra en faire une variable label encodée (ordinal encodée)\n",
    "\n",
    "Chat GPT m'a donné ça(a vérifier):\n",
    "\n",
    "- M1 - Véhicules automobiles conçus et construits pour le transport de passagers et de leurs bagages, ayant au maximum huit places assises en plus du siège du conducteur. Il s'agit généralement des voitures particulières.\n",
    "\n",
    "- M1G - Ce code spécifique \"G\" peut indiquer une sous-catégorie des véhicules M1. Par exemple, il peut être utilisé pour différencier les véhicules M1G équipés de moteurs au gaz.\n",
    "\n",
    "- M1S - Ce code spécifique \"S\" peut également indiquer une sous-catégorie des véhicules M1. Il est souvent utilisé pour identifier les véhicules M1S équipés de moteurs électriques ou hybrides."
   ]
  },
  {
   "cell_type": "code",
   "execution_count": 36,
   "metadata": {},
   "outputs": [
    {
     "name": "stdout",
     "output_type": "stream",
     "text": [
      "On compte 3 valeurs uniques et 0 NaN, quelques exemples de valeurs de Cr:\n",
      "\n",
      "['M1', 'M1G', 'M1S']\n"
     ]
    }
   ],
   "source": [
    "print(f\"On compte {nombre_val_unique['Cr']} valeurs uniques et {df[df['Cr'].isna()].shape[0]} NaN, quelques exemples de valeurs de Cr:\\n\\n{valeurs_uniques['Cr'][:5]}\")"
   ]
  },
  {
   "cell_type": "markdown",
   "metadata": {},
   "source": [
    "## m (kg) - Mass in running order Completed/complete vehicle\n",
    "\n",
    "Le terme \"m (kg) - Mass in running order Completed/complete vehicle\" se réfère au poids d'un véhicule complet et prêt à être utilisé, y compris tous les équipements, les fluides (comme l'huile, le carburant, le liquide de refroidissement, etc.), et d'autres composants nécessaires pour qu'il puisse fonctionner sur la route. Cela inclut également le poids de tout équipement optionnel installé en usine.\n",
    "\n",
    "**mon avis**: regarder le max, sans doute un outlier"
   ]
  },
  {
   "cell_type": "code",
   "execution_count": 37,
   "metadata": {},
   "outputs": [
    {
     "name": "stdout",
     "output_type": "stream",
     "text": [
      "On compte 2238 valeurs uniques et 100 NaN, quelques exemples de valeurs de m (kg):\n",
      "\n",
      "[1387.0, 1172.0, 1204.0, 1438.0, 1207.0]\n"
     ]
    }
   ],
   "source": [
    "print(f\"On compte {nombre_val_unique['m (kg)']} valeurs uniques et {df[df['m (kg)'].isna()].shape[0]} NaN, quelques exemples de valeurs de m (kg):\\n\\n{valeurs_uniques['m (kg)'][:5]}\")"
   ]
  },
  {
   "cell_type": "code",
   "execution_count": 38,
   "metadata": {},
   "outputs": [
    {
     "data": {
      "text/plain": [
       "count   7571549.00\n",
       "mean       1528.21\n",
       "std         352.61\n",
       "min         570.00\n",
       "25%        1263.00\n",
       "50%        1457.00\n",
       "75%        1737.00\n",
       "max        4427.00\n",
       "Name: m (kg), dtype: float64"
      ]
     },
     "execution_count": 38,
     "metadata": {},
     "output_type": "execute_result"
    }
   ],
   "source": [
    "df['m (kg)'].describe()"
   ]
  },
  {
   "cell_type": "code",
   "execution_count": 39,
   "metadata": {},
   "outputs": [
    {
     "data": {
      "image/png": "[encoded data removed]",
      "text/plain": [
       "<Figure size 640x480 with 1 Axes>"
      ]
     },
     "metadata": {},
     "output_type": "display_data"
    }
   ],
   "source": [
    "sns.histplot(df,x='m (kg)')\n",
    "plt.show()"
   ]
  },
  {
   "cell_type": "markdown",
   "metadata": {},
   "source": [
    "## Mt - WLTP test mass\n",
    "\n",
    "le \"Mt - WLTP test mass\" est la masse du véhicule telle qu'elle est utilisée lors des tests de conformité WLTP, et elle est conçue pour garantir des résultats de test cohérents et comparables entre les différents véhicules.\n",
    "\n",
    "La masse de test WLTP est généralement supérieure à la masse en ordre de marche complété (M1) du véhicule, car elle inclut divers équipements de test et charges supplémentaires pour simuler différentes conditions de conduite. Elle est utilisée pour mesurer les émissions de dioxyde de carbone (CO2) et la consommation de carburant d'une manière normalisée et reproductible, de manière à permettre des comparaisons équitables entre différents véhicules.\n",
    "\n",
    "**mon avis**: peut être important mais grande corrélation avec la variable précédente `m (kg)` Attention aux NaN\n"
   ]
  },
  {
   "cell_type": "code",
   "execution_count": 40,
   "metadata": {},
   "outputs": [
    {
     "name": "stdout",
     "output_type": "stream",
     "text": [
      "On compte 2180 valeurs uniques et 840236 NaN, quelques exemples de valeurs de Mt:\n",
      "\n",
      "[1534.0, 1337.0, 1335.0, 1588.0, 1350.0]\n"
     ]
    }
   ],
   "source": [
    "print(f\"On compte {nombre_val_unique['Mt']} valeurs uniques et {df[df['Mt'].isna()].shape[0]} NaN, quelques exemples de valeurs de Mt:\\n\\n{valeurs_uniques['Mt'][:5]}\")"
   ]
  },
  {
   "cell_type": "code",
   "execution_count": 41,
   "metadata": {},
   "outputs": [
    {
     "data": {
      "text/plain": [
       "count   6731413.00\n",
       "mean       1649.90\n",
       "std         363.86\n",
       "min         611.00\n",
       "25%        1381.00\n",
       "50%        1582.00\n",
       "75%        1867.00\n",
       "max        4711.00\n",
       "Name: Mt, dtype: float64"
      ]
     },
     "execution_count": 41,
     "metadata": {},
     "output_type": "execute_result"
    }
   ],
   "source": [
    "df['Mt'].describe()"
   ]
  },
  {
   "cell_type": "code",
   "execution_count": 42,
   "metadata": {},
   "outputs": [
    {
     "data": {
      "image/png": "[encoded data removed]",
      "text/plain": [
       "<Figure size 640x480 with 1 Axes>"
      ]
     },
     "metadata": {},
     "output_type": "display_data"
    }
   ],
   "source": [
    "sns.histplot(df,x='Mt')\n",
    "plt.show()"
   ]
  },
  {
   "cell_type": "markdown",
   "metadata": {},
   "source": [
    "## W (mm) - Wheel Base\n",
    "\n",
    "\"W (mm) - Wheel Base\" est la mesure en millimètres de la distance entre les essieux avant et arrière d'un véhicule, et elle a un impact sur le comportement de conduite et d'autres caractéristiques du véhicule.\n",
    "\n",
    "Une base de roues plus longue tend à offrir une meilleure stabilité à haute vitesse, tandis qu'une base de roues plus courte peut permettre une maniabilité accrue, ce qui est utile dans certaines applications, comme les véhicules utilitaires légers.\n",
    "\n",
    "**avis**: Attention Outliers"
   ]
  },
  {
   "cell_type": "code",
   "execution_count": 43,
   "metadata": {},
   "outputs": [
    {
     "name": "stdout",
     "output_type": "stream",
     "text": [
      "On compte 614 valeurs uniques et 12288 NaN, quelques exemples de valeurs de W (mm):\n",
      "\n",
      "[2700.0, 2552.0, 2650.0, 2729.0, 2667.0]\n"
     ]
    }
   ],
   "source": [
    "print(f\"On compte {nombre_val_unique['W (mm)']} valeurs uniques et {df[df['W (mm)'].isna()].shape[0]} NaN, quelques exemples de valeurs de W (mm):\\n\\n{valeurs_uniques['W (mm)'][:5]}\")"
   ]
  },
  {
   "cell_type": "code",
   "execution_count": 44,
   "metadata": {},
   "outputs": [
    {
     "data": {
      "text/plain": [
       "count   7559361.00\n",
       "mean       2670.40\n",
       "std         167.98\n",
       "min         600.00\n",
       "25%        2570.00\n",
       "50%        2667.00\n",
       "75%        2730.00\n",
       "max        5234.00\n",
       "Name: W (mm), dtype: float64"
      ]
     },
     "execution_count": 44,
     "metadata": {},
     "output_type": "execute_result"
    }
   ],
   "source": [
    "df['W (mm)'].describe()"
   ]
  },
  {
   "cell_type": "code",
   "execution_count": 45,
   "metadata": {},
   "outputs": [
    {
     "data": {
      "image/png": "[encoded data removed]",
      "text/plain": [
       "<Figure size 640x480 with 1 Axes>"
      ]
     },
     "metadata": {},
     "output_type": "display_data"
    }
   ],
   "source": [
    "sns.histplot(df,x='W (mm)')\n",
    "plt.show()"
   ]
  },
  {
   "cell_type": "markdown",
   "metadata": {},
   "source": [
    "## At1 (mm) - Axle width steering axle\n",
    "\n",
    "\"At1 (mm)\" est la mesure en millimètres de la largeur de l'essieu avant de direction d'un véhicule, ce qui a un impact sur sa maniabilité et sa stabilité. Une largeur d'essieu avant appropriée est essentielle pour permettre au véhicule de tourner efficacement tout en maintenant sa stabilité à différentes vitesses.\n",
    "\n",
    "**avis**: a voir ce qu'on fera de cette variable, je doute qu'elle soit utile mais bon\n"
   ]
  },
  {
   "cell_type": "code",
   "execution_count": 46,
   "metadata": {},
   "outputs": [
    {
     "name": "stdout",
     "output_type": "stream",
     "text": [
      "On compte 1016 valeurs uniques et 165685 NaN, quelques exemples de valeurs de At1 (mm):\n",
      "\n",
      "[1571.0, 1500.0, 1555.0, nan, 1613.0]\n"
     ]
    }
   ],
   "source": [
    "print(f\"On compte {nombre_val_unique['At1 (mm)']} valeurs uniques et {df[df['At1 (mm)'].isna()].shape[0]} NaN, quelques exemples de valeurs de At1 (mm):\\n\\n{valeurs_uniques['At1 (mm)'][:5]}\")"
   ]
  },
  {
   "cell_type": "code",
   "execution_count": 47,
   "metadata": {},
   "outputs": [
    {
     "data": {
      "text/plain": [
       "count   7405964.00\n",
       "mean       1553.38\n",
       "std          59.31\n",
       "min         520.00\n",
       "25%        1520.00\n",
       "50%        1559.00\n",
       "75%        1590.00\n",
       "max        3000.00\n",
       "Name: At1 (mm), dtype: float64"
      ]
     },
     "execution_count": 47,
     "metadata": {},
     "output_type": "execute_result"
    }
   ],
   "source": [
    "df['At1 (mm)'].describe()"
   ]
  },
  {
   "cell_type": "code",
   "execution_count": 48,
   "metadata": {},
   "outputs": [
    {
     "data": {
      "image/png": "[encoded data removed]",
      "text/plain": [
       "<Figure size 640x480 with 1 Axes>"
      ]
     },
     "metadata": {},
     "output_type": "display_data"
    }
   ],
   "source": [
    "sns.histplot(df,x='At1 (mm)')\n",
    "plt.show()"
   ]
  },
  {
   "cell_type": "markdown",
   "metadata": {},
   "source": [
    "## At2 (mm) - Axle width other axle\n",
    "\n",
    "Skip c'est pareil"
   ]
  },
  {
   "cell_type": "code",
   "execution_count": 49,
   "metadata": {},
   "outputs": [
    {
     "name": "stdout",
     "output_type": "stream",
     "text": [
      "On compte 1018 valeurs uniques et 177298 NaN, quelques exemples de valeurs de At2 (mm):\n",
      "\n",
      "[1576.0, 1483.0, 1563.0, nan, 1613.0]\n"
     ]
    }
   ],
   "source": [
    "print(f\"On compte {nombre_val_unique['At2 (mm)']} valeurs uniques et {df[df['At2 (mm)'].isna()].shape[0]} NaN, quelques exemples de valeurs de At2 (mm):\\n\\n{valeurs_uniques['At2 (mm)'][:5]}\")"
   ]
  },
  {
   "cell_type": "code",
   "execution_count": 50,
   "metadata": {},
   "outputs": [
    {
     "data": {
      "text/plain": [
       "count   7394351.00\n",
       "mean       1555.46\n",
       "std          63.50\n",
       "min         520.00\n",
       "25%        1520.00\n",
       "50%        1558.00\n",
       "75%        1595.00\n",
       "max        3000.00\n",
       "Name: At2 (mm), dtype: float64"
      ]
     },
     "execution_count": 50,
     "metadata": {},
     "output_type": "execute_result"
    }
   ],
   "source": [
    "df['At2 (mm)'].describe()"
   ]
  },
  {
   "cell_type": "code",
   "execution_count": 51,
   "metadata": {},
   "outputs": [
    {
     "data": {
      "image/png": "[encoded data removed]",
      "text/plain": [
       "<Figure size 640x480 with 1 Axes>"
      ]
     },
     "metadata": {},
     "output_type": "display_data"
    }
   ],
   "source": [
    "sns.histplot(df,x='At2 (mm)')\n",
    "plt.show()"
   ]
  },
  {
   "cell_type": "code",
   "execution_count": 56,
   "metadata": {},
   "outputs": [
    {
     "name": "stdout",
     "output_type": "stream",
     "text": [
      "on compte 1520116 individus avec At1 = At2. \n",
      "Je sais pas comment interpréter\n"
     ]
    }
   ],
   "source": [
    "print(f\"on compte {sum(df['At1 (mm)']==df['At2 (mm)'])} individus avec At1 = At2. \\nJe sais pas comment interpréter\")"
   ]
  },
  {
   "cell_type": "code",
   "execution_count": 57,
   "metadata": {},
   "outputs": [
    {
     "data": {
      "text/html": [
       "<div>\n",
       "<style scoped>\n",
       "    .dataframe tbody tr th:only-of-type {\n",
       "        vertical-align: middle;\n",
       "    }\n",
       "\n",
       "    .dataframe tbody tr th {\n",
       "        vertical-align: top;\n",
       "    }\n",
       "\n",
       "    .dataframe thead th {\n",
       "        text-align: right;\n",
       "    }\n",
       "</style>\n",
       "<table border=\"1\" class=\"dataframe\">\n",
       "  <thead>\n",
       "    <tr style=\"text-align: right;\">\n",
       "      <th></th>\n",
       "      <th>ID</th>\n",
       "      <th>Country</th>\n",
       "      <th>VFN</th>\n",
       "      <th>Mp</th>\n",
       "      <th>Mh</th>\n",
       "      <th>Man</th>\n",
       "      <th>MMS</th>\n",
       "      <th>Tan</th>\n",
       "      <th>T</th>\n",
       "      <th>Va</th>\n",
       "      <th>Ve</th>\n",
       "      <th>Mk</th>\n",
       "      <th>Cn</th>\n",
       "      <th>Ct</th>\n",
       "      <th>Cr</th>\n",
       "      <th>r</th>\n",
       "      <th>m (kg)</th>\n",
       "      <th>Mt</th>\n",
       "      <th>Enedc (g/km)</th>\n",
       "      <th>Ewltp (g/km)</th>\n",
       "      <th>W (mm)</th>\n",
       "      <th>At1 (mm)</th>\n",
       "      <th>At2 (mm)</th>\n",
       "      <th>Ft</th>\n",
       "      <th>Fm</th>\n",
       "      <th>ec (cm3)</th>\n",
       "      <th>ep (KW)</th>\n",
       "      <th>z (Wh/km)</th>\n",
       "      <th>IT</th>\n",
       "      <th>Ernedc (g/km)</th>\n",
       "      <th>Erwltp (g/km)</th>\n",
       "      <th>De</th>\n",
       "      <th>Vf</th>\n",
       "      <th>Status</th>\n",
       "      <th>Date of registration</th>\n",
       "      <th>Fuel consumption</th>\n",
       "      <th>Electric range (km)</th>\n",
       "    </tr>\n",
       "  </thead>\n",
       "  <tbody>\n",
       "    <tr>\n",
       "      <th>9</th>\n",
       "      <td>9</td>\n",
       "      <td>DE</td>\n",
       "      <td>IP-2021_0416-W1K-1</td>\n",
       "      <td>MERCEDES-BENZ</td>\n",
       "      <td>MERCEDES-BENZ AG</td>\n",
       "      <td>MERCEDES-BENZ AG</td>\n",
       "      <td>NaN</td>\n",
       "      <td>e1*2007/46*1912*18</td>\n",
       "      <td>F2CLA</td>\n",
       "      <td>338QT2</td>\n",
       "      <td>HZAA054A</td>\n",
       "      <td>MERCEDES-BENZ</td>\n",
       "      <td>CLA 250 E</td>\n",
       "      <td>M1</td>\n",
       "      <td>M1</td>\n",
       "      <td>1</td>\n",
       "      <td>1720.00</td>\n",
       "      <td>1811.00</td>\n",
       "      <td>NaN</td>\n",
       "      <td>69.73</td>\n",
       "      <td>2729.00</td>\n",
       "      <td>1613.00</td>\n",
       "      <td>1613.00</td>\n",
       "      <td>PETROL/ELECTRIC</td>\n",
       "      <td>P</td>\n",
       "      <td>1332.00</td>\n",
       "      <td>118.00</td>\n",
       "      <td>180.00</td>\n",
       "      <td>NaN</td>\n",
       "      <td>NaN</td>\n",
       "      <td>NaN</td>\n",
       "      <td>NaN</td>\n",
       "      <td>NaN</td>\n",
       "      <td>P</td>\n",
       "      <td>2022-11-25</td>\n",
       "      <td>1.00</td>\n",
       "      <td>NaN</td>\n",
       "    </tr>\n",
       "    <tr>\n",
       "      <th>12</th>\n",
       "      <td>12</td>\n",
       "      <td>DE</td>\n",
       "      <td>IP-2021_0416-W1K-1</td>\n",
       "      <td>MERCEDES-BENZ</td>\n",
       "      <td>MERCEDES-BENZ AG</td>\n",
       "      <td>MERCEDES-BENZ AG</td>\n",
       "      <td>NaN</td>\n",
       "      <td>e1*2007/46*1912*18</td>\n",
       "      <td>F2CLA</td>\n",
       "      <td>338QT2</td>\n",
       "      <td>HZAA050A</td>\n",
       "      <td>MERCEDES-BENZ</td>\n",
       "      <td>CLA 250 E</td>\n",
       "      <td>M1</td>\n",
       "      <td>M1</td>\n",
       "      <td>1</td>\n",
       "      <td>1720.00</td>\n",
       "      <td>1799.00</td>\n",
       "      <td>NaN</td>\n",
       "      <td>67.79</td>\n",
       "      <td>2729.00</td>\n",
       "      <td>1613.00</td>\n",
       "      <td>1613.00</td>\n",
       "      <td>PETROL/ELECTRIC</td>\n",
       "      <td>P</td>\n",
       "      <td>1332.00</td>\n",
       "      <td>118.00</td>\n",
       "      <td>175.00</td>\n",
       "      <td>NaN</td>\n",
       "      <td>NaN</td>\n",
       "      <td>NaN</td>\n",
       "      <td>NaN</td>\n",
       "      <td>NaN</td>\n",
       "      <td>P</td>\n",
       "      <td>2022-11-25</td>\n",
       "      <td>0.90</td>\n",
       "      <td>NaN</td>\n",
       "    </tr>\n",
       "    <tr>\n",
       "      <th>14</th>\n",
       "      <td>14</td>\n",
       "      <td>DE</td>\n",
       "      <td>IP-2021_0416-W1K-1</td>\n",
       "      <td>MERCEDES-BENZ</td>\n",
       "      <td>MERCEDES-BENZ AG</td>\n",
       "      <td>MERCEDES-BENZ AG</td>\n",
       "      <td>NaN</td>\n",
       "      <td>e1*2007/46*1912*18</td>\n",
       "      <td>F2CLA</td>\n",
       "      <td>338QT2</td>\n",
       "      <td>HZAA050A</td>\n",
       "      <td>MERCEDES-BENZ</td>\n",
       "      <td>CLA 250 E</td>\n",
       "      <td>M1</td>\n",
       "      <td>M1</td>\n",
       "      <td>1</td>\n",
       "      <td>1720.00</td>\n",
       "      <td>1805.00</td>\n",
       "      <td>NaN</td>\n",
       "      <td>66.53</td>\n",
       "      <td>2729.00</td>\n",
       "      <td>1613.00</td>\n",
       "      <td>1613.00</td>\n",
       "      <td>PETROL/ELECTRIC</td>\n",
       "      <td>P</td>\n",
       "      <td>1332.00</td>\n",
       "      <td>118.00</td>\n",
       "      <td>179.00</td>\n",
       "      <td>NaN</td>\n",
       "      <td>NaN</td>\n",
       "      <td>NaN</td>\n",
       "      <td>NaN</td>\n",
       "      <td>NaN</td>\n",
       "      <td>P</td>\n",
       "      <td>2022-11-22</td>\n",
       "      <td>1.00</td>\n",
       "      <td>NaN</td>\n",
       "    </tr>\n",
       "  </tbody>\n",
       "</table>\n",
       "</div>"
      ],
      "text/plain": [
       "    ID Country                 VFN             Mp                Mh  \\\n",
       "9    9      DE  IP-2021_0416-W1K-1  MERCEDES-BENZ  MERCEDES-BENZ AG   \n",
       "12  12      DE  IP-2021_0416-W1K-1  MERCEDES-BENZ  MERCEDES-BENZ AG   \n",
       "14  14      DE  IP-2021_0416-W1K-1  MERCEDES-BENZ  MERCEDES-BENZ AG   \n",
       "\n",
       "                 Man  MMS                 Tan      T      Va        Ve  \\\n",
       "9   MERCEDES-BENZ AG  NaN  e1*2007/46*1912*18  F2CLA  338QT2  HZAA054A   \n",
       "12  MERCEDES-BENZ AG  NaN  e1*2007/46*1912*18  F2CLA  338QT2  HZAA050A   \n",
       "14  MERCEDES-BENZ AG  NaN  e1*2007/46*1912*18  F2CLA  338QT2  HZAA050A   \n",
       "\n",
       "               Mk         Cn  Ct  Cr  r  m (kg)      Mt  Enedc (g/km)  \\\n",
       "9   MERCEDES-BENZ  CLA 250 E  M1  M1  1 1720.00 1811.00           NaN   \n",
       "12  MERCEDES-BENZ  CLA 250 E  M1  M1  1 1720.00 1799.00           NaN   \n",
       "14  MERCEDES-BENZ  CLA 250 E  M1  M1  1 1720.00 1805.00           NaN   \n",
       "\n",
       "    Ewltp (g/km)  W (mm)  At1 (mm)  At2 (mm)               Ft Fm  ec (cm3)  \\\n",
       "9          69.73 2729.00   1613.00   1613.00  PETROL/ELECTRIC  P   1332.00   \n",
       "12         67.79 2729.00   1613.00   1613.00  PETROL/ELECTRIC  P   1332.00   \n",
       "14         66.53 2729.00   1613.00   1613.00  PETROL/ELECTRIC  P   1332.00   \n",
       "\n",
       "    ep (KW)  z (Wh/km)   IT  Ernedc (g/km)  Erwltp (g/km)  De  Vf Status  \\\n",
       "9    118.00     180.00  NaN            NaN            NaN NaN NaN      P   \n",
       "12   118.00     175.00  NaN            NaN            NaN NaN NaN      P   \n",
       "14   118.00     179.00  NaN            NaN            NaN NaN NaN      P   \n",
       "\n",
       "   Date of registration  Fuel consumption   Electric range (km)  \n",
       "9            2022-11-25               1.00                  NaN  \n",
       "12           2022-11-25               0.90                  NaN  \n",
       "14           2022-11-22               1.00                  NaN  "
      ]
     },
     "metadata": {},
     "output_type": "display_data"
    }
   ],
   "source": [
    "#exemple\n",
    "display(df[df['At1 (mm)']==df['At2 (mm)']].iloc[:3])"
   ]
  },
  {
   "cell_type": "markdown",
   "metadata": {},
   "source": [
    "## Ft - Fuel type\n",
    "\n",
    "**avis**: Facile a label encoder. Pas besoin de plus de précisions. Attention aux Unknown"
   ]
  },
  {
   "cell_type": "code",
   "execution_count": 64,
   "metadata": {},
   "outputs": [
    {
     "name": "stdout",
     "output_type": "stream",
     "text": [
      "On compte 11 valeurs uniques et 0 NaN, quelques exemples de valeurs de Ft:\n",
      "\n",
      "['PETROL', 'PETROL/ELECTRIC', 'DIESEL', 'LPG', 'ELECTRIC', 'NG', 'E85', 'DIESEL/ELECTRIC', 'NG-BIOMETHANE', 'HYDROGEN', 'UNKNOWN']\n"
     ]
    }
   ],
   "source": [
    "print(f\"On compte {nombre_val_unique['Ft']} valeurs uniques et {df[df['Ft'].isna()].shape[0]} NaN, quelques exemples de valeurs de Ft:\\n\\n{valeurs_uniques['Ft'][:11]}\")"
   ]
  },
  {
   "cell_type": "code",
   "execution_count": 67,
   "metadata": {},
   "outputs": [
    {
     "data": {
      "text/html": [
       "<div>\n",
       "<style scoped>\n",
       "    .dataframe tbody tr th:only-of-type {\n",
       "        vertical-align: middle;\n",
       "    }\n",
       "\n",
       "    .dataframe tbody tr th {\n",
       "        vertical-align: top;\n",
       "    }\n",
       "\n",
       "    .dataframe thead th {\n",
       "        text-align: right;\n",
       "    }\n",
       "</style>\n",
       "<table border=\"1\" class=\"dataframe\">\n",
       "  <thead>\n",
       "    <tr style=\"text-align: right;\">\n",
       "      <th></th>\n",
       "      <th>ID</th>\n",
       "      <th>Country</th>\n",
       "      <th>VFN</th>\n",
       "      <th>Mp</th>\n",
       "      <th>Mh</th>\n",
       "      <th>Man</th>\n",
       "      <th>MMS</th>\n",
       "      <th>Tan</th>\n",
       "      <th>T</th>\n",
       "      <th>Va</th>\n",
       "      <th>Ve</th>\n",
       "      <th>Mk</th>\n",
       "      <th>Cn</th>\n",
       "      <th>Ct</th>\n",
       "      <th>Cr</th>\n",
       "      <th>r</th>\n",
       "      <th>m (kg)</th>\n",
       "      <th>Mt</th>\n",
       "      <th>Enedc (g/km)</th>\n",
       "      <th>Ewltp (g/km)</th>\n",
       "      <th>W (mm)</th>\n",
       "      <th>At1 (mm)</th>\n",
       "      <th>At2 (mm)</th>\n",
       "      <th>Ft</th>\n",
       "      <th>Fm</th>\n",
       "      <th>ec (cm3)</th>\n",
       "      <th>ep (KW)</th>\n",
       "      <th>z (Wh/km)</th>\n",
       "      <th>IT</th>\n",
       "      <th>Ernedc (g/km)</th>\n",
       "      <th>Erwltp (g/km)</th>\n",
       "      <th>De</th>\n",
       "      <th>Vf</th>\n",
       "      <th>Status</th>\n",
       "      <th>Date of registration</th>\n",
       "      <th>Fuel consumption</th>\n",
       "      <th>Electric range (km)</th>\n",
       "    </tr>\n",
       "  </thead>\n",
       "  <tbody>\n",
       "    <tr>\n",
       "      <th>1111214</th>\n",
       "      <td>1111214</td>\n",
       "      <td>ES</td>\n",
       "      <td>NaN</td>\n",
       "      <td>RENAULT-NISSAN-MITSUBISHI</td>\n",
       "      <td>RENAULT</td>\n",
       "      <td>RENAULT SAS</td>\n",
       "      <td>NaN</td>\n",
       "      <td>NaN</td>\n",
       "      <td>RHN</td>\n",
       "      <td>HH2</td>\n",
       "      <td>G25????00000</td>\n",
       "      <td>RENAULT</td>\n",
       "      <td>AUSTRAL</td>\n",
       "      <td>M1</td>\n",
       "      <td>M1</td>\n",
       "      <td>1</td>\n",
       "      <td>1771.00</td>\n",
       "      <td>NaN</td>\n",
       "      <td>NaN</td>\n",
       "      <td>332.97</td>\n",
       "      <td>2665.00</td>\n",
       "      <td>NaN</td>\n",
       "      <td>NaN</td>\n",
       "      <td>UNKNOWN</td>\n",
       "      <td>NaN</td>\n",
       "      <td>1199.00</td>\n",
       "      <td>96.00</td>\n",
       "      <td>NaN</td>\n",
       "      <td>NaN</td>\n",
       "      <td>NaN</td>\n",
       "      <td>NaN</td>\n",
       "      <td>NaN</td>\n",
       "      <td>NaN</td>\n",
       "      <td>P</td>\n",
       "      <td>2022-07-27</td>\n",
       "      <td>NaN</td>\n",
       "      <td>NaN</td>\n",
       "    </tr>\n",
       "    <tr>\n",
       "      <th>1126334</th>\n",
       "      <td>1126334</td>\n",
       "      <td>ES</td>\n",
       "      <td>NaN</td>\n",
       "      <td>RENAULT-NISSAN-MITSUBISHI</td>\n",
       "      <td>RENAULT</td>\n",
       "      <td>RENAULT SAS</td>\n",
       "      <td>NaN</td>\n",
       "      <td>NaN</td>\n",
       "      <td>RHN</td>\n",
       "      <td>HH1</td>\n",
       "      <td>H55????00000</td>\n",
       "      <td>RENAULT</td>\n",
       "      <td>AUSTRAL</td>\n",
       "      <td>M1</td>\n",
       "      <td>M1</td>\n",
       "      <td>1</td>\n",
       "      <td>1737.00</td>\n",
       "      <td>NaN</td>\n",
       "      <td>NaN</td>\n",
       "      <td>337.09</td>\n",
       "      <td>2665.00</td>\n",
       "      <td>NaN</td>\n",
       "      <td>NaN</td>\n",
       "      <td>UNKNOWN</td>\n",
       "      <td>NaN</td>\n",
       "      <td>1199.00</td>\n",
       "      <td>96.00</td>\n",
       "      <td>NaN</td>\n",
       "      <td>NaN</td>\n",
       "      <td>NaN</td>\n",
       "      <td>NaN</td>\n",
       "      <td>NaN</td>\n",
       "      <td>NaN</td>\n",
       "      <td>P</td>\n",
       "      <td>2022-07-27</td>\n",
       "      <td>NaN</td>\n",
       "      <td>NaN</td>\n",
       "    </tr>\n",
       "  </tbody>\n",
       "</table>\n",
       "</div>"
      ],
      "text/plain": [
       "              ID Country  VFN                         Mp       Mh  \\\n",
       "1111214  1111214      ES  NaN  RENAULT-NISSAN-MITSUBISHI  RENAULT   \n",
       "1126334  1126334      ES  NaN  RENAULT-NISSAN-MITSUBISHI  RENAULT   \n",
       "\n",
       "                 Man  MMS  Tan    T   Va            Ve       Mk       Cn  Ct  \\\n",
       "1111214  RENAULT SAS  NaN  NaN  RHN  HH2  G25????00000  RENAULT  AUSTRAL  M1   \n",
       "1126334  RENAULT SAS  NaN  NaN  RHN  HH1  H55????00000  RENAULT  AUSTRAL  M1   \n",
       "\n",
       "         Cr  r  m (kg)  Mt  Enedc (g/km)  Ewltp (g/km)  W (mm)  At1 (mm)  \\\n",
       "1111214  M1  1 1771.00 NaN           NaN        332.97 2665.00       NaN   \n",
       "1126334  M1  1 1737.00 NaN           NaN        337.09 2665.00       NaN   \n",
       "\n",
       "         At2 (mm)       Ft   Fm  ec (cm3)  ep (KW)  z (Wh/km)   IT  \\\n",
       "1111214       NaN  UNKNOWN  NaN   1199.00    96.00        NaN  NaN   \n",
       "1126334       NaN  UNKNOWN  NaN   1199.00    96.00        NaN  NaN   \n",
       "\n",
       "         Ernedc (g/km)  Erwltp (g/km)  De  Vf Status Date of registration  \\\n",
       "1111214            NaN            NaN NaN NaN      P           2022-07-27   \n",
       "1126334            NaN            NaN NaN NaN      P           2022-07-27   \n",
       "\n",
       "         Fuel consumption   Electric range (km)  \n",
       "1111214                NaN                  NaN  \n",
       "1126334                NaN                  NaN  "
      ]
     },
     "execution_count": 67,
     "metadata": {},
     "output_type": "execute_result"
    }
   ],
   "source": [
    "df[df['Ft']=='UNKNOWN'].iloc[:2]"
   ]
  },
  {
   "cell_type": "markdown",
   "metadata": {},
   "source": [
    "## Fm - Fuel mode\n",
    "Fm c'est le mode de fonctionnement du moteur d'un véhicule en ce qui concerne le type de carburant ou d'énergie qu'il utilise. Le mode de carburant détermine la source d'énergie principale qui alimente le moteur. Voici la signification des codes couramment utilisés pour décrire différents modes de carburant :\n",
    "\n",
    "- 'H' - Hydrogène : Le véhicule fonctionne à l'aide d'hydrogène, généralement dans une pile à combustible, produisant de l'électricité pour alimenter le moteur électrique.\n",
    "\n",
    "- 'M' - Moteur à combustion interne (essence ou diesel) : Le véhicule utilise un moteur à combustion interne qui brûle de l'essence (Moteur à essence, \"M\") ou du diesel (Moteur diesel, \"D\").\n",
    "\n",
    "- 'P' - Hybride essence/électrique : Le véhicule dispose d'un moteur à essence et d'un moteur électrique, utilisés en combinaison pour améliorer l'efficacité énergétique.\n",
    "\n",
    "- 'B' - Hybride diesel/électrique : C'est similaire à l'hybride essence/électrique, mais avec un moteur diesel au lieu d'un moteur à essence.\n",
    "\n",
    "- 'E' - Électrique : Le véhicule fonctionne entièrement à l'électricité, alimenté par des batteries rechargeables.\n",
    "\n",
    "- 'F' - Gaz naturel comprimé (CNG - Compressed Natural Gas) : Le véhicule utilise du gaz naturel comprimé comme carburant pour propulser le véhicule. C'est une alternative plus respectueuse de l'environnement par rapport aux carburants fossiles traditionnels.\n",
    "\n",
    "**avis**: facile à encoder. Attention Chat GPT me donne des trucs bizarre concernant la lettre F, il s'enmêle les pinceaux avec F = Hydrogène et H= Hydrogène. Il faudrait creuser avant d'attribuer des valeurs en encodant"
   ]
  },
  {
   "cell_type": "code",
   "execution_count": 63,
   "metadata": {},
   "outputs": [
    {
     "name": "stdout",
     "output_type": "stream",
     "text": [
      "On compte 6 valeurs uniques et 23 NaN, quelques exemples de valeurs de Fm:\n",
      "\n",
      "['H', 'M', 'P', 'B', 'E', 'F']\n"
     ]
    }
   ],
   "source": [
    "print(f\"On compte {nombre_val_unique['Fm']} valeurs uniques et {df[df['Fm'].isna()].shape[0]} NaN, quelques exemples de valeurs de Fm:\\n\\n{valeurs_uniques['Fm'][:6]}\")"
   ]
  },
  {
   "cell_type": "code",
   "execution_count": 62,
   "metadata": {},
   "outputs": [
    {
     "data": {
      "text/html": [
       "<div>\n",
       "<style scoped>\n",
       "    .dataframe tbody tr th:only-of-type {\n",
       "        vertical-align: middle;\n",
       "    }\n",
       "\n",
       "    .dataframe tbody tr th {\n",
       "        vertical-align: top;\n",
       "    }\n",
       "\n",
       "    .dataframe thead th {\n",
       "        text-align: right;\n",
       "    }\n",
       "</style>\n",
       "<table border=\"1\" class=\"dataframe\">\n",
       "  <thead>\n",
       "    <tr style=\"text-align: right;\">\n",
       "      <th></th>\n",
       "      <th>ID</th>\n",
       "      <th>Country</th>\n",
       "      <th>VFN</th>\n",
       "      <th>Mp</th>\n",
       "      <th>Mh</th>\n",
       "      <th>Man</th>\n",
       "      <th>MMS</th>\n",
       "      <th>Tan</th>\n",
       "      <th>T</th>\n",
       "      <th>Va</th>\n",
       "      <th>Ve</th>\n",
       "      <th>Mk</th>\n",
       "      <th>Cn</th>\n",
       "      <th>Ct</th>\n",
       "      <th>Cr</th>\n",
       "      <th>r</th>\n",
       "      <th>m (kg)</th>\n",
       "      <th>Mt</th>\n",
       "      <th>Enedc (g/km)</th>\n",
       "      <th>Ewltp (g/km)</th>\n",
       "      <th>W (mm)</th>\n",
       "      <th>At1 (mm)</th>\n",
       "      <th>At2 (mm)</th>\n",
       "      <th>Ft</th>\n",
       "      <th>Fm</th>\n",
       "      <th>ec (cm3)</th>\n",
       "      <th>ep (KW)</th>\n",
       "      <th>z (Wh/km)</th>\n",
       "      <th>IT</th>\n",
       "      <th>Ernedc (g/km)</th>\n",
       "      <th>Erwltp (g/km)</th>\n",
       "      <th>De</th>\n",
       "      <th>Vf</th>\n",
       "      <th>Status</th>\n",
       "      <th>Date of registration</th>\n",
       "      <th>Fuel consumption</th>\n",
       "      <th>Electric range (km)</th>\n",
       "    </tr>\n",
       "  </thead>\n",
       "  <tbody>\n",
       "    <tr>\n",
       "      <th>1111214</th>\n",
       "      <td>1111214</td>\n",
       "      <td>ES</td>\n",
       "      <td>NaN</td>\n",
       "      <td>RENAULT-NISSAN-MITSUBISHI</td>\n",
       "      <td>RENAULT</td>\n",
       "      <td>RENAULT SAS</td>\n",
       "      <td>NaN</td>\n",
       "      <td>NaN</td>\n",
       "      <td>RHN</td>\n",
       "      <td>HH2</td>\n",
       "      <td>G25????00000</td>\n",
       "      <td>RENAULT</td>\n",
       "      <td>AUSTRAL</td>\n",
       "      <td>M1</td>\n",
       "      <td>M1</td>\n",
       "      <td>1</td>\n",
       "      <td>1771.00</td>\n",
       "      <td>NaN</td>\n",
       "      <td>NaN</td>\n",
       "      <td>332.97</td>\n",
       "      <td>2665.00</td>\n",
       "      <td>NaN</td>\n",
       "      <td>NaN</td>\n",
       "      <td>UNKNOWN</td>\n",
       "      <td>NaN</td>\n",
       "      <td>1199.00</td>\n",
       "      <td>96.00</td>\n",
       "      <td>NaN</td>\n",
       "      <td>NaN</td>\n",
       "      <td>NaN</td>\n",
       "      <td>NaN</td>\n",
       "      <td>NaN</td>\n",
       "      <td>NaN</td>\n",
       "      <td>P</td>\n",
       "      <td>2022-07-27</td>\n",
       "      <td>NaN</td>\n",
       "      <td>NaN</td>\n",
       "    </tr>\n",
       "    <tr>\n",
       "      <th>1126334</th>\n",
       "      <td>1126334</td>\n",
       "      <td>ES</td>\n",
       "      <td>NaN</td>\n",
       "      <td>RENAULT-NISSAN-MITSUBISHI</td>\n",
       "      <td>RENAULT</td>\n",
       "      <td>RENAULT SAS</td>\n",
       "      <td>NaN</td>\n",
       "      <td>NaN</td>\n",
       "      <td>RHN</td>\n",
       "      <td>HH1</td>\n",
       "      <td>H55????00000</td>\n",
       "      <td>RENAULT</td>\n",
       "      <td>AUSTRAL</td>\n",
       "      <td>M1</td>\n",
       "      <td>M1</td>\n",
       "      <td>1</td>\n",
       "      <td>1737.00</td>\n",
       "      <td>NaN</td>\n",
       "      <td>NaN</td>\n",
       "      <td>337.09</td>\n",
       "      <td>2665.00</td>\n",
       "      <td>NaN</td>\n",
       "      <td>NaN</td>\n",
       "      <td>UNKNOWN</td>\n",
       "      <td>NaN</td>\n",
       "      <td>1199.00</td>\n",
       "      <td>96.00</td>\n",
       "      <td>NaN</td>\n",
       "      <td>NaN</td>\n",
       "      <td>NaN</td>\n",
       "      <td>NaN</td>\n",
       "      <td>NaN</td>\n",
       "      <td>NaN</td>\n",
       "      <td>P</td>\n",
       "      <td>2022-07-27</td>\n",
       "      <td>NaN</td>\n",
       "      <td>NaN</td>\n",
       "    </tr>\n",
       "  </tbody>\n",
       "</table>\n",
       "</div>"
      ],
      "text/plain": [
       "              ID Country  VFN                         Mp       Mh  \\\n",
       "1111214  1111214      ES  NaN  RENAULT-NISSAN-MITSUBISHI  RENAULT   \n",
       "1126334  1126334      ES  NaN  RENAULT-NISSAN-MITSUBISHI  RENAULT   \n",
       "\n",
       "                 Man  MMS  Tan    T   Va            Ve       Mk       Cn  Ct  \\\n",
       "1111214  RENAULT SAS  NaN  NaN  RHN  HH2  G25????00000  RENAULT  AUSTRAL  M1   \n",
       "1126334  RENAULT SAS  NaN  NaN  RHN  HH1  H55????00000  RENAULT  AUSTRAL  M1   \n",
       "\n",
       "         Cr  r  m (kg)  Mt  Enedc (g/km)  Ewltp (g/km)  W (mm)  At1 (mm)  \\\n",
       "1111214  M1  1 1771.00 NaN           NaN        332.97 2665.00       NaN   \n",
       "1126334  M1  1 1737.00 NaN           NaN        337.09 2665.00       NaN   \n",
       "\n",
       "         At2 (mm)       Ft   Fm  ec (cm3)  ep (KW)  z (Wh/km)   IT  \\\n",
       "1111214       NaN  UNKNOWN  NaN   1199.00    96.00        NaN  NaN   \n",
       "1126334       NaN  UNKNOWN  NaN   1199.00    96.00        NaN  NaN   \n",
       "\n",
       "         Ernedc (g/km)  Erwltp (g/km)  De  Vf Status Date of registration  \\\n",
       "1111214            NaN            NaN NaN NaN      P           2022-07-27   \n",
       "1126334            NaN            NaN NaN NaN      P           2022-07-27   \n",
       "\n",
       "         Fuel consumption   Electric range (km)  \n",
       "1111214                NaN                  NaN  \n",
       "1126334                NaN                  NaN  "
      ]
     },
     "execution_count": 62,
     "metadata": {},
     "output_type": "execute_result"
    }
   ],
   "source": [
    "df[df['Fm'].isna()].iloc[:2]"
   ]
  },
  {
   "cell_type": "markdown",
   "metadata": {},
   "source": [
    "## ec (cm3) - Engine capacity\n",
    "\n",
    "ec (cm3) c'est la cylindrée. La cylindrée du moteur est un indicateur important de la taille du moteur et de sa puissance potentielle. Plus la cylindrée est grande, plus le moteur a la capacité de brûler davantage de carburant et de générer plus de puissance. Cependant, une plus grande cylindrée peut également entraîner une consommation de carburant plus élevée.\n",
    "\n",
    "**mon avis**: gaffe aux outliers. Var numérique intéressante"
   ]
  },
  {
   "cell_type": "code",
   "execution_count": 68,
   "metadata": {},
   "outputs": [
    {
     "name": "stdout",
     "output_type": "stream",
     "text": [
      "On compte 265 valeurs uniques et 1022765 NaN, quelques exemples de valeurs de ec (cm3):\n",
      "\n",
      "[999.0, 1591.0, 1332.0, 1968.0, 1984.0]\n"
     ]
    }
   ],
   "source": [
    "print(f\"On compte {nombre_val_unique['ec (cm3)']} valeurs uniques et {df[df['ec (cm3)'].isna()].shape[0]} NaN, quelques exemples de valeurs de ec (cm3):\\n\\n{valeurs_uniques['ec (cm3)'][:5]}\")"
   ]
  },
  {
   "cell_type": "code",
   "execution_count": 69,
   "metadata": {},
   "outputs": [
    {
     "data": {
      "text/plain": [
       "count   6548884.00\n",
       "mean       1543.33\n",
       "std         516.81\n",
       "min           4.00\n",
       "25%        1197.00\n",
       "50%        1498.00\n",
       "75%        1968.00\n",
       "max        7993.00\n",
       "Name: ec (cm3), dtype: float64"
      ]
     },
     "execution_count": 69,
     "metadata": {},
     "output_type": "execute_result"
    }
   ],
   "source": [
    "df['ec (cm3)'].describe()"
   ]
  },
  {
   "cell_type": "code",
   "execution_count": 77,
   "metadata": {},
   "outputs": [
    {
     "data": {
      "image/png": "[encoded data removed]",
      "text/plain": [
       "<Figure size 640x480 with 1 Axes>"
      ]
     },
     "metadata": {},
     "output_type": "display_data"
    }
   ],
   "source": [
    "sns.histplot(df, x='ec (cm3)')\n",
    "plt.show()"
   ]
  },
  {
   "cell_type": "markdown",
   "metadata": {},
   "source": [
    "## ep (KW) - Engine power\n",
    "\n"
   ]
  },
  {
   "cell_type": "code",
   "execution_count": null,
   "metadata": {},
   "outputs": [],
   "source": []
  },
  {
   "cell_type": "code",
   "execution_count": null,
   "metadata": {},
   "outputs": [],
   "source": []
  },
  {
   "cell_type": "code",
   "execution_count": null,
   "metadata": {},
   "outputs": [],
   "source": []
  },
  {
   "cell_type": "code",
   "execution_count": null,
   "metadata": {},
   "outputs": [],
   "source": []
  },
  {
   "cell_type": "code",
   "execution_count": null,
   "metadata": {},
   "outputs": [],
   "source": []
  },
  {
   "cell_type": "code",
   "execution_count": null,
   "metadata": {},
   "outputs": [],
   "source": []
  },
  {
   "cell_type": "code",
   "execution_count": null,
   "metadata": {},
   "outputs": [],
   "source": []
  },
  {
   "cell_type": "code",
   "execution_count": null,
   "metadata": {},
   "outputs": [],
   "source": []
  },
  {
   "cell_type": "code",
   "execution_count": null,
   "metadata": {},
   "outputs": [],
   "source": []
  },
  {
   "cell_type": "code",
   "execution_count": null,
   "metadata": {},
   "outputs": [],
   "source": []
  },
  {
   "cell_type": "code",
   "execution_count": null,
   "metadata": {},
   "outputs": [],
   "source": []
  },
  {
   "cell_type": "code",
   "execution_count": null,
   "metadata": {},
   "outputs": [],
   "source": []
  },
  {
   "cell_type": "code",
   "execution_count": null,
   "metadata": {},
   "outputs": [],
   "source": []
  },
  {
   "cell_type": "code",
   "execution_count": null,
   "metadata": {},
   "outputs": [],
   "source": []
  },
  {
   "cell_type": "code",
   "execution_count": null,
   "metadata": {},
   "outputs": [],
   "source": []
  },
  {
   "cell_type": "code",
   "execution_count": null,
   "metadata": {},
   "outputs": [],
   "source": []
  },
  {
   "cell_type": "code",
   "execution_count": null,
   "metadata": {},
   "outputs": [],
   "source": []
  },
  {
   "cell_type": "code",
   "execution_count": null,
   "metadata": {},
   "outputs": [],
   "source": []
  },
  {
   "cell_type": "code",
   "execution_count": null,
   "metadata": {},
   "outputs": [],
   "source": []
  },
  {
   "cell_type": "code",
   "execution_count": null,
   "metadata": {},
   "outputs": [],
   "source": []
  },
  {
   "cell_type": "code",
   "execution_count": null,
   "metadata": {},
   "outputs": [],
   "source": []
  },
  {
   "cell_type": "code",
   "execution_count": null,
   "metadata": {},
   "outputs": [],
   "source": []
  },
  {
   "cell_type": "code",
   "execution_count": null,
   "metadata": {},
   "outputs": [],
   "source": []
  },
  {
   "cell_type": "code",
   "execution_count": null,
   "metadata": {},
   "outputs": [],
   "source": []
  },
  {
   "cell_type": "code",
   "execution_count": null,
   "metadata": {},
   "outputs": [],
   "source": []
  },
  {
   "cell_type": "code",
   "execution_count": null,
   "metadata": {},
   "outputs": [],
   "source": []
  },
  {
   "cell_type": "code",
   "execution_count": null,
   "metadata": {},
   "outputs": [],
   "source": []
  },
  {
   "cell_type": "code",
   "execution_count": null,
   "metadata": {},
   "outputs": [],
   "source": []
  },
  {
   "cell_type": "code",
   "execution_count": null,
   "metadata": {},
   "outputs": [],
   "source": []
  },
  {
   "cell_type": "code",
   "execution_count": null,
   "metadata": {},
   "outputs": [],
   "source": []
  },
  {
   "cell_type": "code",
   "execution_count": null,
   "metadata": {},
   "outputs": [],
   "source": []
  },
  {
   "cell_type": "code",
   "execution_count": null,
   "metadata": {},
   "outputs": [],
   "source": []
  },
  {
   "cell_type": "code",
   "execution_count": null,
   "metadata": {},
   "outputs": [],
   "source": []
  },
  {
   "cell_type": "code",
   "execution_count": null,
   "metadata": {},
   "outputs": [],
   "source": []
  },
  {
   "cell_type": "code",
   "execution_count": null,
   "metadata": {},
   "outputs": [],
   "source": []
  },
  {
   "cell_type": "code",
   "execution_count": null,
   "metadata": {},
   "outputs": [],
   "source": []
  },
  {
   "cell_type": "code",
   "execution_count": null,
   "metadata": {},
   "outputs": [],
   "source": []
  },
  {
   "cell_type": "code",
   "execution_count": null,
   "metadata": {},
   "outputs": [],
   "source": []
  },
  {
   "cell_type": "code",
   "execution_count": null,
   "metadata": {},
   "outputs": [],
   "source": []
  },
  {
   "cell_type": "code",
   "execution_count": null,
   "metadata": {},
   "outputs": [],
   "source": []
  },
  {
   "cell_type": "code",
   "execution_count": null,
   "metadata": {},
   "outputs": [],
   "source": []
  },
  {
   "cell_type": "code",
   "execution_count": null,
   "metadata": {},
   "outputs": [],
   "source": []
  },
  {
   "cell_type": "code",
   "execution_count": null,
   "metadata": {},
   "outputs": [],
   "source": []
  },
  {
   "cell_type": "code",
   "execution_count": null,
   "metadata": {},
   "outputs": [],
   "source": []
  },
  {
   "cell_type": "code",
   "execution_count": null,
   "metadata": {},
   "outputs": [],
   "source": []
  },
  {
   "cell_type": "code",
   "execution_count": null,
   "metadata": {},
   "outputs": [],
   "source": []
  },
  {
   "cell_type": "code",
   "execution_count": null,
   "metadata": {},
   "outputs": [],
   "source": []
  },
  {
   "cell_type": "code",
   "execution_count": null,
   "metadata": {},
   "outputs": [],
   "source": []
  },
  {
   "cell_type": "code",
   "execution_count": null,
   "metadata": {},
   "outputs": [],
   "source": []
  },
  {
   "cell_type": "code",
   "execution_count": null,
   "metadata": {},
   "outputs": [],
   "source": []
  }
 ],
 "metadata": {
  "kernelspec": {
   "display_name": "mining_venv",
   "language": "python",
   "name": "python3"
  },
  "language_info": {
   "codemirror_mode": {
    "name": "ipython",
    "version": 3
   },
   "file_extension": ".py",
   "mimetype": "text/x-python",
   "name": "python",
   "nbconvert_exporter": "python",
   "pygments_lexer": "ipython3",
   "version": "3.10.0"
  },
  "orig_nbformat": 4
 },
 "nbformat": 4,
 "nbformat_minor": 2
}
