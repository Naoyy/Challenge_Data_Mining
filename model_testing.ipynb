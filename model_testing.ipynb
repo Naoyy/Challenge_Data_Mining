{
 "cells": [
  {
   "cell_type": "code",
   "execution_count": 1,
   "metadata": {},
   "outputs": [],
   "source": [
    "import numpy as np\n",
    "import pandas as pd\n",
    "import seaborn as sns\n",
    "from src.preprocessing import display_missing_values\n",
    "import matplotlib.pyplot as plt\n",
    "pd.set_option('display.max_columns', None)\n",
    "pd.set_option('display.float_format', '{:.2f}'.format)\n",
    "sns.set_theme(style=\"ticks\", palette=\"pastel\")\n",
    "\n",
    "from sklearn.preprocessing import PolynomialFeatures, RobustScaler, StandardScaler, MinMaxScaler\n",
    "from sklearn.model_selection import train_test_split, GridSearchCV\n",
    "from sklearn.metrics import mean_absolute_error\n",
    "from sklearn.ensemble import RandomForestRegressor, HistGradientBoostingRegressor\n",
    "from sklearn.metrics import mean_absolute_error"
   ]
  },
  {
   "cell_type": "code",
   "execution_count": 2,
   "metadata": {},
   "outputs": [],
   "source": [
    "from fonctions import Dataset, group_fuel_types\n"
   ]
  },
  {
   "cell_type": "code",
   "execution_count": 3,
   "metadata": {},
   "outputs": [],
   "source": [
    "train=Dataset(\"data/train.csv\")\n",
    "data_train=train.load_data()\n",
    "test=Dataset(\"data/test.csv\")\n",
    "data_test=test.load_data()"
   ]
  },
  {
   "cell_type": "code",
   "execution_count": 4,
   "metadata": {},
   "outputs": [],
   "source": [
    "from fonctions import Preprocessor,TrainPreprocessor,TestPreprocessor\n",
    "train_preprocessor=TrainPreprocessor(data_train)\n",
    "test_preprocessor=TestPreprocessor(data_test)"
   ]
  },
  {
   "cell_type": "code",
   "execution_count": 5,
   "metadata": {},
   "outputs": [],
   "source": [
    "variables_continues=[\"Fuel consumption \",\"Electric range (km)\",\"ec (cm3)\",\"z (Wh/km)\",\"W (mm)\"]"
   ]
  },
  {
   "cell_type": "code",
   "execution_count": 6,
   "metadata": {},
   "outputs": [],
   "source": [
    "train_preprocessor.fill_fuel_consumption()\n",
    "train_preprocessor.fill_electric_range()\n",
    "train_preprocessor.fill_engine_capacity()\n",
    "train_preprocessor.fill_electric_consumption()\n",
    "train_preprocessor.fill_category_type()\n",
    "train_preprocessor.fill_wheel_base()\n",
    "train_preprocessor.fill_At_1()\n",
    "train_preprocessor.fill_At_2()\n",
    "train_preprocessor.fill_mass()\n",
    "train_preprocessor.fill_engine_power()\n",
    "train_preprocessor.encode_country()\n",
    "train_preprocessor.encode_manufacture_pooling()\n",
    "train_preprocessor.encode_fuel_mode()\n",
    "train_preprocessor.encode_fuel_type()\n",
    "train_preprocessor.encode_category_registered()\n",
    "train_preprocessor.encode_category_type()\n",
    "train_preprocessor.last_step()\n",
    "\n",
    "test_preprocessor.fill_fuel_consumption()\n",
    "test_preprocessor.fill_electric_range()\n",
    "test_preprocessor.fill_engine_capacity()\n",
    "test_preprocessor.fill_electric_consumption()\n",
    "test_preprocessor.fill_category_type()\n",
    "test_preprocessor.fill_wheel_base()\n",
    "test_preprocessor.fill_At_1()\n",
    "test_preprocessor.fill_At_2()\n",
    "test_preprocessor.fill_mass()\n",
    "test_preprocessor.fill_engine_power()\n",
    "test_preprocessor.encode_country()\n",
    "test_preprocessor.encode_manufacture_pooling()\n",
    "test_preprocessor.encode_fuel_mode()\n",
    "test_preprocessor.encode_fuel_type()\n",
    "test_preprocessor.encode_category_registered()\n",
    "test_preprocessor.encode_category_type()\n",
    "test_preprocessor.last_step()"
   ]
  },
  {
   "cell_type": "code",
   "execution_count": 7,
   "metadata": {},
   "outputs": [
    {
     "data": {
      "text/plain": [
       "11"
      ]
     },
     "execution_count": 7,
     "metadata": {},
     "output_type": "execute_result"
    }
   ],
   "source": [
    "data_train[\"Mp\"].nunique()"
   ]
  },
  {
   "cell_type": "code",
   "execution_count": 8,
   "metadata": {},
   "outputs": [],
   "source": [
    "# scaler=StandardScaler()"
   ]
  },
  {
   "cell_type": "code",
   "execution_count": 9,
   "metadata": {},
   "outputs": [],
   "source": [
    "# data_train[variables_continues]=scaler.fit_transform(data_train[variables_continues])"
   ]
  },
  {
   "cell_type": "code",
   "execution_count": 10,
   "metadata": {},
   "outputs": [],
   "source": [
    "# data_test[variables_continues]=scaler.transform(data_test[variables_continues])"
   ]
  },
  {
   "cell_type": "markdown",
   "metadata": {},
   "source": [
    "### Test de non-linéarité des variables quantitatives "
   ]
  },
  {
   "cell_type": "code",
   "execution_count": 11,
   "metadata": {},
   "outputs": [],
   "source": [
    "others=[col for col in data_train.columns if col not in variables_continues]"
   ]
  },
  {
   "cell_type": "code",
   "execution_count": 12,
   "metadata": {},
   "outputs": [],
   "source": [
    "# poly = PolynomialFeatures(degree=2,)\n",
    "\n",
    "# # Application de la transformation aux variables continues\n",
    "# variables_continues_transformees = poly.fit_transform(data_train[variables_continues])\n",
    "\n",
    "# data_train_transforme = pd.DataFrame(variables_continues_transformees, columns=poly.get_feature_names_out(variables_continues))\n",
    "# data_train= pd.concat([data_train[others],data_train_transforme], axis=1)\n",
    "\n"
   ]
  },
  {
   "cell_type": "code",
   "execution_count": 13,
   "metadata": {},
   "outputs": [],
   "source": [
    "# variables_continues_transformees = poly.fit_transform(data_test[variables_continues])\n",
    "\n",
    "# data_test_transforme = pd.DataFrame(variables_continues_transformees, columns=poly.get_feature_names_out(variables_continues))\n",
    "# data_test= pd.concat([data_test[list(filter(lambda x: x !='Ewltp (g/km)',others))],data_train_transforme], axis=1)"
   ]
  },
  {
   "cell_type": "code",
   "execution_count": 14,
   "metadata": {},
   "outputs": [],
   "source": [
    "def create_conforme(df):\n",
    "    # df['conforme'] = df['Tan'].isna()\n",
    "    df['conforme'] = df['Tan'].apply(lambda x: 1 if x else 0)\n",
    "    df.drop(columns='Tan', inplace=True)\n",
    "    pass\n",
    "\n",
    "def compute_surface(obs):\n",
    "    max_largeur= max(obs['At1 (mm)'], obs['At2 (mm)'])\n",
    "    return obs['W (mm)']*obs['At1 (mm)'] if max_largeur == obs['At1 (mm)'] else obs['W (mm)'] * obs['At2 (mm)']\n",
    "\n",
    "compute_surface_bis=lambda obs: obs['W (mm)']*(obs['At1 (mm)']+ obs['At2 (mm)'])/2\n",
    "\n",
    "def create_surface(df):\n",
    "    df['surface']= df.apply(compute_surface_bis, axis=1)\n",
    "    pass"
   ]
  },
  {
   "cell_type": "code",
   "execution_count": 15,
   "metadata": {},
   "outputs": [],
   "source": [
    "create_conforme(data_train)\n",
    "create_surface(data_train)\n",
    "\n",
    "create_conforme(data_test)\n",
    "create_surface(data_test)"
   ]
  },
  {
   "cell_type": "code",
   "execution_count": 16,
   "metadata": {},
   "outputs": [],
   "source": [
    "drop_this=['VFN', 'Mh','Man', 'T', 'Mk', 'Cn','Mt','W (mm)', 'At1 (mm)', 'At2 (mm)','Fm','Erwltp (g/km)']\n",
    "\n",
    "data_train.drop(columns=drop_this, inplace=True)\n",
    "data_test.drop(columns=drop_this, inplace=True)"
   ]
  },
  {
   "cell_type": "code",
   "execution_count": 17,
   "metadata": {},
   "outputs": [],
   "source": [
    "data_train.drop(columns='ID',inplace=True)"
   ]
  },
  {
   "cell_type": "code",
   "execution_count": 18,
   "metadata": {},
   "outputs": [
    {
     "data": {
      "text/html": [
       "<div>\n",
       "<style scoped>\n",
       "    .dataframe tbody tr th:only-of-type {\n",
       "        vertical-align: middle;\n",
       "    }\n",
       "\n",
       "    .dataframe tbody tr th {\n",
       "        vertical-align: top;\n",
       "    }\n",
       "\n",
       "    .dataframe thead th {\n",
       "        text-align: right;\n",
       "    }\n",
       "</style>\n",
       "<table border=\"1\" class=\"dataframe\">\n",
       "  <thead>\n",
       "    <tr style=\"text-align: right;\">\n",
       "      <th></th>\n",
       "      <th>Country</th>\n",
       "      <th>Mp</th>\n",
       "      <th>Ct</th>\n",
       "      <th>Cr</th>\n",
       "      <th>m (kg)</th>\n",
       "      <th>Ewltp (g/km)</th>\n",
       "      <th>Ft</th>\n",
       "      <th>ep (KW)</th>\n",
       "      <th>1</th>\n",
       "      <th>Fuel consumption</th>\n",
       "      <th>Electric range (km)</th>\n",
       "      <th>ec (cm3)</th>\n",
       "      <th>z (Wh/km)</th>\n",
       "      <th>Fuel consumption ^2</th>\n",
       "      <th>Fuel consumption  Electric range (km)</th>\n",
       "      <th>Fuel consumption  ec (cm3)</th>\n",
       "      <th>Fuel consumption  z (Wh/km)</th>\n",
       "      <th>Fuel consumption  W (mm)</th>\n",
       "      <th>Electric range (km)^2</th>\n",
       "      <th>Electric range (km) ec (cm3)</th>\n",
       "      <th>Electric range (km) z (Wh/km)</th>\n",
       "      <th>Electric range (km) W (mm)</th>\n",
       "      <th>ec (cm3)^2</th>\n",
       "      <th>ec (cm3) z (Wh/km)</th>\n",
       "      <th>ec (cm3) W (mm)</th>\n",
       "      <th>z (Wh/km)^2</th>\n",
       "      <th>z (Wh/km) W (mm)</th>\n",
       "      <th>W (mm)^2</th>\n",
       "      <th>conforme</th>\n",
       "      <th>surface</th>\n",
       "    </tr>\n",
       "  </thead>\n",
       "  <tbody>\n",
       "    <tr>\n",
       "      <th>0</th>\n",
       "      <td>5</td>\n",
       "      <td>1</td>\n",
       "      <td>0.00</td>\n",
       "      <td>0.00</td>\n",
       "      <td>1387.00</td>\n",
       "      <td>401.05</td>\n",
       "      <td>8.00</td>\n",
       "      <td>92.00</td>\n",
       "      <td>1.00</td>\n",
       "      <td>5.60</td>\n",
       "      <td>0.00</td>\n",
       "      <td>999.00</td>\n",
       "      <td>0.00</td>\n",
       "      <td>31.36</td>\n",
       "      <td>0.00</td>\n",
       "      <td>5594.40</td>\n",
       "      <td>0.00</td>\n",
       "      <td>15120.00</td>\n",
       "      <td>0.00</td>\n",
       "      <td>0.00</td>\n",
       "      <td>0.00</td>\n",
       "      <td>0.00</td>\n",
       "      <td>998001.00</td>\n",
       "      <td>0.00</td>\n",
       "      <td>2697300.00</td>\n",
       "      <td>0.00</td>\n",
       "      <td>0.00</td>\n",
       "      <td>7290000.00</td>\n",
       "      <td>1</td>\n",
       "      <td>4248450.00</td>\n",
       "    </tr>\n",
       "    <tr>\n",
       "      <th>1</th>\n",
       "      <td>10</td>\n",
       "      <td>10</td>\n",
       "      <td>0.00</td>\n",
       "      <td>0.00</td>\n",
       "      <td>1172.00</td>\n",
       "      <td>394.68</td>\n",
       "      <td>8.00</td>\n",
       "      <td>70.00</td>\n",
       "      <td>1.00</td>\n",
       "      <td>5.50</td>\n",
       "      <td>0.00</td>\n",
       "      <td>999.00</td>\n",
       "      <td>0.00</td>\n",
       "      <td>30.25</td>\n",
       "      <td>0.00</td>\n",
       "      <td>5494.50</td>\n",
       "      <td>0.00</td>\n",
       "      <td>14036.00</td>\n",
       "      <td>0.00</td>\n",
       "      <td>0.00</td>\n",
       "      <td>0.00</td>\n",
       "      <td>0.00</td>\n",
       "      <td>998001.00</td>\n",
       "      <td>0.00</td>\n",
       "      <td>2549448.00</td>\n",
       "      <td>0.00</td>\n",
       "      <td>0.00</td>\n",
       "      <td>6512704.00</td>\n",
       "      <td>1</td>\n",
       "      <td>3806308.00</td>\n",
       "    </tr>\n",
       "    <tr>\n",
       "      <th>2</th>\n",
       "      <td>10</td>\n",
       "      <td>10</td>\n",
       "      <td>0.00</td>\n",
       "      <td>0.00</td>\n",
       "      <td>1204.00</td>\n",
       "      <td>398.56</td>\n",
       "      <td>8.00</td>\n",
       "      <td>70.00</td>\n",
       "      <td>1.00</td>\n",
       "      <td>5.60</td>\n",
       "      <td>0.00</td>\n",
       "      <td>999.00</td>\n",
       "      <td>0.00</td>\n",
       "      <td>31.36</td>\n",
       "      <td>0.00</td>\n",
       "      <td>5594.40</td>\n",
       "      <td>0.00</td>\n",
       "      <td>14291.20</td>\n",
       "      <td>0.00</td>\n",
       "      <td>0.00</td>\n",
       "      <td>0.00</td>\n",
       "      <td>0.00</td>\n",
       "      <td>998001.00</td>\n",
       "      <td>0.00</td>\n",
       "      <td>2549448.00</td>\n",
       "      <td>0.00</td>\n",
       "      <td>0.00</td>\n",
       "      <td>6512704.00</td>\n",
       "      <td>1</td>\n",
       "      <td>3806308.00</td>\n",
       "    </tr>\n",
       "    <tr>\n",
       "      <th>3</th>\n",
       "      <td>5</td>\n",
       "      <td>3</td>\n",
       "      <td>0.00</td>\n",
       "      <td>0.00</td>\n",
       "      <td>1438.00</td>\n",
       "      <td>479.47</td>\n",
       "      <td>8.00</td>\n",
       "      <td>150.00</td>\n",
       "      <td>1.00</td>\n",
       "      <td>6.80</td>\n",
       "      <td>0.00</td>\n",
       "      <td>1591.00</td>\n",
       "      <td>0.00</td>\n",
       "      <td>46.24</td>\n",
       "      <td>0.00</td>\n",
       "      <td>10818.80</td>\n",
       "      <td>0.00</td>\n",
       "      <td>18020.00</td>\n",
       "      <td>0.00</td>\n",
       "      <td>0.00</td>\n",
       "      <td>0.00</td>\n",
       "      <td>0.00</td>\n",
       "      <td>2531281.00</td>\n",
       "      <td>0.00</td>\n",
       "      <td>4216150.00</td>\n",
       "      <td>0.00</td>\n",
       "      <td>0.00</td>\n",
       "      <td>7022500.00</td>\n",
       "      <td>1</td>\n",
       "      <td>4131350.00</td>\n",
       "    </tr>\n",
       "    <tr>\n",
       "      <th>4</th>\n",
       "      <td>10</td>\n",
       "      <td>10</td>\n",
       "      <td>0.00</td>\n",
       "      <td>0.00</td>\n",
       "      <td>1207.00</td>\n",
       "      <td>421.85</td>\n",
       "      <td>8.00</td>\n",
       "      <td>81.00</td>\n",
       "      <td>1.00</td>\n",
       "      <td>5.90</td>\n",
       "      <td>0.00</td>\n",
       "      <td>999.00</td>\n",
       "      <td>0.00</td>\n",
       "      <td>34.81</td>\n",
       "      <td>0.00</td>\n",
       "      <td>5894.10</td>\n",
       "      <td>0.00</td>\n",
       "      <td>15056.80</td>\n",
       "      <td>0.00</td>\n",
       "      <td>0.00</td>\n",
       "      <td>0.00</td>\n",
       "      <td>0.00</td>\n",
       "      <td>998001.00</td>\n",
       "      <td>0.00</td>\n",
       "      <td>2549448.00</td>\n",
       "      <td>0.00</td>\n",
       "      <td>0.00</td>\n",
       "      <td>6512704.00</td>\n",
       "      <td>1</td>\n",
       "      <td>3806308.00</td>\n",
       "    </tr>\n",
       "    <tr>\n",
       "      <th>...</th>\n",
       "      <td>...</td>\n",
       "      <td>...</td>\n",
       "      <td>...</td>\n",
       "      <td>...</td>\n",
       "      <td>...</td>\n",
       "      <td>...</td>\n",
       "      <td>...</td>\n",
       "      <td>...</td>\n",
       "      <td>...</td>\n",
       "      <td>...</td>\n",
       "      <td>...</td>\n",
       "      <td>...</td>\n",
       "      <td>...</td>\n",
       "      <td>...</td>\n",
       "      <td>...</td>\n",
       "      <td>...</td>\n",
       "      <td>...</td>\n",
       "      <td>...</td>\n",
       "      <td>...</td>\n",
       "      <td>...</td>\n",
       "      <td>...</td>\n",
       "      <td>...</td>\n",
       "      <td>...</td>\n",
       "      <td>...</td>\n",
       "      <td>...</td>\n",
       "      <td>...</td>\n",
       "      <td>...</td>\n",
       "      <td>...</td>\n",
       "      <td>...</td>\n",
       "      <td>...</td>\n",
       "    </tr>\n",
       "    <tr>\n",
       "      <th>7571644</th>\n",
       "      <td>10</td>\n",
       "      <td>10</td>\n",
       "      <td>0.00</td>\n",
       "      <td>0.00</td>\n",
       "      <td>1815.00</td>\n",
       "      <td>481.85</td>\n",
       "      <td>0.00</td>\n",
       "      <td>120.00</td>\n",
       "      <td>1.00</td>\n",
       "      <td>5.90</td>\n",
       "      <td>0.00</td>\n",
       "      <td>1968.00</td>\n",
       "      <td>0.00</td>\n",
       "      <td>34.81</td>\n",
       "      <td>0.00</td>\n",
       "      <td>11611.20</td>\n",
       "      <td>0.00</td>\n",
       "      <td>16691.10</td>\n",
       "      <td>0.00</td>\n",
       "      <td>0.00</td>\n",
       "      <td>0.00</td>\n",
       "      <td>0.00</td>\n",
       "      <td>3873024.00</td>\n",
       "      <td>0.00</td>\n",
       "      <td>5567472.00</td>\n",
       "      <td>0.00</td>\n",
       "      <td>0.00</td>\n",
       "      <td>8003241.00</td>\n",
       "      <td>1</td>\n",
       "      <td>4594296.00</td>\n",
       "    </tr>\n",
       "    <tr>\n",
       "      <th>7571645</th>\n",
       "      <td>10</td>\n",
       "      <td>10</td>\n",
       "      <td>0.00</td>\n",
       "      <td>0.00</td>\n",
       "      <td>1815.00</td>\n",
       "      <td>486.40</td>\n",
       "      <td>0.00</td>\n",
       "      <td>120.00</td>\n",
       "      <td>1.00</td>\n",
       "      <td>5.90</td>\n",
       "      <td>0.00</td>\n",
       "      <td>1968.00</td>\n",
       "      <td>0.00</td>\n",
       "      <td>34.81</td>\n",
       "      <td>0.00</td>\n",
       "      <td>11611.20</td>\n",
       "      <td>0.00</td>\n",
       "      <td>16691.10</td>\n",
       "      <td>0.00</td>\n",
       "      <td>0.00</td>\n",
       "      <td>0.00</td>\n",
       "      <td>0.00</td>\n",
       "      <td>3873024.00</td>\n",
       "      <td>0.00</td>\n",
       "      <td>5567472.00</td>\n",
       "      <td>0.00</td>\n",
       "      <td>0.00</td>\n",
       "      <td>8003241.00</td>\n",
       "      <td>1</td>\n",
       "      <td>4594296.00</td>\n",
       "    </tr>\n",
       "    <tr>\n",
       "      <th>7571646</th>\n",
       "      <td>10</td>\n",
       "      <td>10</td>\n",
       "      <td>0.00</td>\n",
       "      <td>0.00</td>\n",
       "      <td>1815.00</td>\n",
       "      <td>487.87</td>\n",
       "      <td>0.00</td>\n",
       "      <td>120.00</td>\n",
       "      <td>1.00</td>\n",
       "      <td>5.90</td>\n",
       "      <td>0.00</td>\n",
       "      <td>1968.00</td>\n",
       "      <td>0.00</td>\n",
       "      <td>34.81</td>\n",
       "      <td>0.00</td>\n",
       "      <td>11611.20</td>\n",
       "      <td>0.00</td>\n",
       "      <td>16691.10</td>\n",
       "      <td>0.00</td>\n",
       "      <td>0.00</td>\n",
       "      <td>0.00</td>\n",
       "      <td>0.00</td>\n",
       "      <td>3873024.00</td>\n",
       "      <td>0.00</td>\n",
       "      <td>5567472.00</td>\n",
       "      <td>0.00</td>\n",
       "      <td>0.00</td>\n",
       "      <td>8003241.00</td>\n",
       "      <td>1</td>\n",
       "      <td>4594296.00</td>\n",
       "    </tr>\n",
       "    <tr>\n",
       "      <th>7571647</th>\n",
       "      <td>16</td>\n",
       "      <td>6</td>\n",
       "      <td>0.00</td>\n",
       "      <td>0.00</td>\n",
       "      <td>1240.00</td>\n",
       "      <td>350.80</td>\n",
       "      <td>5.00</td>\n",
       "      <td>68.00</td>\n",
       "      <td>1.00</td>\n",
       "      <td>6.20</td>\n",
       "      <td>0.00</td>\n",
       "      <td>999.00</td>\n",
       "      <td>0.00</td>\n",
       "      <td>38.44</td>\n",
       "      <td>0.00</td>\n",
       "      <td>6193.80</td>\n",
       "      <td>0.00</td>\n",
       "      <td>15655.00</td>\n",
       "      <td>0.00</td>\n",
       "      <td>0.00</td>\n",
       "      <td>0.00</td>\n",
       "      <td>0.00</td>\n",
       "      <td>998001.00</td>\n",
       "      <td>0.00</td>\n",
       "      <td>2522475.00</td>\n",
       "      <td>0.00</td>\n",
       "      <td>0.00</td>\n",
       "      <td>6375625.00</td>\n",
       "      <td>1</td>\n",
       "      <td>3825375.00</td>\n",
       "    </tr>\n",
       "    <tr>\n",
       "      <th>7571648</th>\n",
       "      <td>6</td>\n",
       "      <td>8</td>\n",
       "      <td>0.00</td>\n",
       "      <td>0.00</td>\n",
       "      <td>1327.00</td>\n",
       "      <td>345.50</td>\n",
       "      <td>8.00</td>\n",
       "      <td>72.00</td>\n",
       "      <td>1.00</td>\n",
       "      <td>5.40</td>\n",
       "      <td>0.00</td>\n",
       "      <td>1498.00</td>\n",
       "      <td>0.00</td>\n",
       "      <td>29.16</td>\n",
       "      <td>0.00</td>\n",
       "      <td>8089.20</td>\n",
       "      <td>0.00</td>\n",
       "      <td>13608.00</td>\n",
       "      <td>0.00</td>\n",
       "      <td>0.00</td>\n",
       "      <td>0.00</td>\n",
       "      <td>0.00</td>\n",
       "      <td>2244004.00</td>\n",
       "      <td>0.00</td>\n",
       "      <td>3774960.00</td>\n",
       "      <td>0.00</td>\n",
       "      <td>0.00</td>\n",
       "      <td>6350400.00</td>\n",
       "      <td>1</td>\n",
       "      <td>3758580.00</td>\n",
       "    </tr>\n",
       "  </tbody>\n",
       "</table>\n",
       "<p>7571649 rows × 30 columns</p>\n",
       "</div>"
      ],
      "text/plain": [
       "         Country  Mp   Ct   Cr  m (kg)  Ewltp (g/km)   Ft  ep (KW)    1  \\\n",
       "0              5   1 0.00 0.00 1387.00        401.05 8.00    92.00 1.00   \n",
       "1             10  10 0.00 0.00 1172.00        394.68 8.00    70.00 1.00   \n",
       "2             10  10 0.00 0.00 1204.00        398.56 8.00    70.00 1.00   \n",
       "3              5   3 0.00 0.00 1438.00        479.47 8.00   150.00 1.00   \n",
       "4             10  10 0.00 0.00 1207.00        421.85 8.00    81.00 1.00   \n",
       "...          ...  ..  ...  ...     ...           ...  ...      ...  ...   \n",
       "7571644       10  10 0.00 0.00 1815.00        481.85 0.00   120.00 1.00   \n",
       "7571645       10  10 0.00 0.00 1815.00        486.40 0.00   120.00 1.00   \n",
       "7571646       10  10 0.00 0.00 1815.00        487.87 0.00   120.00 1.00   \n",
       "7571647       16   6 0.00 0.00 1240.00        350.80 5.00    68.00 1.00   \n",
       "7571648        6   8 0.00 0.00 1327.00        345.50 8.00    72.00 1.00   \n",
       "\n",
       "         Fuel consumption   Electric range (km)  ec (cm3)  z (Wh/km)  \\\n",
       "0                     5.60                 0.00    999.00       0.00   \n",
       "1                     5.50                 0.00    999.00       0.00   \n",
       "2                     5.60                 0.00    999.00       0.00   \n",
       "3                     6.80                 0.00   1591.00       0.00   \n",
       "4                     5.90                 0.00    999.00       0.00   \n",
       "...                    ...                  ...       ...        ...   \n",
       "7571644               5.90                 0.00   1968.00       0.00   \n",
       "7571645               5.90                 0.00   1968.00       0.00   \n",
       "7571646               5.90                 0.00   1968.00       0.00   \n",
       "7571647               6.20                 0.00    999.00       0.00   \n",
       "7571648               5.40                 0.00   1498.00       0.00   \n",
       "\n",
       "         Fuel consumption ^2  Fuel consumption  Electric range (km)  \\\n",
       "0                      31.36                                   0.00   \n",
       "1                      30.25                                   0.00   \n",
       "2                      31.36                                   0.00   \n",
       "3                      46.24                                   0.00   \n",
       "4                      34.81                                   0.00   \n",
       "...                      ...                                    ...   \n",
       "7571644                34.81                                   0.00   \n",
       "7571645                34.81                                   0.00   \n",
       "7571646                34.81                                   0.00   \n",
       "7571647                38.44                                   0.00   \n",
       "7571648                29.16                                   0.00   \n",
       "\n",
       "         Fuel consumption  ec (cm3)  Fuel consumption  z (Wh/km)  \\\n",
       "0                           5594.40                         0.00   \n",
       "1                           5494.50                         0.00   \n",
       "2                           5594.40                         0.00   \n",
       "3                          10818.80                         0.00   \n",
       "4                           5894.10                         0.00   \n",
       "...                             ...                          ...   \n",
       "7571644                    11611.20                         0.00   \n",
       "7571645                    11611.20                         0.00   \n",
       "7571646                    11611.20                         0.00   \n",
       "7571647                     6193.80                         0.00   \n",
       "7571648                     8089.20                         0.00   \n",
       "\n",
       "         Fuel consumption  W (mm)  Electric range (km)^2  \\\n",
       "0                        15120.00                   0.00   \n",
       "1                        14036.00                   0.00   \n",
       "2                        14291.20                   0.00   \n",
       "3                        18020.00                   0.00   \n",
       "4                        15056.80                   0.00   \n",
       "...                           ...                    ...   \n",
       "7571644                  16691.10                   0.00   \n",
       "7571645                  16691.10                   0.00   \n",
       "7571646                  16691.10                   0.00   \n",
       "7571647                  15655.00                   0.00   \n",
       "7571648                  13608.00                   0.00   \n",
       "\n",
       "         Electric range (km) ec (cm3)  Electric range (km) z (Wh/km)  \\\n",
       "0                                0.00                           0.00   \n",
       "1                                0.00                           0.00   \n",
       "2                                0.00                           0.00   \n",
       "3                                0.00                           0.00   \n",
       "4                                0.00                           0.00   \n",
       "...                               ...                            ...   \n",
       "7571644                          0.00                           0.00   \n",
       "7571645                          0.00                           0.00   \n",
       "7571646                          0.00                           0.00   \n",
       "7571647                          0.00                           0.00   \n",
       "7571648                          0.00                           0.00   \n",
       "\n",
       "         Electric range (km) W (mm)  ec (cm3)^2  ec (cm3) z (Wh/km)  \\\n",
       "0                              0.00   998001.00                0.00   \n",
       "1                              0.00   998001.00                0.00   \n",
       "2                              0.00   998001.00                0.00   \n",
       "3                              0.00  2531281.00                0.00   \n",
       "4                              0.00   998001.00                0.00   \n",
       "...                             ...         ...                 ...   \n",
       "7571644                        0.00  3873024.00                0.00   \n",
       "7571645                        0.00  3873024.00                0.00   \n",
       "7571646                        0.00  3873024.00                0.00   \n",
       "7571647                        0.00   998001.00                0.00   \n",
       "7571648                        0.00  2244004.00                0.00   \n",
       "\n",
       "         ec (cm3) W (mm)  z (Wh/km)^2  z (Wh/km) W (mm)   W (mm)^2  conforme  \\\n",
       "0             2697300.00         0.00              0.00 7290000.00         1   \n",
       "1             2549448.00         0.00              0.00 6512704.00         1   \n",
       "2             2549448.00         0.00              0.00 6512704.00         1   \n",
       "3             4216150.00         0.00              0.00 7022500.00         1   \n",
       "4             2549448.00         0.00              0.00 6512704.00         1   \n",
       "...                  ...          ...               ...        ...       ...   \n",
       "7571644       5567472.00         0.00              0.00 8003241.00         1   \n",
       "7571645       5567472.00         0.00              0.00 8003241.00         1   \n",
       "7571646       5567472.00         0.00              0.00 8003241.00         1   \n",
       "7571647       2522475.00         0.00              0.00 6375625.00         1   \n",
       "7571648       3774960.00         0.00              0.00 6350400.00         1   \n",
       "\n",
       "           surface  \n",
       "0       4248450.00  \n",
       "1       3806308.00  \n",
       "2       3806308.00  \n",
       "3       4131350.00  \n",
       "4       3806308.00  \n",
       "...            ...  \n",
       "7571644 4594296.00  \n",
       "7571645 4594296.00  \n",
       "7571646 4594296.00  \n",
       "7571647 3825375.00  \n",
       "7571648 3758580.00  \n",
       "\n",
       "[7571649 rows x 30 columns]"
      ]
     },
     "execution_count": 18,
     "metadata": {},
     "output_type": "execute_result"
    }
   ],
   "source": [
    "data_train"
   ]
  },
  {
   "cell_type": "code",
   "execution_count": 19,
   "metadata": {},
   "outputs": [],
   "source": [
    "list_vars=[\"Ewltp (g/km)\", \"m (kg)\",\"ec (cm3)\", \"ep (KW)\", \"z (Wh/km)\", \"Fuel consumption \",\"Electric range (km)\", \"surface\"]"
   ]
  },
  {
   "cell_type": "code",
   "execution_count": 20,
   "metadata": {},
   "outputs": [
    {
     "data": {
      "text/plain": [
       "<function matplotlib.pyplot.show(close=None, block=None)>"
      ]
     },
     "execution_count": 20,
     "metadata": {},
     "output_type": "execute_result"
    },
    {
     "data": {
      "image/png": "[encoded data removed]",
      "text/plain": [
       "<Figure size 640x480 with 2 Axes>"
      ]
     },
     "metadata": {},
     "output_type": "display_data"
    },
    {
     "data": {
      "text/plain": [
       "<Figure size 2000x2000 with 0 Axes>"
      ]
     },
     "metadata": {},
     "output_type": "display_data"
    }
   ],
   "source": [
    "sns.heatmap(data_train[list_vars].corr(method='spearman'),annot=True)\n",
    "plt.figure(figsize=(20,20))\n",
    "plt.show"
   ]
  },
  {
   "cell_type": "code",
   "execution_count": 21,
   "metadata": {},
   "outputs": [],
   "source": [
    "# num_rows = 2\n",
    "# num_cols = 4\n",
    "\n",
    "# # Creating subplots\n",
    "# fig, axes = plt.subplots(num_rows, num_cols, figsize=(15, 8))\n",
    "\n",
    "# # Flatten the axes array for easy iteration\n",
    "# axes = axes.flatten()\n",
    "\n",
    "# # Plotting scatter plots\n",
    "# for i, var in enumerate(list_vars):\n",
    "#     if var != \"Ewltp (g/km)\":\n",
    "#         axes[i].scatter(data_train[var], data_train[\"Ewltp (g/km)\"])\n",
    "#         axes[i].set_title(f\"Scatter plot between {var} and Ewltp (g/km)\")\n",
    "#         axes[i].set_xlabel(var)\n",
    "#         axes[i].set_ylabel(\"Ewltp (g/km)\")\n",
    "\n",
    "# # Adjust layout to prevent clipping\n",
    "# plt.tight_layout()\n",
    "# plt.show()"
   ]
  },
  {
   "cell_type": "code",
   "execution_count": 22,
   "metadata": {},
   "outputs": [],
   "source": [
    "# data_train.drop(columns=['z (Wh/km)',\"m (kg)\",\"surface\"],inplace=True)\n",
    "# data_test.drop(columns=['z (Wh/km)',\"m (kg)\",\"surface\"],inplace=True)"
   ]
  },
  {
   "cell_type": "markdown",
   "metadata": {},
   "source": [
    "### Exploratory Data Analysis"
   ]
  },
  {
   "cell_type": "code",
   "execution_count": 23,
   "metadata": {},
   "outputs": [],
   "source": [
    "from sklearn.linear_model import LassoCV, ElasticNetCV"
   ]
  },
  {
   "cell_type": "code",
   "execution_count": 24,
   "metadata": {},
   "outputs": [],
   "source": [
    "train, test = train_test_split(data_train, test_size=0.33, random_state=0,)\n",
    "\n",
    "train.reset_index(drop=True, inplace=True)\n",
    "test.reset_index(drop=True, inplace=True)\n",
    "\n",
    "X_train, y_train = train.drop(columns=[\"Ewltp (g/km)\"]), train[\"Ewltp (g/km)\"]\n",
    "X_test, y_test = test.drop(columns=[\"Ewltp (g/km)\"]), test[\"Ewltp (g/km)\"]"
   ]
  },
  {
   "cell_type": "code",
   "execution_count": 25,
   "metadata": {},
   "outputs": [
    {
     "name": "stdout",
     "output_type": "stream",
     "text": [
      "Variables sélectionnées par Adaptive LASSO :\n",
      "Index(['Electric range (km) W (mm)', 'ec (cm3)^2', 'ec (cm3) W (mm)',\n",
      "       'z (Wh/km) W (mm)', 'W (mm)^2', 'surface'],\n",
      "      dtype='object')\n"
     ]
    }
   ],
   "source": [
    "lasso = LassoCV(cv=5,)\n",
    "lasso.fit(X_train, y_train)\n",
    "\n",
    "# Affichez les coefficients sélectionnés\n",
    "selected_features = X_train.columns[lasso.coef_ != 0]\n",
    "print(\"Variables sélectionnées par Adaptive LASSO :\")\n",
    "print(selected_features)"
   ]
  },
  {
   "cell_type": "code",
   "execution_count": 26,
   "metadata": {},
   "outputs": [],
   "source": [
    "# elastic_net = ElasticNetCV(cv=5, random_state=42, l1_ratio=0.8)\n",
    "# elastic_net.fit(X_train, y_train)\n",
    "\n",
    "# # Affichez les coefficients sélectionnés\n",
    "# selected_features = X_train.columns[elastic_net.coef_ != 0]\n",
    "# print(\"Variables sélectionnées par Adaptive LASSO :\")\n",
    "# print(selected_features)"
   ]
  },
  {
   "cell_type": "code",
   "execution_count": 27,
   "metadata": {},
   "outputs": [],
   "source": [
    "import xgboost as xgb"
   ]
  },
  {
   "cell_type": "code",
   "execution_count": 28,
   "metadata": {},
   "outputs": [],
   "source": [
    "import numba\n",
    "from numba import cuda"
   ]
  },
  {
   "cell_type": "code",
   "execution_count": 29,
   "metadata": {},
   "outputs": [
    {
     "name": "stderr",
     "output_type": "stream",
     "text": [
      "C:\\Users\\jeann\\AppData\\Local\\Temp\\ipykernel_21428\\13295361.py:2: NumbaDeprecationWarning: \u001b[1mThe 'nopython' keyword argument was not supplied to the 'numba.jit' decorator. The implicit default value for this argument is currently False, but it will be changed to True in Numba 0.59.0. See https://numba.readthedocs.io/en/stable/reference/deprecation.html#deprecation-of-object-mode-fall-back-behaviour-when-using-jit for details.\u001b[0m\n",
      "  def evaluate_model(model, X_test, y_test):\n"
     ]
    }
   ],
   "source": [
    "@numba.jit\n",
    "def evaluate_model(model, X_test, y_test):\n",
    "    y_pred = model.predict(X_test)\n",
    "    mae = mean_absolute_error(y_test, y_pred)\n",
    "    return mae"
   ]
  },
  {
   "cell_type": "code",
   "execution_count": 30,
   "metadata": {},
   "outputs": [],
   "source": [
    "# from hyperopt import STATUS_OK, Trials, fmin, hp, tpe"
   ]
  },
  {
   "cell_type": "code",
   "execution_count": 31,
   "metadata": {},
   "outputs": [],
   "source": [
    "# space={'max_depth': hp.quniform(\"max_depth\", 3, 18, 1),\n",
    "#         'gamma': hp.uniform ('gamma', 1,9),\n",
    "#         'reg_alpha' : hp.quniform('reg_alpha', 40,180,1),\n",
    "#         'reg_lambda' : hp.uniform('reg_lambda', 0,1),\n",
    "#         'colsample_bytree' : hp.uniform('colsample_bytree', 0.5,1),\n",
    "#         'min_child_weight' : hp.quniform('min_child_weight', 0, 10, 1),\n",
    "#         'n_estimators': 1000,\n",
    "#         'seed': 0\n",
    "#     }"
   ]
  },
  {
   "cell_type": "code",
   "execution_count": 32,
   "metadata": {},
   "outputs": [],
   "source": [
    "# space_bis={'max_depth': hp.quniform(\"max_depth\", 3, 18, 1),\n",
    "#            'n_estimators': 1500,\n",
    "#            'learning_rate':hp.uniform(\"learning_rate\",0.1,0.30)\n",
    "#            }"
   ]
  },
  {
   "cell_type": "code",
   "execution_count": 33,
   "metadata": {},
   "outputs": [],
   "source": [
    "# @numba.jit\n",
    "# def objective(space):\n",
    "#     clf=xgb.XGBRegressor(objective=\"reg:squarederror\",\n",
    "#                     n_estimators =space['n_estimators'], max_depth = int(space['max_depth']), gamma = space['gamma'],\n",
    "#                     reg_alpha = int(space['reg_alpha']),min_child_weight=int(space['min_child_weight']),\n",
    "#                     colsample_bytree=int(space['colsample_bytree']), eval_metric=\"mae\")\n",
    "    \n",
    "#     evaluation = [( X_train, y_train), ( X_test, y_test)]\n",
    "    \n",
    "#     clf.fit(X_train, y_train,\n",
    "#             eval_set=evaluation,\n",
    "#             verbose=False)\n",
    "    \n",
    "\n",
    "#     y_pred = clf.predict(X_test)\n",
    "#     mae = mean_absolute_error(y_test, y_pred)\n",
    "#     print (\"SCORE:\", mae)\n",
    "#     return {'loss': mae, 'status': STATUS_OK }"
   ]
  },
  {
   "cell_type": "code",
   "execution_count": 34,
   "metadata": {},
   "outputs": [],
   "source": [
    "# @numba.jit\n",
    "# def objective_bis(space):\n",
    "#     clf=xgb.XGBRegressor(objective=\"reg:squarederror\",\n",
    "#                     n_estimators =space['n_estimators'], max_depth = int(space['max_depth']), eval_metric=\"mae\")\n",
    "    \n",
    "#     evaluation = [( X_train, y_train), ( X_test, y_test)]\n",
    "    \n",
    "#     clf.fit(X_train, y_train,\n",
    "#             eval_set=evaluation,\n",
    "#             verbose=False)\n",
    "    \n",
    "\n",
    "#     y_pred = clf.predict(X_test)\n",
    "#     mae = mean_absolute_error(y_test, y_pred)\n",
    "#     print (\"SCORE:\", mae)\n",
    "#     return {'loss': mae, 'status': STATUS_OK }"
   ]
  },
  {
   "cell_type": "code",
   "execution_count": 35,
   "metadata": {},
   "outputs": [],
   "source": [
    "# trials = Trials()\n",
    "\n",
    "# best_hyperparams = fmin(fn = objective_bis,\n",
    "#                         space = space_bis,\n",
    "#                         algo = tpe.suggest,\n",
    "#                         max_evals = 1000,\n",
    "#                         trials = trials)"
   ]
  },
  {
   "cell_type": "code",
   "execution_count": 36,
   "metadata": {},
   "outputs": [],
   "source": [
    "@numba.jit\n",
    "def train_xgboost(X:np.array,y:np.array,n_estimators=2000 ,objective='reg:squarederror',max_depth=10, learning_rate=0.2):\n",
    "    xgboost_model=xgb.XGBRegressor(n_estimators=n_estimators ,objective=objective, \n",
    "                                   max_depth=max_depth,learning_rate=learning_rate, n_jobs=-1,)\n",
    "                                    #subsample=0.75,tree_method=\"gpu_hist\", device=\"cuda\", eval_metric=\"mae\",reg_alpha=0.1,reg_lambda=0.1,booster=\"gblinear\")\n",
    "    xgboost_model.fit(X, y)\n",
    "    return xgboost_model"
   ]
  },
  {
   "cell_type": "code",
   "execution_count": 37,
   "metadata": {},
   "outputs": [],
   "source": [
    "xgboost_model=train_xgboost(X_train,y_train)"
   ]
  },
  {
   "cell_type": "code",
   "execution_count": 38,
   "metadata": {},
   "outputs": [
    {
     "name": "stderr",
     "output_type": "stream",
     "text": [
      "C:\\Users\\jeann\\AppData\\Local\\Temp\\ipykernel_21428\\13295361.py:1: NumbaWarning: \u001b[1m\n",
      "Compilation is falling back to object mode WITH looplifting enabled because Function \"evaluate_model\" failed type inference due to: \u001b[1mUntyped global name 'mean_absolute_error':\u001b[0m \u001b[1m\u001b[1mCannot determine Numba type of <class 'function'>\u001b[0m\n",
      "\u001b[1m\n",
      "File \"..\\..\\..\\..\\AppData\\Local\\Temp\\ipykernel_21428\\13295361.py\", line 4:\u001b[0m\n",
      "\u001b[1m<source missing, REPL/exec in use?>\u001b[0m\n",
      "\u001b[0m\u001b[0m\n",
      "  @numba.jit\n",
      "c:\\Users\\jeann\\Desktop\\M2\\New Data Mining Challenge\\Projet_Mining\\.venv_mining\\lib\\site-packages\\numba\\core\\object_mode_passes.py:151: NumbaWarning: \u001b[1mFunction \"evaluate_model\" was compiled in object mode without forceobj=True.\n",
      "\u001b[1m\n",
      "File \"..\\..\\..\\..\\AppData\\Local\\Temp\\ipykernel_21428\\13295361.py\", line 1:\u001b[0m\n",
      "\u001b[1m<source missing, REPL/exec in use?>\u001b[0m\n",
      "\u001b[0m\n",
      "  warnings.warn(errors.NumbaWarning(warn_msg,\n",
      "c:\\Users\\jeann\\Desktop\\M2\\New Data Mining Challenge\\Projet_Mining\\.venv_mining\\lib\\site-packages\\numba\\core\\object_mode_passes.py:161: NumbaDeprecationWarning: \u001b[1m\n",
      "Fall-back from the nopython compilation path to the object mode compilation path has been detected. This is deprecated behaviour that will be removed in Numba 0.59.0.\n",
      "\n",
      "For more information visit https://numba.readthedocs.io/en/stable/reference/deprecation.html#deprecation-of-object-mode-fall-back-behaviour-when-using-jit\n",
      "\u001b[1m\n",
      "File \"..\\..\\..\\..\\AppData\\Local\\Temp\\ipykernel_21428\\13295361.py\", line 1:\u001b[0m\n",
      "\u001b[1m<source missing, REPL/exec in use?>\u001b[0m\n",
      "\u001b[0m\n",
      "  warnings.warn(errors.NumbaDeprecationWarning(msg,\n"
     ]
    }
   ],
   "source": [
    "mae=evaluate_model(xgboost_model,X_test,y_test)"
   ]
  },
  {
   "cell_type": "code",
   "execution_count": 39,
   "metadata": {},
   "outputs": [
    {
     "data": {
      "text/plain": [
       "3.2177936326044922"
      ]
     },
     "execution_count": 39,
     "metadata": {},
     "output_type": "execute_result"
    }
   ],
   "source": [
    "mae"
   ]
  },
  {
   "cell_type": "code",
   "execution_count": 41,
   "metadata": {},
   "outputs": [
    {
     "name": "stdout",
     "output_type": "stream",
     "text": [
      "Mean Absolute Error (MAE): 3.177313697212825\n"
     ]
    }
   ],
   "source": [
    "rf_model=RandomForestRegressor(random_state=42, n_jobs=-1)\n",
    "rf_model.fit(X_train, y_train)\n",
    "\n",
    "y_pred = rf_model.predict(X_test)\n",
    "\n",
    "mae_rf = mean_absolute_error(y_test, y_pred)\n",
    "print(\"Mean Absolute Error (MAE):\", mae_rf)"
   ]
  },
  {
   "cell_type": "code",
   "execution_count": null,
   "metadata": {},
   "outputs": [],
   "source": [
    "# @numba.jit\n",
    "# def grid_search(list_estimators,list_depth,list_rate):\n",
    "#     output={}\n",
    "#     output[\"estimators\"]=[]\n",
    "#     output[\"depth\"]=[]\n",
    "#     output[\"rate\"]=[]\n",
    "#     for n_estimators in list_estimators:\n",
    "#         for max_depth in list_depth:\n",
    "#             for learning_rate in list_rate:\n",
    "#                 xgboost_model=train_xgboost(X_train,y_train,n_estimators=n_estimators,max_depth=max_depth,learning_rate=learning_rate)\n",
    "#                 mae=evaluate_model(xgboost_model,X_test,y_test)\n",
    "#                 output[\"estimators\"].append(n_estimators)\n",
    "#                 output[\"depth\"].append(max_depth)\n",
    "#                 output[\"rate\"].append(learning_rate)\n",
    "#     return output\n"
   ]
  },
  {
   "cell_type": "code",
   "execution_count": null,
   "metadata": {},
   "outputs": [],
   "source": [
    "# estimators=[500,1000,1500,2000]\n",
    "# depths=[8,10,12,14]\n",
    "# rates=[0.01,0.05,0.1,0.15,0.2]\n"
   ]
  },
  {
   "cell_type": "code",
   "execution_count": null,
   "metadata": {},
   "outputs": [],
   "source": [
    "# output=grid_search(estimators,depths,rates)"
   ]
  },
  {
   "cell_type": "code",
   "execution_count": null,
   "metadata": {},
   "outputs": [],
   "source": [
    "# from joblib import Parallel, delayed\n",
    "\n",
    "# def evaluate_model(model, X_test, y_test):\n",
    "#     y_pred = model.predict(X_test)\n",
    "#     mae = mean_absolute_error(y_test, y_pred)\n",
    "#     return mae\n",
    "\n",
    "# def train_xgboost(X, y, n_estimators=1500, objective='reg:squarederror', max_depth=10, learning_rate=0.2):\n",
    "#     xgboost_model = xgb.XGBRegressor(n_estimators=n_estimators, objective=objective,\n",
    "#                                      max_depth=max_depth, learning_rate=learning_rate, n_jobs=-1)\n",
    "#     xgboost_model.fit(X, y)\n",
    "#     return xgboost_model\n",
    "\n",
    "# def grid_search(n_estimators_list, max_depth_list, learning_rate_list, X_train, y_train, X_test, y_test):\n",
    "#     global results\n",
    "#     results = []\n",
    "\n",
    "#     def evaluate_params(n_estimators, max_depth, learning_rate):\n",
    "#         xgboost_model = train_xgboost(X_train, y_train, n_estimators=n_estimators, max_depth=max_depth, learning_rate=learning_rate)\n",
    "#         mae = evaluate_model(xgboost_model, X_test, y_test)\n",
    "#         return {'estimators': n_estimators, 'depth': max_depth, 'rate': learning_rate, 'mae': mae}\n",
    "\n",
    "#     results = Parallel(n_jobs=-1)(\n",
    "#         delayed(evaluate_params)(n, d, r) for n in n_estimators_list for d in max_depth_list for r in learning_rate_list\n",
    "#     )\n",
    "\n",
    "#     return results"
   ]
  },
  {
   "cell_type": "code",
   "execution_count": null,
   "metadata": {},
   "outputs": [],
   "source": [
    "# output = grid_search(estimators, depths, rates, X_train, y_train, X_test, y_test)\n"
   ]
  },
  {
   "cell_type": "code",
   "execution_count": null,
   "metadata": {},
   "outputs": [],
   "source": [
    "# mae_train=evaluate_model(xgboost_model,X_train,y_train)"
   ]
  },
  {
   "cell_type": "code",
   "execution_count": null,
   "metadata": {},
   "outputs": [],
   "source": [
    "# print(f\"La MAE sur le train est {mae_train} tandis que la MAE sur le test est {mae}.\")"
   ]
  },
  {
   "cell_type": "code",
   "execution_count": null,
   "metadata": {},
   "outputs": [],
   "source": [
    "# xgboost_model_full=train_xgboost(data_train.drop(columns=[\"Ewltp (g/km)\"]),data_train[\"Ewltp (g/km)\"])"
   ]
  },
  {
   "cell_type": "code",
   "execution_count": null,
   "metadata": {},
   "outputs": [],
   "source": [
    "# X_true_test=data_test.drop(columns=[\"ID\"])"
   ]
  },
  {
   "cell_type": "code",
   "execution_count": null,
   "metadata": {},
   "outputs": [],
   "source": [
    "# data_train"
   ]
  },
  {
   "cell_type": "code",
   "execution_count": null,
   "metadata": {},
   "outputs": [],
   "source": [
    "y_true_pred=xgboost_model.predict(X_true_test)"
   ]
  },
  {
   "cell_type": "code",
   "execution_count": null,
   "metadata": {},
   "outputs": [],
   "source": [
    "data_test_to_submit=pd.concat([data_test[\"ID\"],pd.DataFrame(y_true_pred,columns=[\"Ewltp (g/km)\"])],axis=1)\n",
    "data_test_to_submit.to_csv(\"data/output/xgboost_results11.csv\", index=False)"
   ]
  },
  {
   "cell_type": "code",
   "execution_count": null,
   "metadata": {},
   "outputs": [],
   "source": [
    "\n",
    "from sklearn.model_selection import cross_val_score, KFold\n",
    "\n",
    "from sklearn.metrics import make_scorer\n",
    "model = xgb.XGBRegressor(objective=\"reg:squarederror\")\n",
    "\n",
    "# Définir la métrique MAE comme scorer\n",
    "scorer = make_scorer(mean_absolute_error, greater_is_better=False)\n",
    "\n",
    "# Définir la validation croisée\n",
    "kfold = KFold(n_splits=5, shuffle=True, random_state=42)\n",
    "\n",
    "# Effectuer la validation croisée avec la métrique MAE\n",
    "scores = cross_val_score(model, X_train, y_train, scoring=scorer, cv=kfold)\n",
    "\n",
    "# Afficher les résultats\n",
    "print(\"Mean Absolute Error for each fold:\", -scores)\n",
    "print(\"Mean Absolute Error (average):\", -scores.mean())\n"
   ]
  },
  {
   "cell_type": "code",
   "execution_count": null,
   "metadata": {},
   "outputs": [],
   "source": [
    "rf_model=RandomForestRegressor(random_state=42)\n",
    "rf_model.fit(X_train, y_train)\n",
    "\n",
    "y_pred = rf_model.predict(X_test)\n",
    "\n",
    "mae = mean_absolute_error(y_test, y_pred)\n",
    "print(\"Mean Absolute Error (MAE):\", mae)"
   ]
  },
  {
   "cell_type": "code",
   "execution_count": null,
   "metadata": {},
   "outputs": [],
   "source": [
    "@numba.jit\n",
    "def train_random_forest(X,y,): #n_estimators=1000,max_samples=10000 ,\n",
    "    #rf_model=RandomForestRegressor(n_estimators=n_estimators, max_samples=max_samples ,criterion=criterion,max_depth=max_depth)\n",
    "    rf_model=RandomForestRegressor(random_state=42, n_jobs=-1)\n",
    "    rf_model.fit(X, y)\n",
    "    return rf_model"
   ]
  },
  {
   "cell_type": "code",
   "execution_count": null,
   "metadata": {},
   "outputs": [],
   "source": [
    "rf_model=train_random_forest(X_train,y_train)"
   ]
  },
  {
   "cell_type": "code",
   "execution_count": null,
   "metadata": {},
   "outputs": [],
   "source": [
    "mae=evaluate_model(rf_model,X_test,y_test)\n",
    "print(\"Mean Absolute Error:\", mae)"
   ]
  },
  {
   "cell_type": "code",
   "execution_count": null,
   "metadata": {},
   "outputs": [],
   "source": [
    "rf_model=RandomForestRegressor(random_state=42, n_jobs=-1)"
   ]
  },
  {
   "cell_type": "code",
   "execution_count": null,
   "metadata": {},
   "outputs": [],
   "source": [
    "rf_model.fit(X_train, y_train)"
   ]
  },
  {
   "cell_type": "code",
   "execution_count": null,
   "metadata": {},
   "outputs": [],
   "source": [
    "@numba.jit\n",
    "def train_hist_gradient_boosting(X,y,max_iter=3500, learning_rate=0.15,max_depth=8):\n",
    "    hgbgb_model=HistGradientBoostingRegressor(max_iter=max_iter, learning_rate=learning_rate, max_depth=max_depth,interaction_cst=\"pairwise\")\n",
    "    hgbgb_model.fit(X,y)\n",
    "    return hgbgb_model"
   ]
  },
  {
   "cell_type": "code",
   "execution_count": null,
   "metadata": {},
   "outputs": [],
   "source": [
    "hgbgb_model=train_hist_gradient_boosting(X_train,y_train)"
   ]
  },
  {
   "cell_type": "code",
   "execution_count": null,
   "metadata": {},
   "outputs": [],
   "source": [
    "mae=evaluate_model(hgbgb_model,X_test,y_test)\n",
    "print(f\"Mean Absolute Error : {mae}\")"
   ]
  },
  {
   "cell_type": "code",
   "execution_count": null,
   "metadata": {},
   "outputs": [],
   "source": [
    "hgbgb_model.n_iter_"
   ]
  },
  {
   "cell_type": "code",
   "execution_count": null,
   "metadata": {},
   "outputs": [],
   "source": [
    "from sklearn.ensemble import AdaBoostRegressor\n",
    "from sklearn.tree import DecisionTreeRegressor\n"
   ]
  },
  {
   "cell_type": "code",
   "execution_count": null,
   "metadata": {},
   "outputs": [],
   "source": [
    "# Créez un modèle de régression de base (par exemple, un arbre de régression)\n",
    "@numba.jit\n",
    "def train_adaboost_regressor(max_depth=7,n_estimators=1000, learning_rate=.2, random_state=42) -> AdaBoostRegressor:\n",
    "    base_regressor = DecisionTreeRegressor(max_depth=max_depth)\n",
    "\n",
    "    # Créez un modèle AdaBoostRegressor en utilisant le modèle de base\n",
    "    adaboost_regressor = AdaBoostRegressor(base_regressor, n_estimators=n_estimators, learning_rate=learning_rate, random_state=42)\n",
    "\n",
    "    # Entraînez le modèle AdaBoost sur l'ensemble d'entraînement\n",
    "    adaboost_regressor.fit(X_train, y_train)\n",
    "    return adaboost_regressor\n"
   ]
  },
  {
   "cell_type": "code",
   "execution_count": null,
   "metadata": {},
   "outputs": [],
   "source": [
    "adaboost_model=train_adaboost_regressor()\n",
    "\n",
    "mae=evaluate_model(adaboost_model,X_test,y_test)\n",
    "print(f\"Mean Absolute Error : {mae}\")"
   ]
  },
  {
   "cell_type": "code",
   "execution_count": null,
   "metadata": {},
   "outputs": [],
   "source": [
    "X_true_test=data_test.drop(columns=['ID'])"
   ]
  },
  {
   "cell_type": "code",
   "execution_count": null,
   "metadata": {},
   "outputs": [],
   "source": [
    "data_test[\"ID\"]=data_test[\"ID\"].apply(int)"
   ]
  },
  {
   "cell_type": "code",
   "execution_count": null,
   "metadata": {},
   "outputs": [],
   "source": [
    "data_test[\"Ewltp (g/km)\"] = xgboost_model.predict(X_true_test)\n",
    "data_test[[\"ID\",\"Ewltp (g/km)\"]].to_csv(\"data/xgboost_results4.csv\", index=False)"
   ]
  },
  {
   "cell_type": "code",
   "execution_count": null,
   "metadata": {},
   "outputs": [],
   "source": [
    "from sklearn.tree import DecisionTreeRegressor"
   ]
  },
  {
   "cell_type": "code",
   "execution_count": null,
   "metadata": {},
   "outputs": [],
   "source": [
    "dtregressor_model=DecisionTreeRegressor(criterion='absolute_error')"
   ]
  },
  {
   "cell_type": "code",
   "execution_count": null,
   "metadata": {},
   "outputs": [],
   "source": [
    "dtregressor_model.fit(X_train, y_train)\n",
    "\n",
    "# Prédisez sur les données de test\n",
    "y_pred = dtregressor_model.predict(X_test)\n",
    "\n",
    "# Évaluez le modèle en utilisant la MAE (Mean Absolute Error)\n",
    "mae = mean_absolute_error(y_test, y_pred)\n",
    "print(\"Mean Absolute Error:\", mae)"
   ]
  },
  {
   "cell_type": "code",
   "execution_count": null,
   "metadata": {},
   "outputs": [],
   "source": [
    "import lightgbm as lgb"
   ]
  },
  {
   "cell_type": "code",
   "execution_count": null,
   "metadata": {},
   "outputs": [],
   "source": [
    "\n",
    "# Créez un ensemble de données LightGBM\n",
    "train_data = lgb.Dataset(X_train, label=y_train)\n",
    "\n",
    "# Définissez les paramètres du modèle\n",
    "params = {\n",
    "    \"objective\": \"regression\",  # Régression\n",
    "    \"metric\": \"mae\",  # Métrique d'erreur : Mean Absolute Error\n",
    "    \"boosting_type\": \"gbdt\",  # Type de boosting (Gradient Boosting Decision Tree)\n",
    "    \"num_leaves\": 31,  # Nombre maximum de feuilles dans un arbre\n",
    "    \"learning_rate\": 0.1,\n",
    "    \"feature_fraction\": 0.9,\n",
    "    \"bagging_fraction\": 0.8,\n",
    "    \"bagging_freq\": 10,\n",
    "    \"verbose\": -1\n",
    "}\n",
    "\n",
    "# Entraînez le modèle\n",
    "num_round = 1000  # Nombre d'itérations (vous pouvez ajuster selon vos besoins)\n",
    "bst = lgb.train(params, train_data, num_round)\n",
    "\n",
    "# Faites des prédictions sur l'ensemble de test\n",
    "y_pred = bst.predict(X_test, num_iteration=bst.best_iteration)\n",
    "\n",
    "# Évaluez le modèle\n",
    "mae = mean_absolute_error(y_test, y_pred)\n",
    "print(f\"Mean Absolute Error (mae): {mae}\")\n",
    "\n"
   ]
  },
  {
   "cell_type": "code",
   "execution_count": null,
   "metadata": {},
   "outputs": [],
   "source": [
    "from tensorflow.keras.layers import Dense, Input"
   ]
  },
  {
   "cell_type": "code",
   "execution_count": null,
   "metadata": {},
   "outputs": [],
   "source": [
    "from tensorflow.keras.models import Model"
   ]
  },
  {
   "cell_type": "code",
   "execution_count": null,
   "metadata": {},
   "outputs": [],
   "source": [
    "import tensorflow as tf"
   ]
  },
  {
   "cell_type": "code",
   "execution_count": null,
   "metadata": {},
   "outputs": [],
   "source": [
    "ncol=X_train.shape[1]"
   ]
  },
  {
   "cell_type": "code",
   "execution_count": null,
   "metadata": {},
   "outputs": [],
   "source": [
    "inputs=Input(shape=ncol, name=\"Input\")\n",
    "first_layer=Dense(units=64,activation='relu',kernel_initializer=\"normal\",name=\"Dense_1\")\n",
    "second_layer=Dense(units=64,activation='relu',kernel_initializer='normal',name=\"Dense_2\")\n",
    "output_layer=Dense(units=1)"
   ]
  },
  {
   "cell_type": "code",
   "execution_count": null,
   "metadata": {},
   "outputs": [],
   "source": [
    "outputs=output_layer(second_layer(first_layer(inputs)))\n",
    "dnn_model=Model(inputs=inputs, outputs=outputs)"
   ]
  },
  {
   "cell_type": "code",
   "execution_count": null,
   "metadata": {},
   "outputs": [],
   "source": [
    "dnn_model.summary()"
   ]
  },
  {
   "cell_type": "code",
   "execution_count": null,
   "metadata": {},
   "outputs": [],
   "source": [
    "opt=tf.optimizers.Adam(learning_rate=0.1)\n",
    "dnn_model.compile(optimizer=opt, loss=\"mean_absolute_error\")\n",
    "dnn_model.fit(X_train,y_train, epochs=20, batch_size=32, validation_split=0.2,)"
   ]
  },
  {
   "cell_type": "code",
   "execution_count": null,
   "metadata": {},
   "outputs": [],
   "source": [
    "dnn_model.history"
   ]
  },
  {
   "cell_type": "code",
   "execution_count": null,
   "metadata": {},
   "outputs": [],
   "source": [
    "dnn_model.evaluate(X_test,y_test, verbose=0)"
   ]
  }
 ],
 "metadata": {
  "kernelspec": {
   "display_name": ".venv_mining",
   "language": "python",
   "name": "python3"
  },
  "language_info": {
   "codemirror_mode": {
    "name": "ipython",
    "version": 3
   },
   "file_extension": ".py",
   "mimetype": "text/x-python",
   "name": "python",
   "nbconvert_exporter": "python",
   "pygments_lexer": "ipython3",
   "version": "3.10.0"
  }
 },
 "nbformat": 4,
 "nbformat_minor": 2
}
