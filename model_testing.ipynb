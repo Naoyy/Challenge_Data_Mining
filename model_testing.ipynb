{
 "cells": [
  {
   "cell_type": "code",
   "execution_count": 2,
   "metadata": {},
   "outputs": [],
   "source": [
    "import numpy as np\n",
    "import pandas as pd\n",
    "import seaborn as sns\n",
    "from src.preprocessing import display_missing_values\n",
    "import matplotlib.pyplot as plt\n",
    "pd.set_option('display.max_columns', None)\n",
    "pd.set_option('display.float_format', '{:.2f}'.format)\n",
    "sns.set_theme(style=\"ticks\", palette=\"pastel\")\n",
    "\n",
    "from sklearn.preprocessing import PolynomialFeatures\n",
    "from sklearn.model_selection import train_test_split, GridSearchCV\n",
    "from sklearn.metrics import mean_absolute_error\n",
    "from sklearn.ensemble import RandomForestRegressor, HistGradientBoostingRegressor\n",
    "from sklearn.metrics import mean_absolute_error"
   ]
  },
  {
   "cell_type": "code",
   "execution_count": 3,
   "metadata": {},
   "outputs": [],
   "source": [
    "from fonctions import Dataset,group_fuel_types\n",
    "from src.preprocessing import display_missing_values"
   ]
  },
  {
   "cell_type": "code",
   "execution_count": 4,
   "metadata": {},
   "outputs": [],
   "source": [
    "train=Dataset(\"data/train.csv\")\n",
    "data_train=train.load_data()\n",
    "test=Dataset(\"data/test.csv\")\n",
    "data_test=test.load_data()"
   ]
  },
  {
   "cell_type": "code",
   "execution_count": 5,
   "metadata": {},
   "outputs": [],
   "source": [
    "from fonctions import Preprocessor,TrainPreprocessor,TestPreprocessor\n",
    "train_preprocessor=TrainPreprocessor(data_train)\n",
    "test_preprocessor=TestPreprocessor(data_test)"
   ]
  },
  {
   "cell_type": "code",
   "execution_count": 6,
   "metadata": {},
   "outputs": [],
   "source": [
    "variables_continues=[\"Fuel consumption \",\"Electric range (km)\",\"ec (cm3)\",\"z (Wh/km)\",\"W (mm)\"]"
   ]
  },
  {
   "cell_type": "code",
   "execution_count": 7,
   "metadata": {},
   "outputs": [],
   "source": [
    "for col in variables_continues:\n",
    "    train_preprocessor.outlier_detection(col)\n",
    "    test_preprocessor.outlier_detection(col)"
   ]
  },
  {
   "cell_type": "code",
   "execution_count": 8,
   "metadata": {},
   "outputs": [],
   "source": [
    "train_preprocessor.fill_fuel_consumption()\n",
    "train_preprocessor.fill_electric_range()\n",
    "train_preprocessor.fill_engine_capacity()\n",
    "train_preprocessor.fill_electric_consumption()\n",
    "train_preprocessor.fill_category_type()\n",
    "train_preprocessor.fill_wheel_base()\n",
    "train_preprocessor.fill_At_1()\n",
    "train_preprocessor.fill_At_2()\n",
    "train_preprocessor.fill_mass()\n",
    "train_preprocessor.fill_engine_power()\n",
    "train_preprocessor.last_step()\n",
    "\n",
    "test_preprocessor.fill_fuel_consumption()\n",
    "test_preprocessor.fill_electric_range()\n",
    "test_preprocessor.fill_engine_capacity()\n",
    "test_preprocessor.fill_electric_consumption()\n",
    "test_preprocessor.fill_category_type()\n",
    "test_preprocessor.fill_wheel_base()\n",
    "test_preprocessor.fill_At_1()\n",
    "test_preprocessor.fill_At_2()\n",
    "test_preprocessor.fill_mass()\n",
    "test_preprocessor.fill_engine_power()\n",
    "test_preprocessor.last_step()"
   ]
  },
  {
   "cell_type": "code",
   "execution_count": 9,
   "metadata": {},
   "outputs": [
    {
     "data": {
      "text/html": [
       "<div>\n",
       "<style scoped>\n",
       "    .dataframe tbody tr th:only-of-type {\n",
       "        vertical-align: middle;\n",
       "    }\n",
       "\n",
       "    .dataframe tbody tr th {\n",
       "        vertical-align: top;\n",
       "    }\n",
       "\n",
       "    .dataframe thead th {\n",
       "        text-align: right;\n",
       "    }\n",
       "</style>\n",
       "<table border=\"1\" class=\"dataframe\">\n",
       "  <thead>\n",
       "    <tr style=\"text-align: right;\">\n",
       "      <th></th>\n",
       "      <th>ID</th>\n",
       "      <th>VFN</th>\n",
       "      <th>Mp</th>\n",
       "      <th>Mh</th>\n",
       "      <th>Man</th>\n",
       "      <th>Tan</th>\n",
       "      <th>T</th>\n",
       "      <th>Mk</th>\n",
       "      <th>Cn</th>\n",
       "      <th>Ct</th>\n",
       "      <th>Cr</th>\n",
       "      <th>m (kg)</th>\n",
       "      <th>Mt</th>\n",
       "      <th>Ewltp (g/km)</th>\n",
       "      <th>W (mm)</th>\n",
       "      <th>At1 (mm)</th>\n",
       "      <th>At2 (mm)</th>\n",
       "      <th>Ft</th>\n",
       "      <th>Fm</th>\n",
       "      <th>ec (cm3)</th>\n",
       "      <th>ep (KW)</th>\n",
       "      <th>z (Wh/km)</th>\n",
       "      <th>Erwltp (g/km)</th>\n",
       "      <th>Fuel consumption</th>\n",
       "      <th>Electric range (km)</th>\n",
       "      <th>flag_Fuel consumption</th>\n",
       "      <th>flag_Electric range (km)</th>\n",
       "      <th>flag_ec (cm3)</th>\n",
       "      <th>flag_z (Wh/km)</th>\n",
       "      <th>flag_W (mm)</th>\n",
       "    </tr>\n",
       "  </thead>\n",
       "  <tbody>\n",
       "    <tr>\n",
       "      <th>0</th>\n",
       "      <td>0</td>\n",
       "      <td>IP-C519_2022_00008-WF0-1</td>\n",
       "      <td>FORD</td>\n",
       "      <td>FORD WERKE GMBH</td>\n",
       "      <td>FORD WERKE GMBH</td>\n",
       "      <td>e13*2007/46*1911*15</td>\n",
       "      <td>DEH</td>\n",
       "      <td>FORD</td>\n",
       "      <td>FOCUS</td>\n",
       "      <td>M1</td>\n",
       "      <td>M1</td>\n",
       "      <td>1387.00</td>\n",
       "      <td>1534.00</td>\n",
       "      <td>401.05</td>\n",
       "      <td>2700.00</td>\n",
       "      <td>1571.00</td>\n",
       "      <td>1576.00</td>\n",
       "      <td>PETROL</td>\n",
       "      <td>H</td>\n",
       "      <td>999.00</td>\n",
       "      <td>92.00</td>\n",
       "      <td>0.00</td>\n",
       "      <td>2.30</td>\n",
       "      <td>5.60</td>\n",
       "      <td>0.00</td>\n",
       "      <td>0</td>\n",
       "      <td>0</td>\n",
       "      <td>0</td>\n",
       "      <td>0</td>\n",
       "      <td>0</td>\n",
       "    </tr>\n",
       "    <tr>\n",
       "      <th>1</th>\n",
       "      <td>1</td>\n",
       "      <td>IP-MQB27ZZ_A2_0529-WVW-1</td>\n",
       "      <td>VOLKSWAGEN</td>\n",
       "      <td>VOLKSWAGEN</td>\n",
       "      <td>VOLKSWAGEN AG</td>\n",
       "      <td>e1*2007/46*1783*29</td>\n",
       "      <td>AW</td>\n",
       "      <td>VOLKSWAGEN</td>\n",
       "      <td>POLO</td>\n",
       "      <td>M1</td>\n",
       "      <td>M1</td>\n",
       "      <td>1172.00</td>\n",
       "      <td>1337.00</td>\n",
       "      <td>394.68</td>\n",
       "      <td>2552.00</td>\n",
       "      <td>1500.00</td>\n",
       "      <td>1483.00</td>\n",
       "      <td>PETROL</td>\n",
       "      <td>M</td>\n",
       "      <td>999.00</td>\n",
       "      <td>70.00</td>\n",
       "      <td>0.00</td>\n",
       "      <td>1.14</td>\n",
       "      <td>5.50</td>\n",
       "      <td>0.00</td>\n",
       "      <td>0</td>\n",
       "      <td>0</td>\n",
       "      <td>0</td>\n",
       "      <td>0</td>\n",
       "      <td>0</td>\n",
       "    </tr>\n",
       "    <tr>\n",
       "      <th>2</th>\n",
       "      <td>2</td>\n",
       "      <td>IP-MQB27ZZ_A1_0533-WVW-1</td>\n",
       "      <td>VOLKSWAGEN</td>\n",
       "      <td>VOLKSWAGEN</td>\n",
       "      <td>VOLKSWAGEN AG</td>\n",
       "      <td>e1*2007/46*1783*29</td>\n",
       "      <td>AW</td>\n",
       "      <td>VOLKSWAGEN</td>\n",
       "      <td>POLO</td>\n",
       "      <td>M1</td>\n",
       "      <td>M1</td>\n",
       "      <td>1204.00</td>\n",
       "      <td>1335.00</td>\n",
       "      <td>398.56</td>\n",
       "      <td>2552.00</td>\n",
       "      <td>1500.00</td>\n",
       "      <td>1483.00</td>\n",
       "      <td>PETROL</td>\n",
       "      <td>M</td>\n",
       "      <td>999.00</td>\n",
       "      <td>70.00</td>\n",
       "      <td>0.00</td>\n",
       "      <td>1.14</td>\n",
       "      <td>5.60</td>\n",
       "      <td>0.00</td>\n",
       "      <td>0</td>\n",
       "      <td>0</td>\n",
       "      <td>0</td>\n",
       "      <td>0</td>\n",
       "      <td>0</td>\n",
       "    </tr>\n",
       "    <tr>\n",
       "      <th>3</th>\n",
       "      <td>3</td>\n",
       "      <td>IP-04-U5Y-2018-1137</td>\n",
       "      <td>KIA</td>\n",
       "      <td>KIA SLOVAKIA</td>\n",
       "      <td>KIA SLOVAKIA SRO</td>\n",
       "      <td>e4*2007/46*1299*18</td>\n",
       "      <td>CD</td>\n",
       "      <td>KIA</td>\n",
       "      <td>PROCEED</td>\n",
       "      <td>M1</td>\n",
       "      <td>M1</td>\n",
       "      <td>1438.00</td>\n",
       "      <td>1588.00</td>\n",
       "      <td>479.47</td>\n",
       "      <td>2650.00</td>\n",
       "      <td>1555.00</td>\n",
       "      <td>1563.00</td>\n",
       "      <td>PETROL</td>\n",
       "      <td>M</td>\n",
       "      <td>1591.00</td>\n",
       "      <td>150.00</td>\n",
       "      <td>0.00</td>\n",
       "      <td>0.80</td>\n",
       "      <td>6.80</td>\n",
       "      <td>0.00</td>\n",
       "      <td>0</td>\n",
       "      <td>0</td>\n",
       "      <td>0</td>\n",
       "      <td>0</td>\n",
       "      <td>0</td>\n",
       "    </tr>\n",
       "    <tr>\n",
       "      <th>4</th>\n",
       "      <td>4</td>\n",
       "      <td>IP-MQB27ZZ_B2_0534-WVW-1</td>\n",
       "      <td>VOLKSWAGEN</td>\n",
       "      <td>VOLKSWAGEN</td>\n",
       "      <td>VOLKSWAGEN AG</td>\n",
       "      <td>e1*2007/46*1783*29</td>\n",
       "      <td>AW</td>\n",
       "      <td>VOLKSWAGEN</td>\n",
       "      <td>POLO</td>\n",
       "      <td>M1</td>\n",
       "      <td>M1</td>\n",
       "      <td>1207.00</td>\n",
       "      <td>1350.00</td>\n",
       "      <td>421.85</td>\n",
       "      <td>2552.00</td>\n",
       "      <td>1500.00</td>\n",
       "      <td>1483.00</td>\n",
       "      <td>PETROL</td>\n",
       "      <td>M</td>\n",
       "      <td>999.00</td>\n",
       "      <td>81.00</td>\n",
       "      <td>0.00</td>\n",
       "      <td>1.14</td>\n",
       "      <td>5.90</td>\n",
       "      <td>0.00</td>\n",
       "      <td>0</td>\n",
       "      <td>0</td>\n",
       "      <td>0</td>\n",
       "      <td>0</td>\n",
       "      <td>0</td>\n",
       "    </tr>\n",
       "    <tr>\n",
       "      <th>...</th>\n",
       "      <td>...</td>\n",
       "      <td>...</td>\n",
       "      <td>...</td>\n",
       "      <td>...</td>\n",
       "      <td>...</td>\n",
       "      <td>...</td>\n",
       "      <td>...</td>\n",
       "      <td>...</td>\n",
       "      <td>...</td>\n",
       "      <td>...</td>\n",
       "      <td>...</td>\n",
       "      <td>...</td>\n",
       "      <td>...</td>\n",
       "      <td>...</td>\n",
       "      <td>...</td>\n",
       "      <td>...</td>\n",
       "      <td>...</td>\n",
       "      <td>...</td>\n",
       "      <td>...</td>\n",
       "      <td>...</td>\n",
       "      <td>...</td>\n",
       "      <td>...</td>\n",
       "      <td>...</td>\n",
       "      <td>...</td>\n",
       "      <td>...</td>\n",
       "      <td>...</td>\n",
       "      <td>...</td>\n",
       "      <td>...</td>\n",
       "      <td>...</td>\n",
       "      <td>...</td>\n",
       "    </tr>\n",
       "    <tr>\n",
       "      <th>7571644</th>\n",
       "      <td>7571644</td>\n",
       "      <td>IP-MLB42AZ_B0_0685-WAU-1</td>\n",
       "      <td>VOLKSWAGEN</td>\n",
       "      <td>AUDI AG</td>\n",
       "      <td>AUDI AG</td>\n",
       "      <td>e1*2007/46*1550*35</td>\n",
       "      <td>FY</td>\n",
       "      <td>AUDI</td>\n",
       "      <td>Q5</td>\n",
       "      <td>M1</td>\n",
       "      <td>M1</td>\n",
       "      <td>1815.00</td>\n",
       "      <td>2006.00</td>\n",
       "      <td>481.85</td>\n",
       "      <td>2829.00</td>\n",
       "      <td>1622.00</td>\n",
       "      <td>1626.00</td>\n",
       "      <td>DIESEL</td>\n",
       "      <td>H</td>\n",
       "      <td>1968.00</td>\n",
       "      <td>120.00</td>\n",
       "      <td>0.00</td>\n",
       "      <td>NaN</td>\n",
       "      <td>5.90</td>\n",
       "      <td>0.00</td>\n",
       "      <td>0</td>\n",
       "      <td>0</td>\n",
       "      <td>0</td>\n",
       "      <td>0</td>\n",
       "      <td>0</td>\n",
       "    </tr>\n",
       "    <tr>\n",
       "      <th>7571645</th>\n",
       "      <td>7571645</td>\n",
       "      <td>IP-MLB42AZ_B0_0685-WAU-1</td>\n",
       "      <td>VOLKSWAGEN</td>\n",
       "      <td>AUDI AG</td>\n",
       "      <td>AUDI AG</td>\n",
       "      <td>e1*2007/46*1550*35</td>\n",
       "      <td>FY</td>\n",
       "      <td>AUDI</td>\n",
       "      <td>Q5</td>\n",
       "      <td>M1</td>\n",
       "      <td>M1</td>\n",
       "      <td>1815.00</td>\n",
       "      <td>2028.00</td>\n",
       "      <td>486.40</td>\n",
       "      <td>2829.00</td>\n",
       "      <td>1622.00</td>\n",
       "      <td>1626.00</td>\n",
       "      <td>DIESEL</td>\n",
       "      <td>H</td>\n",
       "      <td>1968.00</td>\n",
       "      <td>120.00</td>\n",
       "      <td>0.00</td>\n",
       "      <td>NaN</td>\n",
       "      <td>5.90</td>\n",
       "      <td>0.00</td>\n",
       "      <td>0</td>\n",
       "      <td>0</td>\n",
       "      <td>0</td>\n",
       "      <td>0</td>\n",
       "      <td>0</td>\n",
       "    </tr>\n",
       "    <tr>\n",
       "      <th>7571646</th>\n",
       "      <td>7571646</td>\n",
       "      <td>IP-MLB42AZ_B0_0685-WAU-1</td>\n",
       "      <td>VOLKSWAGEN</td>\n",
       "      <td>AUDI AG</td>\n",
       "      <td>AUDI AG</td>\n",
       "      <td>e1*2007/46*1550*35</td>\n",
       "      <td>FY</td>\n",
       "      <td>AUDI</td>\n",
       "      <td>Q5</td>\n",
       "      <td>M1</td>\n",
       "      <td>M1</td>\n",
       "      <td>1815.00</td>\n",
       "      <td>2006.00</td>\n",
       "      <td>487.87</td>\n",
       "      <td>2829.00</td>\n",
       "      <td>1622.00</td>\n",
       "      <td>1626.00</td>\n",
       "      <td>DIESEL</td>\n",
       "      <td>H</td>\n",
       "      <td>1968.00</td>\n",
       "      <td>120.00</td>\n",
       "      <td>0.00</td>\n",
       "      <td>NaN</td>\n",
       "      <td>5.90</td>\n",
       "      <td>0.00</td>\n",
       "      <td>0</td>\n",
       "      <td>0</td>\n",
       "      <td>0</td>\n",
       "      <td>0</td>\n",
       "      <td>0</td>\n",
       "    </tr>\n",
       "    <tr>\n",
       "      <th>7571647</th>\n",
       "      <td>7571647</td>\n",
       "      <td>IP-K14A1RTP6DAF_00-JN1-1</td>\n",
       "      <td>RENAULT-NISSAN-MITSUBISHI</td>\n",
       "      <td>NISSAN AUTOMOTIVE EUROPE</td>\n",
       "      <td>NISSAN AUTOMOTIVE EUROPE SAS</td>\n",
       "      <td>e3*2007/46*0523*03</td>\n",
       "      <td>K14-LPG</td>\n",
       "      <td>NISSAN</td>\n",
       "      <td>NISSAN MICRA</td>\n",
       "      <td>M1</td>\n",
       "      <td>M1</td>\n",
       "      <td>1240.00</td>\n",
       "      <td>NaN</td>\n",
       "      <td>350.80</td>\n",
       "      <td>2525.00</td>\n",
       "      <td>1510.00</td>\n",
       "      <td>1520.00</td>\n",
       "      <td>LPG</td>\n",
       "      <td>B</td>\n",
       "      <td>999.00</td>\n",
       "      <td>68.00</td>\n",
       "      <td>0.00</td>\n",
       "      <td>0.80</td>\n",
       "      <td>6.20</td>\n",
       "      <td>0.00</td>\n",
       "      <td>0</td>\n",
       "      <td>0</td>\n",
       "      <td>0</td>\n",
       "      <td>0</td>\n",
       "      <td>0</td>\n",
       "    </tr>\n",
       "    <tr>\n",
       "      <th>7571648</th>\n",
       "      <td>7571648</td>\n",
       "      <td>NaN</td>\n",
       "      <td>TESLA-HONDA-JLR</td>\n",
       "      <td>HONDA MOTOR CO</td>\n",
       "      <td>HONDA MOTOR CO LTD</td>\n",
       "      <td>e6*2007/46*0415*02</td>\n",
       "      <td>GR</td>\n",
       "      <td>HONDA</td>\n",
       "      <td>NaN</td>\n",
       "      <td>M1</td>\n",
       "      <td>M1</td>\n",
       "      <td>1327.00</td>\n",
       "      <td>1406.00</td>\n",
       "      <td>345.50</td>\n",
       "      <td>2520.00</td>\n",
       "      <td>1498.00</td>\n",
       "      <td>1485.00</td>\n",
       "      <td>PETROL</td>\n",
       "      <td>H</td>\n",
       "      <td>1498.00</td>\n",
       "      <td>72.00</td>\n",
       "      <td>0.00</td>\n",
       "      <td>0.70</td>\n",
       "      <td>5.40</td>\n",
       "      <td>0.00</td>\n",
       "      <td>0</td>\n",
       "      <td>0</td>\n",
       "      <td>0</td>\n",
       "      <td>0</td>\n",
       "      <td>0</td>\n",
       "    </tr>\n",
       "  </tbody>\n",
       "</table>\n",
       "<p>7571649 rows × 30 columns</p>\n",
       "</div>"
      ],
      "text/plain": [
       "              ID                       VFN                         Mp  \\\n",
       "0              0  IP-C519_2022_00008-WF0-1                       FORD   \n",
       "1              1  IP-MQB27ZZ_A2_0529-WVW-1                 VOLKSWAGEN   \n",
       "2              2  IP-MQB27ZZ_A1_0533-WVW-1                 VOLKSWAGEN   \n",
       "3              3       IP-04-U5Y-2018-1137                        KIA   \n",
       "4              4  IP-MQB27ZZ_B2_0534-WVW-1                 VOLKSWAGEN   \n",
       "...          ...                       ...                        ...   \n",
       "7571644  7571644  IP-MLB42AZ_B0_0685-WAU-1                 VOLKSWAGEN   \n",
       "7571645  7571645  IP-MLB42AZ_B0_0685-WAU-1                 VOLKSWAGEN   \n",
       "7571646  7571646  IP-MLB42AZ_B0_0685-WAU-1                 VOLKSWAGEN   \n",
       "7571647  7571647  IP-K14A1RTP6DAF_00-JN1-1  RENAULT-NISSAN-MITSUBISHI   \n",
       "7571648  7571648                       NaN            TESLA-HONDA-JLR   \n",
       "\n",
       "                               Mh                           Man  \\\n",
       "0                 FORD WERKE GMBH               FORD WERKE GMBH   \n",
       "1                      VOLKSWAGEN                 VOLKSWAGEN AG   \n",
       "2                      VOLKSWAGEN                 VOLKSWAGEN AG   \n",
       "3                    KIA SLOVAKIA              KIA SLOVAKIA SRO   \n",
       "4                      VOLKSWAGEN                 VOLKSWAGEN AG   \n",
       "...                           ...                           ...   \n",
       "7571644                   AUDI AG                       AUDI AG   \n",
       "7571645                   AUDI AG                       AUDI AG   \n",
       "7571646                   AUDI AG                       AUDI AG   \n",
       "7571647  NISSAN AUTOMOTIVE EUROPE  NISSAN AUTOMOTIVE EUROPE SAS   \n",
       "7571648            HONDA MOTOR CO            HONDA MOTOR CO LTD   \n",
       "\n",
       "                         Tan        T          Mk            Cn  Ct  Cr  \\\n",
       "0        e13*2007/46*1911*15      DEH        FORD         FOCUS  M1  M1   \n",
       "1         e1*2007/46*1783*29       AW  VOLKSWAGEN          POLO  M1  M1   \n",
       "2         e1*2007/46*1783*29       AW  VOLKSWAGEN          POLO  M1  M1   \n",
       "3         e4*2007/46*1299*18       CD         KIA       PROCEED  M1  M1   \n",
       "4         e1*2007/46*1783*29       AW  VOLKSWAGEN          POLO  M1  M1   \n",
       "...                      ...      ...         ...           ...  ..  ..   \n",
       "7571644   e1*2007/46*1550*35       FY        AUDI            Q5  M1  M1   \n",
       "7571645   e1*2007/46*1550*35       FY        AUDI            Q5  M1  M1   \n",
       "7571646   e1*2007/46*1550*35       FY        AUDI            Q5  M1  M1   \n",
       "7571647   e3*2007/46*0523*03  K14-LPG      NISSAN  NISSAN MICRA  M1  M1   \n",
       "7571648   e6*2007/46*0415*02       GR       HONDA           NaN  M1  M1   \n",
       "\n",
       "         m (kg)      Mt  Ewltp (g/km)  W (mm)  At1 (mm)  At2 (mm)      Ft Fm  \\\n",
       "0       1387.00 1534.00        401.05 2700.00   1571.00   1576.00  PETROL  H   \n",
       "1       1172.00 1337.00        394.68 2552.00   1500.00   1483.00  PETROL  M   \n",
       "2       1204.00 1335.00        398.56 2552.00   1500.00   1483.00  PETROL  M   \n",
       "3       1438.00 1588.00        479.47 2650.00   1555.00   1563.00  PETROL  M   \n",
       "4       1207.00 1350.00        421.85 2552.00   1500.00   1483.00  PETROL  M   \n",
       "...         ...     ...           ...     ...       ...       ...     ... ..   \n",
       "7571644 1815.00 2006.00        481.85 2829.00   1622.00   1626.00  DIESEL  H   \n",
       "7571645 1815.00 2028.00        486.40 2829.00   1622.00   1626.00  DIESEL  H   \n",
       "7571646 1815.00 2006.00        487.87 2829.00   1622.00   1626.00  DIESEL  H   \n",
       "7571647 1240.00     NaN        350.80 2525.00   1510.00   1520.00     LPG  B   \n",
       "7571648 1327.00 1406.00        345.50 2520.00   1498.00   1485.00  PETROL  H   \n",
       "\n",
       "         ec (cm3)  ep (KW)  z (Wh/km)  Erwltp (g/km)  Fuel consumption   \\\n",
       "0          999.00    92.00       0.00           2.30               5.60   \n",
       "1          999.00    70.00       0.00           1.14               5.50   \n",
       "2          999.00    70.00       0.00           1.14               5.60   \n",
       "3         1591.00   150.00       0.00           0.80               6.80   \n",
       "4          999.00    81.00       0.00           1.14               5.90   \n",
       "...           ...      ...        ...            ...                ...   \n",
       "7571644   1968.00   120.00       0.00            NaN               5.90   \n",
       "7571645   1968.00   120.00       0.00            NaN               5.90   \n",
       "7571646   1968.00   120.00       0.00            NaN               5.90   \n",
       "7571647    999.00    68.00       0.00           0.80               6.20   \n",
       "7571648   1498.00    72.00       0.00           0.70               5.40   \n",
       "\n",
       "         Electric range (km)  flag_Fuel consumption   \\\n",
       "0                       0.00                       0   \n",
       "1                       0.00                       0   \n",
       "2                       0.00                       0   \n",
       "3                       0.00                       0   \n",
       "4                       0.00                       0   \n",
       "...                      ...                     ...   \n",
       "7571644                 0.00                       0   \n",
       "7571645                 0.00                       0   \n",
       "7571646                 0.00                       0   \n",
       "7571647                 0.00                       0   \n",
       "7571648                 0.00                       0   \n",
       "\n",
       "         flag_Electric range (km)  flag_ec (cm3)  flag_z (Wh/km)  flag_W (mm)  \n",
       "0                               0              0               0            0  \n",
       "1                               0              0               0            0  \n",
       "2                               0              0               0            0  \n",
       "3                               0              0               0            0  \n",
       "4                               0              0               0            0  \n",
       "...                           ...            ...             ...          ...  \n",
       "7571644                         0              0               0            0  \n",
       "7571645                         0              0               0            0  \n",
       "7571646                         0              0               0            0  \n",
       "7571647                         0              0               0            0  \n",
       "7571648                         0              0               0            0  \n",
       "\n",
       "[7571649 rows x 30 columns]"
      ]
     },
     "execution_count": 9,
     "metadata": {},
     "output_type": "execute_result"
    }
   ],
   "source": [
    "data_train"
   ]
  },
  {
   "cell_type": "markdown",
   "metadata": {},
   "source": [
    "### Test de non-linéarité des variables quantitatives "
   ]
  },
  {
   "cell_type": "code",
   "execution_count": 10,
   "metadata": {},
   "outputs": [],
   "source": [
    "others=[col for col in data_train.columns if col not in variables_continues]"
   ]
  },
  {
   "cell_type": "code",
   "execution_count": 11,
   "metadata": {},
   "outputs": [],
   "source": [
    "poly = PolynomialFeatures(degree=2,)\n",
    "\n",
    "# Application de la transformation aux variables continues\n",
    "variables_continues_transformees = poly.fit_transform(data_train[variables_continues])\n",
    "\n",
    "data_train_transforme = pd.DataFrame(variables_continues_transformees, columns=poly.get_feature_names_out(variables_continues))\n",
    "data_train= pd.concat([data_train[others],data_train_transforme], axis=1)\n",
    "\n"
   ]
  },
  {
   "cell_type": "code",
   "execution_count": 13,
   "metadata": {},
   "outputs": [],
   "source": [
    "variables_continues_transformees = poly.fit_transform(data_test[variables_continues])\n",
    "\n",
    "data_test_transforme = pd.DataFrame(variables_continues_transformees, columns=poly.get_feature_names_out(variables_continues))\n",
    "data_test= pd.concat([data_test[list(filter(lambda x: x !='Ewltp (g/km)',others))],data_train_transforme], axis=1)"
   ]
  },
  {
   "cell_type": "code",
   "execution_count": 14,
   "metadata": {},
   "outputs": [],
   "source": [
    "data_train = train_preprocessor.encode_that_var(\"Ct\")\n",
    "data_train = train_preprocessor.encode_that_var(\"Cr\")\n",
    "data_test = test_preprocessor.encode_that_var(\"Ct\")\n",
    "data_test = test_preprocessor.encode_that_var(\"Cr\")"
   ]
  },
  {
   "cell_type": "code",
   "execution_count": 15,
   "metadata": {},
   "outputs": [],
   "source": [
    "def create_conforme(df):\n",
    "    df['conforme'] = df['Tan'].isna()\n",
    "    df['conforme'] = df['conforme'].apply(lambda x: 1 if x==False else 0)\n",
    "    df.drop(columns='Tan', inplace=True)\n",
    "    pass\n",
    "def compute_surface(obs):\n",
    "    max_largeur= max(obs['At1 (mm)'], obs['At2 (mm)'])\n",
    "    return obs['W (mm)']*obs['At1 (mm)'] if max_largeur == obs['At1 (mm)'] else obs['W (mm)'] * obs['At2 (mm)']\n",
    "\n",
    "def create_surface(df):\n",
    "    df['surface']= df.apply(compute_surface, axis=1)\n",
    "    pass\n",
    "\n",
    "def group_fuel_types(category: str):\n",
    "    if category in ['PETROL/ELECTRIC', 'DIESEL/ELECTRIC']:\n",
    "        return \"HYBRID\"\n",
    "    elif category in ['NG-BIOMETHANE', 'HYDROGEN', 'NG','E85']:\n",
    "        return \"BIO-FUEL\"\n",
    "    elif category in ['PETROL','LPG'] :\n",
    "        return 'PETROL'\n",
    "    else:\n",
    "        return category\n",
    "def create_carburant(df):\n",
    "    df['carburant']= df['Ft'].apply(group_fuel_types)\n",
    "    df.drop(columns='Ft',inplace=True)"
   ]
  },
  {
   "cell_type": "code",
   "execution_count": 16,
   "metadata": {},
   "outputs": [],
   "source": [
    "create_conforme(data_train)\n",
    "create_surface(data_train)\n",
    "create_carburant(data_train)\n",
    "\n",
    "create_conforme(data_test)\n",
    "create_surface(data_test)\n",
    "create_carburant(data_test)"
   ]
  },
  {
   "cell_type": "code",
   "execution_count": 17,
   "metadata": {},
   "outputs": [],
   "source": [
    "data_train = train_preprocessor.encode_that_var(\"carburant\")\n",
    "data_test = test_preprocessor.encode_that_var(\"carburant\")"
   ]
  },
  {
   "cell_type": "code",
   "execution_count": 18,
   "metadata": {},
   "outputs": [],
   "source": [
    "drop_this=['VFN', 'Mp', 'Mh', 'Man', 'T', 'Mk', 'Cn','Mt','W (mm)', 'At1 (mm)', 'At2 (mm)','Fm','Erwltp (g/km)']\n",
    "\n",
    "data_train.drop(columns=drop_this, inplace=True)\n",
    "data_test.drop(columns=drop_this, inplace=True)"
   ]
  },
  {
   "cell_type": "code",
   "execution_count": 19,
   "metadata": {},
   "outputs": [],
   "source": [
    "data_train.drop(columns='ID',inplace=True)"
   ]
  },
  {
   "cell_type": "code",
   "execution_count": 20,
   "metadata": {},
   "outputs": [],
   "source": [
    "list_vars=[\"Ewltp (g/km)\", \"m (kg)\",\"ec (cm3)\", \"ep (KW)\", \"z (Wh/km)\", \"Fuel consumption \",\"Electric range (km)\", \"surface\"]"
   ]
  },
  {
   "cell_type": "code",
   "execution_count": 21,
   "metadata": {},
   "outputs": [
    {
     "data": {
      "text/plain": [
       "<function matplotlib.pyplot.show(close=None, block=None)>"
      ]
     },
     "execution_count": 21,
     "metadata": {},
     "output_type": "execute_result"
    },
    {
     "data": {
      "image/png": "[encoded data removed]",
      "text/plain": [
       "<Figure size 640x480 with 2 Axes>"
      ]
     },
     "metadata": {},
     "output_type": "display_data"
    },
    {
     "data": {
      "text/plain": [
       "<Figure size 2000x2000 with 0 Axes>"
      ]
     },
     "metadata": {},
     "output_type": "display_data"
    }
   ],
   "source": [
    "sns.heatmap(data_train[list_vars].corr(method='spearman'),annot=True)\n",
    "plt.figure(figsize=(20,20))\n",
    "plt.show"
   ]
  },
  {
   "cell_type": "code",
   "execution_count": null,
   "metadata": {},
   "outputs": [],
   "source": [
    "data_train.info()"
   ]
  },
  {
   "cell_type": "code",
   "execution_count": null,
   "metadata": {},
   "outputs": [],
   "source": [
    "# data_train.drop(columns='z (Wh/km)',inplace=True)\n",
    "# data_test.drop(columns='z (Wh/km)',inplace=True)"
   ]
  },
  {
   "cell_type": "markdown",
   "metadata": {},
   "source": [
    "### Exploratory Data Analysis"
   ]
  },
  {
   "cell_type": "code",
   "execution_count": 22,
   "metadata": {},
   "outputs": [],
   "source": [
    "from sklearn.linear_model import LassoCV, ElasticNetCV"
   ]
  },
  {
   "cell_type": "code",
   "execution_count": 23,
   "metadata": {},
   "outputs": [],
   "source": [
    "train, test = train_test_split(data_train, test_size=0.33, random_state=42)\n",
    "\n",
    "train.reset_index(drop=True, inplace=True)\n",
    "test.reset_index(drop=True, inplace=True)\n",
    "\n",
    "X_train, y_train = train.drop(columns=[\"Ewltp (g/km)\"]), train[\"Ewltp (g/km)\"]\n",
    "X_test, y_test = test.drop(columns=[\"Ewltp (g/km)\"]), test[\"Ewltp (g/km)\"]"
   ]
  },
  {
   "cell_type": "code",
   "execution_count": 24,
   "metadata": {},
   "outputs": [
    {
     "name": "stdout",
     "output_type": "stream",
     "text": [
      "Variables sélectionnées par Adaptive LASSO :\n",
      "Index(['m (kg)', 'ec (cm3)', 'z (Wh/km)', 'surface'], dtype='object')\n"
     ]
    }
   ],
   "source": [
    "lasso = LassoCV(cv=5,)\n",
    "lasso.fit(X_train, y_train)\n",
    "\n",
    "# Affichez les coefficients sélectionnés\n",
    "selected_features = X_train.columns[lasso.coef_ != 0]\n",
    "print(\"Variables sélectionnées par Adaptive LASSO :\")\n",
    "print(selected_features)"
   ]
  },
  {
   "cell_type": "code",
   "execution_count": 25,
   "metadata": {},
   "outputs": [
    {
     "name": "stdout",
     "output_type": "stream",
     "text": [
      "Variables sélectionnées par Adaptive LASSO :\n",
      "Index(['m (kg)', 'ec (cm3)', 'z (Wh/km)', 'surface'], dtype='object')\n"
     ]
    }
   ],
   "source": [
    "elastic_net = ElasticNetCV(cv=5, random_state=42, l1_ratio=0.8)\n",
    "elastic_net.fit(X_train, y_train)\n",
    "\n",
    "# Affichez les coefficients sélectionnés\n",
    "selected_features = X_train.columns[elastic_net.coef_ != 0]\n",
    "print(\"Variables sélectionnées par Adaptive LASSO :\")\n",
    "print(selected_features)"
   ]
  },
  {
   "cell_type": "code",
   "execution_count": 26,
   "metadata": {},
   "outputs": [],
   "source": [
    "import xgboost as xgb"
   ]
  },
  {
   "cell_type": "code",
   "execution_count": 27,
   "metadata": {},
   "outputs": [],
   "source": [
    "import numba\n",
    "from numba import cuda"
   ]
  },
  {
   "cell_type": "code",
   "execution_count": 28,
   "metadata": {},
   "outputs": [
    {
     "name": "stderr",
     "output_type": "stream",
     "text": [
      "C:\\Users\\jeann\\AppData\\Local\\Temp\\ipykernel_11448\\13295361.py:2: NumbaDeprecationWarning: \u001b[1mThe 'nopython' keyword argument was not supplied to the 'numba.jit' decorator. The implicit default value for this argument is currently False, but it will be changed to True in Numba 0.59.0. See https://numba.readthedocs.io/en/stable/reference/deprecation.html#deprecation-of-object-mode-fall-back-behaviour-when-using-jit for details.\u001b[0m\n",
      "  def evaluate_model(model, X_test, y_test):\n"
     ]
    }
   ],
   "source": [
    "@numba.jit\n",
    "def evaluate_model(model, X_test, y_test):\n",
    "    y_pred = model.predict(X_test)\n",
    "    mae = mean_absolute_error(y_test, y_pred)\n",
    "    return mae"
   ]
  },
  {
   "cell_type": "code",
   "execution_count": null,
   "metadata": {},
   "outputs": [],
   "source": [
    "from hyperopt import STATUS_OK, Trials, fmin, hp, tpe"
   ]
  },
  {
   "cell_type": "code",
   "execution_count": null,
   "metadata": {},
   "outputs": [],
   "source": [
    "space={'max_depth': hp.quniform(\"max_depth\", 3, 18, 1),\n",
    "        'gamma': hp.uniform ('gamma', 1,9),\n",
    "        'reg_alpha' : hp.quniform('reg_alpha', 40,180,1),\n",
    "        'reg_lambda' : hp.uniform('reg_lambda', 0,1),\n",
    "        'colsample_bytree' : hp.uniform('colsample_bytree', 0.5,1),\n",
    "        'min_child_weight' : hp.quniform('min_child_weight', 0, 10, 1),\n",
    "        'n_estimators': 1000,\n",
    "        'seed': 0\n",
    "    }"
   ]
  },
  {
   "cell_type": "code",
   "execution_count": null,
   "metadata": {},
   "outputs": [],
   "source": [
    "space_bis={'max_depth': hp.quniform(\"max_depth\", 3, 18, 1),\n",
    "           'n_estimators': 1500,\n",
    "           'learning_rate':hp.uniform(\"learning_rate\",0.1,0.30)\n",
    "           \n",
    "\n",
    "}"
   ]
  },
  {
   "cell_type": "code",
   "execution_count": null,
   "metadata": {},
   "outputs": [],
   "source": [
    "@numba.jit\n",
    "def objective(space):\n",
    "    clf=xgb.XGBRegressor(objective=\"reg:squarederror\",\n",
    "                    n_estimators =space['n_estimators'], max_depth = int(space['max_depth']), gamma = space['gamma'],\n",
    "                    reg_alpha = int(space['reg_alpha']),min_child_weight=int(space['min_child_weight']),\n",
    "                    colsample_bytree=int(space['colsample_bytree']), eval_metric=\"mae\")\n",
    "    \n",
    "    evaluation = [( X_train, y_train), ( X_test, y_test)]\n",
    "    \n",
    "    clf.fit(X_train, y_train,\n",
    "            eval_set=evaluation,\n",
    "            verbose=False)\n",
    "    \n",
    "\n",
    "    y_pred = clf.predict(X_test)\n",
    "    mae = mean_absolute_error(y_test, y_pred)\n",
    "    print (\"SCORE:\", mae)\n",
    "    return {'loss': mae, 'status': STATUS_OK }"
   ]
  },
  {
   "cell_type": "code",
   "execution_count": null,
   "metadata": {},
   "outputs": [],
   "source": [
    "@numba.jit\n",
    "def objective_bis(space):\n",
    "    clf=xgb.XGBRegressor(objective=\"reg:squarederror\",\n",
    "                    n_estimators =space['n_estimators'], max_depth = int(space['max_depth']),max_iter=3000, eval_metric=\"mae\")\n",
    "    \n",
    "    evaluation = [( X_train, y_train), ( X_test, y_test)]\n",
    "    \n",
    "    clf.fit(X_train, y_train,\n",
    "            eval_set=evaluation,\n",
    "            verbose=False)\n",
    "    \n",
    "\n",
    "    y_pred = clf.predict(X_test)\n",
    "    mae = mean_absolute_error(y_test, y_pred)\n",
    "    print (\"SCORE:\", mae)\n",
    "    return {'loss': mae, 'status': STATUS_OK }"
   ]
  },
  {
   "cell_type": "code",
   "execution_count": null,
   "metadata": {},
   "outputs": [],
   "source": [
    "trials = Trials()\n",
    "\n",
    "best_hyperparams = fmin(fn = objective_bis,\n",
    "                        space = space_bis,\n",
    "                        algo = tpe.suggest,\n",
    "                        max_evals = 100,\n",
    "                        trials = trials)"
   ]
  },
  {
   "cell_type": "code",
   "execution_count": 29,
   "metadata": {},
   "outputs": [
    {
     "name": "stderr",
     "output_type": "stream",
     "text": [
      "C:\\Users\\jeann\\AppData\\Local\\Temp\\ipykernel_11448\\2459840689.py:2: NumbaDeprecationWarning: \u001b[1mThe 'nopython' keyword argument was not supplied to the 'numba.jit' decorator. The implicit default value for this argument is currently False, but it will be changed to True in Numba 0.59.0. See https://numba.readthedocs.io/en/stable/reference/deprecation.html#deprecation-of-object-mode-fall-back-behaviour-when-using-jit for details.\u001b[0m\n",
      "  def train_xgboost(X,y,n_estimators=1000 ,objective='reg:squarederror',max_depth=10):\n"
     ]
    }
   ],
   "source": [
    "@numba.jit\n",
    "def train_xgboost(X,y,n_estimators=1000 ,objective='reg:squarederror',max_depth=10):\n",
    "    xgboost_model=xgb.XGBRegressor(n_estimators=n_estimators ,objective=objective,max_depth=max_depth,eval_metric='mae')\n",
    "    xgboost_model.fit(X, y, )\n",
    "    return xgboost_model"
   ]
  },
  {
   "cell_type": "code",
   "execution_count": 30,
   "metadata": {},
   "outputs": [
    {
     "name": "stderr",
     "output_type": "stream",
     "text": [
      "C:\\Users\\jeann\\AppData\\Local\\Temp\\ipykernel_11448\\2459840689.py:1: NumbaWarning: \u001b[1m\n",
      "Compilation is falling back to object mode WITH looplifting enabled because Function \"train_xgboost\" failed type inference due to: \u001b[1m\u001b[1mnon-precise type pyobject\u001b[0m\n",
      "\u001b[0m\u001b[1mDuring: typing of argument at C:\\Users\\jeann\\AppData\\Local\\Temp\\ipykernel_11448\\2459840689.py (1)\u001b[0m\n",
      "\u001b[1m\n",
      "File \"..\\..\\..\\..\\AppData\\Local\\Temp\\ipykernel_11448\\2459840689.py\", line 1:\u001b[0m\n",
      "\u001b[1m<source missing, REPL/exec in use?>\u001b[0m\n",
      "\u001b[0m\n",
      "  @numba.jit\n",
      "c:\\Users\\jeann\\Desktop\\M2\\New Data Mining Challenge\\Projet_Mining\\.venv_mining\\lib\\site-packages\\numba\\core\\object_mode_passes.py:151: NumbaWarning: \u001b[1mFunction \"train_xgboost\" was compiled in object mode without forceobj=True.\n",
      "\u001b[1m\n",
      "File \"..\\..\\..\\..\\AppData\\Local\\Temp\\ipykernel_11448\\2459840689.py\", line 1:\u001b[0m\n",
      "\u001b[1m<source missing, REPL/exec in use?>\u001b[0m\n",
      "\u001b[0m\n",
      "  warnings.warn(errors.NumbaWarning(warn_msg,\n",
      "c:\\Users\\jeann\\Desktop\\M2\\New Data Mining Challenge\\Projet_Mining\\.venv_mining\\lib\\site-packages\\numba\\core\\object_mode_passes.py:161: NumbaDeprecationWarning: \u001b[1m\n",
      "Fall-back from the nopython compilation path to the object mode compilation path has been detected. This is deprecated behaviour that will be removed in Numba 0.59.0.\n",
      "\n",
      "For more information visit https://numba.readthedocs.io/en/stable/reference/deprecation.html#deprecation-of-object-mode-fall-back-behaviour-when-using-jit\n",
      "\u001b[1m\n",
      "File \"..\\..\\..\\..\\AppData\\Local\\Temp\\ipykernel_11448\\2459840689.py\", line 1:\u001b[0m\n",
      "\u001b[1m<source missing, REPL/exec in use?>\u001b[0m\n",
      "\u001b[0m\n",
      "  warnings.warn(errors.NumbaDeprecationWarning(msg,\n"
     ]
    }
   ],
   "source": [
    "xgboost_model=train_xgboost(X_train,y_train)"
   ]
  },
  {
   "cell_type": "code",
   "execution_count": 31,
   "metadata": {},
   "outputs": [
    {
     "name": "stderr",
     "output_type": "stream",
     "text": [
      "C:\\Users\\jeann\\AppData\\Local\\Temp\\ipykernel_11448\\13295361.py:1: NumbaWarning: \u001b[1m\n",
      "Compilation is falling back to object mode WITH looplifting enabled because Function \"evaluate_model\" failed type inference due to: \u001b[1mUntyped global name 'mean_absolute_error':\u001b[0m \u001b[1m\u001b[1mCannot determine Numba type of <class 'function'>\u001b[0m\n",
      "\u001b[1m\n",
      "File \"..\\..\\..\\..\\AppData\\Local\\Temp\\ipykernel_11448\\13295361.py\", line 4:\u001b[0m\n",
      "\u001b[1m<source missing, REPL/exec in use?>\u001b[0m\n",
      "\u001b[0m\u001b[0m\n",
      "  @numba.jit\n",
      "c:\\Users\\jeann\\Desktop\\M2\\New Data Mining Challenge\\Projet_Mining\\.venv_mining\\lib\\site-packages\\numba\\core\\object_mode_passes.py:151: NumbaWarning: \u001b[1mFunction \"evaluate_model\" was compiled in object mode without forceobj=True.\n",
      "\u001b[1m\n",
      "File \"..\\..\\..\\..\\AppData\\Local\\Temp\\ipykernel_11448\\13295361.py\", line 1:\u001b[0m\n",
      "\u001b[1m<source missing, REPL/exec in use?>\u001b[0m\n",
      "\u001b[0m\n",
      "  warnings.warn(errors.NumbaWarning(warn_msg,\n",
      "c:\\Users\\jeann\\Desktop\\M2\\New Data Mining Challenge\\Projet_Mining\\.venv_mining\\lib\\site-packages\\numba\\core\\object_mode_passes.py:161: NumbaDeprecationWarning: \u001b[1m\n",
      "Fall-back from the nopython compilation path to the object mode compilation path has been detected. This is deprecated behaviour that will be removed in Numba 0.59.0.\n",
      "\n",
      "For more information visit https://numba.readthedocs.io/en/stable/reference/deprecation.html#deprecation-of-object-mode-fall-back-behaviour-when-using-jit\n",
      "\u001b[1m\n",
      "File \"..\\..\\..\\..\\AppData\\Local\\Temp\\ipykernel_11448\\13295361.py\", line 1:\u001b[0m\n",
      "\u001b[1m<source missing, REPL/exec in use?>\u001b[0m\n",
      "\u001b[0m\n",
      "  warnings.warn(errors.NumbaDeprecationWarning(msg,\n"
     ]
    }
   ],
   "source": [
    "mae=evaluate_model(xgboost_model,X_test,y_test)"
   ]
  },
  {
   "cell_type": "code",
   "execution_count": 32,
   "metadata": {},
   "outputs": [
    {
     "data": {
      "text/plain": [
       "3.3739737241174703"
      ]
     },
     "execution_count": 32,
     "metadata": {},
     "output_type": "execute_result"
    }
   ],
   "source": [
    "mae"
   ]
  },
  {
   "cell_type": "code",
   "execution_count": null,
   "metadata": {},
   "outputs": [],
   "source": [
    "xgboost_model_full=train_xgboost(data_train.drop(columns=[\"Ewltp (g/km)\"]),data_train[\"Ewltp (g/km)\"])"
   ]
  },
  {
   "cell_type": "code",
   "execution_count": null,
   "metadata": {},
   "outputs": [],
   "source": [
    "X_true_test=data_test.drop(columns=[\"ID\"])"
   ]
  },
  {
   "cell_type": "code",
   "execution_count": null,
   "metadata": {},
   "outputs": [],
   "source": [
    "y_true_pred=xgboost_model.predict(X_true_test)"
   ]
  },
  {
   "cell_type": "code",
   "execution_count": null,
   "metadata": {},
   "outputs": [],
   "source": [
    "data_test_to_submit=pd.concat([data_test[\"ID\"],pd.DataFrame(y_true_pred,columns=[\"Ewltp (g/km)\"])],axis=1)\n",
    "data_test_to_submit.to_csv(\"data/xgboost_results6.csv\", index=False)"
   ]
  },
  {
   "cell_type": "code",
   "execution_count": null,
   "metadata": {},
   "outputs": [],
   "source": [
    "@numba.jit\n",
    "def train_random_forest(X,y,n_estimators=1000,max_samples=10000 ,criterion='absolute_error',max_depth=10):\n",
    "    #rf_model=RandomForestRegressor(n_estimators=n_estimators, max_samples=max_samples ,criterion=criterion,max_depth=max_depth)\n",
    "    rf_model=RandomForestRegressor(criterion=\"absolute_error\")\n",
    "    rf_model.fit(X, y)\n",
    "    return rf_model"
   ]
  },
  {
   "cell_type": "code",
   "execution_count": null,
   "metadata": {},
   "outputs": [],
   "source": [
    "rf_model=train_random_forest(X_train,y_train)\n",
    "\n",
    "mae=evaluate_model(rf_model,X_test,y_test)\n",
    "print(\"Mean Absolute Error:\", mae)"
   ]
  },
  {
   "cell_type": "code",
   "execution_count": 33,
   "metadata": {},
   "outputs": [
    {
     "name": "stderr",
     "output_type": "stream",
     "text": [
      "C:\\Users\\jeann\\AppData\\Local\\Temp\\ipykernel_11448\\3881279681.py:2: NumbaDeprecationWarning: \u001b[1mThe 'nopython' keyword argument was not supplied to the 'numba.jit' decorator. The implicit default value for this argument is currently False, but it will be changed to True in Numba 0.59.0. See https://numba.readthedocs.io/en/stable/reference/deprecation.html#deprecation-of-object-mode-fall-back-behaviour-when-using-jit for details.\u001b[0m\n",
      "  def train_hist_gradient_boosting(X,y,loss=\"absolute_error\",max_iter=3000, learning_rate=0.22,max_depth=10):\n"
     ]
    }
   ],
   "source": [
    "@numba.jit\n",
    "def train_hist_gradient_boosting(X,y,loss=\"absolute_error\",max_iter=3000, learning_rate=0.22,max_depth=10):\n",
    "    hgbgb_model=HistGradientBoostingRegressor(loss=loss,max_iter=max_iter, learning_rate=learning_rate, max_depth=max_depth,interaction_cst=\"pairwise\")\n",
    "    hgbgb_model.fit(X,y)\n",
    "    return hgbgb_model"
   ]
  },
  {
   "cell_type": "code",
   "execution_count": 34,
   "metadata": {},
   "outputs": [
    {
     "ename": "KeyboardInterrupt",
     "evalue": "",
     "output_type": "error",
     "traceback": [
      "\u001b[1;31m---------------------------------------------------------------------------\u001b[0m",
      "\u001b[1;31mKeyboardInterrupt\u001b[0m                         Traceback (most recent call last)",
      "\u001b[1;32mc:\\Users\\jeann\\Desktop\\M2\\New Data Mining Challenge\\Projet_Mining\\model_testing.ipynb Cell 48\u001b[0m line \u001b[0;36m1\n\u001b[1;32m----> <a href='vscode-notebook-cell:/c%3A/Users/jeann/Desktop/M2/New%20Data%20Mining%20Challenge/Projet_Mining/model_testing.ipynb#X60sZmlsZQ%3D%3D?line=0'>1</a>\u001b[0m hgbgb_model\u001b[39m=\u001b[39mtrain_hist_gradient_boosting(X_train,y_train)\n\u001b[0;32m      <a href='vscode-notebook-cell:/c%3A/Users/jeann/Desktop/M2/New%20Data%20Mining%20Challenge/Projet_Mining/model_testing.ipynb#X60sZmlsZQ%3D%3D?line=2'>3</a>\u001b[0m mae\u001b[39m=\u001b[39mevaluate_model(hgbgb_model,X_test,y_test)\n\u001b[0;32m      <a href='vscode-notebook-cell:/c%3A/Users/jeann/Desktop/M2/New%20Data%20Mining%20Challenge/Projet_Mining/model_testing.ipynb#X60sZmlsZQ%3D%3D?line=3'>4</a>\u001b[0m \u001b[39mprint\u001b[39m(\u001b[39mf\u001b[39m\u001b[39m\"\u001b[39m\u001b[39mMean Absolute Error : \u001b[39m\u001b[39m{\u001b[39;00mmae\u001b[39m}\u001b[39;00m\u001b[39m\"\u001b[39m)\n",
      "File \u001b[1;32mc:\\Users\\jeann\\Desktop\\M2\\New Data Mining Challenge\\Projet_Mining\\.venv_mining\\lib\\site-packages\\sklearn\\base.py:1152\u001b[0m, in \u001b[0;36m_fit_context.<locals>.decorator.<locals>.wrapper\u001b[1;34m(estimator, *args, **kwargs)\u001b[0m\n\u001b[0;32m   1145\u001b[0m     estimator\u001b[39m.\u001b[39m_validate_params()\n\u001b[0;32m   1147\u001b[0m \u001b[39mwith\u001b[39;00m config_context(\n\u001b[0;32m   1148\u001b[0m     skip_parameter_validation\u001b[39m=\u001b[39m(\n\u001b[0;32m   1149\u001b[0m         prefer_skip_nested_validation \u001b[39mor\u001b[39;00m global_skip_validation\n\u001b[0;32m   1150\u001b[0m     )\n\u001b[0;32m   1151\u001b[0m ):\n\u001b[1;32m-> 1152\u001b[0m     \u001b[39mreturn\u001b[39;00m fit_method(estimator, \u001b[39m*\u001b[39margs, \u001b[39m*\u001b[39m\u001b[39m*\u001b[39mkwargs)\n",
      "File \u001b[1;32mc:\\Users\\jeann\\Desktop\\M2\\New Data Mining Challenge\\Projet_Mining\\.venv_mining\\lib\\site-packages\\sklearn\\ensemble\\_hist_gradient_boosting\\gradient_boosting.py:679\u001b[0m, in \u001b[0;36mBaseHistGradientBoosting.fit\u001b[1;34m(self, X, y, sample_weight)\u001b[0m\n\u001b[0;32m    677\u001b[0m \u001b[39m# Build `n_trees_per_iteration` trees.\u001b[39;00m\n\u001b[0;32m    678\u001b[0m \u001b[39mfor\u001b[39;00m k \u001b[39min\u001b[39;00m \u001b[39mrange\u001b[39m(\u001b[39mself\u001b[39m\u001b[39m.\u001b[39mn_trees_per_iteration_):\n\u001b[1;32m--> 679\u001b[0m     grower \u001b[39m=\u001b[39m TreeGrower(\n\u001b[0;32m    680\u001b[0m         X_binned\u001b[39m=\u001b[39;49mX_binned_train,\n\u001b[0;32m    681\u001b[0m         gradients\u001b[39m=\u001b[39;49mg_view[:, k],\n\u001b[0;32m    682\u001b[0m         hessians\u001b[39m=\u001b[39;49mh_view[:, k],\n\u001b[0;32m    683\u001b[0m         n_bins\u001b[39m=\u001b[39;49mn_bins,\n\u001b[0;32m    684\u001b[0m         n_bins_non_missing\u001b[39m=\u001b[39;49m\u001b[39mself\u001b[39;49m\u001b[39m.\u001b[39;49m_bin_mapper\u001b[39m.\u001b[39;49mn_bins_non_missing_,\n\u001b[0;32m    685\u001b[0m         has_missing_values\u001b[39m=\u001b[39;49mhas_missing_values,\n\u001b[0;32m    686\u001b[0m         is_categorical\u001b[39m=\u001b[39;49m\u001b[39mself\u001b[39;49m\u001b[39m.\u001b[39;49mis_categorical_,\n\u001b[0;32m    687\u001b[0m         monotonic_cst\u001b[39m=\u001b[39;49mmonotonic_cst,\n\u001b[0;32m    688\u001b[0m         interaction_cst\u001b[39m=\u001b[39;49minteraction_cst,\n\u001b[0;32m    689\u001b[0m         max_leaf_nodes\u001b[39m=\u001b[39;49m\u001b[39mself\u001b[39;49m\u001b[39m.\u001b[39;49mmax_leaf_nodes,\n\u001b[0;32m    690\u001b[0m         max_depth\u001b[39m=\u001b[39;49m\u001b[39mself\u001b[39;49m\u001b[39m.\u001b[39;49mmax_depth,\n\u001b[0;32m    691\u001b[0m         min_samples_leaf\u001b[39m=\u001b[39;49m\u001b[39mself\u001b[39;49m\u001b[39m.\u001b[39;49mmin_samples_leaf,\n\u001b[0;32m    692\u001b[0m         l2_regularization\u001b[39m=\u001b[39;49m\u001b[39mself\u001b[39;49m\u001b[39m.\u001b[39;49ml2_regularization,\n\u001b[0;32m    693\u001b[0m         shrinkage\u001b[39m=\u001b[39;49m\u001b[39mself\u001b[39;49m\u001b[39m.\u001b[39;49mlearning_rate,\n\u001b[0;32m    694\u001b[0m         n_threads\u001b[39m=\u001b[39;49mn_threads,\n\u001b[0;32m    695\u001b[0m     )\n\u001b[0;32m    696\u001b[0m     grower\u001b[39m.\u001b[39mgrow()\n\u001b[0;32m    698\u001b[0m     acc_apply_split_time \u001b[39m+\u001b[39m\u001b[39m=\u001b[39m grower\u001b[39m.\u001b[39mtotal_apply_split_time\n",
      "File \u001b[1;32mc:\\Users\\jeann\\Desktop\\M2\\New Data Mining Challenge\\Projet_Mining\\.venv_mining\\lib\\site-packages\\sklearn\\ensemble\\_hist_gradient_boosting\\grower.py:334\u001b[0m, in \u001b[0;36mTreeGrower.__init__\u001b[1;34m(self, X_binned, gradients, hessians, max_leaf_nodes, max_depth, min_samples_leaf, min_gain_to_split, n_bins, n_bins_non_missing, has_missing_values, is_categorical, monotonic_cst, interaction_cst, l2_regularization, min_hessian_to_split, shrinkage, n_threads)\u001b[0m\n\u001b[0;32m    332\u001b[0m \u001b[39mself\u001b[39m\u001b[39m.\u001b[39mtotal_apply_split_time \u001b[39m=\u001b[39m \u001b[39m0.0\u001b[39m  \u001b[39m# time spent splitting nodes\u001b[39;00m\n\u001b[0;32m    333\u001b[0m \u001b[39mself\u001b[39m\u001b[39m.\u001b[39mn_categorical_splits \u001b[39m=\u001b[39m \u001b[39m0\u001b[39m\n\u001b[1;32m--> 334\u001b[0m \u001b[39mself\u001b[39;49m\u001b[39m.\u001b[39;49m_intilialize_root(gradients, hessians, hessians_are_constant)\n\u001b[0;32m    335\u001b[0m \u001b[39mself\u001b[39m\u001b[39m.\u001b[39mn_nodes \u001b[39m=\u001b[39m \u001b[39m1\u001b[39m\n",
      "File \u001b[1;32mc:\\Users\\jeann\\Desktop\\M2\\New Data Mining Challenge\\Projet_Mining\\.venv_mining\\lib\\site-packages\\sklearn\\ensemble\\_hist_gradient_boosting\\grower.py:418\u001b[0m, in \u001b[0;36mTreeGrower._intilialize_root\u001b[1;34m(self, gradients, hessians, hessians_are_constant)\u001b[0m\n\u001b[0;32m    413\u001b[0m     \u001b[39mself\u001b[39m\u001b[39m.\u001b[39mroot\u001b[39m.\u001b[39mallowed_features \u001b[39m=\u001b[39m np\u001b[39m.\u001b[39mfromiter(\n\u001b[0;32m    414\u001b[0m         allowed_features, dtype\u001b[39m=\u001b[39mnp\u001b[39m.\u001b[39muint32, count\u001b[39m=\u001b[39m\u001b[39mlen\u001b[39m(allowed_features)\n\u001b[0;32m    415\u001b[0m     )\n\u001b[0;32m    417\u001b[0m tic \u001b[39m=\u001b[39m time()\n\u001b[1;32m--> 418\u001b[0m \u001b[39mself\u001b[39m\u001b[39m.\u001b[39mroot\u001b[39m.\u001b[39mhistograms \u001b[39m=\u001b[39m \u001b[39mself\u001b[39;49m\u001b[39m.\u001b[39;49mhistogram_builder\u001b[39m.\u001b[39;49mcompute_histograms_brute(\n\u001b[0;32m    419\u001b[0m     \u001b[39mself\u001b[39;49m\u001b[39m.\u001b[39;49mroot\u001b[39m.\u001b[39;49msample_indices, \u001b[39mself\u001b[39;49m\u001b[39m.\u001b[39;49mroot\u001b[39m.\u001b[39;49mallowed_features\n\u001b[0;32m    420\u001b[0m )\n\u001b[0;32m    421\u001b[0m \u001b[39mself\u001b[39m\u001b[39m.\u001b[39mtotal_compute_hist_time \u001b[39m+\u001b[39m\u001b[39m=\u001b[39m time() \u001b[39m-\u001b[39m tic\n\u001b[0;32m    423\u001b[0m tic \u001b[39m=\u001b[39m time()\n",
      "\u001b[1;31mKeyboardInterrupt\u001b[0m: "
     ]
    }
   ],
   "source": [
    "hgbgb_model=train_hist_gradient_boosting(X_train,y_train)\n",
    "\n",
    "mae=evaluate_model(hgbgb_model,X_test,y_test)\n",
    "print(f\"Mean Absolute Error : {mae}\")"
   ]
  },
  {
   "cell_type": "code",
   "execution_count": null,
   "metadata": {},
   "outputs": [],
   "source": [
    "hgbgb_model.n_iter_"
   ]
  },
  {
   "cell_type": "code",
   "execution_count": null,
   "metadata": {},
   "outputs": [],
   "source": [
    "from sklearn.ensemble import AdaBoostRegressor\n",
    "from sklearn.tree import DecisionTreeRegressor\n"
   ]
  },
  {
   "cell_type": "code",
   "execution_count": null,
   "metadata": {},
   "outputs": [],
   "source": [
    "# Créez un modèle de régression de base (par exemple, un arbre de régression)\n",
    "@numba.jit\n",
    "def train_adaboost_regressor(max_depth=7,n_estimators=1000, learning_rate=.2, random_state=42) -> AdaBoostRegressor:\n",
    "    base_regressor = DecisionTreeRegressor(max_depth=max_depth)\n",
    "\n",
    "    # Créez un modèle AdaBoostRegressor en utilisant le modèle de base\n",
    "    adaboost_regressor = AdaBoostRegressor(base_regressor, n_estimators=n_estimators, learning_rate=learning_rate, random_state=42)\n",
    "\n",
    "    # Entraînez le modèle AdaBoost sur l'ensemble d'entraînement\n",
    "    adaboost_regressor.fit(X_train, y_train)\n",
    "    return adaboost_regressor\n"
   ]
  },
  {
   "cell_type": "code",
   "execution_count": null,
   "metadata": {},
   "outputs": [],
   "source": [
    "adaboost_model=train_adaboost_regressor()\n",
    "\n",
    "mae=evaluate_model(adaboost_model,X_test,y_test)\n",
    "print(f\"Mean Absolute Error : {mae}\")"
   ]
  },
  {
   "cell_type": "code",
   "execution_count": null,
   "metadata": {},
   "outputs": [],
   "source": [
    "X_true_test=data_test.drop(columns=['ID'])"
   ]
  },
  {
   "cell_type": "code",
   "execution_count": null,
   "metadata": {},
   "outputs": [],
   "source": [
    "data_test[\"ID\"]=data_test[\"ID\"].apply(int)"
   ]
  },
  {
   "cell_type": "code",
   "execution_count": null,
   "metadata": {},
   "outputs": [],
   "source": [
    "data_test[\"Ewltp (g/km)\"] = xgboost_model.predict(X_true_test)\n",
    "data_test[[\"ID\",\"Ewltp (g/km)\"]].to_csv(\"data/xgboost_results4.csv\", index=False)"
   ]
  },
  {
   "cell_type": "code",
   "execution_count": null,
   "metadata": {},
   "outputs": [],
   "source": [
    "from sklearn.ensemble import HistGradientBoostingRegressor\n",
    "hgboost_model=HistGradientBoostingRegressor(max_iter=1000,learning_rate=0.23,max_depth=7,loss=\"absolute_error\",random_state=42,l2_regularization=0.5, validation_fraction=0.2)"
   ]
  },
  {
   "cell_type": "code",
   "execution_count": null,
   "metadata": {},
   "outputs": [],
   "source": [
    "# Entraînez le modèle sur les données d'entraînement\n",
    "hgboost_model.fit(X_train, y_train)\n",
    "\n",
    "# Prédisez sur les données de test\n",
    "y_pred = hgboost_model.predict(X_test)\n",
    "\n",
    "# Évaluez le modèle en utilisant la MAE (Mean Absolute Error)\n",
    "mae = mean_absolute_error(y_test, y_pred)\n",
    "print(\"Mean Absolute Error:\", mae)"
   ]
  },
  {
   "cell_type": "code",
   "execution_count": null,
   "metadata": {},
   "outputs": [],
   "source": [
    "from sklearn.tree import DecisionTreeRegressor"
   ]
  },
  {
   "cell_type": "code",
   "execution_count": null,
   "metadata": {},
   "outputs": [],
   "source": [
    "dtregressor_model=DecisionTreeRegressor(criterion='absolute_error')"
   ]
  },
  {
   "cell_type": "code",
   "execution_count": null,
   "metadata": {},
   "outputs": [],
   "source": [
    "dtregressor_model.fit(X_train, y_train)\n",
    "\n",
    "# Prédisez sur les données de test\n",
    "y_pred = dtregressor_model.predict(X_test)\n",
    "\n",
    "# Évaluez le modèle en utilisant la MAE (Mean Absolute Error)\n",
    "mae = mean_absolute_error(y_test, y_pred)\n",
    "print(\"Mean Absolute Error:\", mae)"
   ]
  },
  {
   "cell_type": "code",
   "execution_count": null,
   "metadata": {},
   "outputs": [],
   "source": [
    "import lightgbm as lgb"
   ]
  },
  {
   "cell_type": "code",
   "execution_count": null,
   "metadata": {},
   "outputs": [],
   "source": [
    "\n",
    "# Créez un ensemble de données LightGBM\n",
    "train_data = lgb.Dataset(X_train, label=y_train)\n",
    "\n",
    "# Définissez les paramètres du modèle\n",
    "params = {\n",
    "    \"objective\": \"regression\",  # Régression\n",
    "    \"metric\": \"mae\",  # Métrique d'erreur : Mean Absolute Error\n",
    "    \"boosting_type\": \"gbdt\",  # Type de boosting (Gradient Boosting Decision Tree)\n",
    "    \"num_leaves\": 31,  # Nombre maximum de feuilles dans un arbre\n",
    "    \"learning_rate\": 0.1,\n",
    "    \"feature_fraction\": 0.9,\n",
    "    \"bagging_fraction\": 0.8,\n",
    "    \"bagging_freq\": 10,\n",
    "    \"verbose\": -1\n",
    "}\n",
    "\n",
    "# Entraînez le modèle\n",
    "num_round = 1000  # Nombre d'itérations (vous pouvez ajuster selon vos besoins)\n",
    "bst = lgb.train(params, train_data, num_round)\n",
    "\n",
    "# Faites des prédictions sur l'ensemble de test\n",
    "y_pred = bst.predict(X_test, num_iteration=bst.best_iteration)\n",
    "\n",
    "# Évaluez le modèle\n",
    "mae = mean_absolute_error(y_test, y_pred)\n",
    "print(f\"Mean Absolute Error (mae): {mae}\")\n",
    "\n"
   ]
  },
  {
   "cell_type": "code",
   "execution_count": null,
   "metadata": {},
   "outputs": [],
   "source": []
  },
  {
   "cell_type": "code",
   "execution_count": null,
   "metadata": {},
   "outputs": [],
   "source": []
  },
  {
   "cell_type": "code",
   "execution_count": null,
   "metadata": {},
   "outputs": [],
   "source": []
  }
 ],
 "metadata": {
  "kernelspec": {
   "display_name": ".venv_mining",
   "language": "python",
   "name": "python3"
  },
  "language_info": {
   "codemirror_mode": {
    "name": "ipython",
    "version": 3
   },
   "file_extension": ".py",
   "mimetype": "text/x-python",
   "name": "python",
   "nbconvert_exporter": "python",
   "pygments_lexer": "ipython3",
   "version": "3.10.0"
  }
 },
 "nbformat": 4,
 "nbformat_minor": 2
}
